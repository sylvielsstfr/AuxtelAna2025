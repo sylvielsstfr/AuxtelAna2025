{
 "cells": [
  {
   "cell_type": "markdown",
   "id": "58e1f03d-d8f4-401e-bcd7-b7d7ab3c91bc",
   "metadata": {},
   "source": [
    "# Convert the rubin-TV metadata file into an excel file"
   ]
  },
  {
   "cell_type": "code",
   "execution_count": null,
   "id": "6c59600d-61f9-47f0-b4f0-ce8029d09e07",
   "metadata": {},
   "outputs": [],
   "source": [
    "import pandas as pd\n",
    "import matplotlib.pyplot as plt\n",
    "\n",
    "pd.options.display.max_rows = 999  # this will set limit of columns to 500"
   ]
  },
  {
   "cell_type": "code",
   "execution_count": null,
   "id": "bdd0698e-97ab-4aae-b4b9-288cf6c35cc3",
   "metadata": {},
   "outputs": [],
   "source": [
    "!ls *.json"
   ]
  },
  {
   "cell_type": "code",
   "execution_count": null,
   "id": "674d1f6a-6293-4374-9ac5-c068026a6ed1",
   "metadata": {},
   "outputs": [],
   "source": [
    "# need to convert into excel file via pandas\n",
    "#! pip install openpyxl"
   ]
  },
  {
   "cell_type": "code",
   "execution_count": null,
   "id": "a8abbf2a-f7f1-4f93-a04f-9ed47ebfd211",
   "metadata": {},
   "outputs": [],
   "source": [
    "filename_in = \"auxtel_2025-01-22.json\"\n",
    "filename_out = filename_in.split(\".\")[0] + \".xlsx\""
   ]
  },
  {
   "cell_type": "code",
   "execution_count": null,
   "id": "1a77cff5-8eeb-4f6d-8295-dcf3f205abb1",
   "metadata": {},
   "outputs": [],
   "source": [
    "df = pd.read_json(filename_in)"
   ]
  },
  {
   "cell_type": "code",
   "execution_count": null,
   "id": "9234f582-a945-4866-9c78-0349920e96e2",
   "metadata": {},
   "outputs": [],
   "source": [
    "df_T = df.T"
   ]
  },
  {
   "cell_type": "code",
   "execution_count": null,
   "id": "a97ff692-a5eb-4a18-af97-14a792bcae40",
   "metadata": {
    "tags": []
   },
   "outputs": [],
   "source": [
    "df_T.tail()"
   ]
  },
  {
   "cell_type": "code",
   "execution_count": null,
   "id": "9fa6bc97-a7a5-4f1f-b534-cf13e82103aa",
   "metadata": {
    "tags": []
   },
   "outputs": [],
   "source": [
    "df_T[\"Science program\"].unique()"
   ]
  },
  {
   "cell_type": "code",
   "execution_count": null,
   "id": "ed4f5dbe-a911-4b0a-9cd2-2f5cfa7c0889",
   "metadata": {},
   "outputs": [],
   "source": [
    "df_T[\"Observation reason\"].unique()"
   ]
  },
  {
   "cell_type": "code",
   "execution_count": null,
   "id": "412b6336-2646-4b2c-b874-93a77d62e3f9",
   "metadata": {
    "tags": []
   },
   "outputs": [],
   "source": [
    "df_T[\"Image type\"].unique()"
   ]
  },
  {
   "cell_type": "code",
   "execution_count": null,
   "id": "1145c4fa-feba-496a-aec2-30b5038d21a4",
   "metadata": {},
   "outputs": [],
   "source": [
    "selection = (df_T[\"Science program\"] == \"spec-survey\") & (\n",
    "    df_T[\"Image type\"] == \"science\"\n",
    ")"
   ]
  },
  {
   "cell_type": "code",
   "execution_count": null,
   "id": "b3bc9378-7bc9-4284-82d7-ad4047de2572",
   "metadata": {},
   "outputs": [],
   "source": [
    "df_T = df_T[selection]"
   ]
  },
  {
   "cell_type": "code",
   "execution_count": null,
   "id": "5b2e1a10-ccef-4b7d-b997-78f578b84375",
   "metadata": {},
   "outputs": [],
   "source": [
    "df_T = df_T.reset_index(drop=True)\n",
    "df_T"
   ]
  },
  {
   "cell_type": "code",
   "execution_count": null,
   "id": "840ea514-1dde-4060-8452-b7c13670042f",
   "metadata": {},
   "outputs": [],
   "source": [
    "df_T[\"Filter\"].unique()"
   ]
  },
  {
   "cell_type": "code",
   "execution_count": null,
   "id": "9a835e3c-eaeb-4eaf-9f4c-2a9e8e6b3f46",
   "metadata": {},
   "outputs": [],
   "source": [
    "df_T.to_excel(filename_out)"
   ]
  },
  {
   "cell_type": "code",
   "execution_count": null,
   "id": "c2ad5d00-7627-4515-831f-1bd06493d6cd",
   "metadata": {},
   "outputs": [],
   "source": [
    "list_of_targets = df_T.Target.unique()"
   ]
  },
  {
   "cell_type": "code",
   "execution_count": null,
   "id": "35d6e953-d273-4b03-bc91-304a60b843fe",
   "metadata": {
    "tags": []
   },
   "outputs": [],
   "source": [
    "df_T[\"time\"] = pd.to_datetime(df_T.Group, format=\"%Y-%m-%dT%H:%M:%S.%f\")\n",
    "df_T.set_index([\"time\"], inplace=True)\n",
    "# data.plot()\n",
    "\n",
    "# OR\n",
    "# plt.plot(data.index, data.amount)"
   ]
  },
  {
   "cell_type": "code",
   "execution_count": null,
   "id": "c4a5fbe1-3e4e-4a07-867f-eda53202251d",
   "metadata": {
    "tags": []
   },
   "outputs": [],
   "source": [
    "import matplotlib.dates as mdates\n",
    "\n",
    "fig, ax = plt.subplots(1, 1, figsize=(10, 6))\n",
    "for target in list_of_targets:\n",
    "    df_t = df_T[df_T.Target == target]\n",
    "    df_t[\"Airmass\"].plot(ax=ax, marker=\"o\", label=target, lw=0)\n",
    "ax.yaxis.set_inverted(True)\n",
    "ax.legend()\n",
    "ax.set_ylabel(\"airmass\")\n",
    "ax.set_title(filename_in)\n",
    "myFmt = mdates.DateFormatter(\"%m-%d-%H:%M-%S\")\n",
    "ax.xaxis.set_major_formatter(myFmt)"
   ]
  },
  {
   "cell_type": "code",
   "execution_count": null,
   "id": "465cbe01-d254-4c4b-be83-223c0d3114de",
   "metadata": {},
   "outputs": [],
   "source": []
  }
 ],
 "metadata": {
  "kernelspec": {
   "display_name": "conda_py313",
   "language": "python",
   "name": "conda_py313"
  },
  "language_info": {
   "codemirror_mode": {
    "name": "ipython",
    "version": 3
   },
   "file_extension": ".py",
   "mimetype": "text/x-python",
   "name": "python",
   "nbconvert_exporter": "python",
   "pygments_lexer": "ipython3",
   "version": "3.13.1"
  }
 },
 "nbformat": 4,
 "nbformat_minor": 5
}
