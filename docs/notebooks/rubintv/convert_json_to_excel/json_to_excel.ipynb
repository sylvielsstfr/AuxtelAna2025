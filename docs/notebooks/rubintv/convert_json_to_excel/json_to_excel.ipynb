{
 "cells": [
  {
   "cell_type": "markdown",
   "id": "58e1f03d-d8f4-401e-bcd7-b7d7ab3c91bc",
   "metadata": {},
   "source": [
    "# Convert the rubin-TV metadata file into an excel file\n",
    "\n",
    "- author : Sylvie Dagoret-Campagne\n",
    "- affiliation : IJCLab.in2p3.fr\n",
    "- creation date : 2025-01-23\n",
    "- Note  to erase notebooks install precommit as follow:\n",
    "         `pre-commit install`"
   ]
  },
  {
   "cell_type": "code",
   "execution_count": null,
   "id": "6c59600d-61f9-47f0-b4f0-ce8029d09e07",
   "metadata": {
    "execution": {
     "iopub.execute_input": "2025-01-23T11:26:39.815486Z",
     "iopub.status.busy": "2025-01-23T11:26:39.815354Z",
     "iopub.status.idle": "2025-01-23T11:26:40.595387Z",
     "shell.execute_reply": "2025-01-23T11:26:40.594916Z",
     "shell.execute_reply.started": "2025-01-23T11:26:39.815472Z"
    }
   },
   "outputs": [],
   "source": [
    "import pandas as pd\n",
    "import matplotlib.pyplot as plt\n",
    "\n",
    "pd.options.display.max_rows = 999  # this will set limit of columns to 500"
   ]
  },
  {
   "cell_type": "code",
   "execution_count": null,
   "id": "bdd0698e-97ab-4aae-b4b9-288cf6c35cc3",
   "metadata": {
    "execution": {
     "iopub.execute_input": "2025-01-23T11:26:40.596258Z",
     "iopub.status.busy": "2025-01-23T11:26:40.595920Z",
     "iopub.status.idle": "2025-01-23T11:26:40.815708Z",
     "shell.execute_reply": "2025-01-23T11:26:40.815133Z",
     "shell.execute_reply.started": "2025-01-23T11:26:40.596244Z"
    }
   },
   "outputs": [],
   "source": [
    "!ls *.json"
   ]
  },
  {
   "cell_type": "code",
   "execution_count": null,
   "id": "674d1f6a-6293-4374-9ac5-c068026a6ed1",
   "metadata": {
    "execution": {
     "iopub.execute_input": "2025-01-23T11:26:40.816592Z",
     "iopub.status.busy": "2025-01-23T11:26:40.816408Z",
     "iopub.status.idle": "2025-01-23T11:26:40.819034Z",
     "shell.execute_reply": "2025-01-23T11:26:40.818651Z",
     "shell.execute_reply.started": "2025-01-23T11:26:40.816575Z"
    }
   },
   "outputs": [],
   "source": [
    "# need to convert into excel file via pandas\n",
    "#! pip install openpyxl"
   ]
  },
  {
   "cell_type": "code",
   "execution_count": null,
   "id": "a8abbf2a-f7f1-4f93-a04f-9ed47ebfd211",
   "metadata": {
    "execution": {
     "iopub.execute_input": "2025-01-23T11:26:40.820606Z",
     "iopub.status.busy": "2025-01-23T11:26:40.820470Z",
     "iopub.status.idle": "2025-01-23T11:26:40.825746Z",
     "shell.execute_reply": "2025-01-23T11:26:40.825400Z",
     "shell.execute_reply.started": "2025-01-23T11:26:40.820593Z"
    }
   },
   "outputs": [],
   "source": [
    "filename_in = \"metadata/auxtel_2025-01-22.json\"\n",
    "filename_out = filename_in.split(\".\")[0] + \".xlsx\""
   ]
  },
  {
   "cell_type": "code",
   "execution_count": null,
   "id": "1a77cff5-8eeb-4f6d-8295-dcf3f205abb1",
   "metadata": {
    "execution": {
     "iopub.execute_input": "2025-01-23T11:26:40.826359Z",
     "iopub.status.busy": "2025-01-23T11:26:40.826216Z",
     "iopub.status.idle": "2025-01-23T11:26:40.905872Z",
     "shell.execute_reply": "2025-01-23T11:26:40.905384Z",
     "shell.execute_reply.started": "2025-01-23T11:26:40.826345Z"
    }
   },
   "outputs": [],
   "source": [
    "df = pd.read_json(filename_in)"
   ]
  },
  {
   "cell_type": "code",
   "execution_count": null,
   "id": "9234f582-a945-4866-9c78-0349920e96e2",
   "metadata": {
    "execution": {
     "iopub.execute_input": "2025-01-23T11:26:40.906645Z",
     "iopub.status.busy": "2025-01-23T11:26:40.906393Z",
     "iopub.status.idle": "2025-01-23T11:26:40.909072Z",
     "shell.execute_reply": "2025-01-23T11:26:40.908694Z",
     "shell.execute_reply.started": "2025-01-23T11:26:40.906632Z"
    }
   },
   "outputs": [],
   "source": [
    "df_T = df.T"
   ]
  },
  {
   "cell_type": "code",
   "execution_count": null,
   "id": "a97ff692-a5eb-4a18-af97-14a792bcae40",
   "metadata": {
    "execution": {
     "iopub.execute_input": "2025-01-23T11:26:40.909599Z",
     "iopub.status.busy": "2025-01-23T11:26:40.909486Z",
     "iopub.status.idle": "2025-01-23T11:26:40.925218Z",
     "shell.execute_reply": "2025-01-23T11:26:40.924843Z",
     "shell.execute_reply.started": "2025-01-23T11:26:40.909588Z"
    },
    "tags": []
   },
   "outputs": [],
   "source": [
    "df_T.tail()"
   ]
  },
  {
   "cell_type": "code",
   "execution_count": null,
   "id": "9fa6bc97-a7a5-4f1f-b534-cf13e82103aa",
   "metadata": {
    "execution": {
     "iopub.execute_input": "2025-01-23T11:26:40.925792Z",
     "iopub.status.busy": "2025-01-23T11:26:40.925665Z",
     "iopub.status.idle": "2025-01-23T11:26:40.928776Z",
     "shell.execute_reply": "2025-01-23T11:26:40.928348Z",
     "shell.execute_reply.started": "2025-01-23T11:26:40.925775Z"
    },
    "tags": []
   },
   "outputs": [],
   "source": [
    "df_T[\"Science program\"].unique()"
   ]
  },
  {
   "cell_type": "code",
   "execution_count": null,
   "id": "ed4f5dbe-a911-4b0a-9cd2-2f5cfa7c0889",
   "metadata": {
    "execution": {
     "iopub.execute_input": "2025-01-23T11:26:40.929454Z",
     "iopub.status.busy": "2025-01-23T11:26:40.929312Z",
     "iopub.status.idle": "2025-01-23T11:26:40.935330Z",
     "shell.execute_reply": "2025-01-23T11:26:40.934948Z",
     "shell.execute_reply.started": "2025-01-23T11:26:40.929442Z"
    }
   },
   "outputs": [],
   "source": [
    "df_T[\"Observation reason\"].unique()"
   ]
  },
  {
   "cell_type": "code",
   "execution_count": null,
   "id": "412b6336-2646-4b2c-b874-93a77d62e3f9",
   "metadata": {
    "execution": {
     "iopub.execute_input": "2025-01-23T11:26:40.935733Z",
     "iopub.status.busy": "2025-01-23T11:26:40.935624Z",
     "iopub.status.idle": "2025-01-23T11:26:40.941355Z",
     "shell.execute_reply": "2025-01-23T11:26:40.940998Z",
     "shell.execute_reply.started": "2025-01-23T11:26:40.935723Z"
    },
    "tags": []
   },
   "outputs": [],
   "source": [
    "df_T[\"Image type\"].unique()"
   ]
  },
  {
   "cell_type": "code",
   "execution_count": null,
   "id": "1145c4fa-feba-496a-aec2-30b5038d21a4",
   "metadata": {
    "execution": {
     "iopub.execute_input": "2025-01-23T11:26:40.942057Z",
     "iopub.status.busy": "2025-01-23T11:26:40.941770Z",
     "iopub.status.idle": "2025-01-23T11:26:40.947499Z",
     "shell.execute_reply": "2025-01-23T11:26:40.947115Z",
     "shell.execute_reply.started": "2025-01-23T11:26:40.942045Z"
    }
   },
   "outputs": [],
   "source": [
    "selection = (df_T[\"Science program\"] == \"spec-survey\") & (\n",
    "    df_T[\"Image type\"] == \"science\"\n",
    ")"
   ]
  },
  {
   "cell_type": "code",
   "execution_count": null,
   "id": "b3bc9378-7bc9-4284-82d7-ad4047de2572",
   "metadata": {
    "execution": {
     "iopub.execute_input": "2025-01-23T11:26:40.948050Z",
     "iopub.status.busy": "2025-01-23T11:26:40.947932Z",
     "iopub.status.idle": "2025-01-23T11:26:40.953503Z",
     "shell.execute_reply": "2025-01-23T11:26:40.953132Z",
     "shell.execute_reply.started": "2025-01-23T11:26:40.948040Z"
    }
   },
   "outputs": [],
   "source": [
    "df_T = df_T[selection]"
   ]
  },
  {
   "cell_type": "code",
   "execution_count": null,
   "id": "5b2e1a10-ccef-4b7d-b997-78f578b84375",
   "metadata": {
    "execution": {
     "iopub.execute_input": "2025-01-23T11:26:40.954135Z",
     "iopub.status.busy": "2025-01-23T11:26:40.954015Z",
     "iopub.status.idle": "2025-01-23T11:26:41.005512Z",
     "shell.execute_reply": "2025-01-23T11:26:41.005126Z",
     "shell.execute_reply.started": "2025-01-23T11:26:40.954124Z"
    }
   },
   "outputs": [],
   "source": [
    "df_T = df_T.reset_index(drop=True)\n",
    "df_T"
   ]
  },
  {
   "cell_type": "code",
   "execution_count": null,
   "id": "840ea514-1dde-4060-8452-b7c13670042f",
   "metadata": {
    "execution": {
     "iopub.execute_input": "2025-01-23T11:26:41.006044Z",
     "iopub.status.busy": "2025-01-23T11:26:41.005910Z",
     "iopub.status.idle": "2025-01-23T11:26:41.008748Z",
     "shell.execute_reply": "2025-01-23T11:26:41.008408Z",
     "shell.execute_reply.started": "2025-01-23T11:26:41.006029Z"
    }
   },
   "outputs": [],
   "source": [
    "df_T[\"Filter\"].unique()"
   ]
  },
  {
   "cell_type": "code",
   "execution_count": null,
   "id": "9a835e3c-eaeb-4eaf-9f4c-2a9e8e6b3f46",
   "metadata": {
    "execution": {
     "iopub.execute_input": "2025-01-23T11:26:41.009253Z",
     "iopub.status.busy": "2025-01-23T11:26:41.009138Z",
     "iopub.status.idle": "2025-01-23T11:26:41.459879Z",
     "shell.execute_reply": "2025-01-23T11:26:41.459458Z",
     "shell.execute_reply.started": "2025-01-23T11:26:41.009243Z"
    }
   },
   "outputs": [],
   "source": [
    "df_T.to_excel(filename_out)"
   ]
  },
  {
   "cell_type": "code",
   "execution_count": null,
   "id": "c2ad5d00-7627-4515-831f-1bd06493d6cd",
   "metadata": {
    "execution": {
     "iopub.execute_input": "2025-01-23T11:26:41.460622Z",
     "iopub.status.busy": "2025-01-23T11:26:41.460386Z",
     "iopub.status.idle": "2025-01-23T11:26:41.462982Z",
     "shell.execute_reply": "2025-01-23T11:26:41.462634Z",
     "shell.execute_reply.started": "2025-01-23T11:26:41.460609Z"
    }
   },
   "outputs": [],
   "source": [
    "list_of_targets = df_T.Target.unique()"
   ]
  },
  {
   "cell_type": "code",
   "execution_count": null,
   "id": "35d6e953-d273-4b03-bc91-304a60b843fe",
   "metadata": {
    "execution": {
     "iopub.execute_input": "2025-01-23T11:26:41.463518Z",
     "iopub.status.busy": "2025-01-23T11:26:41.463390Z",
     "iopub.status.idle": "2025-01-23T11:26:41.471490Z",
     "shell.execute_reply": "2025-01-23T11:26:41.471116Z",
     "shell.execute_reply.started": "2025-01-23T11:26:41.463507Z"
    },
    "tags": []
   },
   "outputs": [],
   "source": [
    "df_T[\"time\"] = pd.to_datetime(df_T.Group, format=\"%Y-%m-%dT%H:%M:%S.%f\")\n",
    "df_T.set_index([\"time\"], inplace=True)\n",
    "# data.plot()\n",
    "\n",
    "# OR\n",
    "# plt.plot(data.index, data.amount)"
   ]
  },
  {
   "cell_type": "code",
   "execution_count": null,
   "id": "c4a5fbe1-3e4e-4a07-867f-eda53202251d",
   "metadata": {
    "execution": {
     "iopub.execute_input": "2025-01-23T11:26:41.472045Z",
     "iopub.status.busy": "2025-01-23T11:26:41.471927Z",
     "iopub.status.idle": "2025-01-23T11:26:41.643342Z",
     "shell.execute_reply": "2025-01-23T11:26:41.642950Z",
     "shell.execute_reply.started": "2025-01-23T11:26:41.472034Z"
    },
    "tags": []
   },
   "outputs": [],
   "source": [
    "import matplotlib.dates as mdates\n",
    "\n",
    "fig, ax = plt.subplots(1, 1, figsize=(10, 6))\n",
    "for target in list_of_targets:\n",
    "    df_t = df_T[df_T.Target == target]\n",
    "    df_t[\"Airmass\"].plot(ax=ax, marker=\"o\", label=target, lw=0)\n",
    "ax.yaxis.set_inverted(True)\n",
    "ax.legend()\n",
    "ax.set_ylabel(\"airmass\")\n",
    "ax.set_title(filename_in)\n",
    "myFmt = mdates.DateFormatter(\"%m-%d-%H:%M-%S\")\n",
    "ax.xaxis.set_major_formatter(myFmt)"
   ]
  },
  {
   "cell_type": "markdown",
   "id": "9494e1aa-6643-4ccc-88f4-42b0954435b2",
   "metadata": {},
   "source": [
    "## Example to plot the date format\n",
    "https://stackoverflow.com/questions/25416955/plot-pandas-dates-in-matplotlib\n",
    "\n",
    "     import matplotlib.pyplot as plt\n",
    "     from matplotlib.ticker import (MultipleLocator, FormatStrFormatter,AutoMinorLocator)\n",
    "     import matplotlib.dates as mdates\n",
    "\n",
    "     dtFmt = mdates.DateFormatter('%Y-%b') # define the formatting\n",
    "     plt.gca().xaxis.set_major_formatter(dtFmt) \n",
    "     # show every 12th tick on x axes\n",
    "     plt.gca().xaxis.set_major_locator(mdates.MonthLocator(interval=1))\n",
    "     plt.xticks(rotation=90, fontweight='light',  fontsize='x-small',)\n"
   ]
  },
  {
   "cell_type": "code",
   "execution_count": null,
   "id": "4264ee6a-243a-47a9-b2dd-c441b6127240",
   "metadata": {},
   "outputs": [],
   "source": []
  }
 ],
 "metadata": {
  "kernelspec": {
   "display_name": "LSST",
   "language": "python",
   "name": "lsst"
  },
  "language_info": {
   "codemirror_mode": {
    "name": "ipython",
    "version": 3
   },
   "file_extension": ".py",
   "mimetype": "text/x-python",
   "name": "python",
   "nbconvert_exporter": "python",
   "pygments_lexer": "ipython3",
   "version": "3.11.9"
  }
 },
 "nbformat": 4,
 "nbformat_minor": 5
}
