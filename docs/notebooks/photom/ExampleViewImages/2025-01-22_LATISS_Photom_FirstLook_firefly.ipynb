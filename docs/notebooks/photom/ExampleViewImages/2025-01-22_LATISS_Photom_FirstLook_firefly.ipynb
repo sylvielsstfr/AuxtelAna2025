{
 "cells": [
  {
   "cell_type": "markdown",
   "id": "30c9f2ef-550a-4b4f-8411-7224adc5b98b",
   "metadata": {},
   "source": [
    "# Very First Look at very first LATISS Data with firefly\n",
    "\n",
    "- Goal verification of early data : First night\n",
    "- Restart the Kernel first"
   ]
  },
  {
   "cell_type": "markdown",
   "id": "f1e111e8-ccbc-4602-b8ab-392fe9f8812a",
   "metadata": {
    "execution": {
     "iopub.execute_input": "2024-10-25T18:35:28.020312Z",
     "iopub.status.busy": "2024-10-25T18:35:28.019985Z",
     "iopub.status.idle": "2024-10-25T18:35:28.023846Z",
     "shell.execute_reply": "2024-10-25T18:35:28.023258Z",
     "shell.execute_reply.started": "2024-10-25T18:35:28.020294Z"
    }
   },
   "source": [
    "- author : Sylvie Dagoret-campagne\n",
    "- affiliation : IJCLab/in2p3/CNRS\n",
    "- creation date : 2025-01-22\n",
    "- update : 2025-01-22\n",
    "- last update : 2025-01-22 : fix the date decoding (w_2024_50)"
   ]
  },
  {
   "cell_type": "code",
   "execution_count": null,
   "id": "b04f3879-f5d5-4e7e-8496-21056d10be1d",
   "metadata": {
    "execution": {
     "iopub.execute_input": "2025-01-22T19:35:23.902336Z",
     "iopub.status.busy": "2025-01-22T19:35:23.902215Z",
     "iopub.status.idle": "2025-01-22T19:35:26.155756Z",
     "shell.execute_reply": "2025-01-22T19:35:26.155296Z",
     "shell.execute_reply.started": "2025-01-22T19:35:23.902323Z"
    }
   },
   "outputs": [],
   "source": [
    "import matplotlib.pyplot as plt\n",
    "import matplotlib as mpl\n",
    "import matplotlib.dates as mdates\n",
    "import matplotlib.ticker\n",
    "from mpl_toolkits.axes_grid1 import make_axes_locatable\n",
    "from matplotlib.colors import LogNorm,SymLogNorm\n",
    "from matplotlib.colors import ListedColormap\n",
    "from matplotlib import colors\n",
    "\n",
    "%matplotlib inline\n",
    "import numpy as np\n",
    "import pandas as pd\n",
    "import matplotlib.gridspec as gridspec\n",
    "from spectractor.tools import from_lambda_to_colormap, wavelength_to_rgb\n",
    "#%matplotlib widget \n",
    "import h5py\n",
    "from scipy import interpolate\n",
    "from astropy.time import Time\n",
    "from datetime import datetime, timedelta\n",
    "import seaborn as sns\n",
    "\n",
    "from itertools import cycle, islice\n",
    "import os"
   ]
  },
  {
   "cell_type": "code",
   "execution_count": null,
   "id": "18068db4-c33c-43c5-bd12-58ff250d7a02",
   "metadata": {
    "execution": {
     "iopub.execute_input": "2025-01-22T19:35:26.156889Z",
     "iopub.status.busy": "2025-01-22T19:35:26.156240Z",
     "iopub.status.idle": "2025-01-22T19:35:26.159507Z",
     "shell.execute_reply": "2025-01-22T19:35:26.159135Z",
     "shell.execute_reply.started": "2025-01-22T19:35:26.156875Z"
    }
   },
   "outputs": [],
   "source": [
    "plt.rcParams[\"figure.figsize\"] = (18,8)\n",
    "plt.rcParams[\"axes.labelsize\"] = 'xx-large'\n",
    "plt.rcParams['axes.titlesize'] = 'xx-large'\n",
    "plt.rcParams['xtick.labelsize']= 'xx-large'\n",
    "plt.rcParams['ytick.labelsize']= 'xx-large'\n",
    "plt.rcParams['legend.fontsize']=  12\n",
    "plt.rcParams['font.size'] = 12"
   ]
  },
  {
   "cell_type": "code",
   "execution_count": null,
   "id": "611a8607-3ac5-4853-b270-f703f13e518b",
   "metadata": {
    "execution": {
     "iopub.execute_input": "2025-01-22T19:35:26.160033Z",
     "iopub.status.busy": "2025-01-22T19:35:26.159913Z",
     "iopub.status.idle": "2025-01-22T19:35:26.166113Z",
     "shell.execute_reply": "2025-01-22T19:35:26.165782Z",
     "shell.execute_reply.started": "2025-01-22T19:35:26.160022Z"
    }
   },
   "outputs": [],
   "source": [
    "from matplotlib.ticker import (MultipleLocator, FormatStrFormatter,\n",
    "                               AutoMinorLocator)\n",
    "\n",
    "from astropy.visualization import (MinMaxInterval, SqrtStretch,ZScaleInterval,PercentileInterval,\n",
    "                                   ImageNormalize,imshow_norm)\n",
    "from astropy.visualization.stretch import SinhStretch, LinearStretch,AsinhStretch,LogStretch\n",
    "\n",
    "transform = AsinhStretch() + PercentileInterval(99.)"
   ]
  },
  {
   "cell_type": "code",
   "execution_count": null,
   "id": "fc0c0153-7a40-4166-bf13-46645d734aef",
   "metadata": {
    "execution": {
     "iopub.execute_input": "2025-01-22T19:35:26.167543Z",
     "iopub.status.busy": "2025-01-22T19:35:26.167295Z",
     "iopub.status.idle": "2025-01-22T19:35:26.914829Z",
     "shell.execute_reply": "2025-01-22T19:35:26.914365Z",
     "shell.execute_reply.started": "2025-01-22T19:35:26.167529Z"
    }
   },
   "outputs": [],
   "source": [
    "from lsst.daf.butler import Butler \n",
    "import astropy.units as u\n",
    "import numpy as np \n",
    "import pandas as pd\n",
    "pd.set_option(\"display.max_columns\", None)\n",
    "from astropy.time import Time\n",
    "\n",
    "import scipy.stats\n",
    "\n",
    "import matplotlib\n",
    "%matplotlib inline\n",
    "from matplotlib import pyplot as plt"
   ]
  },
  {
   "cell_type": "code",
   "execution_count": null,
   "id": "ac174b05-2a02-41dc-a03d-bc613305f874",
   "metadata": {
    "execution": {
     "iopub.execute_input": "2025-01-22T19:35:26.915463Z",
     "iopub.status.busy": "2025-01-22T19:35:26.915324Z",
     "iopub.status.idle": "2025-01-22T19:35:27.245015Z",
     "shell.execute_reply": "2025-01-22T19:35:27.244481Z",
     "shell.execute_reply.started": "2025-01-22T19:35:26.915444Z"
    }
   },
   "outputs": [],
   "source": [
    "# LSST Display\n",
    "# The advantage to use firefly is that the firefly display can handle a lotsof images\n",
    "import lsst.afw.display as afwDisplay\n",
    "afwDisplay.setDefaultBackend('firefly')"
   ]
  },
  {
   "cell_type": "markdown",
   "id": "48ec2e7a-36e5-4b68-8da2-b5da1c3f1fba",
   "metadata": {
    "execution": {
     "iopub.execute_input": "2024-10-25T19:17:41.583673Z",
     "iopub.status.busy": "2024-10-25T19:17:41.583538Z",
     "iopub.status.idle": "2024-10-25T19:17:41.585892Z",
     "shell.execute_reply": "2024-10-25T19:17:41.585507Z",
     "shell.execute_reply.started": "2024-10-25T19:17:41.583660Z"
    }
   },
   "source": [
    "## Configuration\n",
    "\n",
    "- Use the tag report to guess the collections in which we exect data :  https://usdf-rsp-dev.slac.stanford.edu/times-square/github/lsst-dm/vv-team-notebooks/TargetReport\n",
    "\n",
    "In the case of LSSTComCam:\n",
    "\n",
    "- https://usdf-rsp-dev.slac.stanford.edu/times-square/github/lsst-dm/vv-team-notebooks/TargetReport?day_obs=2024-10-24&instrument=LSSTComCam&repo=embargo_new&collection=LSSTComCam%2Fprompt%2Foutput-2024-10-24&collection_sky=LSSTComCamSim%2Fruns%2FDRP%2FOR4%2Fw_2024_25%2FDM-45066&skymap_name=ops_rehersal_prep_2k_v1&col_sciprog=science_program&col_target=target&col_filter=filter&col_id=id&ts_hide_code=1"
   ]
  },
  {
   "cell_type": "markdown",
   "id": "6c227935-1121-4c83-8517-b894d288e8b5",
   "metadata": {},
   "source": [
    "### Info from slack channel  #validation_team\n",
    "day_obs:  2025-01-24  \n",
    "instrument:  LSSTComCam  \n",
    "repo:  embargo_new  \n",
    "collection:  LSSTComCam/prompt/output-2024-10-24  \n",
    "collection_sky:  LSSTComCamSim/runs/DRP/OR4/w_2024_25/DM-45066  \n",
    "skymap_name:  ops_rehersal_prep_2k_v1  \n",
    "col_sciprog:  science_program  \n",
    "col_target:  target  \n",
    "col_filter:  filter  \n",
    "col_id:  id"
   ]
  },
  {
   "cell_type": "code",
   "execution_count": null,
   "id": "e7aa9495-baa5-4976-aee1-48c9f63b71ba",
   "metadata": {
    "execution": {
     "iopub.execute_input": "2025-01-22T19:41:41.620404Z",
     "iopub.status.busy": "2025-01-22T19:41:41.619889Z",
     "iopub.status.idle": "2025-01-22T19:41:41.951384Z",
     "shell.execute_reply": "2025-01-22T19:41:41.950884Z",
     "shell.execute_reply.started": "2025-01-22T19:41:41.620384Z"
    }
   },
   "outputs": [],
   "source": [
    "repo = 'embargo'\n",
    "instrument = \"LATISS\"\n",
    "collection = 'LATISS/prompt/output-2025-01-16'\n",
    "\n",
    "butler = Butler(repo)"
   ]
  },
  {
   "cell_type": "markdown",
   "id": "95b5567c-35af-4de1-87e8-2953e4808d2f",
   "metadata": {
    "execution": {
     "iopub.execute_input": "2024-10-25T19:17:41.935759Z",
     "iopub.status.busy": "2024-10-25T19:17:41.935583Z",
     "iopub.status.idle": "2024-10-25T19:17:41.937673Z",
     "shell.execute_reply": "2024-10-25T19:17:41.937341Z",
     "shell.execute_reply.started": "2024-10-25T19:17:41.935746Z"
    }
   },
   "source": [
    "## Query about the collections available\n",
    "\n",
    "- select collections with LSSTComCam"
   ]
  },
  {
   "cell_type": "code",
   "execution_count": null,
   "id": "24e7111f-83c2-4244-a869-c5e7f99494c7",
   "metadata": {
    "execution": {
     "iopub.execute_input": "2025-01-22T19:41:45.069084Z",
     "iopub.status.busy": "2025-01-22T19:41:45.068436Z",
     "iopub.status.idle": "2025-01-22T19:41:45.515974Z",
     "shell.execute_reply": "2025-01-22T19:41:45.515426Z",
     "shell.execute_reply.started": "2025-01-22T19:41:45.069060Z"
    }
   },
   "outputs": [],
   "source": [
    "for _ in butler.registry.queryCollections():\n",
    "    if 'LATISS/' in _:\n",
    "        print(_)"
   ]
  },
  {
   "cell_type": "markdown",
   "id": "9df18f79-accc-4188-a5f9-0e0934263e91",
   "metadata": {},
   "source": [
    "- From the list available today , we probably have to look inside the colleciton `LSSTComCam/nightlyValidation`"
   ]
  },
  {
   "cell_type": "markdown",
   "id": "372d17e7-0a6e-4389-b4bc-9a8c8ad15237",
   "metadata": {},
   "source": [
    "## Select the collection"
   ]
  },
  {
   "cell_type": "code",
   "execution_count": null,
   "id": "da6408e5-0e9d-455c-8df9-9f1ed59e2cac",
   "metadata": {
    "execution": {
     "iopub.execute_input": "2025-01-22T19:42:12.089865Z",
     "iopub.status.busy": "2025-01-22T19:42:12.089205Z",
     "iopub.status.idle": "2025-01-22T19:42:12.091931Z",
     "shell.execute_reply": "2025-01-22T19:42:12.091584Z",
     "shell.execute_reply.started": "2025-01-22T19:42:12.089850Z"
    }
   },
   "outputs": [],
   "source": [
    "#the_collection = \"LSSTComCam/runs/nightlyValidation_20241024_20241025/w_2024_42/DM-47059-test\" \n",
    "#the_collection =   \"LSSTComCam/prompt/output-2024-10-24\"\n",
    "#the_collection = \"LATISS/prompt/output-2025-01-15\"\n",
    "#the_collection = \"LATISS/prompt/output-2025-01-20/Preprocessing/prompt-proto-service-latiss-00119\"\n",
    "#the_collection = \"LATISS/prompt/output-2025-01-16/Isr-cal/prompt-proto-service-latiss-00119\"\n",
    "the_collection = \"LATISS/prompt/output-2025-01-16\""
   ]
  },
  {
   "cell_type": "markdown",
   "id": "c0272ab3-785f-4a90-93fb-e970cffe3cc8",
   "metadata": {},
   "source": [
    "## Create the butler on the selected collection"
   ]
  },
  {
   "cell_type": "code",
   "execution_count": null,
   "id": "7bd8df52-dc45-4270-8935-f4acc36046f9",
   "metadata": {
    "execution": {
     "iopub.execute_input": "2025-01-22T19:42:16.139542Z",
     "iopub.status.busy": "2025-01-22T19:42:16.139335Z",
     "iopub.status.idle": "2025-01-22T19:42:16.283853Z",
     "shell.execute_reply": "2025-01-22T19:42:16.283444Z",
     "shell.execute_reply.started": "2025-01-22T19:42:16.139528Z"
    }
   },
   "outputs": [],
   "source": [
    "butler = Butler(repo, collections=the_collection)\n",
    "registry = butler.registry"
   ]
  },
  {
   "cell_type": "code",
   "execution_count": null,
   "id": "8cf2d6d3-4288-470c-8e79-2340e793a353",
   "metadata": {
    "execution": {
     "iopub.execute_input": "2025-01-22T19:42:17.477429Z",
     "iopub.status.busy": "2025-01-22T19:42:17.477177Z",
     "iopub.status.idle": "2025-01-22T19:42:44.173967Z",
     "shell.execute_reply": "2025-01-22T19:42:44.173606Z",
     "shell.execute_reply.started": "2025-01-22T19:42:17.477415Z"
    }
   },
   "outputs": [],
   "source": [
    "for datasetType in registry.queryDatasetTypes():\n",
    "    if registry.queryDatasets(datasetType, collections= the_collection).any(execute=False, exact=False):\n",
    "        # Limit search results to the data products\n",
    "        if ('_config' not in datasetType.name) and ('_log' not in datasetType.name) and ('_metadata' not in datasetType.name) and ('_resource_usage' not in datasetType.name):\n",
    "            print(datasetType)"
   ]
  },
  {
   "cell_type": "markdown",
   "id": "e6499567-c915-4cf0-a281-cecdde970493",
   "metadata": {},
   "source": [
    "- Notice no visit-Table is available. Thus to know which visiId are existing, we will use the registry later"
   ]
  },
  {
   "cell_type": "markdown",
   "id": "d90681b8-bb52-4227-b4db-6bb2c6be0fc7",
   "metadata": {},
   "source": [
    "## Extract the list of visitId from the butler's registry "
   ]
  },
  {
   "cell_type": "markdown",
   "id": "45ff66dc-6576-4daa-ad20-db353e751e06",
   "metadata": {},
   "source": [
    "### Get the list of information that can be extracted from the registryfor each exposure"
   ]
  },
  {
   "cell_type": "code",
   "execution_count": null,
   "id": "3805631a-a005-45eb-a7ef-bcbd0ddeda94",
   "metadata": {
    "execution": {
     "iopub.execute_input": "2025-01-22T19:42:50.966781Z",
     "iopub.status.busy": "2025-01-22T19:42:50.966349Z",
     "iopub.status.idle": "2025-01-22T19:42:50.969101Z",
     "shell.execute_reply": "2025-01-22T19:42:50.968784Z",
     "shell.execute_reply.started": "2025-01-22T19:42:50.966763Z"
    }
   },
   "outputs": [],
   "source": [
    "print(registry.dimensions[\"exposure\"].RecordClass.fields)"
   ]
  },
  {
   "cell_type": "markdown",
   "id": "417fb6a0-eafe-4b87-b321-819589292cd3",
   "metadata": {},
   "source": [
    "### Create the pandas dataframe from the information inside the butler's registry"
   ]
  },
  {
   "cell_type": "code",
   "execution_count": null,
   "id": "9ab1d265-5fc9-459a-bd6e-7687ac4908bc",
   "metadata": {
    "execution": {
     "iopub.execute_input": "2025-01-22T19:42:53.700289Z",
     "iopub.status.busy": "2025-01-22T19:42:53.699972Z",
     "iopub.status.idle": "2025-01-22T19:42:53.704685Z",
     "shell.execute_reply": "2025-01-22T19:42:53.704345Z",
     "shell.execute_reply.started": "2025-01-22T19:42:53.700274Z"
    }
   },
   "outputs": [],
   "source": [
    "df_exposure = pd.DataFrame(columns=['id', 'obs_id','day_obs', 'seq_num','time_start','time_end' ,'type', 'target','filter','zenith_angle','expos','ra','dec','skyangle','azimuth','zenith','science_program','jd','mjd'])"
   ]
  },
  {
   "cell_type": "markdown",
   "id": "6a5b2ba6-c302-4578-9f53-55a021de1028",
   "metadata": {},
   "source": [
    "### Fill the pandas dataframe from the records inside the butler's registry for each exposure"
   ]
  },
  {
   "cell_type": "code",
   "execution_count": null,
   "id": "c217fbbc-e421-471e-a007-76d1e9ea6d1b",
   "metadata": {
    "execution": {
     "iopub.execute_input": "2025-01-22T19:42:55.964342Z",
     "iopub.status.busy": "2025-01-22T19:42:55.963968Z",
     "iopub.status.idle": "2025-01-22T19:42:55.966311Z",
     "shell.execute_reply": "2025-01-22T19:42:55.965998Z",
     "shell.execute_reply.started": "2025-01-22T19:42:55.964326Z"
    }
   },
   "outputs": [],
   "source": [
    "where_expr = \"instrument='LATISS' AND exposure.day_obs>=20250101\""
   ]
  },
  {
   "cell_type": "code",
   "execution_count": null,
   "id": "1605f2e1-9810-4003-a8d8-ed48e3b72620",
   "metadata": {
    "execution": {
     "iopub.execute_input": "2025-01-22T19:42:56.749171Z",
     "iopub.status.busy": "2025-01-22T19:42:56.748960Z",
     "iopub.status.idle": "2025-01-22T19:43:12.162381Z",
     "shell.execute_reply": "2025-01-22T19:43:12.161939Z",
     "shell.execute_reply.started": "2025-01-22T19:42:56.749153Z"
    }
   },
   "outputs": [],
   "source": [
    "for count, info in enumerate(registry.queryDimensionRecords('exposure',where = where_expr)):  \n",
    "    try:\n",
    "        id_ = info.id\n",
    "        obs_id_ = info.obs_id\n",
    "        day_obs_ = info.day_obs\n",
    "        seq_num_ = info.seq_num\n",
    "        timespan_ = info.timespan\n",
    "\n",
    "        timespan_begin_ = pd.to_datetime(info.timespan.begin.to_datetime())\n",
    "        timespan_end_ = pd.to_datetime(info.timespan.end.to_datetime())\n",
    "        timespan_jd_ = timespan_.begin.jd\n",
    "        timespan_mjd_ = timespan_.begin.mjd\n",
    "        \n",
    "        \n",
    "        df_exposure.loc[count] = [info.id, info.obs_id, info.day_obs, info.seq_num,timespan_begin_,timespan_end_ ,info.observation_type, info.target_name, info.physical_filter, info.zenith_angle, \\\n",
    "                             info.exposure_time,info.tracking_ra, info.tracking_dec, info.sky_angle,info.azimuth ,info.zenith_angle, info.science_program,\n",
    "                             timespan_jd_,timespan_mjd_  ]\n",
    "    except:\n",
    "        print(\">>>   Unexpected error:\", sys.exc_info()[0])\n",
    "        info_timespan_begin_to_string = \"2021-01-01 00:00:00.00\"\n",
    "        info_timespan_end_to_string = \"2051-01-01 00:00:00.00\"\n",
    "        info_timespan_begin_jd = 0\n",
    "        info_timespan_begin_mjd = 0\n",
    "        df_exposure.loc[count] = [info.id, info.obs_id, info.day_obs, info.seq_num,\n",
    "                                  pd.to_datetime(info_timespan_begin_to_string),\n",
    "                                  pd.to_datetime(info_timespan_end_to_string) ,\n",
    "                                  info.observation_type, info.target_name, \n",
    "                                  info.physical_filter, info.zenith_angle, \\\n",
    "                             info.exposure_time,info.tracking_ra, info.tracking_dec, info.sky_angle,info.azimuth ,info.zenith_angle, info.science_program,\n",
    "                             info_timespan_begin_jd,info_timespan_begin_mjd ]\n",
    " \n",
    "    \n",
    "    if count < 2:\n",
    "        print(\"-----------------------------------------------------\",count,\"---------------------------------------------------------\")\n",
    "        print(info)\n",
    "        print(\"\\t id:                  \",info.id)\n",
    "        print(\"\\t day_obs:             \",info.day_obs)\n",
    "        print(\"\\t seq_num:             \",info.seq_num)\n",
    "        print(\"\\t type-of-observation: \",info.observation_type)\n",
    "        print(\"\\t target:              \",info.target_name)\n",
    "\n",
    "        timespan_ = info.timespan\n",
    "        timespan_begin_ = pd.to_datetime(info.timespan.begin.to_datetime())\n",
    "        timespan_end_ = pd.to_datetime(info.timespan.end.to_datetime())\n",
    "        timespan_jd_ = timespan_.begin.jd\n",
    "        timespan_mjd_ = timespan_.begin.mjd\n",
    "        \n",
    "        mjd = timespan_mjd_ \n",
    "        jd = timespan_jd_ \n",
    "        print(\"MJD,JD : \",mjd,jd)"
   ]
  },
  {
   "cell_type": "markdown",
   "id": "4e941a71-f599-4339-b51a-3cd565e9a9b9",
   "metadata": {},
   "source": [
    "#### convert some columns into integer"
   ]
  },
  {
   "cell_type": "code",
   "execution_count": null,
   "id": "dd17b159-8658-4247-8bdf-a2900d5dcbe3",
   "metadata": {
    "execution": {
     "iopub.execute_input": "2025-01-22T19:43:12.163280Z",
     "iopub.status.busy": "2025-01-22T19:43:12.163141Z",
     "iopub.status.idle": "2025-01-22T19:43:12.167823Z",
     "shell.execute_reply": "2025-01-22T19:43:12.167466Z",
     "shell.execute_reply.started": "2025-01-22T19:43:12.163268Z"
    }
   },
   "outputs": [],
   "source": [
    "df_exposure = df_exposure.astype({\"id\": int,'day_obs': int,'seq_num':int})"
   ]
  },
  {
   "cell_type": "markdown",
   "id": "31bc3a72-c798-450d-b966-9927cf309958",
   "metadata": {},
   "source": [
    "### Find the different type of exposures"
   ]
  },
  {
   "cell_type": "code",
   "execution_count": null,
   "id": "19ec676c-4b91-4d3f-8810-b893567ad2d7",
   "metadata": {
    "execution": {
     "iopub.execute_input": "2025-01-22T19:43:16.148920Z",
     "iopub.status.busy": "2025-01-22T19:43:16.148633Z",
     "iopub.status.idle": "2025-01-22T19:43:16.152536Z",
     "shell.execute_reply": "2025-01-22T19:43:16.152164Z",
     "shell.execute_reply.started": "2025-01-22T19:43:16.148906Z"
    }
   },
   "outputs": [],
   "source": [
    "df_exposure[\"type\"].unique()"
   ]
  },
  {
   "cell_type": "markdown",
   "id": "bdb87a21-ca50-47fd-b593-b88ae5eea1e1",
   "metadata": {},
   "source": [
    "### Select the science exposure"
   ]
  },
  {
   "cell_type": "code",
   "execution_count": null,
   "id": "bd7aeb1d-a231-45b6-bac7-1d2e9ca3486e",
   "metadata": {
    "execution": {
     "iopub.execute_input": "2025-01-22T19:43:19.917204Z",
     "iopub.status.busy": "2025-01-22T19:43:19.916573Z",
     "iopub.status.idle": "2025-01-22T19:43:19.922072Z",
     "shell.execute_reply": "2025-01-22T19:43:19.921713Z",
     "shell.execute_reply.started": "2025-01-22T19:43:19.917188Z"
    }
   },
   "outputs": [],
   "source": [
    "df_science = df_exposure[df_exposure.type == 'science']"
   ]
  },
  {
   "cell_type": "code",
   "execution_count": null,
   "id": "ab66d2f4-590c-4d87-a736-1829b5c83e53",
   "metadata": {
    "execution": {
     "iopub.execute_input": "2025-01-22T19:43:22.490318Z",
     "iopub.status.busy": "2025-01-22T19:43:22.489706Z",
     "iopub.status.idle": "2025-01-22T19:43:22.503191Z",
     "shell.execute_reply": "2025-01-22T19:43:22.502800Z",
     "shell.execute_reply.started": "2025-01-22T19:43:22.490300Z"
    }
   },
   "outputs": [],
   "source": [
    "df_science"
   ]
  },
  {
   "cell_type": "markdown",
   "id": "9557b6ab-c154-43aa-9d95-7811d96ac33f",
   "metadata": {},
   "source": [
    "## Select the Photometry"
   ]
  },
  {
   "cell_type": "code",
   "execution_count": null,
   "id": "83008a34-c992-45a6-bc6d-fc4b19b300a4",
   "metadata": {
    "execution": {
     "iopub.execute_input": "2025-01-22T19:43:33.927202Z",
     "iopub.status.busy": "2025-01-22T19:43:33.926601Z",
     "iopub.status.idle": "2025-01-22T19:43:33.930398Z",
     "shell.execute_reply": "2025-01-22T19:43:33.930030Z",
     "shell.execute_reply.started": "2025-01-22T19:43:33.927188Z"
    }
   },
   "outputs": [],
   "source": [
    "df_science[\"science_program\"].unique()"
   ]
  },
  {
   "cell_type": "code",
   "execution_count": null,
   "id": "3836b576-bf2e-46f4-99d5-436924f8417a",
   "metadata": {
    "execution": {
     "iopub.execute_input": "2025-01-22T19:43:36.975253Z",
     "iopub.status.busy": "2025-01-22T19:43:36.974692Z",
     "iopub.status.idle": "2025-01-22T19:43:36.978199Z",
     "shell.execute_reply": "2025-01-22T19:43:36.977832Z",
     "shell.execute_reply.started": "2025-01-22T19:43:36.975238Z"
    }
   },
   "outputs": [],
   "source": [
    "df_science = df_science[df_science[\"science_program\"] ==  'BLOCK-306']"
   ]
  },
  {
   "cell_type": "code",
   "execution_count": null,
   "id": "c31f01fe-9a97-4c6d-b612-8296f381ec15",
   "metadata": {
    "execution": {
     "iopub.execute_input": "2025-01-22T19:43:40.290175Z",
     "iopub.status.busy": "2025-01-22T19:43:40.289547Z",
     "iopub.status.idle": "2025-01-22T19:43:40.302536Z",
     "shell.execute_reply": "2025-01-22T19:43:40.302156Z",
     "shell.execute_reply.started": "2025-01-22T19:43:40.290160Z"
    }
   },
   "outputs": [],
   "source": [
    "df_science"
   ]
  },
  {
   "cell_type": "markdown",
   "id": "09487497-597a-4660-b000-11a42f3b425f",
   "metadata": {},
   "source": [
    "## Example for viewing one image"
   ]
  },
  {
   "cell_type": "markdown",
   "id": "17f15b65-1d73-4395-9499-f16813882a36",
   "metadata": {},
   "source": [
    "### Select a date and a visitId"
   ]
  },
  {
   "cell_type": "code",
   "execution_count": null,
   "id": "43e20ea0-3072-4171-9b1c-28a6e6142533",
   "metadata": {
    "execution": {
     "iopub.execute_input": "2025-01-22T19:48:53.559412Z",
     "iopub.status.busy": "2025-01-22T19:48:53.559007Z",
     "iopub.status.idle": "2025-01-22T19:48:53.561359Z",
     "shell.execute_reply": "2025-01-22T19:48:53.561056Z",
     "shell.execute_reply.started": "2025-01-22T19:48:53.559395Z"
    }
   },
   "outputs": [],
   "source": [
    "DATE = 20250121\n",
    "visitId = 2025012100172"
   ]
  },
  {
   "cell_type": "markdown",
   "id": "74bd6bb8-097c-4800-85b1-596d0b21da26",
   "metadata": {},
   "source": [
    "### Extract the exposures postiSRCCD form the selected visitID"
   ]
  },
  {
   "cell_type": "code",
   "execution_count": null,
   "id": "5a7c090f-dd03-411f-a29c-9488bcb4459d",
   "metadata": {
    "execution": {
     "iopub.execute_input": "2025-01-22T19:48:56.453156Z",
     "iopub.status.busy": "2025-01-22T19:48:56.452773Z",
     "iopub.status.idle": "2025-01-22T19:48:56.475469Z",
     "shell.execute_reply": "2025-01-22T19:48:56.475058Z",
     "shell.execute_reply.started": "2025-01-22T19:48:56.453141Z"
    }
   },
   "outputs": [],
   "source": [
    "where_clause = f\"instrument=\\'LATISS\\' AND exposure.day_obs={DATE}\"\n",
    "dataId = {'visit': visitId, 'instrument':instrument}\n",
    "#datasetRefs = registry.queryDatasets('postISRCCD', dataId=dataId, collections  = the_collection)\n",
    "datasetRefs = registry.queryDatasets('postISRCCD', dataId=dataId, collections  = the_collection)\n",
    "# one dictionnary for the focal surface\n",
    "title_dict = {}\n",
    "postisr_dict = {}\n",
    "\n",
    "for i, ref in enumerate(datasetRefs):\n",
    "    exposure = ref.dataId[\"exposure\"]\n",
    "    detector = ref.dataId[\"detector\"]\n",
    "    physical_filter = ref.dataId[\"physical_filter\"]\n",
    "    postisrccd  = butler.get(ref)\n",
    "    print(ref.dataId,postisrccd)\n",
    "    the_title = f\"id : {exposure}, det = {detector}, b = {physical_filter}\"\n",
    "    title_dict[detector] = the_title\n",
    "    postisr_dict[detector]  =  postisrccd \n",
    "N = len(title_dict)\n",
    "print(f\"Number of images = {N}\")"
   ]
  },
  {
   "cell_type": "code",
   "execution_count": null,
   "id": "237a05b2-c722-4704-96db-12153970e40b",
   "metadata": {
    "execution": {
     "iopub.execute_input": "2025-01-22T19:47:56.652748Z",
     "iopub.status.busy": "2025-01-22T19:47:56.652397Z",
     "iopub.status.idle": "2025-01-22T19:47:56.667940Z",
     "shell.execute_reply": "2025-01-22T19:47:56.667552Z",
     "shell.execute_reply.started": "2025-01-22T19:47:56.652730Z"
    }
   },
   "outputs": [],
   "source": [
    "len(datasetRefs)"
   ]
  },
  {
   "cell_type": "code",
   "execution_count": null,
   "id": "925fa167-f543-40e9-92ac-135d8a196f94",
   "metadata": {
    "execution": {
     "iopub.status.busy": "2025-01-22T19:36:08.720310Z",
     "iopub.status.idle": "2025-01-22T19:36:08.720477Z",
     "shell.execute_reply": "2025-01-22T19:36:08.720394Z",
     "shell.execute_reply.started": "2025-01-22T19:36:08.720387Z"
    }
   },
   "outputs": [],
   "source": [
    "assert False"
   ]
  },
  {
   "cell_type": "markdown",
   "id": "690a075e-e4f9-4016-bcf6-dc9d69ac1aeb",
   "metadata": {
    "execution": {
     "iopub.status.busy": "2024-10-25T19:43:36.665728Z",
     "iopub.status.idle": "2024-10-25T19:43:36.665892Z",
     "shell.execute_reply": "2024-10-25T19:43:36.665814Z",
     "shell.execute_reply.started": "2024-10-25T19:43:36.665807Z"
    }
   },
   "source": [
    "## View all the images of the focal surface for that vist\n",
    "\n",
    "- would need the mosaic for the focal surface"
   ]
  },
  {
   "cell_type": "code",
   "execution_count": null,
   "id": "b5cfdd8f-6ca2-4d2d-83c8-5a1426b0d653",
   "metadata": {
    "execution": {
     "iopub.status.busy": "2025-01-22T19:36:08.720980Z",
     "iopub.status.idle": "2025-01-22T19:36:08.721133Z",
     "shell.execute_reply": "2025-01-22T19:36:08.721061Z",
     "shell.execute_reply.started": "2025-01-22T19:36:08.721054Z"
    }
   },
   "outputs": [],
   "source": [
    "for count in range(N):\n",
    "    display = afwDisplay.Display(frame=count)\n",
    "    display.scale('asinh', 'zscale')\n",
    "    display.mtv(postisr_dict[count].image,title=title_dict[count])"
   ]
  },
  {
   "cell_type": "code",
   "execution_count": null,
   "id": "d887b73a-b144-4d77-9199-175ae22c16a5",
   "metadata": {
    "execution": {
     "iopub.status.busy": "2025-01-22T19:36:08.721656Z",
     "iopub.status.idle": "2025-01-22T19:36:08.721804Z",
     "shell.execute_reply": "2025-01-22T19:36:08.721733Z",
     "shell.execute_reply.started": "2025-01-22T19:36:08.721726Z"
    }
   },
   "outputs": [],
   "source": [
    "assert False"
   ]
  },
  {
   "cell_type": "code",
   "execution_count": null,
   "id": "2a62b411-4f8d-4a3f-87bb-de2209c31f47",
   "metadata": {
    "execution": {
     "iopub.status.busy": "2025-01-22T19:36:08.722282Z",
     "iopub.status.idle": "2025-01-22T19:36:08.722430Z",
     "shell.execute_reply": "2025-01-22T19:36:08.722358Z",
     "shell.execute_reply.started": "2025-01-22T19:36:08.722351Z"
    }
   },
   "outputs": [],
   "source": [
    "display.clearViewer() \n",
    "afwDisplay.setDefaultBackend('firefly')"
   ]
  },
  {
   "cell_type": "markdown",
   "id": "3cd259b5-aae5-4307-8f72-350e833e4a04",
   "metadata": {},
   "source": [
    "# Example for all visits"
   ]
  },
  {
   "cell_type": "code",
   "execution_count": null,
   "id": "aca97e6b-071d-415f-b251-0258e30edfa5",
   "metadata": {
    "execution": {
     "iopub.status.busy": "2025-01-22T19:36:08.722897Z",
     "iopub.status.idle": "2025-01-22T19:36:08.723044Z",
     "shell.execute_reply": "2025-01-22T19:36:08.722975Z",
     "shell.execute_reply.started": "2025-01-22T19:36:08.722968Z"
    }
   },
   "outputs": [],
   "source": [
    "list_of_visitId = list(df_science.id)\n",
    "image_count = 0\n",
    "\n",
    "# loop on visit id\n",
    "for idcount, visitId in enumerate(list_of_visitId):\n",
    "    dataId = {'visit': visitId, 'instrument':instrument }\n",
    "    datasetRefs = registry.queryDatasets('postISRCCD', dataId=dataId, collections  = the_collection )\n",
    "    dataId = {'visit': visitId, 'instrument':instrument}\n",
    "\n",
    "    # loop on image on the focal surface\n",
    "    for i, ref in enumerate(datasetRefs):\n",
    "        exposure = ref.dataId[\"exposure\"]\n",
    "        detector = ref.dataId[\"detector\"]\n",
    "        physical_filter = ref.dataId[\"physical_filter\"]\n",
    "        postisrccd  = butler.get(ref)\n",
    "        the_title = f\"id : {exposure}, det = {detector}, b = {physical_filter}\"\n",
    "        display = afwDisplay.Display(frame=count)\n",
    "        display.scale('asinh', 'zscale')\n",
    "        display.mtv(postisrccd.image,title=the_title)\n",
    "        image_count +=1\n",
    "        \n",
    "    N = len(title_dict)\n",
    "\n",
    " "
   ]
  },
  {
   "cell_type": "code",
   "execution_count": null,
   "id": "5e96257c-f2fc-4af4-b94d-74dcb562bf63",
   "metadata": {},
   "outputs": [],
   "source": []
  }
 ],
 "metadata": {
  "kernelspec": {
   "display_name": "LSST",
   "language": "python",
   "name": "lsst"
  },
  "language_info": {
   "codemirror_mode": {
    "name": "ipython",
    "version": 3
   },
   "file_extension": ".py",
   "mimetype": "text/x-python",
   "name": "python",
   "nbconvert_exporter": "python",
   "pygments_lexer": "ipython3",
   "version": "3.11.9"
  }
 },
 "nbformat": 4,
 "nbformat_minor": 5
}
