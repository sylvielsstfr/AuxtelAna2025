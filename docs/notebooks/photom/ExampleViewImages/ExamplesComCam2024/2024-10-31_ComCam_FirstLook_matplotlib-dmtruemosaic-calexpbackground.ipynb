{
 "cells": [
  {
   "cell_type": "markdown",
   "id": "30c9f2ef-550a-4b4f-8411-7224adc5b98b",
   "metadata": {},
   "source": [
    "# Very First Look at very first ComCam CALEXPBackground Data with DM mosaic \n",
    "\n",
    "- Goal verification of early data : Early nights\n",
    "- Restart the Kernel first\n",
    "- Applied to CALEXPBackground only\n",
    "- Status Not working"
   ]
  },
  {
   "cell_type": "markdown",
   "id": "bb20a475-892b-40e8-8c09-d2ea03f28d65",
   "metadata": {},
   "source": [
    "- LSST Doc for Mosaic : https://pipelines.lsst.io/v/d_2024_06_11/py-api/lsst.pipe.tasks.visualizeVisit.VisualizeMosaicExpTask.html"
   ]
  },
  {
   "cell_type": "markdown",
   "id": "f1e111e8-ccbc-4602-b8ab-392fe9f8812a",
   "metadata": {
    "execution": {
     "iopub.execute_input": "2024-10-25T18:35:28.020312Z",
     "iopub.status.busy": "2024-10-25T18:35:28.019985Z",
     "iopub.status.idle": "2024-10-25T18:35:28.023846Z",
     "shell.execute_reply": "2024-10-25T18:35:28.023258Z",
     "shell.execute_reply.started": "2024-10-25T18:35:28.020294Z"
    }
   },
   "source": [
    "- author : Sylvie Dagoret-campagne\n",
    "- affiliation : IJCLab/in2p3/CNRS\n",
    "- creation date : 2024-10-31\n",
    "- update : 2024-11-02\n",
    "- last update : 2025-01-09 : fix the date decoding ix the date decoding (w_2024_50)"
   ]
  },
  {
   "cell_type": "code",
   "execution_count": null,
   "id": "97eaf85b-7a69-48ea-979b-34c759fefa2c",
   "metadata": {
    "execution": {
     "iopub.execute_input": "2025-01-09T14:35:16.889414Z",
     "iopub.status.busy": "2025-01-09T14:35:16.889292Z",
     "iopub.status.idle": "2025-01-09T14:35:17.195382Z",
     "shell.execute_reply": "2025-01-09T14:35:17.195020Z",
     "shell.execute_reply.started": "2025-01-09T14:35:16.889401Z"
    }
   },
   "outputs": [],
   "source": [
    "import matplotlib.pyplot as plt\n",
    "import matplotlib as mpl\n",
    "import matplotlib.dates as mdates\n",
    "import matplotlib.ticker\n",
    "from mpl_toolkits.axes_grid1 import make_axes_locatable\n",
    "from matplotlib.colors import LogNorm,SymLogNorm\n",
    "from matplotlib.colors import ListedColormap\n",
    "from matplotlib import colors\n",
    "\n",
    "%matplotlib inline"
   ]
  },
  {
   "cell_type": "code",
   "execution_count": null,
   "id": "d19c4e90-4cc5-42d7-b72c-dec259a0a409",
   "metadata": {
    "execution": {
     "iopub.execute_input": "2025-01-09T14:35:17.196011Z",
     "iopub.status.busy": "2025-01-09T14:35:17.195766Z",
     "iopub.status.idle": "2025-01-09T14:35:17.198797Z",
     "shell.execute_reply": "2025-01-09T14:35:17.198483Z",
     "shell.execute_reply.started": "2025-01-09T14:35:17.195997Z"
    }
   },
   "outputs": [],
   "source": [
    "plt.rcParams[\"figure.figsize\"] = (18,8)\n",
    "plt.rcParams[\"axes.labelsize\"] = 'xx-large'\n",
    "plt.rcParams['axes.titlesize'] = 'xx-large'\n",
    "plt.rcParams['xtick.labelsize']= 'xx-large'\n",
    "plt.rcParams['ytick.labelsize']= 'xx-large'\n",
    "plt.rcParams['legend.fontsize']=  12\n",
    "plt.rcParams['font.size'] = 12"
   ]
  },
  {
   "cell_type": "code",
   "execution_count": null,
   "id": "45d756b0-74eb-4906-94a2-81b3256c7c6f",
   "metadata": {
    "execution": {
     "iopub.execute_input": "2025-01-09T14:35:17.199268Z",
     "iopub.status.busy": "2025-01-09T14:35:17.199147Z",
     "iopub.status.idle": "2025-01-09T14:35:17.687383Z",
     "shell.execute_reply": "2025-01-09T14:35:17.686946Z",
     "shell.execute_reply.started": "2025-01-09T14:35:17.199256Z"
    }
   },
   "outputs": [],
   "source": [
    "import numpy as np\n",
    "import pandas as pd\n",
    "from astropy.time import Time"
   ]
  },
  {
   "cell_type": "code",
   "execution_count": null,
   "id": "fc0c0153-7a40-4166-bf13-46645d734aef",
   "metadata": {
    "execution": {
     "iopub.execute_input": "2025-01-09T14:35:17.688121Z",
     "iopub.status.busy": "2025-01-09T14:35:17.687849Z",
     "iopub.status.idle": "2025-01-09T14:35:18.445553Z",
     "shell.execute_reply": "2025-01-09T14:35:18.445190Z",
     "shell.execute_reply.started": "2025-01-09T14:35:17.688107Z"
    }
   },
   "outputs": [],
   "source": [
    "from lsst.daf.butler import Butler "
   ]
  },
  {
   "cell_type": "code",
   "execution_count": null,
   "id": "ac174b05-2a02-41dc-a03d-bc613305f874",
   "metadata": {
    "execution": {
     "iopub.execute_input": "2025-01-09T14:35:18.446121Z",
     "iopub.status.busy": "2025-01-09T14:35:18.445981Z",
     "iopub.status.idle": "2025-01-09T14:35:18.650639Z",
     "shell.execute_reply": "2025-01-09T14:35:18.650142Z",
     "shell.execute_reply.started": "2025-01-09T14:35:18.446107Z"
    }
   },
   "outputs": [],
   "source": [
    "# LSST Display\n",
    "# The advantage to use firefly is that the firefly display can handle a lotsof images\n",
    "import lsst.afw.display as afwDisplay\n",
    "afwDisplay.setDefaultBackend('matplotlib')"
   ]
  },
  {
   "cell_type": "code",
   "execution_count": null,
   "id": "456ff19b-ac58-4818-9d6b-41ca18be00e6",
   "metadata": {
    "execution": {
     "iopub.execute_input": "2025-01-09T14:35:18.651669Z",
     "iopub.status.busy": "2025-01-09T14:35:18.651174Z",
     "iopub.status.idle": "2025-01-09T14:35:18.863423Z",
     "shell.execute_reply": "2025-01-09T14:35:18.863013Z",
     "shell.execute_reply.started": "2025-01-09T14:35:18.651653Z"
    }
   },
   "outputs": [],
   "source": [
    "from lsst.pipe.tasks.visualizeVisit import (\n",
    "    VisualizeBinExpConfig,\n",
    "    VisualizeBinExpTask,\n",
    "    VisualizeMosaicExpConfig,\n",
    "    VisualizeMosaicExpTask,\n",
    ")"
   ]
  },
  {
   "cell_type": "markdown",
   "id": "48ec2e7a-36e5-4b68-8da2-b5da1c3f1fba",
   "metadata": {
    "execution": {
     "iopub.execute_input": "2024-10-25T19:17:41.583673Z",
     "iopub.status.busy": "2024-10-25T19:17:41.583538Z",
     "iopub.status.idle": "2024-10-25T19:17:41.585892Z",
     "shell.execute_reply": "2024-10-25T19:17:41.585507Z",
     "shell.execute_reply.started": "2024-10-25T19:17:41.583660Z"
    }
   },
   "source": [
    "## Configuration\n",
    "\n",
    "- Use the tag report to guess the collections in which we exect data :  https://usdf-rsp-dev.slac.stanford.edu/times-square/github/lsst-dm/vv-team-notebooks/TargetReport\n",
    "\n",
    "In the case of LSSTComCam:\n",
    "\n",
    "- https://usdf-rsp-dev.slac.stanford.edu/times-square/github/lsst-dm/vv-team-notebooks/TargetReport?day_obs=2024-10-24&instrument=LSSTComCam&repo=embargo_new&collection=LSSTComCam%2Fprompt%2Foutput-2024-10-24&collection_sky=LSSTComCamSim%2Fruns%2FDRP%2FOR4%2Fw_2024_25%2FDM-45066&skymap_name=ops_rehersal_prep_2k_v1&col_sciprog=science_program&col_target=target&col_filter=filter&col_id=id&ts_hide_code=1"
   ]
  },
  {
   "cell_type": "markdown",
   "id": "6c227935-1121-4c83-8517-b894d288e8b5",
   "metadata": {},
   "source": [
    "### Info from slack channel  #validation_team\n",
    "day_obs:  2024-10-24  \n",
    "instrument:  LSSTComCam  \n",
    "repo:  embargo_new  \n",
    "collection:  LSSTComCam/prompt/output-2024-10-24  \n",
    "collection_sky:  LSSTComCamSim/runs/DRP/OR4/w_2024_25/DM-45066  \n",
    "skymap_name:  ops_rehersal_prep_2k_v1  \n",
    "col_sciprog:  science_program  \n",
    "col_target:  target  \n",
    "col_filter:  filter  \n",
    "col_id:  id"
   ]
  },
  {
   "cell_type": "code",
   "execution_count": null,
   "id": "e7aa9495-baa5-4976-aee1-48c9f63b71ba",
   "metadata": {
    "execution": {
     "iopub.execute_input": "2025-01-09T14:35:18.864008Z",
     "iopub.status.busy": "2025-01-09T14:35:18.863868Z",
     "iopub.status.idle": "2025-01-09T14:35:19.385822Z",
     "shell.execute_reply": "2025-01-09T14:35:19.385436Z",
     "shell.execute_reply.started": "2025-01-09T14:35:18.863995Z"
    }
   },
   "outputs": [],
   "source": [
    "repo = 'embargo_new'\n",
    "instrument = \"LSSTComCam\"\n",
    "collection = 'LSSTComCam/prompt/output-2024-10-24'\n",
    "\n",
    "butler = Butler(repo)"
   ]
  },
  {
   "cell_type": "markdown",
   "id": "95b5567c-35af-4de1-87e8-2953e4808d2f",
   "metadata": {
    "execution": {
     "iopub.execute_input": "2024-10-25T19:17:41.935759Z",
     "iopub.status.busy": "2024-10-25T19:17:41.935583Z",
     "iopub.status.idle": "2024-10-25T19:17:41.937673Z",
     "shell.execute_reply": "2024-10-25T19:17:41.937341Z",
     "shell.execute_reply.started": "2024-10-25T19:17:41.935746Z"
    }
   },
   "source": [
    "## Query about the collections available\n",
    "\n",
    "- select collections with LSSTComCam"
   ]
  },
  {
   "cell_type": "code",
   "execution_count": null,
   "id": "24e7111f-83c2-4244-a869-c5e7f99494c7",
   "metadata": {
    "execution": {
     "iopub.execute_input": "2025-01-09T14:35:19.386476Z",
     "iopub.status.busy": "2025-01-09T14:35:19.386250Z",
     "iopub.status.idle": "2025-01-09T14:35:19.980308Z",
     "shell.execute_reply": "2025-01-09T14:35:19.979955Z",
     "shell.execute_reply.started": "2025-01-09T14:35:19.386462Z"
    }
   },
   "outputs": [],
   "source": [
    "for _ in butler.registry.queryCollections():\n",
    "    if 'LSSTComCam/' in _:\n",
    "        print(_)"
   ]
  },
  {
   "cell_type": "markdown",
   "id": "9df18f79-accc-4188-a5f9-0e0934263e91",
   "metadata": {},
   "source": [
    "- From the list available today , we probably have to look inside the colleciton `LSSTComCam/nightlyValidation`"
   ]
  },
  {
   "cell_type": "markdown",
   "id": "0af53758-9267-4b95-916e-5f3eb2df1855",
   "metadata": {},
   "source": [
    "## Select the Camera"
   ]
  },
  {
   "cell_type": "code",
   "execution_count": null,
   "id": "2b43d5c3-9bc2-4da7-abe7-f02396e2d3ad",
   "metadata": {
    "execution": {
     "iopub.execute_input": "2025-01-09T14:35:19.980917Z",
     "iopub.status.busy": "2025-01-09T14:35:19.980777Z",
     "iopub.status.idle": "2025-01-09T14:35:20.151090Z",
     "shell.execute_reply": "2025-01-09T14:35:20.150699Z",
     "shell.execute_reply.started": "2025-01-09T14:35:19.980904Z"
    }
   },
   "outputs": [],
   "source": [
    "# mandatory to get the focal plane setup\n",
    "camera = butler.get(\"camera\", collections=\"LSSTComCam/defaults\", instrument=\"LSSTComCam\")"
   ]
  },
  {
   "cell_type": "code",
   "execution_count": null,
   "id": "32ab1a23-e8e9-4fb9-932c-f1b71523fbc9",
   "metadata": {
    "execution": {
     "iopub.execute_input": "2025-01-09T14:35:20.153244Z",
     "iopub.status.busy": "2025-01-09T14:35:20.153024Z",
     "iopub.status.idle": "2025-01-09T14:35:20.156374Z",
     "shell.execute_reply": "2025-01-09T14:35:20.156086Z",
     "shell.execute_reply.started": "2025-01-09T14:35:20.153230Z"
    }
   },
   "outputs": [],
   "source": [
    "camera"
   ]
  },
  {
   "cell_type": "markdown",
   "id": "372d17e7-0a6e-4389-b4bc-9a8c8ad15237",
   "metadata": {},
   "source": [
    "## Select the collection"
   ]
  },
  {
   "cell_type": "code",
   "execution_count": null,
   "id": "da6408e5-0e9d-455c-8df9-9f1ed59e2cac",
   "metadata": {
    "execution": {
     "iopub.execute_input": "2025-01-09T14:35:20.156835Z",
     "iopub.status.busy": "2025-01-09T14:35:20.156716Z",
     "iopub.status.idle": "2025-01-09T14:35:20.163199Z",
     "shell.execute_reply": "2025-01-09T14:35:20.162902Z",
     "shell.execute_reply.started": "2025-01-09T14:35:20.156824Z"
    }
   },
   "outputs": [],
   "source": [
    "#the_collection = \"LSSTComCam/runs/nightlyValidation_20241024_20241025/w_2024_42/DM-47059-test\" \n",
    "#the_collection =   \"LSSTComCam/prompt/output-2024-10-24\"\n",
    "the_collection = \"LSSTComCam/nightlyValidation\""
   ]
  },
  {
   "cell_type": "markdown",
   "id": "c0272ab3-785f-4a90-93fb-e970cffe3cc8",
   "metadata": {},
   "source": [
    "## Create the butler on the selected collection"
   ]
  },
  {
   "cell_type": "code",
   "execution_count": null,
   "id": "7bd8df52-dc45-4270-8935-f4acc36046f9",
   "metadata": {
    "execution": {
     "iopub.execute_input": "2025-01-09T14:35:20.163659Z",
     "iopub.status.busy": "2025-01-09T14:35:20.163542Z",
     "iopub.status.idle": "2025-01-09T14:35:20.490307Z",
     "shell.execute_reply": "2025-01-09T14:35:20.489819Z",
     "shell.execute_reply.started": "2025-01-09T14:35:20.163647Z"
    }
   },
   "outputs": [],
   "source": [
    "butler = Butler(repo, collections=the_collection)\n",
    "registry = butler.registry"
   ]
  },
  {
   "cell_type": "code",
   "execution_count": null,
   "id": "8cf2d6d3-4288-470c-8e79-2340e793a353",
   "metadata": {
    "execution": {
     "iopub.execute_input": "2025-01-09T14:35:20.490983Z",
     "iopub.status.busy": "2025-01-09T14:35:20.490847Z",
     "iopub.status.idle": "2025-01-09T14:35:51.987348Z",
     "shell.execute_reply": "2025-01-09T14:35:51.986973Z",
     "shell.execute_reply.started": "2025-01-09T14:35:20.490970Z"
    }
   },
   "outputs": [],
   "source": [
    "for datasetType in registry.queryDatasetTypes():\n",
    "    if registry.queryDatasets(datasetType, collections= the_collection).any(execute=False, exact=False):\n",
    "        # Limit search results to the data products\n",
    "        if ('_config' not in datasetType.name) and ('_log' not in datasetType.name) and ('_metadata' not in datasetType.name) and ('_resource_usage' not in datasetType.name):\n",
    "            print(datasetType)"
   ]
  },
  {
   "cell_type": "markdown",
   "id": "e6499567-c915-4cf0-a281-cecdde970493",
   "metadata": {},
   "source": [
    "- Notice no visit-Table is available. Thus to know which visiId are existing, we will use the registry later"
   ]
  },
  {
   "cell_type": "markdown",
   "id": "d90681b8-bb52-4227-b4db-6bb2c6be0fc7",
   "metadata": {},
   "source": [
    "## Extract the list of visitId from the butler's registry "
   ]
  },
  {
   "cell_type": "markdown",
   "id": "45ff66dc-6576-4daa-ad20-db353e751e06",
   "metadata": {},
   "source": [
    "### Get the list of information that can be extracted from the registryfor each exposure"
   ]
  },
  {
   "cell_type": "code",
   "execution_count": null,
   "id": "3805631a-a005-45eb-a7ef-bcbd0ddeda94",
   "metadata": {
    "execution": {
     "iopub.execute_input": "2025-01-09T14:35:51.987926Z",
     "iopub.status.busy": "2025-01-09T14:35:51.987783Z",
     "iopub.status.idle": "2025-01-09T14:35:51.990462Z",
     "shell.execute_reply": "2025-01-09T14:35:51.990138Z",
     "shell.execute_reply.started": "2025-01-09T14:35:51.987913Z"
    }
   },
   "outputs": [],
   "source": [
    "print(registry.dimensions[\"exposure\"].RecordClass.fields)"
   ]
  },
  {
   "cell_type": "markdown",
   "id": "417fb6a0-eafe-4b87-b321-819589292cd3",
   "metadata": {},
   "source": [
    "### Create the pandas dataframe from the information inside the butler's registry"
   ]
  },
  {
   "cell_type": "code",
   "execution_count": null,
   "id": "9ab1d265-5fc9-459a-bd6e-7687ac4908bc",
   "metadata": {
    "execution": {
     "iopub.execute_input": "2025-01-09T14:35:51.991003Z",
     "iopub.status.busy": "2025-01-09T14:35:51.990870Z",
     "iopub.status.idle": "2025-01-09T14:35:51.998362Z",
     "shell.execute_reply": "2025-01-09T14:35:51.998062Z",
     "shell.execute_reply.started": "2025-01-09T14:35:51.990991Z"
    }
   },
   "outputs": [],
   "source": [
    "df_exposure = pd.DataFrame(columns=['id', 'obs_id','day_obs', 'seq_num','time_start','time_end' ,'type', 'target','filter','zenith_angle','expos','ra','dec','skyangle','azimuth','zenith','science_program','jd','mjd'])"
   ]
  },
  {
   "cell_type": "code",
   "execution_count": null,
   "id": "39081171-8938-415e-8d38-0c48a2505603",
   "metadata": {
    "execution": {
     "iopub.execute_input": "2025-01-09T14:35:51.998849Z",
     "iopub.status.busy": "2025-01-09T14:35:51.998725Z",
     "iopub.status.idle": "2025-01-09T14:35:52.004739Z",
     "shell.execute_reply": "2025-01-09T14:35:52.004447Z",
     "shell.execute_reply.started": "2025-01-09T14:35:51.998836Z"
    }
   },
   "outputs": [],
   "source": [
    "where_expr = \"instrument='LSSTComCam'\""
   ]
  },
  {
   "cell_type": "markdown",
   "id": "6a5b2ba6-c302-4578-9f53-55a021de1028",
   "metadata": {},
   "source": [
    "### Fill the pandas dataframe from the records inside the butler's registry for each exposure"
   ]
  },
  {
   "cell_type": "code",
   "execution_count": null,
   "id": "e28d6d99-5a67-4964-96b7-d6e33f36812e",
   "metadata": {
    "execution": {
     "iopub.execute_input": "2025-01-09T14:35:52.005218Z",
     "iopub.status.busy": "2025-01-09T14:35:52.005097Z",
     "iopub.status.idle": "2025-01-09T14:36:52.236503Z",
     "shell.execute_reply": "2025-01-09T14:36:52.236030Z",
     "shell.execute_reply.started": "2025-01-09T14:35:52.005206Z"
    }
   },
   "outputs": [],
   "source": [
    "for count, info in enumerate(registry.queryDimensionRecords('exposure',where = where_expr)):  \n",
    "    try:\n",
    "        id_ = info.id\n",
    "        obs_id_ = info.obs_id\n",
    "        day_obs_ = info.day_obs\n",
    "        seq_num_ = info.seq_num\n",
    "        timespan_ = info.timespan\n",
    "\n",
    "        timespan_begin_ = pd.to_datetime(info.timespan.begin.to_datetime())\n",
    "        timespan_end_ = pd.to_datetime(info.timespan.end.to_datetime())\n",
    "        timespan_jd_ = timespan_.begin.jd\n",
    "        timespan_mjd_ = timespan_.begin.mjd\n",
    "        \n",
    "        \n",
    "        df_exposure.loc[count] = [info.id, info.obs_id, info.day_obs, info.seq_num,timespan_begin_,timespan_end_ ,info.observation_type, info.target_name, info.physical_filter, info.zenith_angle, \\\n",
    "                             info.exposure_time,info.tracking_ra, info.tracking_dec, info.sky_angle,info.azimuth ,info.zenith_angle, info.science_program,\n",
    "                             timespan_jd_,timespan_mjd_  ]\n",
    "    except:\n",
    "        print(\">>>   Unexpected error:\", sys.exc_info()[0])\n",
    "        info_timespan_begin_to_string = \"2021-01-01 00:00:00.00\"\n",
    "        info_timespan_end_to_string = \"2051-01-01 00:00:00.00\"\n",
    "        info_timespan_begin_jd = 0\n",
    "        info_timespan_begin_mjd = 0\n",
    "        df_exposure.loc[count] = [info.id, info.obs_id, info.day_obs, info.seq_num,\n",
    "                                  pd.to_datetime(info_timespan_begin_to_string),\n",
    "                                  pd.to_datetime(info_timespan_end_to_string) ,\n",
    "                                  info.observation_type, info.target_name, \n",
    "                                  info.physical_filter, info.zenith_angle, \\\n",
    "                             info.exposure_time,info.tracking_ra, info.tracking_dec, info.sky_angle,info.azimuth ,info.zenith_angle, info.science_program,\n",
    "                             info_timespan_begin_jd,info_timespan_begin_mjd ]\n",
    " \n",
    "\n",
    "    if count < 2:\n",
    "        print(\"-----------------------------------------------------\",count,\"---------------------------------------------------------\")\n",
    "        print(info)\n",
    "        print(\"\\t id:                  \",info.id)\n",
    "        print(\"\\t day_obs:             \",info.day_obs)\n",
    "        print(\"\\t seq_num:             \",info.seq_num)\n",
    "        print(\"\\t type-of-observation: \",info.observation_type)\n",
    "        print(\"\\t target:              \",info.target_name)\n",
    "\n",
    "        timespan_ = info.timespan\n",
    "        timespan_begin_ = pd.to_datetime(info.timespan.begin.to_datetime())\n",
    "        timespan_end_ = pd.to_datetime(info.timespan.end.to_datetime())\n",
    "        timespan_jd_ = timespan_.begin.jd\n",
    "        timespan_mjd_ = timespan_.begin.mjd\n",
    "        \n",
    "        mjd = timespan_mjd_ \n",
    "        jd = timespan_jd_ \n",
    "        print(\"MJD,JD : \",mjd,jd)\n",
    "        \n",
    " "
   ]
  },
  {
   "cell_type": "markdown",
   "id": "4e941a71-f599-4339-b51a-3cd565e9a9b9",
   "metadata": {},
   "source": [
    "#### convert some columns into integer"
   ]
  },
  {
   "cell_type": "code",
   "execution_count": null,
   "id": "dd17b159-8658-4247-8bdf-a2900d5dcbe3",
   "metadata": {
    "execution": {
     "iopub.execute_input": "2025-01-09T14:36:52.237151Z",
     "iopub.status.busy": "2025-01-09T14:36:52.237012Z",
     "iopub.status.idle": "2025-01-09T14:36:52.244552Z",
     "shell.execute_reply": "2025-01-09T14:36:52.244133Z",
     "shell.execute_reply.started": "2025-01-09T14:36:52.237138Z"
    }
   },
   "outputs": [],
   "source": [
    "df_exposure = df_exposure.astype({\"id\": int,'day_obs': int,'seq_num':int})"
   ]
  },
  {
   "cell_type": "markdown",
   "id": "31bc3a72-c798-450d-b966-9927cf309958",
   "metadata": {},
   "source": [
    "### Find the different type of exposures"
   ]
  },
  {
   "cell_type": "code",
   "execution_count": null,
   "id": "19ec676c-4b91-4d3f-8810-b893567ad2d7",
   "metadata": {
    "execution": {
     "iopub.execute_input": "2025-01-09T14:36:52.245141Z",
     "iopub.status.busy": "2025-01-09T14:36:52.245012Z",
     "iopub.status.idle": "2025-01-09T14:36:52.250835Z",
     "shell.execute_reply": "2025-01-09T14:36:52.250427Z",
     "shell.execute_reply.started": "2025-01-09T14:36:52.245129Z"
    }
   },
   "outputs": [],
   "source": [
    "df_exposure[\"type\"].unique()"
   ]
  },
  {
   "cell_type": "markdown",
   "id": "bdb87a21-ca50-47fd-b593-b88ae5eea1e1",
   "metadata": {},
   "source": [
    "### Select the science exposure"
   ]
  },
  {
   "cell_type": "code",
   "execution_count": null,
   "id": "bd7aeb1d-a231-45b6-bac7-1d2e9ca3486e",
   "metadata": {
    "execution": {
     "iopub.execute_input": "2025-01-09T14:36:52.251484Z",
     "iopub.status.busy": "2025-01-09T14:36:52.251333Z",
     "iopub.status.idle": "2025-01-09T14:36:52.267940Z",
     "shell.execute_reply": "2025-01-09T14:36:52.267532Z",
     "shell.execute_reply.started": "2025-01-09T14:36:52.251469Z"
    }
   },
   "outputs": [],
   "source": [
    "df_science = df_exposure[df_exposure.type == 'science']\n",
    "df_science.reset_index(drop=True, inplace=True)"
   ]
  },
  {
   "cell_type": "code",
   "execution_count": null,
   "id": "ab66d2f4-590c-4d87-a736-1829b5c83e53",
   "metadata": {
    "execution": {
     "iopub.execute_input": "2025-01-09T14:36:52.268545Z",
     "iopub.status.busy": "2025-01-09T14:36:52.268412Z",
     "iopub.status.idle": "2025-01-09T14:36:52.284736Z",
     "shell.execute_reply": "2025-01-09T14:36:52.284391Z",
     "shell.execute_reply.started": "2025-01-09T14:36:52.268532Z"
    }
   },
   "outputs": [],
   "source": [
    "df_science"
   ]
  },
  {
   "cell_type": "markdown",
   "id": "8c3cfb5c-d4d8-4b93-bb81-11f30572751b",
   "metadata": {},
   "source": [
    "### Search for calexp and calexpbackground"
   ]
  },
  {
   "cell_type": "code",
   "execution_count": null,
   "id": "e324582b-564f-46eb-8a80-e4412dc96389",
   "metadata": {
    "execution": {
     "iopub.execute_input": "2025-01-09T14:36:52.285282Z",
     "iopub.status.busy": "2025-01-09T14:36:52.285154Z",
     "iopub.status.idle": "2025-01-09T14:36:53.983185Z",
     "shell.execute_reply": "2025-01-09T14:36:53.982809Z",
     "shell.execute_reply.started": "2025-01-09T14:36:52.285271Z"
    }
   },
   "outputs": [],
   "source": [
    "dataset_refs_calexp = butler.query_datasets(\"calexp\", collections=the_collection,where=\"instrument='LSSTComCam'\")\n",
    "dataset_refs_calexpbackground = butler.query_datasets(\"calexpBackground\", collections=the_collection, where=\"instrument='LSSTComCam'\")"
   ]
  },
  {
   "cell_type": "code",
   "execution_count": null,
   "id": "7b12c8bd-ff9d-46ac-a263-52c8f4320f65",
   "metadata": {
    "execution": {
     "iopub.execute_input": "2025-01-09T14:36:53.983774Z",
     "iopub.status.busy": "2025-01-09T14:36:53.983633Z",
     "iopub.status.idle": "2025-01-09T14:36:53.986339Z",
     "shell.execute_reply": "2025-01-09T14:36:53.985981Z",
     "shell.execute_reply.started": "2025-01-09T14:36:53.983761Z"
    }
   },
   "outputs": [],
   "source": [
    "print(len(dataset_refs_calexp),len(dataset_refs_calexpbackground))"
   ]
  },
  {
   "cell_type": "code",
   "execution_count": null,
   "id": "f21340c4-970e-4400-8bc1-051d17cd9d43",
   "metadata": {
    "execution": {
     "iopub.execute_input": "2025-01-09T14:36:53.986865Z",
     "iopub.status.busy": "2025-01-09T14:36:53.986738Z",
     "iopub.status.idle": "2025-01-09T14:36:54.005501Z",
     "shell.execute_reply": "2025-01-09T14:36:54.005141Z",
     "shell.execute_reply.started": "2025-01-09T14:36:53.986854Z"
    }
   },
   "outputs": [],
   "source": [
    "all_visits_withcalexp = []\n",
    "for idx, ref in enumerate(dataset_refs_calexp ):\n",
    "    #print(ref.dataId)\n",
    "    all_visits_withcalexp.append(ref.dataId[\"visit\"])\n",
    "all_visits_withcalexp = np.sort(np.unique(all_visits_withcalexp))\n",
    "all_visits_withcalexpbackground = []\n",
    "for idx, ref in enumerate(dataset_refs_calexpbackground):\n",
    "    #print(ref.dataId)\n",
    "    all_visits_withcalexpbackground.append(ref.dataId[\"visit\"])\n",
    "all_visits_withcalexpbackground = np.sort(np.unique(all_visits_withcalexpbackground))"
   ]
  },
  {
   "cell_type": "code",
   "execution_count": null,
   "id": "639fef39-d267-4a97-aa97-518948dc3878",
   "metadata": {
    "execution": {
     "iopub.execute_input": "2025-01-09T14:36:54.006016Z",
     "iopub.status.busy": "2025-01-09T14:36:54.005892Z",
     "iopub.status.idle": "2025-01-09T14:36:54.009132Z",
     "shell.execute_reply": "2025-01-09T14:36:54.008793Z",
     "shell.execute_reply.started": "2025-01-09T14:36:54.006005Z"
    }
   },
   "outputs": [],
   "source": [
    "ref.dataId"
   ]
  },
  {
   "cell_type": "markdown",
   "id": "b795e5ee-53de-4330-a3e0-4ededb5c2ed8",
   "metadata": {},
   "source": [
    "#### are those lists equals ?"
   ]
  },
  {
   "cell_type": "code",
   "execution_count": null,
   "id": "b0116415-7374-4a99-b959-3b74a5b5400a",
   "metadata": {
    "execution": {
     "iopub.execute_input": "2025-01-09T14:36:54.009630Z",
     "iopub.status.busy": "2025-01-09T14:36:54.009509Z",
     "iopub.status.idle": "2025-01-09T14:36:54.016526Z",
     "shell.execute_reply": "2025-01-09T14:36:54.016153Z",
     "shell.execute_reply.started": "2025-01-09T14:36:54.009619Z"
    }
   },
   "outputs": [],
   "source": [
    "np.array_equal(all_visits_withcalexp ,all_visits_withcalexpbackground)"
   ]
  },
  {
   "cell_type": "code",
   "execution_count": null,
   "id": "ef2f3035-af74-4d62-81c7-f54f06af8ffd",
   "metadata": {
    "execution": {
     "iopub.execute_input": "2025-01-09T14:36:54.017047Z",
     "iopub.status.busy": "2025-01-09T14:36:54.016928Z",
     "iopub.status.idle": "2025-01-09T14:36:54.023207Z",
     "shell.execute_reply": "2025-01-09T14:36:54.022896Z",
     "shell.execute_reply.started": "2025-01-09T14:36:54.017036Z"
    }
   },
   "outputs": [],
   "source": [
    "print(\"list of visit with calexp ::\",all_visits_withcalexp)"
   ]
  },
  {
   "cell_type": "markdown",
   "id": "09487497-597a-4660-b000-11a42f3b425f",
   "metadata": {},
   "source": [
    "## Example for viewing one image"
   ]
  },
  {
   "cell_type": "markdown",
   "id": "17f15b65-1d73-4395-9499-f16813882a36",
   "metadata": {},
   "source": [
    "### Select a date and a visitId"
   ]
  },
  {
   "cell_type": "code",
   "execution_count": null,
   "id": "43e20ea0-3072-4171-9b1c-28a6e6142533",
   "metadata": {
    "execution": {
     "iopub.execute_input": "2025-01-09T14:36:54.023659Z",
     "iopub.status.busy": "2025-01-09T14:36:54.023542Z",
     "iopub.status.idle": "2025-01-09T14:36:54.029173Z",
     "shell.execute_reply": "2025-01-09T14:36:54.028885Z",
     "shell.execute_reply.started": "2025-01-09T14:36:54.023647Z"
    }
   },
   "outputs": [],
   "source": [
    "visitId = 2024102800010 \t"
   ]
  },
  {
   "cell_type": "markdown",
   "id": "74bd6bb8-097c-4800-85b1-596d0b21da26",
   "metadata": {},
   "source": [
    "### Extract the exposures Calexp from the selected visitID"
   ]
  },
  {
   "cell_type": "code",
   "execution_count": null,
   "id": "701a26e3-e908-4b39-8f40-de98338ba718",
   "metadata": {
    "execution": {
     "iopub.execute_input": "2025-01-09T14:36:54.029628Z",
     "iopub.status.busy": "2025-01-09T14:36:54.029506Z",
     "iopub.status.idle": "2025-01-09T14:36:54.035913Z",
     "shell.execute_reply": "2025-01-09T14:36:54.035624Z",
     "shell.execute_reply.started": "2025-01-09T14:36:54.029617Z"
    }
   },
   "outputs": [],
   "source": [
    "def retrieve_images(visitId,instrument=instrument, butler= butler,collection=the_collection,datatype='postISRCCD'):\n",
    "    the_date = visitId//100000 \n",
    "    where_clause = f\"instrument=\\'LSSTComCam\\' AND exposure.day_obs={the_date}\"\n",
    "    dataId = {'visit': visitId, 'instrument':instrument}\n",
    "    \n",
    "    datasetRefs = butler.registry.queryDatasets(datatype, dataId=dataId, collections  = collection)\n",
    "    \n",
    "    \n",
    "    for i, ref in enumerate(datasetRefs):\n",
    "        print(ref.dataId)\n",
    "        exposure = ref.dataId[\"exposure\"]\n",
    "        detector = ref.dataId[\"detector\"]\n",
    "        physical_filter = ref.dataId[\"physical_filter\"]\n",
    "        band = ref.dataId[\"band\"]\n",
    "\n",
    "\n",
    "    return exposure,band,physical_filter,datasetRefs\n"
   ]
  },
  {
   "cell_type": "code",
   "execution_count": null,
   "id": "6644a413-176d-4d5a-9f8c-1d223edd29a2",
   "metadata": {
    "execution": {
     "iopub.execute_input": "2025-01-09T14:36:54.036366Z",
     "iopub.status.busy": "2025-01-09T14:36:54.036249Z",
     "iopub.status.idle": "2025-01-09T14:36:54.043144Z",
     "shell.execute_reply": "2025-01-09T14:36:54.042858Z",
     "shell.execute_reply.started": "2025-01-09T14:36:54.036355Z"
    }
   },
   "outputs": [],
   "source": [
    "def retrieve_images_calexpbackground(visitId,instrument=instrument, butler= butler,collection=the_collection,datatype='calexpBackground'):\n",
    "    the_date = visitId//100000 \n",
    "    where_clause = f\"instrument=\\'LSSTComCam\\' AND exposure.day_obs={the_date}\"\n",
    "    dataId = {'visit': visitId, 'instrument':instrument}\n",
    "    \n",
    "    datasetRefs = butler.registry.queryDatasets(datatype, dataId=dataId, collections  = collection)\n",
    "\n",
    "    image_dict = {}\n",
    "    \n",
    "    for i, ref in enumerate(datasetRefs):\n",
    "        print(ref.dataId)\n",
    "        visit = ref.dataId[\"visit\"]\n",
    "        detector = ref.dataId[\"detector\"]\n",
    "        physical_filter = ref.dataId[\"physical_filter\"]\n",
    "        band = ref.dataId[\"band\"]\n",
    "        the_image  = butler.get(ref)\n",
    "        image_dict[detector]  =  the_image\n",
    "\n",
    "    return visit,band,physical_filter,datasetRefs,image_dict"
   ]
  },
  {
   "cell_type": "code",
   "execution_count": null,
   "id": "11161057-514c-44a7-a6fb-1639bd81b181",
   "metadata": {
    "execution": {
     "iopub.execute_input": "2025-01-09T14:36:54.043586Z",
     "iopub.status.busy": "2025-01-09T14:36:54.043470Z",
     "iopub.status.idle": "2025-01-09T14:36:54.049568Z",
     "shell.execute_reply": "2025-01-09T14:36:54.049291Z",
     "shell.execute_reply.started": "2025-01-09T14:36:54.043575Z"
    }
   },
   "outputs": [],
   "source": [
    "#exposure,band,physical_filter,datasetRefs = retrieve_images(visitId)"
   ]
  },
  {
   "cell_type": "markdown",
   "id": "262811c1-ba14-40b5-bde0-eb89cb50e5d4",
   "metadata": {},
   "source": [
    "### Fetch the calexpbackground references for that visit "
   ]
  },
  {
   "cell_type": "code",
   "execution_count": null,
   "id": "e30ffb95-bb89-47df-9aac-1911d8f73a00",
   "metadata": {
    "execution": {
     "iopub.execute_input": "2025-01-09T14:36:54.050045Z",
     "iopub.status.busy": "2025-01-09T14:36:54.049930Z",
     "iopub.status.idle": "2025-01-09T14:36:54.284622Z",
     "shell.execute_reply": "2025-01-09T14:36:54.284203Z",
     "shell.execute_reply.started": "2025-01-09T14:36:54.050034Z"
    }
   },
   "outputs": [],
   "source": [
    "visit,band,physical_filter,datasetRefs,image_dict = retrieve_images_calexpbackground(visitId)"
   ]
  },
  {
   "cell_type": "code",
   "execution_count": null,
   "id": "59b69e97-3c74-45ef-a7eb-c5aa9bb3c0f0",
   "metadata": {
    "execution": {
     "iopub.execute_input": "2025-01-09T14:36:54.285455Z",
     "iopub.status.busy": "2025-01-09T14:36:54.285180Z",
     "iopub.status.idle": "2025-01-09T14:36:54.288535Z",
     "shell.execute_reply": "2025-01-09T14:36:54.288176Z",
     "shell.execute_reply.started": "2025-01-09T14:36:54.285433Z"
    }
   },
   "outputs": [],
   "source": [
    "list_detidx = list(image_dict.keys())\n",
    "N = len(list_detidx)\n",
    "ref_idx = np.argsort(list_detidx)\n",
    "list_of_images = [ image_dict[ref_idx[idx]] for idx in range(N) ]\n",
    "list_of_det = [ list_detidx[ref_idx[idx]] for idx in range(N) ]"
   ]
  },
  {
   "cell_type": "code",
   "execution_count": null,
   "id": "9d224ef3-5f35-4dba-ab9a-3556d38e95a6",
   "metadata": {
    "execution": {
     "iopub.execute_input": "2025-01-09T14:36:54.289058Z",
     "iopub.status.busy": "2025-01-09T14:36:54.288929Z",
     "iopub.status.idle": "2025-01-09T14:36:54.295985Z",
     "shell.execute_reply": "2025-01-09T14:36:54.295622Z",
     "shell.execute_reply.started": "2025-01-09T14:36:54.289046Z"
    }
   },
   "outputs": [],
   "source": [
    "list_of_det"
   ]
  },
  {
   "cell_type": "markdown",
   "id": "690a075e-e4f9-4016-bcf6-dc9d69ac1aeb",
   "metadata": {
    "execution": {
     "iopub.status.busy": "2024-10-25T19:43:36.665728Z",
     "iopub.status.idle": "2024-10-25T19:43:36.665892Z",
     "shell.execute_reply": "2024-10-25T19:43:36.665814Z",
     "shell.execute_reply.started": "2024-10-25T19:43:36.665807Z"
    }
   },
   "source": [
    "## View all the images of the focal surface for that vist"
   ]
  },
  {
   "cell_type": "code",
   "execution_count": null,
   "id": "997f92a2-a3d9-4507-95d7-93e23582550a",
   "metadata": {
    "execution": {
     "iopub.execute_input": "2025-01-09T14:36:54.296537Z",
     "iopub.status.busy": "2025-01-09T14:36:54.296349Z",
     "iopub.status.idle": "2025-01-09T14:36:54.301948Z",
     "shell.execute_reply": "2025-01-09T14:36:54.301641Z",
     "shell.execute_reply.started": "2025-01-09T14:36:54.296525Z"
    }
   },
   "outputs": [],
   "source": [
    "map_ax_to_det = {0:6,1:7,2:8,3:3,4:4,5:5,6:0,7:1,8:2}\n",
    "map_det_to_ax = {0:6,1:7,2:8,3:3,4:4,5:5,6:0,7:1,8:2}"
   ]
  },
  {
   "cell_type": "code",
   "execution_count": null,
   "id": "16640a0b-9546-4ef7-a884-a607a41c1179",
   "metadata": {
    "execution": {
     "iopub.execute_input": "2025-01-09T14:36:54.302414Z",
     "iopub.status.busy": "2025-01-09T14:36:54.302297Z",
     "iopub.status.idle": "2025-01-09T14:36:54.309157Z",
     "shell.execute_reply": "2025-01-09T14:36:54.308791Z",
     "shell.execute_reply.started": "2025-01-09T14:36:54.302402Z"
    }
   },
   "outputs": [],
   "source": [
    "def ShowMosaic(list_of_images,the_title = \"\"):\n",
    "    \"\"\"\n",
    "    Mosaic for LSSTComCam\n",
    "\n",
    "    list_of_images : list of LSST images (9 images for LSSTComCam), ordered by detector number \n",
    "    \"\"\"\n",
    "\n",
    "    N = len(list_of_images)\n",
    "    assert N== 9\n",
    "    \n",
    "    fig,axes = plt.subplots(3,3,figsize=(18,18))\n",
    "    display = afwDisplay.Display(frame=fig)\n",
    "    axs = axes.flatten()\n",
    "\n",
    "    #for idx,ax in enumerate(axs):\n",
    "    # loop by detector number\n",
    "    for idx in range(N):\n",
    "        the_image = list_of_images[idx]\n",
    "        ax = axs[ map_det_to_ax[idx] ]\n",
    "        plt.sca(ax)\n",
    "        #display.scale('asinh', 'zscale')\n",
    "        img_title = f\"det {idx}\"\n",
    "        display.mtv(the_image.getImage(),title=img_title)\n",
    "        display.show_colorbar(True)\n",
    "        plt.gca().axis('off')\n",
    "  \n",
    "    plt.suptitle(the_title,fontweight=\"bold\",fontsize=25)\n",
    "    plt.tight_layout()  \n",
    "    plt.show()"
   ]
  },
  {
   "cell_type": "markdown",
   "id": "66d06ae0-ce9f-44c1-bc2f-8335cdabf493",
   "metadata": {
    "execution": {
     "iopub.status.busy": "2024-10-26T19:43:15.355733Z",
     "iopub.status.idle": "2024-10-26T19:43:15.355887Z",
     "shell.execute_reply": "2024-10-26T19:43:15.355812Z",
     "shell.execute_reply.started": "2024-10-26T19:43:15.355805Z"
    }
   },
   "source": [
    "### Plot"
   ]
  },
  {
   "cell_type": "code",
   "execution_count": null,
   "id": "6f8496f2-9e45-40d8-b88c-0039a3e937db",
   "metadata": {
    "execution": {
     "iopub.execute_input": "2025-01-09T14:36:54.311705Z",
     "iopub.status.busy": "2025-01-09T14:36:54.311450Z",
     "iopub.status.idle": "2025-01-09T14:37:04.384991Z",
     "shell.execute_reply": "2025-01-09T14:37:04.384521Z",
     "shell.execute_reply.started": "2025-01-09T14:36:54.311692Z"
    }
   },
   "outputs": [],
   "source": [
    "the_title = f\"calexpbackground :: id = {visitId}, band = {band}\"\n",
    "ShowMosaic(list_of_images,the_title)"
   ]
  },
  {
   "cell_type": "markdown",
   "id": "d41b50fc-f4f7-422a-8aaf-13854e4a8f5e",
   "metadata": {},
   "source": [
    "## Loop on all visits"
   ]
  },
  {
   "cell_type": "markdown",
   "id": "66115a67-0e6e-4a6d-b958-c60d669b8dce",
   "metadata": {},
   "source": [
    "### Select the visits"
   ]
  },
  {
   "cell_type": "code",
   "execution_count": null,
   "id": "f68f5ceb-2314-462e-aafb-75bea1788dee",
   "metadata": {
    "execution": {
     "iopub.execute_input": "2025-01-09T14:37:04.385759Z",
     "iopub.status.busy": "2025-01-09T14:37:04.385610Z",
     "iopub.status.idle": "2025-01-09T14:37:04.388808Z",
     "shell.execute_reply": "2025-01-09T14:37:04.388435Z",
     "shell.execute_reply.started": "2025-01-09T14:37:04.385745Z"
    }
   },
   "outputs": [],
   "source": [
    "#df_sel = df_science[df_science[\"day_obs\"] == 20241030]\n",
    "#list_of_visitId = list(df_sel.id)\n",
    "list_of_visitId = np.array(all_visits_withcalexpbackground)\n",
    "list_of_visitId_nights = np.array([visitId//100000 for visitId in list_of_visitId])"
   ]
  },
  {
   "cell_type": "code",
   "execution_count": null,
   "id": "0f1b9efe-62de-413c-9fd2-978dccebdc2b",
   "metadata": {
    "execution": {
     "iopub.execute_input": "2025-01-09T14:37:04.389346Z",
     "iopub.status.busy": "2025-01-09T14:37:04.389222Z",
     "iopub.status.idle": "2025-01-09T14:37:04.397190Z",
     "shell.execute_reply": "2025-01-09T14:37:04.396765Z",
     "shell.execute_reply.started": "2025-01-09T14:37:04.389335Z"
    }
   },
   "outputs": [],
   "source": [
    "print(\"Nights with calexpbackground visits :: \",np.unique(list_of_visitId_nights))"
   ]
  },
  {
   "cell_type": "code",
   "execution_count": null,
   "id": "dc5cdc13-9955-46b0-97e1-6c4fb9cebfdb",
   "metadata": {
    "execution": {
     "iopub.execute_input": "2025-01-09T14:37:04.397718Z",
     "iopub.status.busy": "2025-01-09T14:37:04.397589Z",
     "iopub.status.idle": "2025-01-09T14:37:04.403454Z",
     "shell.execute_reply": "2025-01-09T14:37:04.403076Z",
     "shell.execute_reply.started": "2025-01-09T14:37:04.397705Z"
    }
   },
   "outputs": [],
   "source": [
    "SELECTED_NIGHT = 20241029\n",
    "FLAG_SELECT_NIGHT = True\n",
    "if FLAG_SELECT_NIGHT:\n",
    "    list_of_visitId = list_of_visitId[list_of_visitId_nights == SELECTED_NIGHT ]\n",
    "print(\"list of visit to plot :: \",list_of_visitId) "
   ]
  },
  {
   "cell_type": "markdown",
   "id": "8f7773a4-f4ca-4b15-9859-411eea6a8dfc",
   "metadata": {},
   "source": [
    "### Plot the selected night visits "
   ]
  },
  {
   "cell_type": "code",
   "execution_count": null,
   "id": "67c240c4-57d4-4275-8c33-34d73bf7a36a",
   "metadata": {
    "execution": {
     "iopub.execute_input": "2025-01-09T14:37:04.404008Z",
     "iopub.status.busy": "2025-01-09T14:37:04.403892Z"
    }
   },
   "outputs": [],
   "source": [
    "# loop on visit id\n",
    "Nvis = len(list_of_visitId)\n",
    "for idcount, visitId in enumerate(list_of_visitId):\n",
    "\n",
    "    try:\n",
    "        visit,band,physical_filter,datasetRefs,image_dict = retrieve_images_calexpbackground(visitId)\n",
    "\n",
    "        list_detidx = list(image_dict.keys())\n",
    "        N = len(list_detidx)\n",
    "        ref_idx = np.argsort(list_detidx)\n",
    "        list_of_images = [ image_dict[ref_idx[idx]] for idx in range(N) ]\n",
    "        list_of_det = [ list_detidx[ref_idx[idx]] for idx in range(N) ]\n",
    "    \n",
    "        the_title = f\"{idcount}/{Nvis}) calexpbackground :: id = {visitId}, band = {band}\"\n",
    "\n",
    "        ShowMosaic(list_of_images,the_title)\n",
    "    except Exception as inst:\n",
    "        print(inst)   \n"
   ]
  },
  {
   "cell_type": "code",
   "execution_count": null,
   "id": "519374dc-71e5-4ba1-abbf-fe0c4f775c9f",
   "metadata": {},
   "outputs": [],
   "source": []
  }
 ],
 "metadata": {
  "kernelspec": {
   "display_name": "LSST",
   "language": "python",
   "name": "lsst"
  },
  "language_info": {
   "codemirror_mode": {
    "name": "ipython",
    "version": 3
   },
   "file_extension": ".py",
   "mimetype": "text/x-python",
   "name": "python",
   "nbconvert_exporter": "python",
   "pygments_lexer": "ipython3",
   "version": "3.11.9"
  }
 },
 "nbformat": 4,
 "nbformat_minor": 5
}
