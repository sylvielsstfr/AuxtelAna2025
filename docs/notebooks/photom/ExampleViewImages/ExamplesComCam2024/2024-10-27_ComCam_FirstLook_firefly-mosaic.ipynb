{
 "cells": [
  {
   "cell_type": "markdown",
   "id": "30c9f2ef-550a-4b4f-8411-7224adc5b98b",
   "metadata": {},
   "source": [
    "# Very First Look at very first ComCam Data with mosaic using FireFly\n",
    "\n",
    "- Goal verification of early data : First night\n",
    "- View now postISRCCD or Calexp\n",
    "- Restart the Kernel first"
   ]
  },
  {
   "cell_type": "markdown",
   "id": "bb20a475-892b-40e8-8c09-d2ea03f28d65",
   "metadata": {},
   "source": [
    "- LSST Doc for Mosaic : https://dp0-2.lsst.io/_static/nb_html/DP02_10_Deblender_Data_Products.html"
   ]
  },
  {
   "cell_type": "markdown",
   "id": "f1e111e8-ccbc-4602-b8ab-392fe9f8812a",
   "metadata": {
    "execution": {
     "iopub.execute_input": "2024-10-25T18:35:28.020312Z",
     "iopub.status.busy": "2024-10-25T18:35:28.019985Z",
     "iopub.status.idle": "2024-10-25T18:35:28.023846Z",
     "shell.execute_reply": "2024-10-25T18:35:28.023258Z",
     "shell.execute_reply.started": "2024-10-25T18:35:28.020294Z"
    }
   },
   "source": [
    "- author : Sylvie Dagoret-campagne\n",
    "- affiliation : IJCLab/in2p3/CNRS\n",
    "- creation date : 2024-10-27\n",
    "- update : 2024-11-06\n",
    "- last update : 2025-01-09 : fix the date decoding ix the date decoding (w_2024_50)"
   ]
  },
  {
   "cell_type": "code",
   "execution_count": null,
   "id": "b04f3879-f5d5-4e7e-8496-21056d10be1d",
   "metadata": {
    "execution": {
     "iopub.execute_input": "2025-01-09T14:16:49.850702Z",
     "iopub.status.busy": "2025-01-09T14:16:49.850569Z",
     "iopub.status.idle": "2025-01-09T14:16:52.420234Z",
     "shell.execute_reply": "2025-01-09T14:16:52.419789Z",
     "shell.execute_reply.started": "2025-01-09T14:16:49.850689Z"
    }
   },
   "outputs": [],
   "source": [
    "import matplotlib.pyplot as plt\n",
    "import matplotlib as mpl\n",
    "import matplotlib.dates as mdates\n",
    "import matplotlib.ticker\n",
    "from mpl_toolkits.axes_grid1 import make_axes_locatable\n",
    "from matplotlib.colors import LogNorm,SymLogNorm\n",
    "from matplotlib.colors import ListedColormap\n",
    "from matplotlib import colors\n",
    "\n",
    "%matplotlib inline\n",
    "import numpy as np\n",
    "import pandas as pd\n",
    "import matplotlib.gridspec as gridspec\n",
    "from spectractor.tools import from_lambda_to_colormap, wavelength_to_rgb\n",
    "#%matplotlib widget \n",
    "import h5py\n",
    "from scipy import interpolate\n",
    "from astropy.time import Time\n",
    "from datetime import datetime, timedelta\n",
    "import seaborn as sns\n",
    "\n",
    "from itertools import cycle, islice\n",
    "import os"
   ]
  },
  {
   "cell_type": "code",
   "execution_count": null,
   "id": "18068db4-c33c-43c5-bd12-58ff250d7a02",
   "metadata": {
    "execution": {
     "iopub.execute_input": "2025-01-09T14:16:52.529662Z",
     "iopub.status.busy": "2025-01-09T14:16:52.420789Z",
     "iopub.status.idle": "2025-01-09T14:16:52.532752Z",
     "shell.execute_reply": "2025-01-09T14:16:52.532347Z",
     "shell.execute_reply.started": "2025-01-09T14:16:52.529632Z"
    }
   },
   "outputs": [],
   "source": [
    "plt.rcParams[\"figure.figsize\"] = (18,8)\n",
    "plt.rcParams[\"axes.labelsize\"] = 'xx-large'\n",
    "plt.rcParams['axes.titlesize'] = 'xx-large'\n",
    "plt.rcParams['xtick.labelsize']= 'xx-large'\n",
    "plt.rcParams['ytick.labelsize']= 'xx-large'\n",
    "plt.rcParams['legend.fontsize']=  12\n",
    "plt.rcParams['font.size'] = 12"
   ]
  },
  {
   "cell_type": "code",
   "execution_count": null,
   "id": "611a8607-3ac5-4853-b270-f703f13e518b",
   "metadata": {
    "execution": {
     "iopub.execute_input": "2025-01-09T14:16:52.533355Z",
     "iopub.status.busy": "2025-01-09T14:16:52.533223Z",
     "iopub.status.idle": "2025-01-09T14:16:52.539869Z",
     "shell.execute_reply": "2025-01-09T14:16:52.539503Z",
     "shell.execute_reply.started": "2025-01-09T14:16:52.533343Z"
    }
   },
   "outputs": [],
   "source": [
    "from matplotlib.ticker import (MultipleLocator, FormatStrFormatter,\n",
    "                               AutoMinorLocator)\n",
    "\n",
    "from astropy.visualization import (MinMaxInterval, SqrtStretch,ZScaleInterval,PercentileInterval,\n",
    "                                   ImageNormalize,imshow_norm)\n",
    "from astropy.visualization.stretch import SinhStretch, LinearStretch,AsinhStretch,LogStretch\n",
    "\n",
    "transform = AsinhStretch() + PercentileInterval(99.)"
   ]
  },
  {
   "cell_type": "code",
   "execution_count": null,
   "id": "fc0c0153-7a40-4166-bf13-46645d734aef",
   "metadata": {
    "execution": {
     "iopub.execute_input": "2025-01-09T14:16:52.540434Z",
     "iopub.status.busy": "2025-01-09T14:16:52.540305Z",
     "iopub.status.idle": "2025-01-09T14:16:53.223030Z",
     "shell.execute_reply": "2025-01-09T14:16:53.222458Z",
     "shell.execute_reply.started": "2025-01-09T14:16:52.540421Z"
    }
   },
   "outputs": [],
   "source": [
    "from lsst.daf.butler import Butler \n",
    "import astropy.units as u\n",
    "import numpy as np \n",
    "import pandas as pd\n",
    "pd.set_option(\"display.max_columns\", None)\n",
    "from astropy.time import Time\n",
    "\n",
    "import scipy.stats\n",
    "\n",
    "import matplotlib\n",
    "%matplotlib inline\n",
    "from matplotlib import pyplot as plt"
   ]
  },
  {
   "cell_type": "code",
   "execution_count": null,
   "id": "ac174b05-2a02-41dc-a03d-bc613305f874",
   "metadata": {
    "execution": {
     "iopub.execute_input": "2025-01-09T14:16:53.223835Z",
     "iopub.status.busy": "2025-01-09T14:16:53.223651Z",
     "iopub.status.idle": "2025-01-09T14:16:53.609807Z",
     "shell.execute_reply": "2025-01-09T14:16:53.609295Z",
     "shell.execute_reply.started": "2025-01-09T14:16:53.223814Z"
    }
   },
   "outputs": [],
   "source": [
    "# LSST Display\n",
    "# The advantage to use firefly is that the firefly display can handle a lotsof images\n",
    "import lsst.afw.display as afwDisplay\n",
    "\n",
    "afwDisplay.setDefaultBackend('firefly')"
   ]
  },
  {
   "cell_type": "markdown",
   "id": "48ec2e7a-36e5-4b68-8da2-b5da1c3f1fba",
   "metadata": {
    "execution": {
     "iopub.execute_input": "2024-10-25T19:17:41.583673Z",
     "iopub.status.busy": "2024-10-25T19:17:41.583538Z",
     "iopub.status.idle": "2024-10-25T19:17:41.585892Z",
     "shell.execute_reply": "2024-10-25T19:17:41.585507Z",
     "shell.execute_reply.started": "2024-10-25T19:17:41.583660Z"
    }
   },
   "source": [
    "## Configuration\n",
    "\n",
    "- Use the tag report to guess the collections in which we exect data :  https://usdf-rsp-dev.slac.stanford.edu/times-square/github/lsst-dm/vv-team-notebooks/TargetReport\n",
    "\n",
    "In the case of LSSTComCam:\n",
    "\n",
    "- https://usdf-rsp-dev.slac.stanford.edu/times-square/github/lsst-dm/vv-team-notebooks/TargetReport?day_obs=2024-10-24&instrument=LSSTComCam&repo=embargo_new&collection=LSSTComCam%2Fprompt%2Foutput-2024-10-24&collection_sky=LSSTComCamSim%2Fruns%2FDRP%2FOR4%2Fw_2024_25%2FDM-45066&skymap_name=ops_rehersal_prep_2k_v1&col_sciprog=science_program&col_target=target&col_filter=filter&col_id=id&ts_hide_code=1"
   ]
  },
  {
   "cell_type": "markdown",
   "id": "6c227935-1121-4c83-8517-b894d288e8b5",
   "metadata": {},
   "source": [
    "### Info from slack channel  #validation_team\n",
    "day_obs:  2024-10-24  \n",
    "instrument:  LSSTComCam  \n",
    "repo:  embargo_new  \n",
    "collection:  LSSTComCam/prompt/output-2024-10-24  \n",
    "collection_sky:  LSSTComCamSim/runs/DRP/OR4/w_2024_25/DM-45066  \n",
    "skymap_name:  ops_rehersal_prep_2k_v1  \n",
    "col_sciprog:  science_program  \n",
    "col_target:  target  \n",
    "col_filter:  filter  \n",
    "col_id:  id"
   ]
  },
  {
   "cell_type": "code",
   "execution_count": null,
   "id": "e7aa9495-baa5-4976-aee1-48c9f63b71ba",
   "metadata": {
    "execution": {
     "iopub.execute_input": "2025-01-09T14:16:53.610856Z",
     "iopub.status.busy": "2025-01-09T14:16:53.610348Z",
     "iopub.status.idle": "2025-01-09T14:16:54.019378Z",
     "shell.execute_reply": "2025-01-09T14:16:54.018896Z",
     "shell.execute_reply.started": "2025-01-09T14:16:53.610840Z"
    }
   },
   "outputs": [],
   "source": [
    "repo = 'embargo_new'\n",
    "instrument = \"LSSTComCam\"\n",
    "collection = 'LSSTComCam/prompt/output-2024-10-24'\n",
    "\n",
    "butler = Butler(repo)"
   ]
  },
  {
   "cell_type": "markdown",
   "id": "95b5567c-35af-4de1-87e8-2953e4808d2f",
   "metadata": {
    "execution": {
     "iopub.execute_input": "2024-10-25T19:17:41.935759Z",
     "iopub.status.busy": "2024-10-25T19:17:41.935583Z",
     "iopub.status.idle": "2024-10-25T19:17:41.937673Z",
     "shell.execute_reply": "2024-10-25T19:17:41.937341Z",
     "shell.execute_reply.started": "2024-10-25T19:17:41.935746Z"
    }
   },
   "source": [
    "## Query about the collections available\n",
    "\n",
    "- select collections with LSSTComCam"
   ]
  },
  {
   "cell_type": "code",
   "execution_count": null,
   "id": "24e7111f-83c2-4244-a869-c5e7f99494c7",
   "metadata": {
    "execution": {
     "iopub.execute_input": "2025-01-09T14:16:54.020090Z",
     "iopub.status.busy": "2025-01-09T14:16:54.019944Z",
     "iopub.status.idle": "2025-01-09T14:16:54.603371Z",
     "shell.execute_reply": "2025-01-09T14:16:54.602912Z",
     "shell.execute_reply.started": "2025-01-09T14:16:54.020077Z"
    }
   },
   "outputs": [],
   "source": [
    "for _ in butler.registry.queryCollections():\n",
    "    if 'LSSTComCam/' in _:\n",
    "        print(_)"
   ]
  },
  {
   "cell_type": "markdown",
   "id": "9df18f79-accc-4188-a5f9-0e0934263e91",
   "metadata": {},
   "source": [
    "- From the list available today , we probably have to look inside the colleciton `LSSTComCam/nightlyValidation`"
   ]
  },
  {
   "cell_type": "markdown",
   "id": "372d17e7-0a6e-4389-b4bc-9a8c8ad15237",
   "metadata": {},
   "source": [
    "## Select the collection"
   ]
  },
  {
   "cell_type": "code",
   "execution_count": null,
   "id": "da6408e5-0e9d-455c-8df9-9f1ed59e2cac",
   "metadata": {
    "execution": {
     "iopub.execute_input": "2025-01-09T14:16:54.604041Z",
     "iopub.status.busy": "2025-01-09T14:16:54.603887Z",
     "iopub.status.idle": "2025-01-09T14:16:54.606284Z",
     "shell.execute_reply": "2025-01-09T14:16:54.605912Z",
     "shell.execute_reply.started": "2025-01-09T14:16:54.604027Z"
    }
   },
   "outputs": [],
   "source": [
    "#the_collection = \"LSSTComCam/runs/nightlyValidation_20241024_20241025/w_2024_42/DM-47059-test\" \n",
    "#the_collection =   \"LSSTComCam/prompt/output-2024-10-24\"\n",
    "the_collection = \"LSSTComCam/nightlyValidation\""
   ]
  },
  {
   "cell_type": "markdown",
   "id": "c0272ab3-785f-4a90-93fb-e970cffe3cc8",
   "metadata": {},
   "source": [
    "## Create the butler on the selected collection"
   ]
  },
  {
   "cell_type": "code",
   "execution_count": null,
   "id": "7bd8df52-dc45-4270-8935-f4acc36046f9",
   "metadata": {
    "execution": {
     "iopub.execute_input": "2025-01-09T14:16:54.606847Z",
     "iopub.status.busy": "2025-01-09T14:16:54.606719Z",
     "iopub.status.idle": "2025-01-09T14:16:54.777607Z",
     "shell.execute_reply": "2025-01-09T14:16:54.777147Z",
     "shell.execute_reply.started": "2025-01-09T14:16:54.606835Z"
    }
   },
   "outputs": [],
   "source": [
    "butler = Butler(repo, collections=the_collection)\n",
    "registry = butler.registry"
   ]
  },
  {
   "cell_type": "code",
   "execution_count": null,
   "id": "8cf2d6d3-4288-470c-8e79-2340e793a353",
   "metadata": {
    "execution": {
     "iopub.execute_input": "2025-01-09T14:16:54.778237Z",
     "iopub.status.busy": "2025-01-09T14:16:54.778098Z",
     "iopub.status.idle": "2025-01-09T14:17:26.038142Z",
     "shell.execute_reply": "2025-01-09T14:17:26.037761Z",
     "shell.execute_reply.started": "2025-01-09T14:16:54.778224Z"
    }
   },
   "outputs": [],
   "source": [
    "for datasetType in registry.queryDatasetTypes():\n",
    "    if registry.queryDatasets(datasetType, collections= the_collection).any(execute=False, exact=False):\n",
    "        # Limit search results to the data products\n",
    "        if ('_config' not in datasetType.name) and ('_log' not in datasetType.name) and ('_metadata' not in datasetType.name) and ('_resource_usage' not in datasetType.name):\n",
    "            print(datasetType)"
   ]
  },
  {
   "cell_type": "markdown",
   "id": "e6499567-c915-4cf0-a281-cecdde970493",
   "metadata": {},
   "source": [
    "- Notice no visit-Table is available. Thus to know which visiId are existing, we will use the registry later"
   ]
  },
  {
   "cell_type": "markdown",
   "id": "d90681b8-bb52-4227-b4db-6bb2c6be0fc7",
   "metadata": {},
   "source": [
    "## Extract the list of visitId from the butler's registry "
   ]
  },
  {
   "cell_type": "markdown",
   "id": "45ff66dc-6576-4daa-ad20-db353e751e06",
   "metadata": {},
   "source": [
    "### Get the list of information that can be extracted from the registryfor each exposure"
   ]
  },
  {
   "cell_type": "code",
   "execution_count": null,
   "id": "3805631a-a005-45eb-a7ef-bcbd0ddeda94",
   "metadata": {
    "execution": {
     "iopub.execute_input": "2025-01-09T14:17:26.038724Z",
     "iopub.status.busy": "2025-01-09T14:17:26.038572Z",
     "iopub.status.idle": "2025-01-09T14:17:26.041339Z",
     "shell.execute_reply": "2025-01-09T14:17:26.040999Z",
     "shell.execute_reply.started": "2025-01-09T14:17:26.038711Z"
    }
   },
   "outputs": [],
   "source": [
    "print(registry.dimensions[\"exposure\"].RecordClass.fields)"
   ]
  },
  {
   "cell_type": "markdown",
   "id": "417fb6a0-eafe-4b87-b321-819589292cd3",
   "metadata": {},
   "source": [
    "### Create the pandas dataframe from the information inside the butler's registry"
   ]
  },
  {
   "cell_type": "code",
   "execution_count": null,
   "id": "9ab1d265-5fc9-459a-bd6e-7687ac4908bc",
   "metadata": {
    "execution": {
     "iopub.execute_input": "2025-01-09T14:17:26.041836Z",
     "iopub.status.busy": "2025-01-09T14:17:26.041712Z",
     "iopub.status.idle": "2025-01-09T14:17:26.054991Z",
     "shell.execute_reply": "2025-01-09T14:17:26.054650Z",
     "shell.execute_reply.started": "2025-01-09T14:17:26.041824Z"
    }
   },
   "outputs": [],
   "source": [
    "df_exposure = pd.DataFrame(columns=['id', 'obs_id','day_obs', 'seq_num','time_start','time_end' ,'type', 'target','filter','zenith_angle','expos','ra','dec','skyangle','azimuth','zenith','science_program','jd','mjd'])"
   ]
  },
  {
   "cell_type": "code",
   "execution_count": null,
   "id": "09d4f9cb-f8ed-4b17-9888-b8a35f8015f6",
   "metadata": {
    "execution": {
     "iopub.execute_input": "2025-01-09T14:17:26.055492Z",
     "iopub.status.busy": "2025-01-09T14:17:26.055370Z",
     "iopub.status.idle": "2025-01-09T14:17:26.060948Z",
     "shell.execute_reply": "2025-01-09T14:17:26.060609Z",
     "shell.execute_reply.started": "2025-01-09T14:17:26.055481Z"
    }
   },
   "outputs": [],
   "source": [
    "where_expr = \"instrument='LSSTComCam'\""
   ]
  },
  {
   "cell_type": "markdown",
   "id": "6a5b2ba6-c302-4578-9f53-55a021de1028",
   "metadata": {},
   "source": [
    "### Fill the pandas dataframe from the records inside the butler's registry for each exposure"
   ]
  },
  {
   "cell_type": "code",
   "execution_count": null,
   "id": "0f0d50a3-7a0a-4d49-93c7-55ae603a8c9c",
   "metadata": {
    "execution": {
     "iopub.execute_input": "2025-01-09T14:17:26.061439Z",
     "iopub.status.busy": "2025-01-09T14:17:26.061317Z",
     "iopub.status.idle": "2025-01-09T14:18:26.231095Z",
     "shell.execute_reply": "2025-01-09T14:18:26.230627Z",
     "shell.execute_reply.started": "2025-01-09T14:17:26.061428Z"
    }
   },
   "outputs": [],
   "source": [
    "for count, info in enumerate(registry.queryDimensionRecords('exposure',where = where_expr)):  \n",
    "    try:\n",
    "        id_ = info.id\n",
    "        obs_id_ = info.obs_id\n",
    "        day_obs_ = info.day_obs\n",
    "        seq_num_ = info.seq_num\n",
    "        timespan_ = info.timespan\n",
    "\n",
    "        timespan_begin_ = pd.to_datetime(info.timespan.begin.to_datetime())\n",
    "        timespan_end_ = pd.to_datetime(info.timespan.end.to_datetime())\n",
    "        timespan_jd_ = timespan_.begin.jd\n",
    "        timespan_mjd_ = timespan_.begin.mjd\n",
    "        \n",
    "        \n",
    "        df_exposure.loc[count] = [info.id, info.obs_id, info.day_obs, info.seq_num,timespan_begin_,timespan_end_ ,info.observation_type, info.target_name, info.physical_filter, info.zenith_angle, \\\n",
    "                             info.exposure_time,info.tracking_ra, info.tracking_dec, info.sky_angle,info.azimuth ,info.zenith_angle, info.science_program,\n",
    "                             timespan_jd_,timespan_mjd_  ]\n",
    "    except:\n",
    "        print(\">>>   Unexpected error:\", sys.exc_info()[0])\n",
    "        info_timespan_begin_to_string = \"2021-01-01 00:00:00.00\"\n",
    "        info_timespan_end_to_string = \"2051-01-01 00:00:00.00\"\n",
    "        info_timespan_begin_jd = 0\n",
    "        info_timespan_begin_mjd = 0\n",
    "        df_exposure.loc[count] = [info.id, info.obs_id, info.day_obs, info.seq_num,\n",
    "                                  pd.to_datetime(info_timespan_begin_to_string),\n",
    "                                  pd.to_datetime(info_timespan_end_to_string) ,\n",
    "                                  info.observation_type, info.target_name, \n",
    "                                  info.physical_filter, info.zenith_angle, \\\n",
    "                             info.exposure_time,info.tracking_ra, info.tracking_dec, info.sky_angle,info.azimuth ,info.zenith_angle, info.science_program,\n",
    "                             info_timespan_begin_jd,info_timespan_begin_mjd ]\n",
    " \n",
    "\n",
    "    if count < 2:\n",
    "        print(\"-----------------------------------------------------\",count,\"---------------------------------------------------------\")\n",
    "        print(info)\n",
    "        print(\"\\t id:                  \",info.id)\n",
    "        print(\"\\t day_obs:             \",info.day_obs)\n",
    "        print(\"\\t seq_num:             \",info.seq_num)\n",
    "        print(\"\\t type-of-observation: \",info.observation_type)\n",
    "        print(\"\\t target:              \",info.target_name)\n",
    "\n",
    "        timespan_ = info.timespan\n",
    "        timespan_begin_ = pd.to_datetime(info.timespan.begin.to_datetime())\n",
    "        timespan_end_ = pd.to_datetime(info.timespan.end.to_datetime())\n",
    "        timespan_jd_ = timespan_.begin.jd\n",
    "        timespan_mjd_ = timespan_.begin.mjd\n",
    "        \n",
    "        mjd = timespan_mjd_ \n",
    "        jd = timespan_jd_ \n",
    "        print(\"MJD,JD : \",mjd,jd)\n",
    "        \n",
    " "
   ]
  },
  {
   "cell_type": "markdown",
   "id": "4e941a71-f599-4339-b51a-3cd565e9a9b9",
   "metadata": {},
   "source": [
    "#### convert some columns into integer"
   ]
  },
  {
   "cell_type": "code",
   "execution_count": null,
   "id": "dd17b159-8658-4247-8bdf-a2900d5dcbe3",
   "metadata": {
    "execution": {
     "iopub.execute_input": "2025-01-09T14:18:26.231745Z",
     "iopub.status.busy": "2025-01-09T14:18:26.231599Z",
     "iopub.status.idle": "2025-01-09T14:18:26.239269Z",
     "shell.execute_reply": "2025-01-09T14:18:26.238884Z",
     "shell.execute_reply.started": "2025-01-09T14:18:26.231732Z"
    }
   },
   "outputs": [],
   "source": [
    "df_exposure = df_exposure.astype({\"id\": int,'day_obs': int,'seq_num':int})"
   ]
  },
  {
   "cell_type": "markdown",
   "id": "31bc3a72-c798-450d-b966-9927cf309958",
   "metadata": {},
   "source": [
    "### Find the different type of exposures"
   ]
  },
  {
   "cell_type": "code",
   "execution_count": null,
   "id": "19ec676c-4b91-4d3f-8810-b893567ad2d7",
   "metadata": {
    "execution": {
     "iopub.execute_input": "2025-01-09T14:18:26.241374Z",
     "iopub.status.busy": "2025-01-09T14:18:26.241239Z",
     "iopub.status.idle": "2025-01-09T14:18:26.246188Z",
     "shell.execute_reply": "2025-01-09T14:18:26.245843Z",
     "shell.execute_reply.started": "2025-01-09T14:18:26.241362Z"
    }
   },
   "outputs": [],
   "source": [
    "df_exposure[\"type\"].unique()"
   ]
  },
  {
   "cell_type": "markdown",
   "id": "bdb87a21-ca50-47fd-b593-b88ae5eea1e1",
   "metadata": {},
   "source": [
    "### Select the science exposure"
   ]
  },
  {
   "cell_type": "code",
   "execution_count": null,
   "id": "bd7aeb1d-a231-45b6-bac7-1d2e9ca3486e",
   "metadata": {
    "execution": {
     "iopub.execute_input": "2025-01-09T14:18:26.246694Z",
     "iopub.status.busy": "2025-01-09T14:18:26.246570Z",
     "iopub.status.idle": "2025-01-09T14:18:26.256062Z",
     "shell.execute_reply": "2025-01-09T14:18:26.255687Z",
     "shell.execute_reply.started": "2025-01-09T14:18:26.246683Z"
    }
   },
   "outputs": [],
   "source": [
    "df_science = df_exposure[df_exposure.type == 'science']\n",
    "df_science.reset_index(drop=True, inplace=True)"
   ]
  },
  {
   "cell_type": "code",
   "execution_count": null,
   "id": "ab66d2f4-590c-4d87-a736-1829b5c83e53",
   "metadata": {
    "execution": {
     "iopub.execute_input": "2025-01-09T14:18:26.256595Z",
     "iopub.status.busy": "2025-01-09T14:18:26.256470Z",
     "iopub.status.idle": "2025-01-09T14:18:26.274773Z",
     "shell.execute_reply": "2025-01-09T14:18:26.274428Z",
     "shell.execute_reply.started": "2025-01-09T14:18:26.256584Z"
    }
   },
   "outputs": [],
   "source": [
    "df_science"
   ]
  },
  {
   "cell_type": "markdown",
   "id": "09487497-597a-4660-b000-11a42f3b425f",
   "metadata": {},
   "source": [
    "## Example for viewing one image"
   ]
  },
  {
   "cell_type": "markdown",
   "id": "17f15b65-1d73-4395-9499-f16813882a36",
   "metadata": {},
   "source": [
    "### Select a date and a visitId"
   ]
  },
  {
   "cell_type": "code",
   "execution_count": null,
   "id": "43e20ea0-3072-4171-9b1c-28a6e6142533",
   "metadata": {
    "execution": {
     "iopub.execute_input": "2025-01-09T14:18:26.275299Z",
     "iopub.status.busy": "2025-01-09T14:18:26.275176Z",
     "iopub.status.idle": "2025-01-09T14:18:26.277153Z",
     "shell.execute_reply": "2025-01-09T14:18:26.276815Z",
     "shell.execute_reply.started": "2025-01-09T14:18:26.275288Z"
    }
   },
   "outputs": [],
   "source": [
    "#visitId = 2024102400126 \t\n",
    "#visitId = 2024102500047\n",
    "#visitId = 2024102500048\n",
    "#visitId = 2024102500049\n",
    "#visitId = 2024102800010\n",
    "visitId = 2024110500076"
   ]
  },
  {
   "cell_type": "markdown",
   "id": "74bd6bb8-097c-4800-85b1-596d0b21da26",
   "metadata": {},
   "source": [
    "### Extract the exposures postiSRCCD or calex from the selected visitID"
   ]
  },
  {
   "cell_type": "code",
   "execution_count": null,
   "id": "701a26e3-e908-4b39-8f40-de98338ba718",
   "metadata": {
    "execution": {
     "iopub.execute_input": "2025-01-09T14:18:26.277646Z",
     "iopub.status.busy": "2025-01-09T14:18:26.277533Z",
     "iopub.status.idle": "2025-01-09T14:18:26.284461Z",
     "shell.execute_reply": "2025-01-09T14:18:26.284106Z",
     "shell.execute_reply.started": "2025-01-09T14:18:26.277636Z"
    }
   },
   "outputs": [],
   "source": [
    "def retrieve_images(visitId,instrument=instrument, butler= butler,collection=the_collection,datatype='postISRCCD'):\n",
    "    the_date = visitId//100000 \n",
    "    where_clause = f\"instrument=\\'LSSTComCam\\' AND exposure.day_obs={the_date}\"\n",
    "    dataId = {'visit': visitId, 'instrument':instrument}\n",
    "    \n",
    "    datasetRefs = butler.registry.queryDatasets(datatype, dataId=dataId, collections  = collection)\n",
    "    \n",
    "    image_dict = {}\n",
    "    \n",
    "    for i, ref in enumerate(datasetRefs):\n",
    "        print(ref.dataId)\n",
    "        if datatype=='postISRCCD':\n",
    "            exposure = ref.dataId[\"exposure\"]\n",
    "        else:\n",
    "            exposure = ref.dataId[\"visit\"]\n",
    "            \n",
    "        detector = ref.dataId[\"detector\"]\n",
    "        physical_filter = ref.dataId[\"physical_filter\"]\n",
    "        band = ref.dataId[\"band\"]\n",
    "        the_image  = butler.get(ref)\n",
    "        image_dict[detector]  =  the_image\n",
    "\n",
    "    return image_dict,exposure,band,physical_filter\n"
   ]
  },
  {
   "cell_type": "code",
   "execution_count": null,
   "id": "11161057-514c-44a7-a6fb-1639bd81b181",
   "metadata": {
    "execution": {
     "iopub.execute_input": "2025-01-09T14:18:26.284950Z",
     "iopub.status.busy": "2025-01-09T14:18:26.284832Z",
     "iopub.status.idle": "2025-01-09T14:18:34.384094Z",
     "shell.execute_reply": "2025-01-09T14:18:34.383699Z",
     "shell.execute_reply.started": "2025-01-09T14:18:26.284939Z"
    }
   },
   "outputs": [],
   "source": [
    "image_dict,exposure,band,physical_filter = retrieve_images(visitId,butler= butler,collection=the_collection,datatype='calexp')"
   ]
  },
  {
   "cell_type": "markdown",
   "id": "690a075e-e4f9-4016-bcf6-dc9d69ac1aeb",
   "metadata": {
    "execution": {
     "iopub.status.busy": "2024-10-25T19:43:36.665728Z",
     "iopub.status.idle": "2024-10-25T19:43:36.665892Z",
     "shell.execute_reply": "2024-10-25T19:43:36.665814Z",
     "shell.execute_reply.started": "2024-10-25T19:43:36.665807Z"
    }
   },
   "source": [
    "## View all the images of the focal surface for that vist"
   ]
  },
  {
   "cell_type": "code",
   "execution_count": null,
   "id": "5e96257c-f2fc-4af4-b94d-74dcb562bf63",
   "metadata": {
    "execution": {
     "iopub.execute_input": "2025-01-09T14:18:34.385061Z",
     "iopub.status.busy": "2025-01-09T14:18:34.384540Z",
     "iopub.status.idle": "2025-01-09T14:18:34.388825Z",
     "shell.execute_reply": "2025-01-09T14:18:34.388444Z",
     "shell.execute_reply.started": "2025-01-09T14:18:34.385049Z"
    }
   },
   "outputs": [],
   "source": [
    "def ShowMosaic_firefly(dict_of_images,visitId,band):\n",
    "    \"\"\"\n",
    "    Mosaic for LSSTComCam\n",
    "\n",
    "    dictionnary_of_images : dictionnary of LSST images (9 images for LSSTComCam)\n",
    "    \"\"\"\n",
    "\n",
    "    list_detidx = list(image_dict.keys())\n",
    "    N = len(list_detidx)\n",
    "    ref_idx = np.argsort(list_detidx)\n",
    "    list_of_images = [ image_dict[ref_idx[idx]] for idx in range(N) ]\n",
    "    list_of_det = [ list_detidx[ref_idx[idx]] for idx in range(N) ]\n",
    "\n",
    "    for imgcount in range(N):\n",
    "        the_det = list_of_det[imgcount]\n",
    "        the_image = list_of_images[imgcount]\n",
    "        the_title = f\"id : {visitId}, det = {the_det}, b = {band}\"\n",
    "        display = afwDisplay.Display(frame=imgcount)\n",
    "        display.scale('asinh', 'zscale')\n",
    "        display.mtv(the_image.image,title=the_title)\n",
    "       \n",
    "        "
   ]
  },
  {
   "cell_type": "markdown",
   "id": "66d06ae0-ce9f-44c1-bc2f-8335cdabf493",
   "metadata": {
    "execution": {
     "iopub.status.busy": "2024-10-26T19:43:15.355733Z",
     "iopub.status.idle": "2024-10-26T19:43:15.355887Z",
     "shell.execute_reply": "2024-10-26T19:43:15.355812Z",
     "shell.execute_reply.started": "2024-10-26T19:43:15.355805Z"
    }
   },
   "source": [
    "### Plot"
   ]
  },
  {
   "cell_type": "code",
   "execution_count": null,
   "id": "fd0cb1c2-d5f6-448e-8a5d-0b59a1d57217",
   "metadata": {
    "execution": {
     "iopub.execute_input": "2025-01-09T14:18:34.389347Z",
     "iopub.status.busy": "2025-01-09T14:18:34.389207Z",
     "iopub.status.idle": "2025-01-09T14:18:46.976161Z",
     "shell.execute_reply": "2025-01-09T14:18:46.975480Z",
     "shell.execute_reply.started": "2025-01-09T14:18:34.389333Z"
    }
   },
   "outputs": [],
   "source": [
    "ShowMosaic_firefly(image_dict,exposure,band)"
   ]
  },
  {
   "cell_type": "code",
   "execution_count": null,
   "id": "9f1972e8-4fa4-4402-bfc8-7cf79ad6faba",
   "metadata": {
    "execution": {
     "iopub.execute_input": "2025-01-09T14:18:46.976968Z",
     "iopub.status.busy": "2025-01-09T14:18:46.976801Z",
     "iopub.status.idle": "2025-01-09T14:18:47.193188Z",
     "shell.execute_reply": "2025-01-09T14:18:47.192543Z",
     "shell.execute_reply.started": "2025-01-09T14:18:46.976954Z"
    }
   },
   "outputs": [],
   "source": [
    "assert False"
   ]
  },
  {
   "cell_type": "code",
   "execution_count": null,
   "id": "328889c1-487f-41d8-9c64-361c80846bba",
   "metadata": {
    "execution": {
     "iopub.status.busy": "2025-01-09T14:18:47.193761Z",
     "iopub.status.idle": "2025-01-09T14:18:47.193988Z",
     "shell.execute_reply": "2025-01-09T14:18:47.193884Z",
     "shell.execute_reply.started": "2025-01-09T14:18:47.193873Z"
    }
   },
   "outputs": [],
   "source": [
    "display.clearViewer() "
   ]
  },
  {
   "cell_type": "code",
   "execution_count": null,
   "id": "dcb840a0-04e3-403a-8ba2-9dbcba1c1aa3",
   "metadata": {},
   "outputs": [],
   "source": []
  }
 ],
 "metadata": {
  "kernelspec": {
   "display_name": "LSST",
   "language": "python",
   "name": "lsst"
  },
  "language_info": {
   "codemirror_mode": {
    "name": "ipython",
    "version": 3
   },
   "file_extension": ".py",
   "mimetype": "text/x-python",
   "name": "python",
   "nbconvert_exporter": "python",
   "pygments_lexer": "ipython3",
   "version": "3.11.9"
  }
 },
 "nbformat": 4,
 "nbformat_minor": 5
}
