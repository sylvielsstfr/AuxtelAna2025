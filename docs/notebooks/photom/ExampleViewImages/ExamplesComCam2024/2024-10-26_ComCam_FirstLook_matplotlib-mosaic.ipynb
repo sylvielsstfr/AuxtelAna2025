{
 "cells": [
  {
   "cell_type": "markdown",
   "id": "30c9f2ef-550a-4b4f-8411-7224adc5b98b",
   "metadata": {},
   "source": [
    "# Very First Look at very first ComCam Data with mosaic\n",
    "\n",
    "- Goal verification of early data : First night\n",
    "- Restart the Kernel first"
   ]
  },
  {
   "cell_type": "markdown",
   "id": "bb20a475-892b-40e8-8c09-d2ea03f28d65",
   "metadata": {},
   "source": [
    "- LSST Doc for Mosaic : https://dp0-2.lsst.io/_static/nb_html/DP02_10_Deblender_Data_Products.html"
   ]
  },
  {
   "cell_type": "markdown",
   "id": "f1e111e8-ccbc-4602-b8ab-392fe9f8812a",
   "metadata": {
    "execution": {
     "iopub.execute_input": "2024-10-25T18:35:28.020312Z",
     "iopub.status.busy": "2024-10-25T18:35:28.019985Z",
     "iopub.status.idle": "2024-10-25T18:35:28.023846Z",
     "shell.execute_reply": "2024-10-25T18:35:28.023258Z",
     "shell.execute_reply.started": "2024-10-25T18:35:28.020294Z"
    }
   },
   "source": [
    "- author : Sylvie Dagoret-campagne\n",
    "- affiliation : IJCLab/in2p3/CNRS\n",
    "- creation date : 2024-10-26\n",
    "- update : 2024-10-29 : put the images in right order\n",
    "- last update : 2025-01-09 : fix the date decoding ix the date decoding (w_2024_50)"
   ]
  },
  {
   "cell_type": "code",
   "execution_count": null,
   "id": "b04f3879-f5d5-4e7e-8496-21056d10be1d",
   "metadata": {
    "execution": {
     "iopub.execute_input": "2025-01-09T14:10:34.385829Z",
     "iopub.status.busy": "2025-01-09T14:10:34.385694Z",
     "iopub.status.idle": "2025-01-09T14:10:36.467413Z",
     "shell.execute_reply": "2025-01-09T14:10:36.466820Z",
     "shell.execute_reply.started": "2025-01-09T14:10:34.385816Z"
    }
   },
   "outputs": [],
   "source": [
    "import matplotlib.pyplot as plt\n",
    "import matplotlib as mpl\n",
    "import matplotlib.dates as mdates\n",
    "import matplotlib.ticker\n",
    "from mpl_toolkits.axes_grid1 import make_axes_locatable\n",
    "from matplotlib.colors import LogNorm,SymLogNorm\n",
    "from matplotlib.colors import ListedColormap\n",
    "from matplotlib import colors\n",
    "\n",
    "%matplotlib inline\n",
    "import numpy as np\n",
    "import pandas as pd\n",
    "import matplotlib.gridspec as gridspec\n",
    "from spectractor.tools import from_lambda_to_colormap, wavelength_to_rgb\n",
    "#%matplotlib widget \n",
    "import h5py\n",
    "from scipy import interpolate\n",
    "from astropy.time import Time\n",
    "from datetime import datetime, timedelta\n",
    "import seaborn as sns\n",
    "\n",
    "from itertools import cycle, islice\n",
    "import os"
   ]
  },
  {
   "cell_type": "code",
   "execution_count": null,
   "id": "18068db4-c33c-43c5-bd12-58ff250d7a02",
   "metadata": {
    "execution": {
     "iopub.execute_input": "2025-01-09T14:10:36.468694Z",
     "iopub.status.busy": "2025-01-09T14:10:36.467929Z",
     "iopub.status.idle": "2025-01-09T14:10:36.471459Z",
     "shell.execute_reply": "2025-01-09T14:10:36.471072Z",
     "shell.execute_reply.started": "2025-01-09T14:10:36.468678Z"
    }
   },
   "outputs": [],
   "source": [
    "plt.rcParams[\"figure.figsize\"] = (18,8)\n",
    "plt.rcParams[\"axes.labelsize\"] = 'xx-large'\n",
    "plt.rcParams['axes.titlesize'] = 'xx-large'\n",
    "plt.rcParams['xtick.labelsize']= 'xx-large'\n",
    "plt.rcParams['ytick.labelsize']= 'xx-large'\n",
    "plt.rcParams['legend.fontsize']=  12\n",
    "plt.rcParams['font.size'] = 12"
   ]
  },
  {
   "cell_type": "code",
   "execution_count": null,
   "id": "611a8607-3ac5-4853-b270-f703f13e518b",
   "metadata": {
    "execution": {
     "iopub.execute_input": "2025-01-09T14:10:36.472175Z",
     "iopub.status.busy": "2025-01-09T14:10:36.471889Z",
     "iopub.status.idle": "2025-01-09T14:10:36.478650Z",
     "shell.execute_reply": "2025-01-09T14:10:36.478276Z",
     "shell.execute_reply.started": "2025-01-09T14:10:36.472161Z"
    }
   },
   "outputs": [],
   "source": [
    "from matplotlib.ticker import (MultipleLocator, FormatStrFormatter,\n",
    "                               AutoMinorLocator)\n",
    "\n",
    "from astropy.visualization import (MinMaxInterval, SqrtStretch,ZScaleInterval,PercentileInterval,\n",
    "                                   ImageNormalize,imshow_norm)\n",
    "from astropy.visualization.stretch import SinhStretch, LinearStretch,AsinhStretch,LogStretch\n",
    "\n",
    "transform = AsinhStretch() + PercentileInterval(99.)"
   ]
  },
  {
   "cell_type": "code",
   "execution_count": null,
   "id": "fc0c0153-7a40-4166-bf13-46645d734aef",
   "metadata": {
    "execution": {
     "iopub.execute_input": "2025-01-09T14:10:36.480098Z",
     "iopub.status.busy": "2025-01-09T14:10:36.479968Z",
     "iopub.status.idle": "2025-01-09T14:10:37.334060Z",
     "shell.execute_reply": "2025-01-09T14:10:37.333577Z",
     "shell.execute_reply.started": "2025-01-09T14:10:36.480085Z"
    }
   },
   "outputs": [],
   "source": [
    "from lsst.daf.butler import Butler \n",
    "import astropy.units as u\n",
    "import numpy as np \n",
    "import pandas as pd\n",
    "pd.set_option(\"display.max_columns\", None)\n",
    "from astropy.time import Time\n",
    "\n",
    "import scipy.stats\n",
    "\n",
    "import matplotlib\n",
    "%matplotlib inline\n",
    "from matplotlib import pyplot as plt"
   ]
  },
  {
   "cell_type": "code",
   "execution_count": null,
   "id": "ac174b05-2a02-41dc-a03d-bc613305f874",
   "metadata": {
    "execution": {
     "iopub.execute_input": "2025-01-09T14:10:37.334577Z",
     "iopub.status.busy": "2025-01-09T14:10:37.334441Z",
     "iopub.status.idle": "2025-01-09T14:10:37.664473Z",
     "shell.execute_reply": "2025-01-09T14:10:37.664114Z",
     "shell.execute_reply.started": "2025-01-09T14:10:37.334564Z"
    }
   },
   "outputs": [],
   "source": [
    "# LSST Display\n",
    "# The advantage to use firefly is that the firefly display can handle a lotsof images\n",
    "import lsst.afw.display as afwDisplay\n",
    "\n",
    "afwDisplay.setDefaultBackend('matplotlib')"
   ]
  },
  {
   "cell_type": "markdown",
   "id": "48ec2e7a-36e5-4b68-8da2-b5da1c3f1fba",
   "metadata": {
    "execution": {
     "iopub.execute_input": "2024-10-25T19:17:41.583673Z",
     "iopub.status.busy": "2024-10-25T19:17:41.583538Z",
     "iopub.status.idle": "2024-10-25T19:17:41.585892Z",
     "shell.execute_reply": "2024-10-25T19:17:41.585507Z",
     "shell.execute_reply.started": "2024-10-25T19:17:41.583660Z"
    }
   },
   "source": [
    "## Configuration\n",
    "\n",
    "- Use the tag report to guess the collections in which we exect data :  https://usdf-rsp-dev.slac.stanford.edu/times-square/github/lsst-dm/vv-team-notebooks/TargetReport\n",
    "\n",
    "In the case of LSSTComCam:\n",
    "\n",
    "- https://usdf-rsp-dev.slac.stanford.edu/times-square/github/lsst-dm/vv-team-notebooks/TargetReport?day_obs=2024-10-24&instrument=LSSTComCam&repo=embargo_new&collection=LSSTComCam%2Fprompt%2Foutput-2024-10-24&collection_sky=LSSTComCamSim%2Fruns%2FDRP%2FOR4%2Fw_2024_25%2FDM-45066&skymap_name=ops_rehersal_prep_2k_v1&col_sciprog=science_program&col_target=target&col_filter=filter&col_id=id&ts_hide_code=1"
   ]
  },
  {
   "cell_type": "markdown",
   "id": "6c227935-1121-4c83-8517-b894d288e8b5",
   "metadata": {},
   "source": [
    "### Info from slack channel  #validation_team\n",
    "day_obs:  2024-10-24  \n",
    "instrument:  LSSTComCam  \n",
    "repo:  embargo_new  \n",
    "collection:  LSSTComCam/prompt/output-2024-10-24  \n",
    "collection_sky:  LSSTComCamSim/runs/DRP/OR4/w_2024_25/DM-45066  \n",
    "skymap_name:  ops_rehersal_prep_2k_v1  \n",
    "col_sciprog:  science_program  \n",
    "col_target:  target  \n",
    "col_filter:  filter  \n",
    "col_id:  id"
   ]
  },
  {
   "cell_type": "code",
   "execution_count": null,
   "id": "e7aa9495-baa5-4976-aee1-48c9f63b71ba",
   "metadata": {
    "execution": {
     "iopub.execute_input": "2025-01-09T14:10:37.665298Z",
     "iopub.status.busy": "2025-01-09T14:10:37.664897Z",
     "iopub.status.idle": "2025-01-09T14:10:38.602390Z",
     "shell.execute_reply": "2025-01-09T14:10:38.601937Z",
     "shell.execute_reply.started": "2025-01-09T14:10:37.665284Z"
    }
   },
   "outputs": [],
   "source": [
    "repo = 'embargo_new'\n",
    "instrument = \"LSSTComCam\"\n",
    "collection = 'LSSTComCam/prompt/output-2024-10-24'\n",
    "\n",
    "butler = Butler(repo)"
   ]
  },
  {
   "cell_type": "markdown",
   "id": "95b5567c-35af-4de1-87e8-2953e4808d2f",
   "metadata": {
    "execution": {
     "iopub.execute_input": "2024-10-25T19:17:41.935759Z",
     "iopub.status.busy": "2024-10-25T19:17:41.935583Z",
     "iopub.status.idle": "2024-10-25T19:17:41.937673Z",
     "shell.execute_reply": "2024-10-25T19:17:41.937341Z",
     "shell.execute_reply.started": "2024-10-25T19:17:41.935746Z"
    }
   },
   "source": [
    "## Query about the collections available\n",
    "\n",
    "- select collections with LSSTComCam"
   ]
  },
  {
   "cell_type": "code",
   "execution_count": null,
   "id": "24e7111f-83c2-4244-a869-c5e7f99494c7",
   "metadata": {
    "execution": {
     "iopub.execute_input": "2025-01-09T14:10:38.603027Z",
     "iopub.status.busy": "2025-01-09T14:10:38.602897Z",
     "iopub.status.idle": "2025-01-09T14:10:39.223833Z",
     "shell.execute_reply": "2025-01-09T14:10:39.223265Z",
     "shell.execute_reply.started": "2025-01-09T14:10:38.603014Z"
    }
   },
   "outputs": [],
   "source": [
    "for _ in butler.registry.queryCollections():\n",
    "    if 'LSSTComCam/' in _:\n",
    "        print(_)"
   ]
  },
  {
   "cell_type": "markdown",
   "id": "9df18f79-accc-4188-a5f9-0e0934263e91",
   "metadata": {},
   "source": [
    "- From the list available today , we probably have to look inside the colleciton `LSSTComCam/nightlyValidation`"
   ]
  },
  {
   "cell_type": "markdown",
   "id": "372d17e7-0a6e-4389-b4bc-9a8c8ad15237",
   "metadata": {},
   "source": [
    "## Select the collection"
   ]
  },
  {
   "cell_type": "code",
   "execution_count": null,
   "id": "da6408e5-0e9d-455c-8df9-9f1ed59e2cac",
   "metadata": {
    "execution": {
     "iopub.execute_input": "2025-01-09T14:10:39.224621Z",
     "iopub.status.busy": "2025-01-09T14:10:39.224396Z",
     "iopub.status.idle": "2025-01-09T14:10:39.227888Z",
     "shell.execute_reply": "2025-01-09T14:10:39.227412Z",
     "shell.execute_reply.started": "2025-01-09T14:10:39.224607Z"
    }
   },
   "outputs": [],
   "source": [
    "#the_collection = \"LSSTComCam/runs/nightlyValidation_20241024_20241025/w_2024_42/DM-47059-test\" \n",
    "#the_collection =   \"LSSTComCam/prompt/output-2024-10-24\"\n",
    "the_collection = \"LSSTComCam/nightlyValidation\""
   ]
  },
  {
   "cell_type": "markdown",
   "id": "c0272ab3-785f-4a90-93fb-e970cffe3cc8",
   "metadata": {},
   "source": [
    "## Create the butler on the selected collection"
   ]
  },
  {
   "cell_type": "code",
   "execution_count": null,
   "id": "7bd8df52-dc45-4270-8935-f4acc36046f9",
   "metadata": {
    "execution": {
     "iopub.execute_input": "2025-01-09T14:10:39.228401Z",
     "iopub.status.busy": "2025-01-09T14:10:39.228279Z",
     "iopub.status.idle": "2025-01-09T14:10:39.390082Z",
     "shell.execute_reply": "2025-01-09T14:10:39.389481Z",
     "shell.execute_reply.started": "2025-01-09T14:10:39.228389Z"
    }
   },
   "outputs": [],
   "source": [
    "butler = Butler(repo, collections=the_collection)\n",
    "registry = butler.registry"
   ]
  },
  {
   "cell_type": "code",
   "execution_count": null,
   "id": "8cf2d6d3-4288-470c-8e79-2340e793a353",
   "metadata": {
    "execution": {
     "iopub.execute_input": "2025-01-09T14:10:39.390774Z",
     "iopub.status.busy": "2025-01-09T14:10:39.390630Z",
     "iopub.status.idle": "2025-01-09T14:11:09.992614Z",
     "shell.execute_reply": "2025-01-09T14:11:09.992100Z",
     "shell.execute_reply.started": "2025-01-09T14:10:39.390761Z"
    }
   },
   "outputs": [],
   "source": [
    "for datasetType in registry.queryDatasetTypes():\n",
    "    if registry.queryDatasets(datasetType, collections= the_collection).any(execute=False, exact=False):\n",
    "        # Limit search results to the data products\n",
    "        if ('_config' not in datasetType.name) and ('_log' not in datasetType.name) and ('_metadata' not in datasetType.name) and ('_resource_usage' not in datasetType.name):\n",
    "            print(datasetType)"
   ]
  },
  {
   "cell_type": "markdown",
   "id": "e6499567-c915-4cf0-a281-cecdde970493",
   "metadata": {},
   "source": [
    "- Notice no visit-Table is available. Thus to know which visiId are existing, we will use the registry later"
   ]
  },
  {
   "cell_type": "markdown",
   "id": "d90681b8-bb52-4227-b4db-6bb2c6be0fc7",
   "metadata": {},
   "source": [
    "## Extract the list of visitId from the butler's registry "
   ]
  },
  {
   "cell_type": "markdown",
   "id": "45ff66dc-6576-4daa-ad20-db353e751e06",
   "metadata": {},
   "source": [
    "### Get the list of information that can be extracted from the registryfor each exposure"
   ]
  },
  {
   "cell_type": "code",
   "execution_count": null,
   "id": "3805631a-a005-45eb-a7ef-bcbd0ddeda94",
   "metadata": {
    "execution": {
     "iopub.execute_input": "2025-01-09T14:11:09.993362Z",
     "iopub.status.busy": "2025-01-09T14:11:09.993191Z",
     "iopub.status.idle": "2025-01-09T14:11:09.996519Z",
     "shell.execute_reply": "2025-01-09T14:11:09.996090Z",
     "shell.execute_reply.started": "2025-01-09T14:11:09.993348Z"
    }
   },
   "outputs": [],
   "source": [
    "print(registry.dimensions[\"exposure\"].RecordClass.fields)"
   ]
  },
  {
   "cell_type": "markdown",
   "id": "417fb6a0-eafe-4b87-b321-819589292cd3",
   "metadata": {},
   "source": [
    "### Create the pandas dataframe from the information inside the butler's registry"
   ]
  },
  {
   "cell_type": "code",
   "execution_count": null,
   "id": "9ab1d265-5fc9-459a-bd6e-7687ac4908bc",
   "metadata": {
    "execution": {
     "iopub.execute_input": "2025-01-09T14:11:09.997185Z",
     "iopub.status.busy": "2025-01-09T14:11:09.997016Z",
     "iopub.status.idle": "2025-01-09T14:11:10.018049Z",
     "shell.execute_reply": "2025-01-09T14:11:10.017596Z",
     "shell.execute_reply.started": "2025-01-09T14:11:09.997171Z"
    }
   },
   "outputs": [],
   "source": [
    "df_exposure = pd.DataFrame(columns=['id', 'obs_id','day_obs', 'seq_num','time_start','time_end' ,'type', 'target','filter','zenith_angle','expos','ra','dec','skyangle','azimuth','zenith','science_program','jd','mjd'])"
   ]
  },
  {
   "cell_type": "code",
   "execution_count": null,
   "id": "e5d7a009-b901-4be6-b17b-b432392097c8",
   "metadata": {
    "execution": {
     "iopub.execute_input": "2025-01-09T14:11:10.018759Z",
     "iopub.status.busy": "2025-01-09T14:11:10.018525Z",
     "iopub.status.idle": "2025-01-09T14:11:10.024032Z",
     "shell.execute_reply": "2025-01-09T14:11:10.023599Z",
     "shell.execute_reply.started": "2025-01-09T14:11:10.018742Z"
    }
   },
   "outputs": [],
   "source": [
    "where_expr = \"instrument='LSSTComCam'\""
   ]
  },
  {
   "cell_type": "markdown",
   "id": "6a5b2ba6-c302-4578-9f53-55a021de1028",
   "metadata": {},
   "source": [
    "### Fill the pandas dataframe from the records inside the butler's registry for each exposure"
   ]
  },
  {
   "cell_type": "code",
   "execution_count": null,
   "id": "3b3340ae-9490-41cc-9120-d2358823e70b",
   "metadata": {
    "execution": {
     "iopub.execute_input": "2025-01-09T14:11:10.024637Z",
     "iopub.status.busy": "2025-01-09T14:11:10.024495Z",
     "iopub.status.idle": "2025-01-09T14:12:11.385594Z",
     "shell.execute_reply": "2025-01-09T14:12:11.385144Z",
     "shell.execute_reply.started": "2025-01-09T14:11:10.024624Z"
    }
   },
   "outputs": [],
   "source": [
    "for count, info in enumerate(registry.queryDimensionRecords('exposure',where = where_expr)):  \n",
    "    try:\n",
    "        id_ = info.id\n",
    "        obs_id_ = info.obs_id\n",
    "        day_obs_ = info.day_obs\n",
    "        seq_num_ = info.seq_num\n",
    "        timespan_ = info.timespan\n",
    "\n",
    "        timespan_begin_ = pd.to_datetime(info.timespan.begin.to_datetime())\n",
    "        timespan_end_ = pd.to_datetime(info.timespan.end.to_datetime())\n",
    "        timespan_jd_ = timespan_.begin.jd\n",
    "        timespan_mjd_ = timespan_.begin.mjd\n",
    "        \n",
    "        \n",
    "        df_exposure.loc[count] = [info.id, info.obs_id, info.day_obs, info.seq_num,timespan_begin_,timespan_end_ ,info.observation_type, info.target_name, info.physical_filter, info.zenith_angle, \\\n",
    "                             info.exposure_time,info.tracking_ra, info.tracking_dec, info.sky_angle,info.azimuth ,info.zenith_angle, info.science_program,\n",
    "                             timespan_jd_,timespan_mjd_  ]\n",
    "    except:\n",
    "        print(\">>>   Unexpected error:\", sys.exc_info()[0])\n",
    "        info_timespan_begin_to_string = \"2021-01-01 00:00:00.00\"\n",
    "        info_timespan_end_to_string = \"2051-01-01 00:00:00.00\"\n",
    "        info_timespan_begin_jd = 0\n",
    "        info_timespan_begin_mjd = 0\n",
    "        df_exposure.loc[count] = [info.id, info.obs_id, info.day_obs, info.seq_num,\n",
    "                                  pd.to_datetime(info_timespan_begin_to_string),\n",
    "                                  pd.to_datetime(info_timespan_end_to_string) ,\n",
    "                                  info.observation_type, info.target_name, \n",
    "                                  info.physical_filter, info.zenith_angle, \\\n",
    "                             info.exposure_time,info.tracking_ra, info.tracking_dec, info.sky_angle,info.azimuth ,info.zenith_angle, info.science_program,\n",
    "                             info_timespan_begin_jd,info_timespan_begin_mjd ]\n",
    " \n",
    "\n",
    "    if count < 2:\n",
    "        print(\"-----------------------------------------------------\",count,\"---------------------------------------------------------\")\n",
    "        print(info)\n",
    "        print(\"\\t id:                  \",info.id)\n",
    "        print(\"\\t day_obs:             \",info.day_obs)\n",
    "        print(\"\\t seq_num:             \",info.seq_num)\n",
    "        print(\"\\t type-of-observation: \",info.observation_type)\n",
    "        print(\"\\t target:              \",info.target_name)\n",
    "\n",
    "        timespan_ = info.timespan\n",
    "        timespan_begin_ = pd.to_datetime(info.timespan.begin.to_datetime())\n",
    "        timespan_end_ = pd.to_datetime(info.timespan.end.to_datetime())\n",
    "        timespan_jd_ = timespan_.begin.jd\n",
    "        timespan_mjd_ = timespan_.begin.mjd\n",
    "        \n",
    "        mjd = timespan_mjd_ \n",
    "        jd = timespan_jd_ \n",
    "        print(\"MJD,JD : \",mjd,jd)\n",
    "        \n",
    " "
   ]
  },
  {
   "cell_type": "markdown",
   "id": "4e941a71-f599-4339-b51a-3cd565e9a9b9",
   "metadata": {},
   "source": [
    "#### convert some columns into integer"
   ]
  },
  {
   "cell_type": "code",
   "execution_count": null,
   "id": "dd17b159-8658-4247-8bdf-a2900d5dcbe3",
   "metadata": {
    "execution": {
     "iopub.execute_input": "2025-01-09T14:12:40.030339Z",
     "iopub.status.busy": "2025-01-09T14:12:40.030014Z",
     "iopub.status.idle": "2025-01-09T14:12:40.039294Z",
     "shell.execute_reply": "2025-01-09T14:12:40.038791Z",
     "shell.execute_reply.started": "2025-01-09T14:12:40.030321Z"
    }
   },
   "outputs": [],
   "source": [
    "df_exposure = df_exposure.astype({\"id\": int,'day_obs': int,'seq_num':int})"
   ]
  },
  {
   "cell_type": "markdown",
   "id": "31bc3a72-c798-450d-b966-9927cf309958",
   "metadata": {},
   "source": [
    "### Find the different type of exposures"
   ]
  },
  {
   "cell_type": "code",
   "execution_count": null,
   "id": "19ec676c-4b91-4d3f-8810-b893567ad2d7",
   "metadata": {
    "execution": {
     "iopub.execute_input": "2025-01-09T14:12:41.859243Z",
     "iopub.status.busy": "2025-01-09T14:12:41.858961Z",
     "iopub.status.idle": "2025-01-09T14:12:41.865081Z",
     "shell.execute_reply": "2025-01-09T14:12:41.864652Z",
     "shell.execute_reply.started": "2025-01-09T14:12:41.859226Z"
    }
   },
   "outputs": [],
   "source": [
    "df_exposure[\"type\"].unique()"
   ]
  },
  {
   "cell_type": "markdown",
   "id": "bdb87a21-ca50-47fd-b593-b88ae5eea1e1",
   "metadata": {},
   "source": [
    "### Select the science exposure"
   ]
  },
  {
   "cell_type": "code",
   "execution_count": null,
   "id": "bd7aeb1d-a231-45b6-bac7-1d2e9ca3486e",
   "metadata": {
    "execution": {
     "iopub.execute_input": "2025-01-09T14:12:43.871791Z",
     "iopub.status.busy": "2025-01-09T14:12:43.871485Z",
     "iopub.status.idle": "2025-01-09T14:12:43.883508Z",
     "shell.execute_reply": "2025-01-09T14:12:43.883022Z",
     "shell.execute_reply.started": "2025-01-09T14:12:43.871770Z"
    }
   },
   "outputs": [],
   "source": [
    "df_science = df_exposure[df_exposure.type == 'science']\n",
    "df_science.reset_index(drop=True, inplace=True)"
   ]
  },
  {
   "cell_type": "code",
   "execution_count": null,
   "id": "ab66d2f4-590c-4d87-a736-1829b5c83e53",
   "metadata": {
    "execution": {
     "iopub.execute_input": "2025-01-09T14:12:46.309104Z",
     "iopub.status.busy": "2025-01-09T14:12:46.308573Z",
     "iopub.status.idle": "2025-01-09T14:12:46.330496Z",
     "shell.execute_reply": "2025-01-09T14:12:46.330122Z",
     "shell.execute_reply.started": "2025-01-09T14:12:46.309089Z"
    }
   },
   "outputs": [],
   "source": [
    "df_science"
   ]
  },
  {
   "cell_type": "markdown",
   "id": "09487497-597a-4660-b000-11a42f3b425f",
   "metadata": {},
   "source": [
    "## Example for viewing one image"
   ]
  },
  {
   "cell_type": "markdown",
   "id": "17f15b65-1d73-4395-9499-f16813882a36",
   "metadata": {},
   "source": [
    "### Select a date and a visitId"
   ]
  },
  {
   "cell_type": "code",
   "execution_count": null,
   "id": "43e20ea0-3072-4171-9b1c-28a6e6142533",
   "metadata": {
    "execution": {
     "iopub.execute_input": "2025-01-09T14:12:49.197971Z",
     "iopub.status.busy": "2025-01-09T14:12:49.197732Z",
     "iopub.status.idle": "2025-01-09T14:12:49.200419Z",
     "shell.execute_reply": "2025-01-09T14:12:49.200038Z",
     "shell.execute_reply.started": "2025-01-09T14:12:49.197957Z"
    }
   },
   "outputs": [],
   "source": [
    "visitId = 2024102800113 \t"
   ]
  },
  {
   "cell_type": "markdown",
   "id": "74bd6bb8-097c-4800-85b1-596d0b21da26",
   "metadata": {},
   "source": [
    "### Extract the exposures postiSRCCD from the selected visitID"
   ]
  },
  {
   "cell_type": "code",
   "execution_count": null,
   "id": "701a26e3-e908-4b39-8f40-de98338ba718",
   "metadata": {
    "execution": {
     "iopub.execute_input": "2025-01-09T14:12:51.196223Z",
     "iopub.status.busy": "2025-01-09T14:12:51.195869Z",
     "iopub.status.idle": "2025-01-09T14:12:51.200158Z",
     "shell.execute_reply": "2025-01-09T14:12:51.199707Z",
     "shell.execute_reply.started": "2025-01-09T14:12:51.196209Z"
    }
   },
   "outputs": [],
   "source": [
    "def retrieve_images(visitId,instrument=instrument, butler= butler,collection=the_collection,datatype='postISRCCD'):\n",
    "    the_date = visitId//100000 \n",
    "    where_clause = f\"instrument=\\'LSSTComCam\\' AND exposure.day_obs={the_date}\"\n",
    "    dataId = {'visit': visitId, 'instrument':instrument}\n",
    "    \n",
    "    datasetRefs = butler.registry.queryDatasets(datatype, dataId=dataId, collections  = collection)\n",
    "    \n",
    "    image_dict = {}\n",
    "    \n",
    "    for i, ref in enumerate(datasetRefs):\n",
    "        print(ref.dataId)\n",
    "        exposure = ref.dataId[\"exposure\"]\n",
    "        detector = ref.dataId[\"detector\"]\n",
    "        physical_filter = ref.dataId[\"physical_filter\"]\n",
    "        band = ref.dataId[\"band\"]\n",
    "        the_image  = butler.get(ref)\n",
    "        image_dict[detector]  =  the_image\n",
    "\n",
    "    return image_dict,exposure,band,physical_filter\n"
   ]
  },
  {
   "cell_type": "code",
   "execution_count": null,
   "id": "11161057-514c-44a7-a6fb-1639bd81b181",
   "metadata": {
    "execution": {
     "iopub.execute_input": "2025-01-09T14:12:53.737524Z",
     "iopub.status.busy": "2025-01-09T14:12:53.737096Z",
     "iopub.status.idle": "2025-01-09T14:13:00.935097Z",
     "shell.execute_reply": "2025-01-09T14:13:00.934591Z",
     "shell.execute_reply.started": "2025-01-09T14:12:53.737506Z"
    }
   },
   "outputs": [],
   "source": [
    "image_dict,exposure,band,physical_filter = retrieve_images(visitId)"
   ]
  },
  {
   "cell_type": "code",
   "execution_count": null,
   "id": "21df521e-246c-4004-8710-c6b3bc4383ba",
   "metadata": {
    "execution": {
     "iopub.execute_input": "2025-01-09T14:13:04.681835Z",
     "iopub.status.busy": "2025-01-09T14:13:04.681493Z",
     "iopub.status.idle": "2025-01-09T14:13:04.684774Z",
     "shell.execute_reply": "2025-01-09T14:13:04.684403Z",
     "shell.execute_reply.started": "2025-01-09T14:13:04.681820Z"
    }
   },
   "outputs": [],
   "source": [
    "list_detidx = list(image_dict.keys())\n",
    "N = len(list_detidx)\n",
    "ref_idx = np.argsort(list_detidx)\n",
    "list_of_images = [ image_dict[ref_idx[idx]] for idx in range(N) ]\n",
    "list_of_det = [ list_detidx[ref_idx[idx]] for idx in range(N) ]"
   ]
  },
  {
   "cell_type": "code",
   "execution_count": null,
   "id": "0530cf4c-77ee-4c0d-b453-3fc8dc4af0b5",
   "metadata": {
    "execution": {
     "iopub.status.busy": "2025-01-09T14:12:12.126887Z",
     "iopub.status.idle": "2025-01-09T14:12:12.127081Z",
     "shell.execute_reply": "2025-01-09T14:12:12.126986Z",
     "shell.execute_reply.started": "2025-01-09T14:12:12.126977Z"
    }
   },
   "outputs": [],
   "source": [
    "#list_of_det"
   ]
  },
  {
   "cell_type": "markdown",
   "id": "690a075e-e4f9-4016-bcf6-dc9d69ac1aeb",
   "metadata": {
    "execution": {
     "iopub.status.busy": "2024-10-25T19:43:36.665728Z",
     "iopub.status.idle": "2024-10-25T19:43:36.665892Z",
     "shell.execute_reply": "2024-10-25T19:43:36.665814Z",
     "shell.execute_reply.started": "2024-10-25T19:43:36.665807Z"
    }
   },
   "source": [
    "## View all the images of the focal surface for that vist"
   ]
  },
  {
   "cell_type": "code",
   "execution_count": null,
   "id": "2cbc2263-a764-4799-ae54-162af160aa07",
   "metadata": {
    "execution": {
     "iopub.execute_input": "2025-01-09T14:13:07.064750Z",
     "iopub.status.busy": "2025-01-09T14:13:07.064360Z",
     "iopub.status.idle": "2025-01-09T14:13:07.067661Z",
     "shell.execute_reply": "2025-01-09T14:13:07.067257Z",
     "shell.execute_reply.started": "2025-01-09T14:13:07.064728Z"
    }
   },
   "outputs": [],
   "source": [
    "map_ax_to_det = {0:6,1:7,2:8,3:3,4:4,5:5,6:0,7:1,8:2}\n",
    "map_det_to_ax = {0:6,1:7,2:8,3:3,4:4,5:5,6:0,7:1,8:2}"
   ]
  },
  {
   "cell_type": "code",
   "execution_count": null,
   "id": "5e96257c-f2fc-4af4-b94d-74dcb562bf63",
   "metadata": {
    "execution": {
     "iopub.execute_input": "2025-01-09T14:13:08.939007Z",
     "iopub.status.busy": "2025-01-09T14:13:08.938697Z",
     "iopub.status.idle": "2025-01-09T14:13:08.942889Z",
     "shell.execute_reply": "2025-01-09T14:13:08.942477Z",
     "shell.execute_reply.started": "2025-01-09T14:13:08.938990Z"
    }
   },
   "outputs": [],
   "source": [
    "def ShowMosaicOld(list_of_images,the_title = \"\"):\n",
    "    \"\"\"\n",
    "    Mosaic for LSSTComCam\n",
    "\n",
    "    list_of_images : list of LSST images (9 images for LSSTComCam)\n",
    "    \"\"\"\n",
    "\n",
    "    N = len(list_of_images)\n",
    "    assert N== 9\n",
    "    \n",
    "    fig,axes = plt.subplots(3,3,figsize=(18,18))\n",
    "    display = afwDisplay.Display(frame=fig)\n",
    "    axs = axes.flatten()\n",
    "\n",
    "    for idx,ax in enumerate(axs):\n",
    "        the_image = list_of_images[idx]\n",
    "        plt.sca(ax)\n",
    "        display.scale('asinh', 'zscale')\n",
    "        display.mtv(the_image.image)\n",
    "        display.show_colorbar(False)\n",
    "        plt.gca().axis('off')\n",
    "  \n",
    "    plt.suptitle(the_title)\n",
    "    plt.tight_layout()  \n",
    "    plt.show()"
   ]
  },
  {
   "cell_type": "code",
   "execution_count": null,
   "id": "c489863e-5731-457f-9b7b-dcfbdf3a7a35",
   "metadata": {
    "execution": {
     "iopub.execute_input": "2025-01-09T14:13:10.691767Z",
     "iopub.status.busy": "2025-01-09T14:13:10.691463Z",
     "iopub.status.idle": "2025-01-09T14:13:10.695686Z",
     "shell.execute_reply": "2025-01-09T14:13:10.695280Z",
     "shell.execute_reply.started": "2025-01-09T14:13:10.691752Z"
    }
   },
   "outputs": [],
   "source": [
    "def ShowMosaic(list_of_images,the_title = \"\"):\n",
    "    \"\"\"\n",
    "    Mosaic for LSSTComCam\n",
    "\n",
    "    list_of_images : list of LSST images (9 images for LSSTComCam), ordered by detector number \n",
    "    \"\"\"\n",
    "\n",
    "    N = len(list_of_images)\n",
    "    assert N== 9\n",
    "    \n",
    "    fig,axes = plt.subplots(3,3,figsize=(18,18))\n",
    "    display = afwDisplay.Display(frame=fig)\n",
    "    axs = axes.flatten()\n",
    "\n",
    "    #for idx,ax in enumerate(axs):\n",
    "    # loop by detector number\n",
    "    for idx in range(N):\n",
    "        the_image = list_of_images[idx]\n",
    "        ax = axs[ map_det_to_ax[idx] ]\n",
    "        plt.sca(ax)\n",
    "        display.scale('asinh', 'zscale')\n",
    "        display.mtv(the_image.image)\n",
    "        display.show_colorbar(False)\n",
    "        plt.gca().axis('off')\n",
    "  \n",
    "    plt.suptitle(the_title)\n",
    "    plt.tight_layout()  \n",
    "    plt.show()"
   ]
  },
  {
   "cell_type": "markdown",
   "id": "66d06ae0-ce9f-44c1-bc2f-8335cdabf493",
   "metadata": {
    "execution": {
     "iopub.status.busy": "2024-10-26T19:43:15.355733Z",
     "iopub.status.idle": "2024-10-26T19:43:15.355887Z",
     "shell.execute_reply": "2024-10-26T19:43:15.355812Z",
     "shell.execute_reply.started": "2024-10-26T19:43:15.355805Z"
    }
   },
   "source": [
    "### Plot a single visit images"
   ]
  },
  {
   "cell_type": "code",
   "execution_count": null,
   "id": "fd0cb1c2-d5f6-448e-8a5d-0b59a1d57217",
   "metadata": {
    "execution": {
     "iopub.execute_input": "2025-01-09T14:13:18.758312Z",
     "iopub.status.busy": "2025-01-09T14:13:18.757843Z",
     "iopub.status.idle": "2025-01-09T14:13:25.474290Z",
     "shell.execute_reply": "2025-01-09T14:13:25.473802Z",
     "shell.execute_reply.started": "2025-01-09T14:13:18.758293Z"
    }
   },
   "outputs": [],
   "source": [
    "the_title = f\"postisrccd :: id = {visitId}, band = {band}\"\n",
    "ShowMosaic(list_of_images,the_title)"
   ]
  },
  {
   "cell_type": "markdown",
   "id": "eb9ac8ef-864f-4381-be3e-1c20a0a0f184",
   "metadata": {},
   "source": [
    "## Loop on visits"
   ]
  },
  {
   "cell_type": "markdown",
   "id": "7fe7b04e-a5b6-4a0a-b8f0-75c8e725cf42",
   "metadata": {},
   "source": [
    "#### Select the visits"
   ]
  },
  {
   "cell_type": "code",
   "execution_count": null,
   "id": "3b1fa7a2-a09f-46f4-980d-0181d4a7cd07",
   "metadata": {
    "execution": {
     "iopub.execute_input": "2025-01-09T14:13:25.475266Z",
     "iopub.status.busy": "2025-01-09T14:13:25.475066Z",
     "iopub.status.idle": "2025-01-09T14:13:25.478260Z",
     "shell.execute_reply": "2025-01-09T14:13:25.477895Z",
     "shell.execute_reply.started": "2025-01-09T14:13:25.475253Z"
    }
   },
   "outputs": [],
   "source": [
    "df_sel = df_science[df_science[\"day_obs\"] == 20241028]\n",
    "list_of_visitId = list(df_sel.id)"
   ]
  },
  {
   "cell_type": "code",
   "execution_count": null,
   "id": "e928beee-5c53-4a7a-a8f7-e6c8a44b88e6",
   "metadata": {
    "execution": {
     "iopub.status.busy": "2025-01-09T14:12:12.131476Z",
     "iopub.status.idle": "2025-01-09T14:12:12.131639Z",
     "shell.execute_reply": "2025-01-09T14:12:12.131563Z",
     "shell.execute_reply.started": "2025-01-09T14:12:12.131556Z"
    }
   },
   "outputs": [],
   "source": [
    "#list_of_visitId = [2024102500047, 2024102500048, 2024102500049]"
   ]
  },
  {
   "cell_type": "markdown",
   "id": "70961ff2-0752-47c2-9147-2ef84222eff6",
   "metadata": {},
   "source": [
    "### Plots"
   ]
  },
  {
   "cell_type": "code",
   "execution_count": null,
   "id": "9c674e27-4809-4959-9d49-cc98de2f2288",
   "metadata": {
    "execution": {
     "execution_failed": "2025-01-09T14:14:46.820Z",
     "iopub.execute_input": "2025-01-09T14:13:25.478806Z",
     "iopub.status.busy": "2025-01-09T14:13:25.478683Z"
    }
   },
   "outputs": [],
   "source": [
    "# loop on visit id\n",
    "for idcount, visitId in enumerate(list_of_visitId):\n",
    "\n",
    "    image_dict,exposure,band,physical_filter = retrieve_images(visitId)\n",
    "\n",
    "    list_detidx = list(image_dict.keys())\n",
    "    N = len(list_detidx)\n",
    "    ref_idx = np.argsort(list_detidx)\n",
    "    list_of_images = [ image_dict[ref_idx[idx]] for idx in range(N) ]\n",
    "    list_of_det = [ list_detidx[ref_idx[idx]] for idx in range(N) ]\n",
    "\n",
    "    the_title = f\"postisrccd :: id = {visitId}, band = {band}\"\n",
    "    ShowMosaic(list_of_images,the_title)"
   ]
  },
  {
   "cell_type": "code",
   "execution_count": null,
   "id": "9f1972e8-4fa4-4402-bfc8-7cf79ad6faba",
   "metadata": {},
   "outputs": [],
   "source": []
  }
 ],
 "metadata": {
  "kernelspec": {
   "display_name": "LSST",
   "language": "python",
   "name": "lsst"
  },
  "language_info": {
   "codemirror_mode": {
    "name": "ipython",
    "version": 3
   },
   "file_extension": ".py",
   "mimetype": "text/x-python",
   "name": "python",
   "nbconvert_exporter": "python",
   "pygments_lexer": "ipython3",
   "version": "3.11.9"
  }
 },
 "nbformat": 4,
 "nbformat_minor": 5
}
