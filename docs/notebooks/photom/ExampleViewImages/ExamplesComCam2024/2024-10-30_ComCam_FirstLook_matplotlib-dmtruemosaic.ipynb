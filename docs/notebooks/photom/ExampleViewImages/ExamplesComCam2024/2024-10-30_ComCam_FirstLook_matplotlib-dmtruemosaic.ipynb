{
 "cells": [
  {
   "cell_type": "markdown",
   "id": "30c9f2ef-550a-4b4f-8411-7224adc5b98b",
   "metadata": {},
   "source": [
    "# Very First Look at very first ComCam Data with mosaic with DM code\n",
    "\n",
    "- Goal verification of early data : Early nights\n",
    "- Restart the Kernel first\n",
    "- Applyied to postISRCCD only (do CALEXP in other nb)"
   ]
  },
  {
   "cell_type": "markdown",
   "id": "bb20a475-892b-40e8-8c09-d2ea03f28d65",
   "metadata": {},
   "source": [
    "- LSST Doc for Mosaic : https://pipelines.lsst.io/v/d_2024_06_11/py-api/lsst.pipe.tasks.visualizeVisit.VisualizeMosaicExpTask.html"
   ]
  },
  {
   "cell_type": "markdown",
   "id": "f1e111e8-ccbc-4602-b8ab-392fe9f8812a",
   "metadata": {
    "execution": {
     "iopub.execute_input": "2024-10-25T18:35:28.020312Z",
     "iopub.status.busy": "2024-10-25T18:35:28.019985Z",
     "iopub.status.idle": "2024-10-25T18:35:28.023846Z",
     "shell.execute_reply": "2024-10-25T18:35:28.023258Z",
     "shell.execute_reply.started": "2024-10-25T18:35:28.020294Z"
    }
   },
   "source": [
    "- author : Sylvie Dagoret-campagne\n",
    "- affiliation : IJCLab/in2p3/CNRS\n",
    "- creation date : 2024-10-30\n",
    "- update : 2024-10-30 : Use DM Mosaic building for showing the focal plane.\n",
    "- last update : 2025-01-09 : fix the date decoding ix the date decoding (w_2024_50)"
   ]
  },
  {
   "cell_type": "code",
   "execution_count": null,
   "id": "97eaf85b-7a69-48ea-979b-34c759fefa2c",
   "metadata": {
    "execution": {
     "iopub.execute_input": "2024-10-30T10:38:22.091936Z",
     "iopub.status.busy": "2024-10-30T10:38:22.091807Z",
     "iopub.status.idle": "2024-10-30T10:38:22.408915Z",
     "shell.execute_reply": "2024-10-30T10:38:22.408456Z",
     "shell.execute_reply.started": "2024-10-30T10:38:22.091923Z"
    }
   },
   "outputs": [],
   "source": [
    "import matplotlib.pyplot as plt\n",
    "import matplotlib as mpl\n",
    "import matplotlib.dates as mdates\n",
    "import matplotlib.ticker\n",
    "from mpl_toolkits.axes_grid1 import make_axes_locatable\n",
    "from matplotlib.colors import LogNorm,SymLogNorm\n",
    "from matplotlib.colors import ListedColormap\n",
    "from matplotlib import colors\n",
    "\n",
    "%matplotlib inline"
   ]
  },
  {
   "cell_type": "code",
   "execution_count": null,
   "id": "d19c4e90-4cc5-42d7-b72c-dec259a0a409",
   "metadata": {
    "execution": {
     "iopub.execute_input": "2024-10-30T10:38:22.409887Z",
     "iopub.status.busy": "2024-10-30T10:38:22.409602Z",
     "iopub.status.idle": "2024-10-30T10:38:22.412597Z",
     "shell.execute_reply": "2024-10-30T10:38:22.412233Z",
     "shell.execute_reply.started": "2024-10-30T10:38:22.409874Z"
    }
   },
   "outputs": [],
   "source": [
    "plt.rcParams[\"figure.figsize\"] = (18,8)\n",
    "plt.rcParams[\"axes.labelsize\"] = 'xx-large'\n",
    "plt.rcParams['axes.titlesize'] = 'xx-large'\n",
    "plt.rcParams['xtick.labelsize']= 'xx-large'\n",
    "plt.rcParams['ytick.labelsize']= 'xx-large'\n",
    "plt.rcParams['legend.fontsize']=  12\n",
    "plt.rcParams['font.size'] = 12"
   ]
  },
  {
   "cell_type": "code",
   "execution_count": null,
   "id": "45d756b0-74eb-4906-94a2-81b3256c7c6f",
   "metadata": {
    "execution": {
     "iopub.execute_input": "2024-10-30T10:38:22.413241Z",
     "iopub.status.busy": "2024-10-30T10:38:22.413110Z",
     "iopub.status.idle": "2024-10-30T10:38:22.869396Z",
     "shell.execute_reply": "2024-10-30T10:38:22.868942Z",
     "shell.execute_reply.started": "2024-10-30T10:38:22.413229Z"
    }
   },
   "outputs": [],
   "source": [
    "import numpy as np\n",
    "import pandas as pd\n",
    "from astropy.time import Time"
   ]
  },
  {
   "cell_type": "code",
   "execution_count": null,
   "id": "fc0c0153-7a40-4166-bf13-46645d734aef",
   "metadata": {
    "execution": {
     "iopub.execute_input": "2024-10-30T10:38:22.871252Z",
     "iopub.status.busy": "2024-10-30T10:38:22.870917Z",
     "iopub.status.idle": "2024-10-30T10:38:23.598498Z",
     "shell.execute_reply": "2024-10-30T10:38:23.597994Z",
     "shell.execute_reply.started": "2024-10-30T10:38:22.871237Z"
    }
   },
   "outputs": [],
   "source": [
    "from lsst.daf.butler import Butler "
   ]
  },
  {
   "cell_type": "code",
   "execution_count": null,
   "id": "ac174b05-2a02-41dc-a03d-bc613305f874",
   "metadata": {
    "execution": {
     "iopub.execute_input": "2024-10-30T10:38:23.599270Z",
     "iopub.status.busy": "2024-10-30T10:38:23.599119Z",
     "iopub.status.idle": "2024-10-30T10:38:23.811597Z",
     "shell.execute_reply": "2024-10-30T10:38:23.811152Z",
     "shell.execute_reply.started": "2024-10-30T10:38:23.599257Z"
    }
   },
   "outputs": [],
   "source": [
    "# LSST Display\n",
    "# The advantage to use firefly is that the firefly display can handle a lotsof images\n",
    "import lsst.afw.display as afwDisplay\n",
    "afwDisplay.setDefaultBackend('matplotlib')"
   ]
  },
  {
   "cell_type": "code",
   "execution_count": null,
   "id": "456ff19b-ac58-4818-9d6b-41ca18be00e6",
   "metadata": {
    "execution": {
     "iopub.execute_input": "2024-10-30T10:38:23.812580Z",
     "iopub.status.busy": "2024-10-30T10:38:23.812215Z",
     "iopub.status.idle": "2024-10-30T10:38:24.020427Z",
     "shell.execute_reply": "2024-10-30T10:38:24.019952Z",
     "shell.execute_reply.started": "2024-10-30T10:38:23.812566Z"
    }
   },
   "outputs": [],
   "source": [
    "from lsst.pipe.tasks.visualizeVisit import (\n",
    "    VisualizeBinExpConfig,\n",
    "    VisualizeBinExpTask,\n",
    "    VisualizeMosaicExpConfig,\n",
    "    VisualizeMosaicExpTask,\n",
    ")"
   ]
  },
  {
   "cell_type": "markdown",
   "id": "48ec2e7a-36e5-4b68-8da2-b5da1c3f1fba",
   "metadata": {
    "execution": {
     "iopub.execute_input": "2024-10-25T19:17:41.583673Z",
     "iopub.status.busy": "2024-10-25T19:17:41.583538Z",
     "iopub.status.idle": "2024-10-25T19:17:41.585892Z",
     "shell.execute_reply": "2024-10-25T19:17:41.585507Z",
     "shell.execute_reply.started": "2024-10-25T19:17:41.583660Z"
    }
   },
   "source": [
    "## Configuration\n",
    "\n",
    "- Use the tag report to guess the collections in which we exect data :  https://usdf-rsp-dev.slac.stanford.edu/times-square/github/lsst-dm/vv-team-notebooks/TargetReport\n",
    "\n",
    "In the case of LSSTComCam:\n",
    "\n",
    "- https://usdf-rsp-dev.slac.stanford.edu/times-square/github/lsst-dm/vv-team-notebooks/TargetReport?day_obs=2024-10-24&instrument=LSSTComCam&repo=embargo_new&collection=LSSTComCam%2Fprompt%2Foutput-2024-10-24&collection_sky=LSSTComCamSim%2Fruns%2FDRP%2FOR4%2Fw_2024_25%2FDM-45066&skymap_name=ops_rehersal_prep_2k_v1&col_sciprog=science_program&col_target=target&col_filter=filter&col_id=id&ts_hide_code=1"
   ]
  },
  {
   "cell_type": "markdown",
   "id": "6c227935-1121-4c83-8517-b894d288e8b5",
   "metadata": {},
   "source": [
    "### Info from slack channel  #validation_team\n",
    "day_obs:  2024-10-24  \n",
    "instrument:  LSSTComCam  \n",
    "repo:  embargo_new  \n",
    "collection:  LSSTComCam/prompt/output-2024-10-24  \n",
    "collection_sky:  LSSTComCamSim/runs/DRP/OR4/w_2024_25/DM-45066  \n",
    "skymap_name:  ops_rehersal_prep_2k_v1  \n",
    "col_sciprog:  science_program  \n",
    "col_target:  target  \n",
    "col_filter:  filter  \n",
    "col_id:  id"
   ]
  },
  {
   "cell_type": "code",
   "execution_count": null,
   "id": "e7aa9495-baa5-4976-aee1-48c9f63b71ba",
   "metadata": {
    "execution": {
     "iopub.execute_input": "2024-10-30T10:38:24.021263Z",
     "iopub.status.busy": "2024-10-30T10:38:24.021072Z",
     "iopub.status.idle": "2024-10-30T10:38:24.532836Z",
     "shell.execute_reply": "2024-10-30T10:38:24.532387Z",
     "shell.execute_reply.started": "2024-10-30T10:38:24.021250Z"
    }
   },
   "outputs": [],
   "source": [
    "repo = 'embargo_new'\n",
    "instrument = \"LSSTComCam\"\n",
    "collection = 'LSSTComCam/prompt/output-2024-10-24'\n",
    "\n",
    "butler = Butler(repo)"
   ]
  },
  {
   "cell_type": "markdown",
   "id": "95b5567c-35af-4de1-87e8-2953e4808d2f",
   "metadata": {
    "execution": {
     "iopub.execute_input": "2024-10-25T19:17:41.935759Z",
     "iopub.status.busy": "2024-10-25T19:17:41.935583Z",
     "iopub.status.idle": "2024-10-25T19:17:41.937673Z",
     "shell.execute_reply": "2024-10-25T19:17:41.937341Z",
     "shell.execute_reply.started": "2024-10-25T19:17:41.935746Z"
    }
   },
   "source": [
    "## Query about the collections available\n",
    "\n",
    "- select collections with LSSTComCam"
   ]
  },
  {
   "cell_type": "code",
   "execution_count": null,
   "id": "24e7111f-83c2-4244-a869-c5e7f99494c7",
   "metadata": {
    "execution": {
     "iopub.execute_input": "2024-10-30T10:38:24.533619Z",
     "iopub.status.busy": "2024-10-30T10:38:24.533461Z",
     "iopub.status.idle": "2024-10-30T10:38:24.791799Z",
     "shell.execute_reply": "2024-10-30T10:38:24.791288Z",
     "shell.execute_reply.started": "2024-10-30T10:38:24.533605Z"
    }
   },
   "outputs": [],
   "source": [
    "for _ in butler.registry.queryCollections():\n",
    "    if 'LSSTComCam/' in _:\n",
    "        print(_)"
   ]
  },
  {
   "cell_type": "markdown",
   "id": "9df18f79-accc-4188-a5f9-0e0934263e91",
   "metadata": {},
   "source": [
    "- From the list available today , we probably have to look inside the colleciton `LSSTComCam/nightlyValidation`"
   ]
  },
  {
   "cell_type": "markdown",
   "id": "0af53758-9267-4b95-916e-5f3eb2df1855",
   "metadata": {},
   "source": [
    "## Select the Camera"
   ]
  },
  {
   "cell_type": "code",
   "execution_count": null,
   "id": "2b43d5c3-9bc2-4da7-abe7-f02396e2d3ad",
   "metadata": {
    "execution": {
     "iopub.execute_input": "2024-10-30T10:38:24.792638Z",
     "iopub.status.busy": "2024-10-30T10:38:24.792470Z",
     "iopub.status.idle": "2024-10-30T10:38:25.095005Z",
     "shell.execute_reply": "2024-10-30T10:38:25.094571Z",
     "shell.execute_reply.started": "2024-10-30T10:38:24.792624Z"
    }
   },
   "outputs": [],
   "source": [
    "# mandatory to get the focal plane setup\n",
    "camera = butler.get(\"camera\", collections=\"LSSTComCam/defaults\", instrument=\"LSSTComCam\")"
   ]
  },
  {
   "cell_type": "code",
   "execution_count": null,
   "id": "32ab1a23-e8e9-4fb9-932c-f1b71523fbc9",
   "metadata": {
    "execution": {
     "iopub.execute_input": "2024-10-30T10:38:25.095975Z",
     "iopub.status.busy": "2024-10-30T10:38:25.095769Z",
     "iopub.status.idle": "2024-10-30T10:38:25.099205Z",
     "shell.execute_reply": "2024-10-30T10:38:25.098744Z",
     "shell.execute_reply.started": "2024-10-30T10:38:25.095948Z"
    }
   },
   "outputs": [],
   "source": [
    "camera"
   ]
  },
  {
   "cell_type": "markdown",
   "id": "372d17e7-0a6e-4389-b4bc-9a8c8ad15237",
   "metadata": {},
   "source": [
    "## Select the collection"
   ]
  },
  {
   "cell_type": "code",
   "execution_count": null,
   "id": "da6408e5-0e9d-455c-8df9-9f1ed59e2cac",
   "metadata": {
    "execution": {
     "iopub.execute_input": "2024-10-30T10:38:25.100179Z",
     "iopub.status.busy": "2024-10-30T10:38:25.099947Z",
     "iopub.status.idle": "2024-10-30T10:38:25.105371Z",
     "shell.execute_reply": "2024-10-30T10:38:25.104966Z",
     "shell.execute_reply.started": "2024-10-30T10:38:25.100161Z"
    }
   },
   "outputs": [],
   "source": [
    "#the_collection = \"LSSTComCam/runs/nightlyValidation_20241024_20241025/w_2024_42/DM-47059-test\" \n",
    "#the_collection =   \"LSSTComCam/prompt/output-2024-10-24\"\n",
    "the_collection = \"LSSTComCam/nightlyValidation\""
   ]
  },
  {
   "cell_type": "markdown",
   "id": "c0272ab3-785f-4a90-93fb-e970cffe3cc8",
   "metadata": {},
   "source": [
    "## Create the butler on the selected collection"
   ]
  },
  {
   "cell_type": "code",
   "execution_count": null,
   "id": "7bd8df52-dc45-4270-8935-f4acc36046f9",
   "metadata": {
    "execution": {
     "iopub.execute_input": "2024-10-30T10:38:25.106120Z",
     "iopub.status.busy": "2024-10-30T10:38:25.105948Z",
     "iopub.status.idle": "2024-10-30T10:38:25.253097Z",
     "shell.execute_reply": "2024-10-30T10:38:25.252620Z",
     "shell.execute_reply.started": "2024-10-30T10:38:25.106100Z"
    }
   },
   "outputs": [],
   "source": [
    "butler = Butler(repo, collections=the_collection)\n",
    "registry = butler.registry"
   ]
  },
  {
   "cell_type": "code",
   "execution_count": null,
   "id": "8cf2d6d3-4288-470c-8e79-2340e793a353",
   "metadata": {
    "execution": {
     "iopub.execute_input": "2024-10-30T10:38:25.253906Z",
     "iopub.status.busy": "2024-10-30T10:38:25.253757Z",
     "iopub.status.idle": "2024-10-30T10:38:39.724621Z",
     "shell.execute_reply": "2024-10-30T10:38:39.724112Z",
     "shell.execute_reply.started": "2024-10-30T10:38:25.253894Z"
    }
   },
   "outputs": [],
   "source": [
    "for datasetType in registry.queryDatasetTypes():\n",
    "    if registry.queryDatasets(datasetType, collections= the_collection).any(execute=False, exact=False):\n",
    "        # Limit search results to the data products\n",
    "        if ('_config' not in datasetType.name) and ('_log' not in datasetType.name) and ('_metadata' not in datasetType.name) and ('_resource_usage' not in datasetType.name):\n",
    "            print(datasetType)"
   ]
  },
  {
   "cell_type": "markdown",
   "id": "e6499567-c915-4cf0-a281-cecdde970493",
   "metadata": {},
   "source": [
    "- Notice no visit-Table is available. Thus to know which visiId are existing, we will use the registry later"
   ]
  },
  {
   "cell_type": "markdown",
   "id": "d90681b8-bb52-4227-b4db-6bb2c6be0fc7",
   "metadata": {},
   "source": [
    "## Extract the list of visitId from the butler's registry "
   ]
  },
  {
   "cell_type": "markdown",
   "id": "45ff66dc-6576-4daa-ad20-db353e751e06",
   "metadata": {},
   "source": [
    "### Get the list of information that can be extracted from the registryfor each exposure"
   ]
  },
  {
   "cell_type": "code",
   "execution_count": null,
   "id": "3805631a-a005-45eb-a7ef-bcbd0ddeda94",
   "metadata": {
    "execution": {
     "iopub.execute_input": "2024-10-30T10:38:39.725418Z",
     "iopub.status.busy": "2024-10-30T10:38:39.725275Z",
     "iopub.status.idle": "2024-10-30T10:38:39.728022Z",
     "shell.execute_reply": "2024-10-30T10:38:39.727651Z",
     "shell.execute_reply.started": "2024-10-30T10:38:39.725406Z"
    }
   },
   "outputs": [],
   "source": [
    "print(registry.dimensions[\"exposure\"].RecordClass.fields)"
   ]
  },
  {
   "cell_type": "markdown",
   "id": "417fb6a0-eafe-4b87-b321-819589292cd3",
   "metadata": {},
   "source": [
    "### Create the pandas dataframe from the information inside the butler's registry"
   ]
  },
  {
   "cell_type": "code",
   "execution_count": null,
   "id": "9ab1d265-5fc9-459a-bd6e-7687ac4908bc",
   "metadata": {
    "execution": {
     "iopub.execute_input": "2024-10-30T10:38:39.728716Z",
     "iopub.status.busy": "2024-10-30T10:38:39.728594Z",
     "iopub.status.idle": "2024-10-30T10:38:39.743012Z",
     "shell.execute_reply": "2024-10-30T10:38:39.742627Z",
     "shell.execute_reply.started": "2024-10-30T10:38:39.728705Z"
    }
   },
   "outputs": [],
   "source": [
    "df_exposure = pd.DataFrame(columns=['id', 'obs_id','day_obs', 'seq_num','time_start','time_end' ,'type', 'target','filter','zenith_angle','expos','ra','dec','skyangle','azimuth','zenith','science_program','jd','mjd'])"
   ]
  },
  {
   "cell_type": "markdown",
   "id": "6a5b2ba6-c302-4578-9f53-55a021de1028",
   "metadata": {},
   "source": [
    "### Fill the pandas dataframe from the records inside the butler's registry for each exposure"
   ]
  },
  {
   "cell_type": "code",
   "execution_count": null,
   "id": "38ef2124-e2f6-4682-8682-e4e8ebf4bc16",
   "metadata": {},
   "outputs": [],
   "source": [
    "for count, info in enumerate(registry.queryDimensionRecords('exposure',where = where_expr)):  \n",
    "    try:\n",
    "        id_ = info.id\n",
    "        obs_id_ = info.obs_id\n",
    "        day_obs_ = info.day_obs\n",
    "        seq_num_ = info.seq_num\n",
    "        timespan_ = info.timespan\n",
    "\n",
    "        timespan_begin_ = pd.to_datetime(info.timespan.begin.to_datetime())\n",
    "        timespan_end_ = pd.to_datetime(info.timespan.end.to_datetime())\n",
    "        timespan_jd_ = timespan_.begin.jd\n",
    "        timespan_mjd_ = timespan_.begin.mjd\n",
    "        \n",
    "        \n",
    "        df_exposure.loc[count] = [info.id, info.obs_id, info.day_obs, info.seq_num,timespan_begin_,timespan_end_ ,info.observation_type, info.target_name, info.physical_filter, info.zenith_angle, \\\n",
    "                             info.exposure_time,info.tracking_ra, info.tracking_dec, info.sky_angle,info.azimuth ,info.zenith_angle, info.science_program,\n",
    "                             timespan_jd_,timespan_mjd_  ]\n",
    "    except:\n",
    "        print(\">>>   Unexpected error:\", sys.exc_info()[0])\n",
    "        info_timespan_begin_to_string = \"2021-01-01 00:00:00.00\"\n",
    "        info_timespan_end_to_string = \"2051-01-01 00:00:00.00\"\n",
    "        info_timespan_begin_jd = 0\n",
    "        info_timespan_begin_mjd = 0\n",
    "        df_exposure.loc[count] = [info.id, info.obs_id, info.day_obs, info.seq_num,\n",
    "                                  pd.to_datetime(info_timespan_begin_to_string),\n",
    "                                  pd.to_datetime(info_timespan_end_to_string) ,\n",
    "                                  info.observation_type, info.target_name, \n",
    "                                  info.physical_filter, info.zenith_angle, \\\n",
    "                             info.exposure_time,info.tracking_ra, info.tracking_dec, info.sky_angle,info.azimuth ,info.zenith_angle, info.science_program,\n",
    "                             info_timespan_begin_jd,info_timespan_begin_mjd ]\n",
    " \n",
    "\n",
    "    if count < 2:\n",
    "        print(\"-----------------------------------------------------\",count,\"---------------------------------------------------------\")\n",
    "        print(info)\n",
    "        print(\"\\t id:                  \",info.id)\n",
    "        print(\"\\t day_obs:             \",info.day_obs)\n",
    "        print(\"\\t seq_num:             \",info.seq_num)\n",
    "        print(\"\\t type-of-observation: \",info.observation_type)\n",
    "        print(\"\\t target:              \",info.target_name)\n",
    "\n",
    "        timespan_ = info.timespan\n",
    "        timespan_begin_ = pd.to_datetime(info.timespan.begin.to_datetime())\n",
    "        timespan_end_ = pd.to_datetime(info.timespan.end.to_datetime())\n",
    "        timespan_jd_ = timespan_.begin.jd\n",
    "        timespan_mjd_ = timespan_.begin.mjd\n",
    "        \n",
    "        mjd = timespan_mjd_ \n",
    "        jd = timespan_jd_ \n",
    "        print(\"MJD,JD : \",mjd,jd)\n",
    "        \n",
    " "
   ]
  },
  {
   "cell_type": "markdown",
   "id": "4e941a71-f599-4339-b51a-3cd565e9a9b9",
   "metadata": {},
   "source": [
    "#### convert some columns into integer"
   ]
  },
  {
   "cell_type": "code",
   "execution_count": null,
   "id": "dd17b159-8658-4247-8bdf-a2900d5dcbe3",
   "metadata": {
    "execution": {
     "iopub.execute_input": "2024-10-30T10:38:45.763521Z",
     "iopub.status.busy": "2024-10-30T10:38:45.763364Z",
     "iopub.status.idle": "2024-10-30T10:38:45.768177Z",
     "shell.execute_reply": "2024-10-30T10:38:45.767793Z",
     "shell.execute_reply.started": "2024-10-30T10:38:45.763508Z"
    }
   },
   "outputs": [],
   "source": [
    "df_exposure = df_exposure.astype({\"id\": int,'day_obs': int,'seq_num':int})"
   ]
  },
  {
   "cell_type": "code",
   "execution_count": null,
   "id": "0493a82e-8aba-4345-b0a5-516f00bb373c",
   "metadata": {},
   "outputs": [],
   "source": [
    "where_expr = \"instrument='LSSTComCam'\""
   ]
  },
  {
   "cell_type": "markdown",
   "id": "31bc3a72-c798-450d-b966-9927cf309958",
   "metadata": {},
   "source": [
    "### Find the different type of exposures"
   ]
  },
  {
   "cell_type": "code",
   "execution_count": null,
   "id": "19ec676c-4b91-4d3f-8810-b893567ad2d7",
   "metadata": {
    "execution": {
     "iopub.execute_input": "2024-10-30T10:38:45.768957Z",
     "iopub.status.busy": "2024-10-30T10:38:45.768741Z",
     "iopub.status.idle": "2024-10-30T10:38:45.775980Z",
     "shell.execute_reply": "2024-10-30T10:38:45.775592Z",
     "shell.execute_reply.started": "2024-10-30T10:38:45.768944Z"
    }
   },
   "outputs": [],
   "source": [
    "df_exposure[\"type\"].unique()"
   ]
  },
  {
   "cell_type": "markdown",
   "id": "bdb87a21-ca50-47fd-b593-b88ae5eea1e1",
   "metadata": {},
   "source": [
    "### Select the science exposure"
   ]
  },
  {
   "cell_type": "code",
   "execution_count": null,
   "id": "bd7aeb1d-a231-45b6-bac7-1d2e9ca3486e",
   "metadata": {
    "execution": {
     "iopub.execute_input": "2024-10-30T10:38:45.778224Z",
     "iopub.status.busy": "2024-10-30T10:38:45.778091Z",
     "iopub.status.idle": "2024-10-30T10:38:45.782717Z",
     "shell.execute_reply": "2024-10-30T10:38:45.782327Z",
     "shell.execute_reply.started": "2024-10-30T10:38:45.778212Z"
    }
   },
   "outputs": [],
   "source": [
    "df_science = df_exposure[df_exposure.type == 'science']\n",
    "df_science.reset_index(drop=True, inplace=True)"
   ]
  },
  {
   "cell_type": "code",
   "execution_count": null,
   "id": "ab66d2f4-590c-4d87-a736-1829b5c83e53",
   "metadata": {
    "execution": {
     "iopub.execute_input": "2024-10-30T10:38:45.783348Z",
     "iopub.status.busy": "2024-10-30T10:38:45.783198Z",
     "iopub.status.idle": "2024-10-30T10:38:45.800225Z",
     "shell.execute_reply": "2024-10-30T10:38:45.799842Z",
     "shell.execute_reply.started": "2024-10-30T10:38:45.783336Z"
    }
   },
   "outputs": [],
   "source": [
    "df_science"
   ]
  },
  {
   "cell_type": "markdown",
   "id": "09487497-597a-4660-b000-11a42f3b425f",
   "metadata": {},
   "source": [
    "## Example for viewing one image"
   ]
  },
  {
   "cell_type": "markdown",
   "id": "17f15b65-1d73-4395-9499-f16813882a36",
   "metadata": {},
   "source": [
    "### Select a date and a visitId"
   ]
  },
  {
   "cell_type": "code",
   "execution_count": null,
   "id": "43e20ea0-3072-4171-9b1c-28a6e6142533",
   "metadata": {
    "execution": {
     "iopub.execute_input": "2024-10-30T10:38:45.800868Z",
     "iopub.status.busy": "2024-10-30T10:38:45.800741Z",
     "iopub.status.idle": "2024-10-30T10:38:45.802768Z",
     "shell.execute_reply": "2024-10-30T10:38:45.802403Z",
     "shell.execute_reply.started": "2024-10-30T10:38:45.800856Z"
    }
   },
   "outputs": [],
   "source": [
    "visitId = 2024102800113 \t\n"
   ]
  },
  {
   "cell_type": "markdown",
   "id": "74bd6bb8-097c-4800-85b1-596d0b21da26",
   "metadata": {},
   "source": [
    "### Extract the exposures postiSRCCD from the selected visitID"
   ]
  },
  {
   "cell_type": "code",
   "execution_count": null,
   "id": "701a26e3-e908-4b39-8f40-de98338ba718",
   "metadata": {
    "execution": {
     "iopub.execute_input": "2024-10-30T10:38:45.803585Z",
     "iopub.status.busy": "2024-10-30T10:38:45.803250Z",
     "iopub.status.idle": "2024-10-30T10:38:45.809637Z",
     "shell.execute_reply": "2024-10-30T10:38:45.809213Z",
     "shell.execute_reply.started": "2024-10-30T10:38:45.803572Z"
    }
   },
   "outputs": [],
   "source": [
    "def retrieve_images(visitId,instrument=instrument, butler= butler,collection=the_collection,datatype='postISRCCD'):\n",
    "    the_date = visitId//100000 \n",
    "    where_clause = f\"instrument=\\'LSSTComCam\\' AND exposure.day_obs={the_date}\"\n",
    "    dataId = {'visit': visitId, 'instrument':instrument}\n",
    "    \n",
    "    datasetRefs = butler.registry.queryDatasets(datatype, dataId=dataId, collections  = collection)\n",
    "    \n",
    "    \n",
    "    for i, ref in enumerate(datasetRefs):\n",
    "        print(ref.dataId)\n",
    "        exposure = ref.dataId[\"exposure\"]\n",
    "        detector = ref.dataId[\"detector\"]\n",
    "        physical_filter = ref.dataId[\"physical_filter\"]\n",
    "        band = ref.dataId[\"band\"]\n",
    "        #the_image  = butler.get(ref)\n",
    "        #image_dict[detector]  =  the_image\n",
    "\n",
    "    return exposure,band,physical_filter,datasetRefs\n"
   ]
  },
  {
   "cell_type": "code",
   "execution_count": null,
   "id": "11161057-514c-44a7-a6fb-1639bd81b181",
   "metadata": {
    "execution": {
     "iopub.execute_input": "2024-10-30T10:38:45.810596Z",
     "iopub.status.busy": "2024-10-30T10:38:45.810185Z",
     "iopub.status.idle": "2024-10-30T10:38:46.060196Z",
     "shell.execute_reply": "2024-10-30T10:38:46.059736Z",
     "shell.execute_reply.started": "2024-10-30T10:38:45.810573Z"
    }
   },
   "outputs": [],
   "source": [
    "exposure,band,physical_filter,datasetRefs = retrieve_images(visitId)"
   ]
  },
  {
   "cell_type": "markdown",
   "id": "690a075e-e4f9-4016-bcf6-dc9d69ac1aeb",
   "metadata": {
    "execution": {
     "iopub.status.busy": "2024-10-25T19:43:36.665728Z",
     "iopub.status.idle": "2024-10-25T19:43:36.665892Z",
     "shell.execute_reply": "2024-10-25T19:43:36.665814Z",
     "shell.execute_reply.started": "2024-10-25T19:43:36.665807Z"
    }
   },
   "source": [
    "## View all the images of the focal surface for that vist"
   ]
  },
  {
   "cell_type": "markdown",
   "id": "66d06ae0-ce9f-44c1-bc2f-8335cdabf493",
   "metadata": {
    "execution": {
     "iopub.status.busy": "2024-10-26T19:43:15.355733Z",
     "iopub.status.idle": "2024-10-26T19:43:15.355887Z",
     "shell.execute_reply": "2024-10-26T19:43:15.355812Z",
     "shell.execute_reply.started": "2024-10-26T19:43:15.355805Z"
    }
   },
   "source": [
    "### Plot"
   ]
  },
  {
   "cell_type": "code",
   "execution_count": null,
   "id": "6f8496f2-9e45-40d8-b88c-0039a3e937db",
   "metadata": {
    "execution": {
     "iopub.execute_input": "2024-10-30T10:38:46.060988Z",
     "iopub.status.busy": "2024-10-30T10:38:46.060844Z",
     "iopub.status.idle": "2024-10-30T10:38:46.063516Z",
     "shell.execute_reply": "2024-10-30T10:38:46.063110Z",
     "shell.execute_reply.started": "2024-10-30T10:38:46.060976Z"
    }
   },
   "outputs": [],
   "source": [
    "the_title = f\"postisrccd :: id = {visitId}, band = {band}\""
   ]
  },
  {
   "cell_type": "markdown",
   "id": "3f52d189-e9f1-43aa-8af7-bb1434995fba",
   "metadata": {},
   "source": [
    "- from code snippet on slack : https://rubin-obs.slack.com/archives/C07TD4VUJ3X/p1729878639075269\n",
    "  \n",
    "      from lsst.daf.butler import Butler\n",
    "      from lsst.pipe.tasks.visualizeVisit import (\n",
    "      VisualizeBinExpConfig,\n",
    "      VisualizeBinExpTask,\n",
    "      VisualizeMosaicExpConfig,\n",
    "      VisualizeMosaicExpTask,\n",
    "      )\n",
    "\n",
    "      butler = Butler(\"/repo/embargo_new\")\n",
    "\n",
    "      dataset_refs = butler.query_datasets(\"postISRCCD\", collections=\"u/mrawls/day1-streaks\",     where=\"instrument='LSSTComCam' AND exposure=2024102400128\")\n",
    "      exposures = [butler.get(dataset_ref) for dataset_ref in dataset_refs]\n",
    "      camera = butler.get(\"camera\", collections=\"LSSTComCam/defaults\", instrument=\"LSSTComCam\")\n",
    "\n",
    "      binning = 4  # default is 8 pixels\n",
    "\n",
    "      visualizeBinExpConfig = VisualizeBinExpConfig()\n",
    "      visualizeBinExpConfig.binning = binning\n",
    "      visualizeBinExpTask = VisualizeBinExpTask(config=visualizeBinExpConfig)\n",
    "      exposures_binned = [visualizeBinExpTask.run(inputExp = exposure, camera=camera).outputExp for exposure in exposures]\n",
    "\n",
    "      visualizeMosaicExpConfig = VisualizeMosaicExpConfig()\n",
    "      visualizeMosaicExpConfig.binning = binning\n",
    "      visualizeMosaicExpTask = VisualizeMosaicExpTask(config=visualizeMosaicExpConfig)\n",
    "       mosaic = visualizeMosaicExpTask.run(inputExps=exposures_binned, camera=camera).outputData"
   ]
  },
  {
   "cell_type": "code",
   "execution_count": null,
   "id": "cf77fa79-9b85-4e61-bb04-b64655737b0f",
   "metadata": {
    "execution": {
     "iopub.execute_input": "2024-10-30T10:38:46.064244Z",
     "iopub.status.busy": "2024-10-30T10:38:46.064094Z",
     "iopub.status.idle": "2024-10-30T10:38:46.071184Z",
     "shell.execute_reply": "2024-10-30T10:38:46.070782Z",
     "shell.execute_reply.started": "2024-10-30T10:38:46.064232Z"
    }
   },
   "outputs": [],
   "source": [
    "def MakeMosaic(datasetRefs,camera, binning = 8):\n",
    "    \"\"\"\n",
    "    binning default : 8 \n",
    "    \"\"\"\n",
    "\n",
    "    exposures = [butler.get(dataset_ref) for dataset_ref in datasetRefs]\n",
    "    visualizeBinExpConfig = VisualizeBinExpConfig()\n",
    "    visualizeBinExpConfig.binning = binning\n",
    "    visualizeBinExpTask = VisualizeBinExpTask(config=visualizeBinExpConfig)\n",
    "    exposures_binned = [visualizeBinExpTask.run(inputExp = exposure, camera=camera).outputExp for exposure in exposures]\n",
    "\n",
    "    visualizeMosaicExpConfig = VisualizeMosaicExpConfig()\n",
    "    visualizeMosaicExpConfig.binning = binning\n",
    "    visualizeMosaicExpTask = VisualizeMosaicExpTask(config=visualizeMosaicExpConfig)\n",
    "    the_mosaic = visualizeMosaicExpTask.run(inputExps=exposures_binned, camera=camera).outputData\n",
    "    return the_mosaic\n"
   ]
  },
  {
   "cell_type": "code",
   "execution_count": null,
   "id": "8983393e-2592-4ca0-8cf7-2f76d6b73a95",
   "metadata": {
    "execution": {
     "iopub.execute_input": "2024-10-30T10:38:46.072020Z",
     "iopub.status.busy": "2024-10-30T10:38:46.071729Z",
     "iopub.status.idle": "2024-10-30T10:38:53.212935Z",
     "shell.execute_reply": "2024-10-30T10:38:53.212451Z",
     "shell.execute_reply.started": "2024-10-30T10:38:46.072008Z"
    }
   },
   "outputs": [],
   "source": [
    "mosaic = MakeMosaic(datasetRefs,camera, binning = 8)"
   ]
  },
  {
   "cell_type": "code",
   "execution_count": null,
   "id": "d61d02a6-a03f-444d-a0c9-2611a2e3facf",
   "metadata": {
    "execution": {
     "iopub.execute_input": "2024-10-30T10:38:53.213876Z",
     "iopub.status.busy": "2024-10-30T10:38:53.213664Z",
     "iopub.status.idle": "2024-10-30T10:38:54.325163Z",
     "shell.execute_reply": "2024-10-30T10:38:54.324701Z",
     "shell.execute_reply.started": "2024-10-30T10:38:53.213862Z"
    }
   },
   "outputs": [],
   "source": [
    "fig,ax = plt.subplots(1,1,figsize=(18,18))\n",
    "display = afwDisplay.Display(frame=fig)\n",
    "the_image = mosaic\n",
    "plt.sca(ax)\n",
    "display.scale('asinh', 'zscale')\n",
    "display.mtv(the_image)\n",
    "display.show_colorbar(False)\n",
    "plt.gca().axis('off')\n",
    "plt.suptitle(the_title)\n",
    "plt.tight_layout()  \n",
    "plt.show()"
   ]
  },
  {
   "cell_type": "markdown",
   "id": "d41b50fc-f4f7-422a-8aaf-13854e4a8f5e",
   "metadata": {},
   "source": [
    "## Loop on visits"
   ]
  },
  {
   "cell_type": "markdown",
   "id": "66115a67-0e6e-4a6d-b958-c60d669b8dce",
   "metadata": {},
   "source": [
    "#### Select the visits"
   ]
  },
  {
   "cell_type": "code",
   "execution_count": null,
   "id": "f68f5ceb-2314-462e-aafb-75bea1788dee",
   "metadata": {
    "execution": {
     "iopub.execute_input": "2024-10-30T10:38:54.325911Z",
     "iopub.status.busy": "2024-10-30T10:38:54.325780Z",
     "iopub.status.idle": "2024-10-30T10:38:54.328916Z",
     "shell.execute_reply": "2024-10-30T10:38:54.328549Z",
     "shell.execute_reply.started": "2024-10-30T10:38:54.325899Z"
    }
   },
   "outputs": [],
   "source": [
    "df_sel = df_science[df_science[\"day_obs\"] == 20241028]\n",
    "list_of_visitId = list(df_sel.id)"
   ]
  },
  {
   "cell_type": "code",
   "execution_count": null,
   "id": "836e32d0-3784-468c-8130-0935f6e13103",
   "metadata": {
    "execution": {
     "iopub.execute_input": "2024-10-30T10:38:54.329549Z",
     "iopub.status.busy": "2024-10-30T10:38:54.329415Z",
     "iopub.status.idle": "2024-10-30T10:40:57.039490Z",
     "shell.execute_reply": "2024-10-30T10:40:57.038838Z",
     "shell.execute_reply.started": "2024-10-30T10:38:54.329538Z"
    }
   },
   "outputs": [],
   "source": [
    "# loop on visit id\n",
    "for idcount, visitId in enumerate(list_of_visitId):\n",
    "\n",
    "    exposure,band,physical_filter,datasetRefs = retrieve_images(visitId)\n",
    "    the_title = f\"postisrccd :: id = {visitId}, band = {band}\"\n",
    "    mosaic = MakeMosaic(datasetRefs,camera, binning = 8)\n",
    "\n",
    "    fig,ax = plt.subplots(1,1,figsize=(18,18))\n",
    "    display = afwDisplay.Display(frame=fig)\n",
    "    the_image = mosaic\n",
    "    plt.sca(ax)\n",
    "    display.scale('asinh', 'zscale')\n",
    "    display.mtv(the_image)\n",
    "    display.show_colorbar(False)\n",
    "    plt.gca().axis('off')\n",
    "    plt.suptitle(the_title)\n",
    "    plt.tight_layout()  \n",
    "    plt.show()"
   ]
  }
 ],
 "metadata": {
  "kernelspec": {
   "display_name": "LSST",
   "language": "python",
   "name": "lsst"
  },
  "language_info": {
   "codemirror_mode": {
    "name": "ipython",
    "version": 3
   },
   "file_extension": ".py",
   "mimetype": "text/x-python",
   "name": "python",
   "nbconvert_exporter": "python",
   "pygments_lexer": "ipython3",
   "version": "3.11.9"
  }
 },
 "nbformat": 4,
 "nbformat_minor": 5
}
