{
 "cells": [
  {
   "cell_type": "markdown",
   "id": "30c9f2ef-550a-4b4f-8411-7224adc5b98b",
   "metadata": {},
   "source": [
    "# Very First Look at very first LATISS PostISRCCD with firefly\n",
    "\n",
    "- Goal verification of early data : First night\n",
    "- Restart the Kernel first"
   ]
  },
  {
   "cell_type": "markdown",
   "id": "f1e111e8-ccbc-4602-b8ab-392fe9f8812a",
   "metadata": {
    "execution": {
     "iopub.execute_input": "2024-10-25T18:35:28.020312Z",
     "iopub.status.busy": "2024-10-25T18:35:28.019985Z",
     "iopub.status.idle": "2024-10-25T18:35:28.023846Z",
     "shell.execute_reply": "2024-10-25T18:35:28.023258Z",
     "shell.execute_reply.started": "2024-10-25T18:35:28.020294Z"
    }
   },
   "source": [
    "- author : Sylvie Dagoret-campagne\n",
    "- affiliation : IJCLab/in2p3/CNRS\n",
    "- creation date : 2025-01-22\n",
    "- update : 2025-01-22\n",
    "- last update : 2025-01-22 : fix the date decoding (w_2024_50)"
   ]
  },
  {
   "cell_type": "code",
   "execution_count": null,
   "id": "b04f3879-f5d5-4e7e-8496-21056d10be1d",
   "metadata": {
    "execution": {
     "iopub.execute_input": "2025-01-22T22:10:12.952249Z",
     "iopub.status.busy": "2025-01-22T22:10:12.952129Z",
     "iopub.status.idle": "2025-01-22T22:10:15.264927Z",
     "shell.execute_reply": "2025-01-22T22:10:15.264474Z",
     "shell.execute_reply.started": "2025-01-22T22:10:12.952236Z"
    }
   },
   "outputs": [],
   "source": [
    "import matplotlib.pyplot as plt\n",
    "import matplotlib as mpl\n",
    "import matplotlib.dates as mdates\n",
    "import matplotlib.ticker\n",
    "from mpl_toolkits.axes_grid1 import make_axes_locatable\n",
    "from matplotlib.colors import LogNorm,SymLogNorm\n",
    "from matplotlib.colors import ListedColormap\n",
    "from matplotlib import colors\n",
    "\n",
    "%matplotlib inline\n",
    "import numpy as np\n",
    "import pandas as pd\n",
    "import matplotlib.gridspec as gridspec\n",
    "from spectractor.tools import from_lambda_to_colormap, wavelength_to_rgb\n",
    "#%matplotlib widget \n",
    "import h5py\n",
    "from scipy import interpolate\n",
    "from astropy.time import Time\n",
    "from datetime import datetime, timedelta\n",
    "import seaborn as sns\n",
    "\n",
    "from itertools import cycle, islice\n",
    "import os"
   ]
  },
  {
   "cell_type": "code",
   "execution_count": null,
   "id": "18068db4-c33c-43c5-bd12-58ff250d7a02",
   "metadata": {
    "execution": {
     "iopub.execute_input": "2025-01-22T22:10:15.266117Z",
     "iopub.status.busy": "2025-01-22T22:10:15.265456Z",
     "iopub.status.idle": "2025-01-22T22:10:15.268822Z",
     "shell.execute_reply": "2025-01-22T22:10:15.268470Z",
     "shell.execute_reply.started": "2025-01-22T22:10:15.266103Z"
    }
   },
   "outputs": [],
   "source": [
    "plt.rcParams[\"figure.figsize\"] = (18,8)\n",
    "plt.rcParams[\"axes.labelsize\"] = 'xx-large'\n",
    "plt.rcParams['axes.titlesize'] = 'xx-large'\n",
    "plt.rcParams['xtick.labelsize']= 'xx-large'\n",
    "plt.rcParams['ytick.labelsize']= 'xx-large'\n",
    "plt.rcParams['legend.fontsize']=  12\n",
    "plt.rcParams['font.size'] = 12"
   ]
  },
  {
   "cell_type": "code",
   "execution_count": null,
   "id": "611a8607-3ac5-4853-b270-f703f13e518b",
   "metadata": {
    "execution": {
     "iopub.execute_input": "2025-01-22T22:10:15.269345Z",
     "iopub.status.busy": "2025-01-22T22:10:15.269224Z",
     "iopub.status.idle": "2025-01-22T22:10:15.275709Z",
     "shell.execute_reply": "2025-01-22T22:10:15.275362Z",
     "shell.execute_reply.started": "2025-01-22T22:10:15.269333Z"
    }
   },
   "outputs": [],
   "source": [
    "from matplotlib.ticker import (MultipleLocator, FormatStrFormatter,\n",
    "                               AutoMinorLocator)\n",
    "\n",
    "from astropy.visualization import (MinMaxInterval, SqrtStretch,ZScaleInterval,PercentileInterval,\n",
    "                                   ImageNormalize,imshow_norm)\n",
    "from astropy.visualization.stretch import SinhStretch, LinearStretch,AsinhStretch,LogStretch\n",
    "\n",
    "transform = AsinhStretch() + PercentileInterval(99.)"
   ]
  },
  {
   "cell_type": "code",
   "execution_count": null,
   "id": "fc0c0153-7a40-4166-bf13-46645d734aef",
   "metadata": {
    "execution": {
     "iopub.execute_input": "2025-01-22T22:10:15.277101Z",
     "iopub.status.busy": "2025-01-22T22:10:15.276969Z",
     "iopub.status.idle": "2025-01-22T22:10:16.025859Z",
     "shell.execute_reply": "2025-01-22T22:10:16.025425Z",
     "shell.execute_reply.started": "2025-01-22T22:10:15.277089Z"
    }
   },
   "outputs": [],
   "source": [
    "from lsst.daf.butler import Butler \n",
    "import astropy.units as u\n",
    "import numpy as np \n",
    "import pandas as pd\n",
    "pd.set_option(\"display.max_columns\", None)\n",
    "from astropy.time import Time\n",
    "\n",
    "import scipy.stats\n",
    "\n",
    "import matplotlib\n",
    "%matplotlib inline\n",
    "from matplotlib import pyplot as plt"
   ]
  },
  {
   "cell_type": "code",
   "execution_count": null,
   "id": "ac174b05-2a02-41dc-a03d-bc613305f874",
   "metadata": {
    "execution": {
     "iopub.execute_input": "2025-01-22T22:10:16.026466Z",
     "iopub.status.busy": "2025-01-22T22:10:16.026320Z",
     "iopub.status.idle": "2025-01-22T22:10:16.362900Z",
     "shell.execute_reply": "2025-01-22T22:10:16.362470Z",
     "shell.execute_reply.started": "2025-01-22T22:10:16.026439Z"
    }
   },
   "outputs": [],
   "source": [
    "# LSST Display\n",
    "# The advantage to use firefly is that the firefly display can handle a lotsof images\n",
    "import lsst.afw.display as afwDisplay\n",
    "afwDisplay.setDefaultBackend('firefly')"
   ]
  },
  {
   "cell_type": "markdown",
   "id": "48ec2e7a-36e5-4b68-8da2-b5da1c3f1fba",
   "metadata": {
    "execution": {
     "iopub.execute_input": "2024-10-25T19:17:41.583673Z",
     "iopub.status.busy": "2024-10-25T19:17:41.583538Z",
     "iopub.status.idle": "2024-10-25T19:17:41.585892Z",
     "shell.execute_reply": "2024-10-25T19:17:41.585507Z",
     "shell.execute_reply.started": "2024-10-25T19:17:41.583660Z"
    }
   },
   "source": [
    "## Configuration\n",
    "\n",
    "- Use the tag report to guess the collections in which we exect data :  https://usdf-rsp-dev.slac.stanford.edu/times-square/github/lsst-dm/vv-team-notebooks/TargetReport\n",
    "\n",
    "In the case of LSSTComCam:\n",
    "\n",
    "- https://usdf-rsp-dev.slac.stanford.edu/times-square/github/lsst-dm/vv-team-notebooks/TargetReport?day_obs=2024-10-24&instrument=LSSTComCam&repo=embargo_new&collection=LSSTComCam%2Fprompt%2Foutput-2024-10-24&collection_sky=LSSTComCamSim%2Fruns%2FDRP%2FOR4%2Fw_2024_25%2FDM-45066&skymap_name=ops_rehersal_prep_2k_v1&col_sciprog=science_program&col_target=target&col_filter=filter&col_id=id&ts_hide_code=1"
   ]
  },
  {
   "cell_type": "markdown",
   "id": "6c227935-1121-4c83-8517-b894d288e8b5",
   "metadata": {},
   "source": [
    "### Info from slack channel  #validation_team\n",
    "day_obs:  2025-01-24  \n",
    "instrument:  LSSTComCam  \n",
    "repo:  embargo_new  \n",
    "collection:  LSSTComCam/prompt/output-2024-10-24  \n",
    "collection_sky:  LSSTComCamSim/runs/DRP/OR4/w_2024_25/DM-45066  \n",
    "skymap_name:  ops_rehersal_prep_2k_v1  \n",
    "col_sciprog:  science_program  \n",
    "col_target:  target  \n",
    "col_filter:  filter  \n",
    "col_id:  id"
   ]
  },
  {
   "cell_type": "code",
   "execution_count": null,
   "id": "e7aa9495-baa5-4976-aee1-48c9f63b71ba",
   "metadata": {
    "execution": {
     "iopub.execute_input": "2025-01-22T22:10:16.363826Z",
     "iopub.status.busy": "2025-01-22T22:10:16.363394Z",
     "iopub.status.idle": "2025-01-22T22:10:16.711737Z",
     "shell.execute_reply": "2025-01-22T22:10:16.711297Z",
     "shell.execute_reply.started": "2025-01-22T22:10:16.363813Z"
    }
   },
   "outputs": [],
   "source": [
    "repo = 'embargo'\n",
    "instrument = \"LATISS\"\n",
    "#collection = 'LATISS/prompt/output-2025-01-16'\n",
    "collection = 'LATISS/prompt/output-2025-01-20'\n",
    "\n",
    "butler = Butler(repo)"
   ]
  },
  {
   "cell_type": "markdown",
   "id": "95b5567c-35af-4de1-87e8-2953e4808d2f",
   "metadata": {
    "execution": {
     "iopub.execute_input": "2024-10-25T19:17:41.935759Z",
     "iopub.status.busy": "2024-10-25T19:17:41.935583Z",
     "iopub.status.idle": "2024-10-25T19:17:41.937673Z",
     "shell.execute_reply": "2024-10-25T19:17:41.937341Z",
     "shell.execute_reply.started": "2024-10-25T19:17:41.935746Z"
    }
   },
   "source": [
    "## Query about the collections available\n",
    "\n",
    "- select collections with LSSTComCam"
   ]
  },
  {
   "cell_type": "code",
   "execution_count": null,
   "id": "24e7111f-83c2-4244-a869-c5e7f99494c7",
   "metadata": {
    "execution": {
     "iopub.execute_input": "2025-01-22T22:10:16.712354Z",
     "iopub.status.busy": "2025-01-22T22:10:16.712225Z",
     "iopub.status.idle": "2025-01-22T22:10:17.305512Z",
     "shell.execute_reply": "2025-01-22T22:10:17.305040Z",
     "shell.execute_reply.started": "2025-01-22T22:10:16.712342Z"
    }
   },
   "outputs": [],
   "source": [
    "for _ in butler.registry.queryCollections():\n",
    "    if 'LATISS/' in _:\n",
    "        print(_)"
   ]
  },
  {
   "cell_type": "markdown",
   "id": "9df18f79-accc-4188-a5f9-0e0934263e91",
   "metadata": {},
   "source": [
    "- From the list available today , we probably have to look inside the colleciton `LSSTComCam/nightlyValidation`"
   ]
  },
  {
   "cell_type": "markdown",
   "id": "372d17e7-0a6e-4389-b4bc-9a8c8ad15237",
   "metadata": {},
   "source": [
    "## Select the collection"
   ]
  },
  {
   "cell_type": "code",
   "execution_count": null,
   "id": "da6408e5-0e9d-455c-8df9-9f1ed59e2cac",
   "metadata": {
    "execution": {
     "iopub.execute_input": "2025-01-22T22:10:17.306192Z",
     "iopub.status.busy": "2025-01-22T22:10:17.306062Z",
     "iopub.status.idle": "2025-01-22T22:10:17.308783Z",
     "shell.execute_reply": "2025-01-22T22:10:17.308408Z",
     "shell.execute_reply.started": "2025-01-22T22:10:17.306179Z"
    }
   },
   "outputs": [],
   "source": [
    "#the_collection = \"LSSTComCam/runs/nightlyValidation_20241024_20241025/w_2024_42/DM-47059-test\" \n",
    "#the_collection =   \"LSSTComCam/prompt/output-2024-10-24\"\n",
    "#the_collection = \"LATISS/prompt/output-2025-01-15\"\n",
    "#the_collection = \"LATISS/prompt/output-2025-01-20/Preprocessing/prompt-proto-service-latiss-00119\"\n",
    "#the_collection = \"LATISS/prompt/output-2025-01-16/Isr-cal/prompt-proto-service-latiss-00119\"\n",
    "#the_collection = \"LATISS/prompt/output-2025-01-16\"\n",
    "the_collection = \"LATISS/prompt/output-2025-01-20\""
   ]
  },
  {
   "cell_type": "markdown",
   "id": "c0272ab3-785f-4a90-93fb-e970cffe3cc8",
   "metadata": {},
   "source": [
    "## Create the butler on the selected collection"
   ]
  },
  {
   "cell_type": "code",
   "execution_count": null,
   "id": "7bd8df52-dc45-4270-8935-f4acc36046f9",
   "metadata": {
    "execution": {
     "iopub.execute_input": "2025-01-22T22:10:17.309329Z",
     "iopub.status.busy": "2025-01-22T22:10:17.309214Z",
     "iopub.status.idle": "2025-01-22T22:10:17.456570Z",
     "shell.execute_reply": "2025-01-22T22:10:17.456182Z",
     "shell.execute_reply.started": "2025-01-22T22:10:17.309318Z"
    }
   },
   "outputs": [],
   "source": [
    "butler = Butler(repo, collections=the_collection)\n",
    "registry = butler.registry"
   ]
  },
  {
   "cell_type": "code",
   "execution_count": null,
   "id": "8cf2d6d3-4288-470c-8e79-2340e793a353",
   "metadata": {
    "execution": {
     "iopub.execute_input": "2025-01-22T22:10:17.457283Z",
     "iopub.status.busy": "2025-01-22T22:10:17.457028Z",
     "iopub.status.idle": "2025-01-22T22:10:43.623611Z",
     "shell.execute_reply": "2025-01-22T22:10:43.623235Z",
     "shell.execute_reply.started": "2025-01-22T22:10:17.457267Z"
    }
   },
   "outputs": [],
   "source": [
    "for datasetType in registry.queryDatasetTypes():\n",
    "    if registry.queryDatasets(datasetType, collections= the_collection).any(execute=False, exact=False):\n",
    "        # Limit search results to the data products\n",
    "        if ('_config' not in datasetType.name) and ('_log' not in datasetType.name) and ('_metadata' not in datasetType.name) and ('_resource_usage' not in datasetType.name):\n",
    "            print(datasetType)"
   ]
  },
  {
   "cell_type": "markdown",
   "id": "e6499567-c915-4cf0-a281-cecdde970493",
   "metadata": {},
   "source": [
    "- Notice no visit-Table is available. Thus to know which visiId are existing, we will use the registry later"
   ]
  },
  {
   "cell_type": "markdown",
   "id": "d90681b8-bb52-4227-b4db-6bb2c6be0fc7",
   "metadata": {},
   "source": [
    "## Extract the list of visitId from the butler's registry "
   ]
  },
  {
   "cell_type": "markdown",
   "id": "45ff66dc-6576-4daa-ad20-db353e751e06",
   "metadata": {},
   "source": [
    "### Get the list of information that can be extracted from the registryfor each exposure"
   ]
  },
  {
   "cell_type": "code",
   "execution_count": null,
   "id": "3805631a-a005-45eb-a7ef-bcbd0ddeda94",
   "metadata": {
    "execution": {
     "iopub.execute_input": "2025-01-22T22:10:43.624152Z",
     "iopub.status.busy": "2025-01-22T22:10:43.624024Z",
     "iopub.status.idle": "2025-01-22T22:10:43.626677Z",
     "shell.execute_reply": "2025-01-22T22:10:43.626363Z",
     "shell.execute_reply.started": "2025-01-22T22:10:43.624139Z"
    }
   },
   "outputs": [],
   "source": [
    "print(registry.dimensions[\"exposure\"].RecordClass.fields)"
   ]
  },
  {
   "cell_type": "markdown",
   "id": "417fb6a0-eafe-4b87-b321-819589292cd3",
   "metadata": {},
   "source": [
    "### Create the pandas dataframe from the information inside the butler's registry"
   ]
  },
  {
   "cell_type": "code",
   "execution_count": null,
   "id": "9ab1d265-5fc9-459a-bd6e-7687ac4908bc",
   "metadata": {
    "execution": {
     "iopub.execute_input": "2025-01-22T22:10:43.627146Z",
     "iopub.status.busy": "2025-01-22T22:10:43.627031Z",
     "iopub.status.idle": "2025-01-22T22:10:43.634615Z",
     "shell.execute_reply": "2025-01-22T22:10:43.634276Z",
     "shell.execute_reply.started": "2025-01-22T22:10:43.627135Z"
    }
   },
   "outputs": [],
   "source": [
    "df_exposure = pd.DataFrame(columns=['id', 'obs_id','day_obs', 'seq_num','time_start','time_end' ,'type', 'target','filter','zenith_angle','expos','ra','dec','skyangle','azimuth','zenith','science_program','jd','mjd'])"
   ]
  },
  {
   "cell_type": "markdown",
   "id": "6a5b2ba6-c302-4578-9f53-55a021de1028",
   "metadata": {},
   "source": [
    "### Fill the pandas dataframe from the records inside the butler's registry for each exposure"
   ]
  },
  {
   "cell_type": "code",
   "execution_count": null,
   "id": "c217fbbc-e421-471e-a007-76d1e9ea6d1b",
   "metadata": {
    "execution": {
     "iopub.execute_input": "2025-01-22T22:10:43.635083Z",
     "iopub.status.busy": "2025-01-22T22:10:43.634967Z",
     "iopub.status.idle": "2025-01-22T22:10:43.640659Z",
     "shell.execute_reply": "2025-01-22T22:10:43.640330Z",
     "shell.execute_reply.started": "2025-01-22T22:10:43.635072Z"
    }
   },
   "outputs": [],
   "source": [
    "where_expr = \"instrument='LATISS' AND exposure.day_obs>=20250101\""
   ]
  },
  {
   "cell_type": "code",
   "execution_count": null,
   "id": "1605f2e1-9810-4003-a8d8-ed48e3b72620",
   "metadata": {
    "execution": {
     "iopub.execute_input": "2025-01-22T22:10:43.641173Z",
     "iopub.status.busy": "2025-01-22T22:10:43.641050Z",
     "iopub.status.idle": "2025-01-22T22:10:58.736434Z",
     "shell.execute_reply": "2025-01-22T22:10:58.735976Z",
     "shell.execute_reply.started": "2025-01-22T22:10:43.641162Z"
    }
   },
   "outputs": [],
   "source": [
    "for count, info in enumerate(registry.queryDimensionRecords('exposure',where = where_expr)):  \n",
    "    try:\n",
    "        id_ = info.id\n",
    "        obs_id_ = info.obs_id\n",
    "        day_obs_ = info.day_obs\n",
    "        seq_num_ = info.seq_num\n",
    "        timespan_ = info.timespan\n",
    "\n",
    "        timespan_begin_ = pd.to_datetime(info.timespan.begin.to_datetime())\n",
    "        timespan_end_ = pd.to_datetime(info.timespan.end.to_datetime())\n",
    "        timespan_jd_ = timespan_.begin.jd\n",
    "        timespan_mjd_ = timespan_.begin.mjd\n",
    "        \n",
    "        \n",
    "        df_exposure.loc[count] = [info.id, info.obs_id, info.day_obs, info.seq_num,timespan_begin_,timespan_end_ ,info.observation_type, info.target_name, info.physical_filter, info.zenith_angle, \\\n",
    "                             info.exposure_time,info.tracking_ra, info.tracking_dec, info.sky_angle,info.azimuth ,info.zenith_angle, info.science_program,\n",
    "                             timespan_jd_,timespan_mjd_  ]\n",
    "    except:\n",
    "        print(\">>>   Unexpected error:\", sys.exc_info()[0])\n",
    "        info_timespan_begin_to_string = \"2021-01-01 00:00:00.00\"\n",
    "        info_timespan_end_to_string = \"2051-01-01 00:00:00.00\"\n",
    "        info_timespan_begin_jd = 0\n",
    "        info_timespan_begin_mjd = 0\n",
    "        df_exposure.loc[count] = [info.id, info.obs_id, info.day_obs, info.seq_num,\n",
    "                                  pd.to_datetime(info_timespan_begin_to_string),\n",
    "                                  pd.to_datetime(info_timespan_end_to_string) ,\n",
    "                                  info.observation_type, info.target_name, \n",
    "                                  info.physical_filter, info.zenith_angle, \\\n",
    "                             info.exposure_time,info.tracking_ra, info.tracking_dec, info.sky_angle,info.azimuth ,info.zenith_angle, info.science_program,\n",
    "                             info_timespan_begin_jd,info_timespan_begin_mjd ]\n",
    " \n",
    "    \n",
    "    if count < 2:\n",
    "        print(\"-----------------------------------------------------\",count,\"---------------------------------------------------------\")\n",
    "        print(info)\n",
    "        print(\"\\t id:                  \",info.id)\n",
    "        print(\"\\t day_obs:             \",info.day_obs)\n",
    "        print(\"\\t seq_num:             \",info.seq_num)\n",
    "        print(\"\\t type-of-observation: \",info.observation_type)\n",
    "        print(\"\\t target:              \",info.target_name)\n",
    "\n",
    "        timespan_ = info.timespan\n",
    "        timespan_begin_ = pd.to_datetime(info.timespan.begin.to_datetime())\n",
    "        timespan_end_ = pd.to_datetime(info.timespan.end.to_datetime())\n",
    "        timespan_jd_ = timespan_.begin.jd\n",
    "        timespan_mjd_ = timespan_.begin.mjd\n",
    "        \n",
    "        mjd = timespan_mjd_ \n",
    "        jd = timespan_jd_ \n",
    "        print(\"MJD,JD : \",mjd,jd)"
   ]
  },
  {
   "cell_type": "markdown",
   "id": "4e941a71-f599-4339-b51a-3cd565e9a9b9",
   "metadata": {},
   "source": [
    "#### convert some columns into integer"
   ]
  },
  {
   "cell_type": "code",
   "execution_count": null,
   "id": "dd17b159-8658-4247-8bdf-a2900d5dcbe3",
   "metadata": {
    "execution": {
     "iopub.execute_input": "2025-01-22T22:10:58.737401Z",
     "iopub.status.busy": "2025-01-22T22:10:58.737270Z",
     "iopub.status.idle": "2025-01-22T22:10:58.742519Z",
     "shell.execute_reply": "2025-01-22T22:10:58.742118Z",
     "shell.execute_reply.started": "2025-01-22T22:10:58.737389Z"
    }
   },
   "outputs": [],
   "source": [
    "df_exposure = df_exposure.astype({\"id\": int,'day_obs': int,'seq_num':int})"
   ]
  },
  {
   "cell_type": "markdown",
   "id": "31bc3a72-c798-450d-b966-9927cf309958",
   "metadata": {},
   "source": [
    "### Find the different type of exposures"
   ]
  },
  {
   "cell_type": "code",
   "execution_count": null,
   "id": "19ec676c-4b91-4d3f-8810-b893567ad2d7",
   "metadata": {
    "execution": {
     "iopub.execute_input": "2025-01-22T22:10:58.743082Z",
     "iopub.status.busy": "2025-01-22T22:10:58.742962Z",
     "iopub.status.idle": "2025-01-22T22:10:58.749397Z",
     "shell.execute_reply": "2025-01-22T22:10:58.749012Z",
     "shell.execute_reply.started": "2025-01-22T22:10:58.743071Z"
    }
   },
   "outputs": [],
   "source": [
    "df_exposure[\"type\"].unique()"
   ]
  },
  {
   "cell_type": "markdown",
   "id": "bdb87a21-ca50-47fd-b593-b88ae5eea1e1",
   "metadata": {},
   "source": [
    "### Select the science exposure"
   ]
  },
  {
   "cell_type": "code",
   "execution_count": null,
   "id": "bd7aeb1d-a231-45b6-bac7-1d2e9ca3486e",
   "metadata": {
    "execution": {
     "iopub.execute_input": "2025-01-22T22:10:58.749911Z",
     "iopub.status.busy": "2025-01-22T22:10:58.749792Z",
     "iopub.status.idle": "2025-01-22T22:10:58.756331Z",
     "shell.execute_reply": "2025-01-22T22:10:58.755977Z",
     "shell.execute_reply.started": "2025-01-22T22:10:58.749900Z"
    }
   },
   "outputs": [],
   "source": [
    "df_science = df_exposure[df_exposure.type == 'science']"
   ]
  },
  {
   "cell_type": "code",
   "execution_count": null,
   "id": "ab66d2f4-590c-4d87-a736-1829b5c83e53",
   "metadata": {
    "execution": {
     "iopub.execute_input": "2025-01-22T22:10:58.756887Z",
     "iopub.status.busy": "2025-01-22T22:10:58.756770Z",
     "iopub.status.idle": "2025-01-22T22:10:58.774697Z",
     "shell.execute_reply": "2025-01-22T22:10:58.773843Z",
     "shell.execute_reply.started": "2025-01-22T22:10:58.756876Z"
    }
   },
   "outputs": [],
   "source": [
    "df_science"
   ]
  },
  {
   "cell_type": "markdown",
   "id": "9557b6ab-c154-43aa-9d95-7811d96ac33f",
   "metadata": {},
   "source": [
    "## Select the Photometry"
   ]
  },
  {
   "cell_type": "code",
   "execution_count": null,
   "id": "83008a34-c992-45a6-bc6d-fc4b19b300a4",
   "metadata": {
    "execution": {
     "iopub.execute_input": "2025-01-22T22:10:58.776982Z",
     "iopub.status.busy": "2025-01-22T22:10:58.776771Z",
     "iopub.status.idle": "2025-01-22T22:10:58.780153Z",
     "shell.execute_reply": "2025-01-22T22:10:58.779807Z",
     "shell.execute_reply.started": "2025-01-22T22:10:58.776968Z"
    }
   },
   "outputs": [],
   "source": [
    "df_science[\"science_program\"].unique()"
   ]
  },
  {
   "cell_type": "code",
   "execution_count": null,
   "id": "3836b576-bf2e-46f4-99d5-436924f8417a",
   "metadata": {
    "execution": {
     "iopub.execute_input": "2025-01-22T22:10:58.780664Z",
     "iopub.status.busy": "2025-01-22T22:10:58.780546Z",
     "iopub.status.idle": "2025-01-22T22:10:58.786717Z",
     "shell.execute_reply": "2025-01-22T22:10:58.786317Z",
     "shell.execute_reply.started": "2025-01-22T22:10:58.780653Z"
    }
   },
   "outputs": [],
   "source": [
    "df_science = df_science[df_science[\"science_program\"] ==  'BLOCK-306']"
   ]
  },
  {
   "cell_type": "code",
   "execution_count": null,
   "id": "c31f01fe-9a97-4c6d-b612-8296f381ec15",
   "metadata": {
    "execution": {
     "iopub.execute_input": "2025-01-22T22:10:58.787303Z",
     "iopub.status.busy": "2025-01-22T22:10:58.787174Z",
     "iopub.status.idle": "2025-01-22T22:10:58.802386Z",
     "shell.execute_reply": "2025-01-22T22:10:58.802002Z",
     "shell.execute_reply.started": "2025-01-22T22:10:58.787292Z"
    }
   },
   "outputs": [],
   "source": [
    "df_science"
   ]
  },
  {
   "cell_type": "markdown",
   "id": "09487497-597a-4660-b000-11a42f3b425f",
   "metadata": {},
   "source": [
    "## Example for viewing one image"
   ]
  },
  {
   "cell_type": "code",
   "execution_count": null,
   "id": "c7b21574-a44e-4279-afc0-6de1a7206553",
   "metadata": {
    "execution": {
     "iopub.execute_input": "2025-01-22T22:10:58.802980Z",
     "iopub.status.busy": "2025-01-22T22:10:58.802855Z",
     "iopub.status.idle": "2025-01-22T22:10:58.853122Z",
     "shell.execute_reply": "2025-01-22T22:10:58.852732Z",
     "shell.execute_reply.started": "2025-01-22T22:10:58.802969Z"
    }
   },
   "outputs": [],
   "source": [
    "records = list(butler.registry.queryDimensionRecords('visit', datasets='postISRCCD', where=where_expr,  collections=the_collection))\n",
    "refs = list(set(butler.registry.queryDatasets('postISRCCD',  where=where_expr,  collections=the_collection)))"
   ]
  },
  {
   "cell_type": "markdown",
   "id": "17f15b65-1d73-4395-9499-f16813882a36",
   "metadata": {},
   "source": [
    "### Select a date and a visitId"
   ]
  },
  {
   "cell_type": "markdown",
   "id": "74bd6bb8-097c-4800-85b1-596d0b21da26",
   "metadata": {},
   "source": [
    "### Extract the exposures postiSRCCD form the selected visitID"
   ]
  },
  {
   "cell_type": "code",
   "execution_count": null,
   "id": "5a7c090f-dd03-411f-a29c-9488bcb4459d",
   "metadata": {
    "execution": {
     "iopub.execute_input": "2025-01-22T22:10:58.853718Z",
     "iopub.status.busy": "2025-01-22T22:10:58.853596Z",
     "iopub.status.idle": "2025-01-22T22:11:12.920941Z",
     "shell.execute_reply": "2025-01-22T22:11:12.920589Z",
     "shell.execute_reply.started": "2025-01-22T22:10:58.853707Z"
    }
   },
   "outputs": [],
   "source": [
    "#where_clause = f\"instrument=\\'LATISS\\' AND exposure.day_obs={DATE}\"\n",
    "#dataId = {'visit': visitId, 'instrument':instrument}\n",
    "#datasetRefs = registry.queryDatasets('postISRCCD', dataId=dataId, collections  = the_collection)\n",
    "datasetRefs = registry.queryDatasets('postISRCCD',  where=where_expr, collections  = the_collection)\n",
    "# one dictionnary for the focal surface\n",
    "title_dict = {}\n",
    "postisr_dict = {}\n",
    "\n",
    "for i, ref in enumerate(datasetRefs):\n",
    "    exposure = ref.dataId[\"exposure\"]\n",
    "    detector = ref.dataId[\"detector\"]\n",
    "    physical_filter = ref.dataId[\"physical_filter\"]\n",
    "    postisrccd  = butler.get(ref)\n",
    "    print(ref.dataId,postisrccd)\n",
    "    the_title = f\"id : {exposure}, det = {detector}, b = {physical_filter}\"\n",
    "    title_dict[exposure] = the_title\n",
    "    postisr_dict[exposure]  =  postisrccd \n",
    "N = len(title_dict)\n",
    "print(f\"Number of images = {N}\")"
   ]
  },
  {
   "cell_type": "code",
   "execution_count": null,
   "id": "237a05b2-c722-4704-96db-12153970e40b",
   "metadata": {
    "execution": {
     "iopub.execute_input": "2025-01-22T22:11:12.921498Z",
     "iopub.status.busy": "2025-01-22T22:11:12.921357Z",
     "iopub.status.idle": "2025-01-22T22:11:12.924169Z",
     "shell.execute_reply": "2025-01-22T22:11:12.923868Z",
     "shell.execute_reply.started": "2025-01-22T22:11:12.921485Z"
    }
   },
   "outputs": [],
   "source": [
    "N"
   ]
  },
  {
   "cell_type": "code",
   "execution_count": null,
   "id": "35ff5b78-2a7e-4780-97cc-3b82030ab314",
   "metadata": {
    "execution": {
     "iopub.execute_input": "2025-01-22T22:11:12.924652Z",
     "iopub.status.busy": "2025-01-22T22:11:12.924531Z",
     "iopub.status.idle": "2025-01-22T22:11:12.929760Z",
     "shell.execute_reply": "2025-01-22T22:11:12.929465Z",
     "shell.execute_reply.started": "2025-01-22T22:11:12.924641Z"
    }
   },
   "outputs": [],
   "source": [
    "list_of_exposures = list(title_dict.keys())"
   ]
  },
  {
   "cell_type": "markdown",
   "id": "690a075e-e4f9-4016-bcf6-dc9d69ac1aeb",
   "metadata": {
    "execution": {
     "iopub.status.busy": "2024-10-25T19:43:36.665728Z",
     "iopub.status.idle": "2024-10-25T19:43:36.665892Z",
     "shell.execute_reply": "2024-10-25T19:43:36.665814Z",
     "shell.execute_reply.started": "2024-10-25T19:43:36.665807Z"
    }
   },
   "source": [
    "## View all the images of the focal surface for that vist\n",
    "\n",
    "- would need the mosaic for the focal surface"
   ]
  },
  {
   "cell_type": "code",
   "execution_count": null,
   "id": "b5cfdd8f-6ca2-4d2d-83c8-5a1426b0d653",
   "metadata": {
    "execution": {
     "iopub.execute_input": "2025-01-22T22:11:12.930243Z",
     "iopub.status.busy": "2025-01-22T22:11:12.930126Z",
     "iopub.status.idle": "2025-01-22T22:11:23.567613Z",
     "shell.execute_reply": "2025-01-22T22:11:23.567165Z",
     "shell.execute_reply.started": "2025-01-22T22:11:12.930232Z"
    }
   },
   "outputs": [],
   "source": [
    "for count, expos in enumerate(list_of_exposures):\n",
    "    display = afwDisplay.Display(frame=count)\n",
    "    display.scale('asinh', 'zscale')\n",
    "    display.mtv(postisr_dict[expos].image,title=title_dict[expos])"
   ]
  },
  {
   "cell_type": "code",
   "execution_count": null,
   "id": "d887b73a-b144-4d77-9199-175ae22c16a5",
   "metadata": {
    "execution": {
     "iopub.execute_input": "2025-01-22T22:11:23.568234Z",
     "iopub.status.busy": "2025-01-22T22:11:23.568106Z",
     "iopub.status.idle": "2025-01-22T22:11:23.760368Z",
     "shell.execute_reply": "2025-01-22T22:11:23.759845Z",
     "shell.execute_reply.started": "2025-01-22T22:11:23.568222Z"
    }
   },
   "outputs": [],
   "source": [
    "assert False"
   ]
  },
  {
   "cell_type": "code",
   "execution_count": null,
   "id": "2a62b411-4f8d-4a3f-87bb-de2209c31f47",
   "metadata": {
    "execution": {
     "iopub.status.busy": "2025-01-22T22:11:23.760708Z",
     "iopub.status.idle": "2025-01-22T22:11:23.760866Z",
     "shell.execute_reply": "2025-01-22T22:11:23.760791Z",
     "shell.execute_reply.started": "2025-01-22T22:11:23.760783Z"
    }
   },
   "outputs": [],
   "source": [
    "display.clearViewer() \n",
    "afwDisplay.setDefaultBackend('firefly')"
   ]
  },
  {
   "cell_type": "code",
   "execution_count": null,
   "id": "5e96257c-f2fc-4af4-b94d-74dcb562bf63",
   "metadata": {},
   "outputs": [],
   "source": []
  }
 ],
 "metadata": {
  "kernelspec": {
   "display_name": "LSST",
   "language": "python",
   "name": "lsst"
  },
  "language_info": {
   "codemirror_mode": {
    "name": "ipython",
    "version": 3
   },
   "file_extension": ".py",
   "mimetype": "text/x-python",
   "name": "python",
   "nbconvert_exporter": "python",
   "pygments_lexer": "ipython3",
   "version": "3.11.9"
  }
 },
 "nbformat": 4,
 "nbformat_minor": 5
}
