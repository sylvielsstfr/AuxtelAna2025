{
 "cells": [
  {
   "cell_type": "markdown",
   "id": "30c9f2ef-550a-4b4f-8411-7224adc5b98b",
   "metadata": {},
   "source": [
    "# Very First Look at very first LATISS PostISRCCD in photometry with firefly\n",
    "\n",
    "- Goal verification of early data : First night\n",
    "- Restart the Kernel first"
   ]
  },
  {
   "cell_type": "markdown",
   "id": "f1e111e8-ccbc-4602-b8ab-392fe9f8812a",
   "metadata": {
    "execution": {
     "iopub.execute_input": "2024-10-25T18:35:28.020312Z",
     "iopub.status.busy": "2024-10-25T18:35:28.019985Z",
     "iopub.status.idle": "2024-10-25T18:35:28.023846Z",
     "shell.execute_reply": "2024-10-25T18:35:28.023258Z",
     "shell.execute_reply.started": "2024-10-25T18:35:28.020294Z"
    }
   },
   "source": [
    "- author : Sylvie Dagoret-campagne\n",
    "- affiliation : IJCLab/in2p3/CNRS\n",
    "- creation date : 2025-01-22\n",
    "- update : 2025-01-22\n",
    "- last update : 2025-01-22 : fix the date decoding (w_2024_50)"
   ]
  },
  {
   "cell_type": "code",
   "execution_count": null,
   "id": "b04f3879-f5d5-4e7e-8496-21056d10be1d",
   "metadata": {
    "execution": {
     "iopub.execute_input": "2025-01-23T09:57:46.856648Z",
     "iopub.status.busy": "2025-01-23T09:57:46.856528Z",
     "iopub.status.idle": "2025-01-23T09:57:49.292432Z",
     "shell.execute_reply": "2025-01-23T09:57:49.291958Z",
     "shell.execute_reply.started": "2025-01-23T09:57:46.856635Z"
    }
   },
   "outputs": [],
   "source": [
    "import matplotlib.pyplot as plt\n",
    "import matplotlib as mpl\n",
    "import matplotlib.dates as mdates\n",
    "import matplotlib.ticker\n",
    "from mpl_toolkits.axes_grid1 import make_axes_locatable\n",
    "from matplotlib.colors import LogNorm, SymLogNorm\n",
    "from matplotlib.colors import ListedColormap\n",
    "from matplotlib import colors\n",
    "\n",
    "%matplotlib inline\n",
    "import numpy as np\n",
    "import pandas as pd\n",
    "import matplotlib.gridspec as gridspec\n",
    "from spectractor.tools import from_lambda_to_colormap, wavelength_to_rgb\n",
    "\n",
    "# %matplotlib widget\n",
    "import h5py\n",
    "from scipy import interpolate\n",
    "from astropy.time import Time\n",
    "from datetime import datetime, timedelta\n",
    "import seaborn as sns\n",
    "\n",
    "from itertools import cycle, islice\n",
    "import os"
   ]
  },
  {
   "cell_type": "code",
   "execution_count": null,
   "id": "18068db4-c33c-43c5-bd12-58ff250d7a02",
   "metadata": {
    "execution": {
     "iopub.execute_input": "2025-01-23T09:57:49.293655Z",
     "iopub.status.busy": "2025-01-23T09:57:49.292900Z",
     "iopub.status.idle": "2025-01-23T09:57:49.296503Z",
     "shell.execute_reply": "2025-01-23T09:57:49.296069Z",
     "shell.execute_reply.started": "2025-01-23T09:57:49.293640Z"
    }
   },
   "outputs": [],
   "source": [
    "plt.rcParams[\"figure.figsize\"] = (18, 8)\n",
    "plt.rcParams[\"axes.labelsize\"] = \"xx-large\"\n",
    "plt.rcParams[\"axes.titlesize\"] = \"xx-large\"\n",
    "plt.rcParams[\"xtick.labelsize\"] = \"xx-large\"\n",
    "plt.rcParams[\"ytick.labelsize\"] = \"xx-large\"\n",
    "plt.rcParams[\"legend.fontsize\"] = 12\n",
    "plt.rcParams[\"font.size\"] = 12"
   ]
  },
  {
   "cell_type": "code",
   "execution_count": null,
   "id": "611a8607-3ac5-4853-b270-f703f13e518b",
   "metadata": {
    "execution": {
     "iopub.execute_input": "2025-01-23T09:57:49.297065Z",
     "iopub.status.busy": "2025-01-23T09:57:49.296941Z",
     "iopub.status.idle": "2025-01-23T09:57:49.302992Z",
     "shell.execute_reply": "2025-01-23T09:57:49.302593Z",
     "shell.execute_reply.started": "2025-01-23T09:57:49.297052Z"
    }
   },
   "outputs": [],
   "source": [
    "from matplotlib.ticker import MultipleLocator, FormatStrFormatter, AutoMinorLocator\n",
    "\n",
    "from astropy.visualization import (\n",
    "    MinMaxInterval,\n",
    "    SqrtStretch,\n",
    "    ZScaleInterval,\n",
    "    PercentileInterval,\n",
    "    ImageNormalize,\n",
    "    imshow_norm,\n",
    ")\n",
    "from astropy.visualization.stretch import (\n",
    "    SinhStretch,\n",
    "    LinearStretch,\n",
    "    AsinhStretch,\n",
    "    LogStretch,\n",
    ")\n",
    "\n",
    "transform = AsinhStretch() + PercentileInterval(99.0)"
   ]
  },
  {
   "cell_type": "code",
   "execution_count": null,
   "id": "fc0c0153-7a40-4166-bf13-46645d734aef",
   "metadata": {
    "execution": {
     "iopub.execute_input": "2025-01-23T09:57:49.304342Z",
     "iopub.status.busy": "2025-01-23T09:57:49.304219Z",
     "iopub.status.idle": "2025-01-23T09:57:50.058621Z",
     "shell.execute_reply": "2025-01-23T09:57:50.058171Z",
     "shell.execute_reply.started": "2025-01-23T09:57:49.304329Z"
    }
   },
   "outputs": [],
   "source": [
    "from lsst.daf.butler import Butler\n",
    "import astropy.units as u\n",
    "import numpy as np\n",
    "import pandas as pd\n",
    "\n",
    "pd.set_option(\"display.max_columns\", None)\n",
    "from astropy.time import Time\n",
    "\n",
    "import scipy.stats\n",
    "\n",
    "import matplotlib\n",
    "\n",
    "%matplotlib inline\n",
    "from matplotlib import pyplot as plt"
   ]
  },
  {
   "cell_type": "code",
   "execution_count": null,
   "id": "ac174b05-2a02-41dc-a03d-bc613305f874",
   "metadata": {
    "execution": {
     "iopub.execute_input": "2025-01-23T09:57:50.059259Z",
     "iopub.status.busy": "2025-01-23T09:57:50.059119Z",
     "iopub.status.idle": "2025-01-23T09:57:50.387960Z",
     "shell.execute_reply": "2025-01-23T09:57:50.387535Z",
     "shell.execute_reply.started": "2025-01-23T09:57:50.059245Z"
    }
   },
   "outputs": [],
   "source": [
    "# LSST Display\n",
    "# The advantage to use firefly is that the firefly display can handle a lotsof images\n",
    "import lsst.afw.display as afwDisplay\n",
    "\n",
    "afwDisplay.setDefaultBackend(\"firefly\")"
   ]
  },
  {
   "cell_type": "markdown",
   "id": "48ec2e7a-36e5-4b68-8da2-b5da1c3f1fba",
   "metadata": {
    "execution": {
     "iopub.execute_input": "2024-10-25T19:17:41.583673Z",
     "iopub.status.busy": "2024-10-25T19:17:41.583538Z",
     "iopub.status.idle": "2024-10-25T19:17:41.585892Z",
     "shell.execute_reply": "2024-10-25T19:17:41.585507Z",
     "shell.execute_reply.started": "2024-10-25T19:17:41.583660Z"
    }
   },
   "source": [
    "## Configuration\n",
    "\n",
    "- Use the tag report to guess the collections in which we exect data :  https://usdf-rsp-dev.slac.stanford.edu/times-square/github/lsst-dm/vv-team-notebooks/TargetReport\n",
    "\n",
    "In the case of LSSTComCam:\n",
    "\n",
    "- https://usdf-rsp-dev.slac.stanford.edu/times-square/github/lsst-dm/vv-team-notebooks/TargetReport?day_obs=2024-10-24&instrument=LSSTComCam&repo=embargo_new&collection=LSSTComCam%2Fprompt%2Foutput-2024-10-24&collection_sky=LSSTComCamSim%2Fruns%2FDRP%2FOR4%2Fw_2024_25%2FDM-45066&skymap_name=ops_rehersal_prep_2k_v1&col_sciprog=science_program&col_target=target&col_filter=filter&col_id=id&ts_hide_code=1"
   ]
  },
  {
   "cell_type": "markdown",
   "id": "6c227935-1121-4c83-8517-b894d288e8b5",
   "metadata": {},
   "source": [
    "### Info from slack channel  #validation_team\n",
    "day_obs:  2025-01-24  \n",
    "instrument:  LSSTComCam  \n",
    "repo:  embargo_new  \n",
    "collection:  LSSTComCam/prompt/output-2024-10-24  \n",
    "collection_sky:  LSSTComCamSim/runs/DRP/OR4/w_2024_25/DM-45066  \n",
    "skymap_name:  ops_rehersal_prep_2k_v1  \n",
    "col_sciprog:  science_program  \n",
    "col_target:  target  \n",
    "col_filter:  filter  \n",
    "col_id:  id"
   ]
  },
  {
   "cell_type": "code",
   "execution_count": null,
   "id": "e7aa9495-baa5-4976-aee1-48c9f63b71ba",
   "metadata": {
    "execution": {
     "iopub.execute_input": "2025-01-23T09:57:50.388984Z",
     "iopub.status.busy": "2025-01-23T09:57:50.388472Z",
     "iopub.status.idle": "2025-01-23T09:57:50.760238Z",
     "shell.execute_reply": "2025-01-23T09:57:50.759813Z",
     "shell.execute_reply.started": "2025-01-23T09:57:50.388968Z"
    }
   },
   "outputs": [],
   "source": [
    "repo = \"embargo\"\n",
    "instrument = \"LATISS\"\n",
    "# collection = 'LATISS/prompt/output-2025-01-16'\n",
    "collection = \"LATISS/prompt/output-2025-01-20\"\n",
    "\n",
    "butler = Butler(repo)"
   ]
  },
  {
   "cell_type": "markdown",
   "id": "95b5567c-35af-4de1-87e8-2953e4808d2f",
   "metadata": {
    "execution": {
     "iopub.execute_input": "2024-10-25T19:17:41.935759Z",
     "iopub.status.busy": "2024-10-25T19:17:41.935583Z",
     "iopub.status.idle": "2024-10-25T19:17:41.937673Z",
     "shell.execute_reply": "2024-10-25T19:17:41.937341Z",
     "shell.execute_reply.started": "2024-10-25T19:17:41.935746Z"
    }
   },
   "source": [
    "## Query about the collections available\n",
    "\n",
    "- select collections with LSSTComCam"
   ]
  },
  {
   "cell_type": "code",
   "execution_count": null,
   "id": "24e7111f-83c2-4244-a869-c5e7f99494c7",
   "metadata": {
    "execution": {
     "iopub.execute_input": "2025-01-23T09:57:50.760862Z",
     "iopub.status.busy": "2025-01-23T09:57:50.760731Z",
     "iopub.status.idle": "2025-01-23T09:57:51.339149Z",
     "shell.execute_reply": "2025-01-23T09:57:51.338668Z",
     "shell.execute_reply.started": "2025-01-23T09:57:50.760849Z"
    }
   },
   "outputs": [],
   "source": [
    "for _ in butler.registry.queryCollections():\n",
    "    if \"LATISS/\" in _:\n",
    "        print(_)"
   ]
  },
  {
   "cell_type": "markdown",
   "id": "9df18f79-accc-4188-a5f9-0e0934263e91",
   "metadata": {},
   "source": [
    "- From the list available today , we probably have to look inside the colleciton `LSSTComCam/nightlyValidation`"
   ]
  },
  {
   "cell_type": "markdown",
   "id": "372d17e7-0a6e-4389-b4bc-9a8c8ad15237",
   "metadata": {},
   "source": [
    "## Select the collection"
   ]
  },
  {
   "cell_type": "code",
   "execution_count": null,
   "id": "da6408e5-0e9d-455c-8df9-9f1ed59e2cac",
   "metadata": {
    "execution": {
     "iopub.execute_input": "2025-01-23T09:57:51.339822Z",
     "iopub.status.busy": "2025-01-23T09:57:51.339678Z",
     "iopub.status.idle": "2025-01-23T09:57:51.342157Z",
     "shell.execute_reply": "2025-01-23T09:57:51.341807Z",
     "shell.execute_reply.started": "2025-01-23T09:57:51.339808Z"
    }
   },
   "outputs": [],
   "source": [
    "# the_collection = \"LSSTComCam/runs/nightlyValidation_20241024_20241025/w_2024_42/DM-47059-test\"\n",
    "# the_collection =   \"LSSTComCam/prompt/output-2024-10-24\"\n",
    "# the_collection = \"LATISS/prompt/output-2025-01-15\"\n",
    "# the_collection = \"LATISS/prompt/output-2025-01-20/Preprocessing/prompt-proto-service-latiss-00119\"\n",
    "# the_collection = \"LATISS/prompt/output-2025-01-16/Isr-cal/prompt-proto-service-latiss-00119\"\n",
    "# the_collection = \"LATISS/prompt/output-2025-01-16\"\n",
    "the_collection = \"LATISS/prompt/output-2025-01-20\""
   ]
  },
  {
   "cell_type": "markdown",
   "id": "c0272ab3-785f-4a90-93fb-e970cffe3cc8",
   "metadata": {},
   "source": [
    "## Create the butler on the selected collection"
   ]
  },
  {
   "cell_type": "code",
   "execution_count": null,
   "id": "7bd8df52-dc45-4270-8935-f4acc36046f9",
   "metadata": {
    "execution": {
     "iopub.execute_input": "2025-01-23T09:57:51.342797Z",
     "iopub.status.busy": "2025-01-23T09:57:51.342570Z",
     "iopub.status.idle": "2025-01-23T09:57:51.524935Z",
     "shell.execute_reply": "2025-01-23T09:57:51.524453Z",
     "shell.execute_reply.started": "2025-01-23T09:57:51.342783Z"
    }
   },
   "outputs": [],
   "source": [
    "butler = Butler(repo, collections=the_collection)\n",
    "registry = butler.registry"
   ]
  },
  {
   "cell_type": "code",
   "execution_count": null,
   "id": "8cf2d6d3-4288-470c-8e79-2340e793a353",
   "metadata": {
    "execution": {
     "iopub.execute_input": "2025-01-23T09:57:51.525800Z",
     "iopub.status.busy": "2025-01-23T09:57:51.525595Z",
     "iopub.status.idle": "2025-01-23T09:58:18.945890Z",
     "shell.execute_reply": "2025-01-23T09:58:18.945446Z",
     "shell.execute_reply.started": "2025-01-23T09:57:51.525781Z"
    }
   },
   "outputs": [],
   "source": [
    "for datasetType in registry.queryDatasetTypes():\n",
    "    if registry.queryDatasets(datasetType, collections=the_collection).any(\n",
    "        execute=False, exact=False\n",
    "    ):\n",
    "        # Limit search results to the data products\n",
    "        if (\n",
    "            (\"_config\" not in datasetType.name)\n",
    "            and (\"_log\" not in datasetType.name)\n",
    "            and (\"_metadata\" not in datasetType.name)\n",
    "            and (\"_resource_usage\" not in datasetType.name)\n",
    "        ):\n",
    "            print(datasetType)"
   ]
  },
  {
   "cell_type": "markdown",
   "id": "e6499567-c915-4cf0-a281-cecdde970493",
   "metadata": {},
   "source": [
    "- Notice no visit-Table is available. Thus to know which visiId are existing, we will use the registry later"
   ]
  },
  {
   "cell_type": "markdown",
   "id": "d90681b8-bb52-4227-b4db-6bb2c6be0fc7",
   "metadata": {},
   "source": [
    "## Extract the list of visitId from the butler's registry "
   ]
  },
  {
   "cell_type": "markdown",
   "id": "45ff66dc-6576-4daa-ad20-db353e751e06",
   "metadata": {},
   "source": [
    "### Get the list of information that can be extracted from the registryfor each exposure"
   ]
  },
  {
   "cell_type": "code",
   "execution_count": null,
   "id": "3805631a-a005-45eb-a7ef-bcbd0ddeda94",
   "metadata": {
    "execution": {
     "iopub.execute_input": "2025-01-23T09:58:18.946499Z",
     "iopub.status.busy": "2025-01-23T09:58:18.946359Z",
     "iopub.status.idle": "2025-01-23T09:58:18.949221Z",
     "shell.execute_reply": "2025-01-23T09:58:18.948821Z",
     "shell.execute_reply.started": "2025-01-23T09:58:18.946486Z"
    }
   },
   "outputs": [],
   "source": [
    "print(registry.dimensions[\"exposure\"].RecordClass.fields)"
   ]
  },
  {
   "cell_type": "markdown",
   "id": "417fb6a0-eafe-4b87-b321-819589292cd3",
   "metadata": {},
   "source": [
    "### Create the pandas dataframe from the information inside the butler's registry"
   ]
  },
  {
   "cell_type": "code",
   "execution_count": null,
   "id": "9ab1d265-5fc9-459a-bd6e-7687ac4908bc",
   "metadata": {
    "execution": {
     "iopub.execute_input": "2025-01-23T09:58:18.949818Z",
     "iopub.status.busy": "2025-01-23T09:58:18.949685Z",
     "iopub.status.idle": "2025-01-23T09:58:18.957930Z",
     "shell.execute_reply": "2025-01-23T09:58:18.957546Z",
     "shell.execute_reply.started": "2025-01-23T09:58:18.949806Z"
    }
   },
   "outputs": [],
   "source": [
    "df_exposure = pd.DataFrame(\n",
    "    columns=[\n",
    "        \"id\",\n",
    "        \"obs_id\",\n",
    "        \"day_obs\",\n",
    "        \"seq_num\",\n",
    "        \"time_start\",\n",
    "        \"time_end\",\n",
    "        \"type\",\n",
    "        \"target\",\n",
    "        \"filter\",\n",
    "        \"zenith_angle\",\n",
    "        \"expos\",\n",
    "        \"ra\",\n",
    "        \"dec\",\n",
    "        \"skyangle\",\n",
    "        \"azimuth\",\n",
    "        \"zenith\",\n",
    "        \"science_program\",\n",
    "        \"jd\",\n",
    "        \"mjd\",\n",
    "    ]\n",
    ")"
   ]
  },
  {
   "cell_type": "markdown",
   "id": "6a5b2ba6-c302-4578-9f53-55a021de1028",
   "metadata": {},
   "source": [
    "### Fill the pandas dataframe from the records inside the butler's registry for each exposure"
   ]
  },
  {
   "cell_type": "code",
   "execution_count": null,
   "id": "c217fbbc-e421-471e-a007-76d1e9ea6d1b",
   "metadata": {
    "execution": {
     "iopub.execute_input": "2025-01-23T09:58:18.958536Z",
     "iopub.status.busy": "2025-01-23T09:58:18.958393Z",
     "iopub.status.idle": "2025-01-23T09:58:18.963314Z",
     "shell.execute_reply": "2025-01-23T09:58:18.962940Z",
     "shell.execute_reply.started": "2025-01-23T09:58:18.958523Z"
    }
   },
   "outputs": [],
   "source": [
    "where_expr = \"instrument='LATISS' AND exposure.day_obs>=20250101\""
   ]
  },
  {
   "cell_type": "code",
   "execution_count": null,
   "id": "1605f2e1-9810-4003-a8d8-ed48e3b72620",
   "metadata": {
    "execution": {
     "iopub.execute_input": "2025-01-23T09:58:18.963983Z",
     "iopub.status.busy": "2025-01-23T09:58:18.963858Z",
     "iopub.status.idle": "2025-01-23T09:58:35.113899Z",
     "shell.execute_reply": "2025-01-23T09:58:35.113447Z",
     "shell.execute_reply.started": "2025-01-23T09:58:18.963971Z"
    }
   },
   "outputs": [],
   "source": [
    "for count, info in enumerate(\n",
    "    registry.queryDimensionRecords(\"exposure\", where=where_expr)\n",
    "):\n",
    "    try:\n",
    "        id_ = info.id\n",
    "        obs_id_ = info.obs_id\n",
    "        day_obs_ = info.day_obs\n",
    "        seq_num_ = info.seq_num\n",
    "        timespan_ = info.timespan\n",
    "\n",
    "        timespan_begin_ = pd.to_datetime(info.timespan.begin.to_datetime())\n",
    "        timespan_end_ = pd.to_datetime(info.timespan.end.to_datetime())\n",
    "        timespan_jd_ = timespan_.begin.jd\n",
    "        timespan_mjd_ = timespan_.begin.mjd\n",
    "\n",
    "        df_exposure.loc[count] = [\n",
    "            info.id,\n",
    "            info.obs_id,\n",
    "            info.day_obs,\n",
    "            info.seq_num,\n",
    "            timespan_begin_,\n",
    "            timespan_end_,\n",
    "            info.observation_type,\n",
    "            info.target_name,\n",
    "            info.physical_filter,\n",
    "            info.zenith_angle,\n",
    "            info.exposure_time,\n",
    "            info.tracking_ra,\n",
    "            info.tracking_dec,\n",
    "            info.sky_angle,\n",
    "            info.azimuth,\n",
    "            info.zenith_angle,\n",
    "            info.science_program,\n",
    "            timespan_jd_,\n",
    "            timespan_mjd_,\n",
    "        ]\n",
    "    except:\n",
    "        print(\">>>   Unexpected error:\", sys.exc_info()[0])\n",
    "        info_timespan_begin_to_string = \"2021-01-01 00:00:00.00\"\n",
    "        info_timespan_end_to_string = \"2051-01-01 00:00:00.00\"\n",
    "        info_timespan_begin_jd = 0\n",
    "        info_timespan_begin_mjd = 0\n",
    "        df_exposure.loc[count] = [\n",
    "            info.id,\n",
    "            info.obs_id,\n",
    "            info.day_obs,\n",
    "            info.seq_num,\n",
    "            pd.to_datetime(info_timespan_begin_to_string),\n",
    "            pd.to_datetime(info_timespan_end_to_string),\n",
    "            info.observation_type,\n",
    "            info.target_name,\n",
    "            info.physical_filter,\n",
    "            info.zenith_angle,\n",
    "            info.exposure_time,\n",
    "            info.tracking_ra,\n",
    "            info.tracking_dec,\n",
    "            info.sky_angle,\n",
    "            info.azimuth,\n",
    "            info.zenith_angle,\n",
    "            info.science_program,\n",
    "            info_timespan_begin_jd,\n",
    "            info_timespan_begin_mjd,\n",
    "        ]\n",
    "\n",
    "    if count < 2:\n",
    "        print(\n",
    "            \"-----------------------------------------------------\",\n",
    "            count,\n",
    "            \"---------------------------------------------------------\",\n",
    "        )\n",
    "        print(info)\n",
    "        print(\"\\t id:                  \", info.id)\n",
    "        print(\"\\t day_obs:             \", info.day_obs)\n",
    "        print(\"\\t seq_num:             \", info.seq_num)\n",
    "        print(\"\\t type-of-observation: \", info.observation_type)\n",
    "        print(\"\\t target:              \", info.target_name)\n",
    "\n",
    "        timespan_ = info.timespan\n",
    "        timespan_begin_ = pd.to_datetime(info.timespan.begin.to_datetime())\n",
    "        timespan_end_ = pd.to_datetime(info.timespan.end.to_datetime())\n",
    "        timespan_jd_ = timespan_.begin.jd\n",
    "        timespan_mjd_ = timespan_.begin.mjd\n",
    "\n",
    "        mjd = timespan_mjd_\n",
    "        jd = timespan_jd_\n",
    "        print(\"MJD,JD : \", mjd, jd)"
   ]
  },
  {
   "cell_type": "markdown",
   "id": "4e941a71-f599-4339-b51a-3cd565e9a9b9",
   "metadata": {},
   "source": [
    "#### convert some columns into integer"
   ]
  },
  {
   "cell_type": "code",
   "execution_count": null,
   "id": "dd17b159-8658-4247-8bdf-a2900d5dcbe3",
   "metadata": {
    "execution": {
     "iopub.execute_input": "2025-01-23T09:58:35.115195Z",
     "iopub.status.busy": "2025-01-23T09:58:35.114868Z",
     "iopub.status.idle": "2025-01-23T09:58:35.120804Z",
     "shell.execute_reply": "2025-01-23T09:58:35.120434Z",
     "shell.execute_reply.started": "2025-01-23T09:58:35.115180Z"
    }
   },
   "outputs": [],
   "source": [
    "df_exposure = df_exposure.astype({\"id\": int, \"day_obs\": int, \"seq_num\": int})"
   ]
  },
  {
   "cell_type": "markdown",
   "id": "31bc3a72-c798-450d-b966-9927cf309958",
   "metadata": {},
   "source": [
    "### Find the different type of exposures"
   ]
  },
  {
   "cell_type": "code",
   "execution_count": null,
   "id": "19ec676c-4b91-4d3f-8810-b893567ad2d7",
   "metadata": {
    "execution": {
     "iopub.execute_input": "2025-01-23T09:58:35.121383Z",
     "iopub.status.busy": "2025-01-23T09:58:35.121263Z",
     "iopub.status.idle": "2025-01-23T09:58:35.127399Z",
     "shell.execute_reply": "2025-01-23T09:58:35.127065Z",
     "shell.execute_reply.started": "2025-01-23T09:58:35.121371Z"
    }
   },
   "outputs": [],
   "source": [
    "df_exposure[\"type\"].unique()"
   ]
  },
  {
   "cell_type": "markdown",
   "id": "bdb87a21-ca50-47fd-b593-b88ae5eea1e1",
   "metadata": {},
   "source": [
    "### Select the science exposure"
   ]
  },
  {
   "cell_type": "code",
   "execution_count": null,
   "id": "bd7aeb1d-a231-45b6-bac7-1d2e9ca3486e",
   "metadata": {
    "execution": {
     "iopub.execute_input": "2025-01-23T09:58:35.127899Z",
     "iopub.status.busy": "2025-01-23T09:58:35.127788Z",
     "iopub.status.idle": "2025-01-23T09:58:35.134432Z",
     "shell.execute_reply": "2025-01-23T09:58:35.134101Z",
     "shell.execute_reply.started": "2025-01-23T09:58:35.127889Z"
    }
   },
   "outputs": [],
   "source": [
    "df_science = df_exposure[df_exposure.type == \"science\"]"
   ]
  },
  {
   "cell_type": "code",
   "execution_count": null,
   "id": "ab66d2f4-590c-4d87-a736-1829b5c83e53",
   "metadata": {
    "execution": {
     "iopub.execute_input": "2025-01-23T09:58:35.134980Z",
     "iopub.status.busy": "2025-01-23T09:58:35.134865Z",
     "iopub.status.idle": "2025-01-23T09:58:35.151395Z",
     "shell.execute_reply": "2025-01-23T09:58:35.151058Z",
     "shell.execute_reply.started": "2025-01-23T09:58:35.134970Z"
    }
   },
   "outputs": [],
   "source": [
    "df_science"
   ]
  },
  {
   "cell_type": "markdown",
   "id": "9557b6ab-c154-43aa-9d95-7811d96ac33f",
   "metadata": {},
   "source": [
    "## Select the Photometry"
   ]
  },
  {
   "cell_type": "code",
   "execution_count": null,
   "id": "83008a34-c992-45a6-bc6d-fc4b19b300a4",
   "metadata": {
    "execution": {
     "iopub.execute_input": "2025-01-23T09:58:35.154018Z",
     "iopub.status.busy": "2025-01-23T09:58:35.153711Z",
     "iopub.status.idle": "2025-01-23T09:58:35.156755Z",
     "shell.execute_reply": "2025-01-23T09:58:35.156424Z",
     "shell.execute_reply.started": "2025-01-23T09:58:35.154004Z"
    }
   },
   "outputs": [],
   "source": [
    "df_science[\"science_program\"].unique()"
   ]
  },
  {
   "cell_type": "code",
   "execution_count": null,
   "id": "3836b576-bf2e-46f4-99d5-436924f8417a",
   "metadata": {
    "execution": {
     "iopub.execute_input": "2025-01-23T09:58:35.157248Z",
     "iopub.status.busy": "2025-01-23T09:58:35.157134Z",
     "iopub.status.idle": "2025-01-23T09:58:35.162446Z",
     "shell.execute_reply": "2025-01-23T09:58:35.162095Z",
     "shell.execute_reply.started": "2025-01-23T09:58:35.157238Z"
    }
   },
   "outputs": [],
   "source": [
    "df_science = df_science[df_science[\"science_program\"] == \"BLOCK-306\"]"
   ]
  },
  {
   "cell_type": "code",
   "execution_count": null,
   "id": "c31f01fe-9a97-4c6d-b612-8296f381ec15",
   "metadata": {
    "execution": {
     "iopub.execute_input": "2025-01-23T09:58:35.162963Z",
     "iopub.status.busy": "2025-01-23T09:58:35.162835Z",
     "iopub.status.idle": "2025-01-23T09:58:35.177600Z",
     "shell.execute_reply": "2025-01-23T09:58:35.177173Z",
     "shell.execute_reply.started": "2025-01-23T09:58:35.162951Z"
    }
   },
   "outputs": [],
   "source": [
    "df_science"
   ]
  },
  {
   "cell_type": "markdown",
   "id": "09487497-597a-4660-b000-11a42f3b425f",
   "metadata": {},
   "source": [
    "## Example for viewing one image"
   ]
  },
  {
   "cell_type": "code",
   "execution_count": null,
   "id": "c7b21574-a44e-4279-afc0-6de1a7206553",
   "metadata": {
    "execution": {
     "iopub.execute_input": "2025-01-23T09:58:35.178165Z",
     "iopub.status.busy": "2025-01-23T09:58:35.178046Z",
     "iopub.status.idle": "2025-01-23T09:58:35.232566Z",
     "shell.execute_reply": "2025-01-23T09:58:35.232175Z",
     "shell.execute_reply.started": "2025-01-23T09:58:35.178153Z"
    }
   },
   "outputs": [],
   "source": [
    "records = list(\n",
    "    butler.registry.queryDimensionRecords(\n",
    "        \"visit\", datasets=\"postISRCCD\", where=where_expr, collections=the_collection\n",
    "    )\n",
    ")\n",
    "refs = list(\n",
    "    set(\n",
    "        butler.registry.queryDatasets(\n",
    "            \"postISRCCD\", where=where_expr, collections=the_collection\n",
    "        )\n",
    "    )\n",
    ")"
   ]
  },
  {
   "cell_type": "markdown",
   "id": "17f15b65-1d73-4395-9499-f16813882a36",
   "metadata": {},
   "source": [
    "### Select a date and a visitId"
   ]
  },
  {
   "cell_type": "markdown",
   "id": "74bd6bb8-097c-4800-85b1-596d0b21da26",
   "metadata": {},
   "source": [
    "### Extract the exposures postiSRCCD form the selected visitID"
   ]
  },
  {
   "cell_type": "code",
   "execution_count": null,
   "id": "5a7c090f-dd03-411f-a29c-9488bcb4459d",
   "metadata": {
    "execution": {
     "iopub.execute_input": "2025-01-23T09:58:35.233099Z",
     "iopub.status.busy": "2025-01-23T09:58:35.232979Z",
     "iopub.status.idle": "2025-01-23T09:58:49.631736Z",
     "shell.execute_reply": "2025-01-23T09:58:49.631234Z",
     "shell.execute_reply.started": "2025-01-23T09:58:35.233088Z"
    }
   },
   "outputs": [],
   "source": [
    "# where_clause = f\"instrument=\\'LATISS\\' AND exposure.day_obs={DATE}\"\n",
    "# dataId = {'visit': visitId, 'instrument':instrument}\n",
    "# datasetRefs = registry.queryDatasets('postISRCCD', dataId=dataId, collections  = the_collection)\n",
    "datasetRefs = registry.queryDatasets(\n",
    "    \"postISRCCD\", where=where_expr, collections=the_collection\n",
    ")\n",
    "# one dictionnary for the focal surface\n",
    "title_dict = {}\n",
    "postisr_dict = {}\n",
    "\n",
    "for i, ref in enumerate(datasetRefs):\n",
    "    exposure = ref.dataId[\"exposure\"]\n",
    "    detector = ref.dataId[\"detector\"]\n",
    "    physical_filter = ref.dataId[\"physical_filter\"]\n",
    "    postisrccd = butler.get(ref)\n",
    "    print(ref.dataId, postisrccd)\n",
    "    the_title = f\"id : {exposure}, det = {detector}, b = {physical_filter}\"\n",
    "    title_dict[exposure] = the_title\n",
    "    postisr_dict[exposure] = postisrccd\n",
    "N = len(title_dict)\n",
    "print(f\"Number of images = {N}\")"
   ]
  },
  {
   "cell_type": "code",
   "execution_count": null,
   "id": "237a05b2-c722-4704-96db-12153970e40b",
   "metadata": {
    "execution": {
     "iopub.execute_input": "2025-01-23T09:58:49.632359Z",
     "iopub.status.busy": "2025-01-23T09:58:49.632226Z",
     "iopub.status.idle": "2025-01-23T09:58:49.635321Z",
     "shell.execute_reply": "2025-01-23T09:58:49.634945Z",
     "shell.execute_reply.started": "2025-01-23T09:58:49.632347Z"
    }
   },
   "outputs": [],
   "source": [
    "N"
   ]
  },
  {
   "cell_type": "code",
   "execution_count": null,
   "id": "35ff5b78-2a7e-4780-97cc-3b82030ab314",
   "metadata": {
    "execution": {
     "iopub.execute_input": "2025-01-23T09:58:49.635972Z",
     "iopub.status.busy": "2025-01-23T09:58:49.635762Z",
     "iopub.status.idle": "2025-01-23T09:58:49.641512Z",
     "shell.execute_reply": "2025-01-23T09:58:49.641115Z",
     "shell.execute_reply.started": "2025-01-23T09:58:49.635919Z"
    }
   },
   "outputs": [],
   "source": [
    "list_of_exposures = list(title_dict.keys())"
   ]
  },
  {
   "cell_type": "markdown",
   "id": "690a075e-e4f9-4016-bcf6-dc9d69ac1aeb",
   "metadata": {
    "execution": {
     "iopub.status.busy": "2024-10-25T19:43:36.665728Z",
     "iopub.status.idle": "2024-10-25T19:43:36.665892Z",
     "shell.execute_reply": "2024-10-25T19:43:36.665814Z",
     "shell.execute_reply.started": "2024-10-25T19:43:36.665807Z"
    }
   },
   "source": [
    "## View all the images of the focal surface for that vist\n",
    "\n",
    "- would need the mosaic for the focal surface"
   ]
  },
  {
   "cell_type": "code",
   "execution_count": null,
   "id": "b5cfdd8f-6ca2-4d2d-83c8-5a1426b0d653",
   "metadata": {
    "execution": {
     "iopub.execute_input": "2025-01-23T09:58:49.642084Z",
     "iopub.status.busy": "2025-01-23T09:58:49.641961Z",
     "iopub.status.idle": "2025-01-23T09:58:57.972861Z",
     "shell.execute_reply": "2025-01-23T09:58:57.972376Z",
     "shell.execute_reply.started": "2025-01-23T09:58:49.642069Z"
    }
   },
   "outputs": [],
   "source": [
    "for count, expos in enumerate(list_of_exposures):\n",
    "    display = afwDisplay.Display(frame=count)\n",
    "    display.scale(\"asinh\", \"zscale\")\n",
    "    display.mtv(postisr_dict[expos].image, title=title_dict[expos])"
   ]
  },
  {
   "cell_type": "code",
   "execution_count": null,
   "id": "d887b73a-b144-4d77-9199-175ae22c16a5",
   "metadata": {
    "execution": {
     "iopub.execute_input": "2025-01-23T09:58:57.973534Z",
     "iopub.status.busy": "2025-01-23T09:58:57.973387Z",
     "iopub.status.idle": "2025-01-23T09:58:58.170185Z",
     "shell.execute_reply": "2025-01-23T09:58:58.169664Z",
     "shell.execute_reply.started": "2025-01-23T09:58:57.973520Z"
    }
   },
   "outputs": [],
   "source": [
    "assert False"
   ]
  },
  {
   "cell_type": "code",
   "execution_count": null,
   "id": "2a62b411-4f8d-4a3f-87bb-de2209c31f47",
   "metadata": {
    "execution": {
     "iopub.status.busy": "2025-01-23T09:58:58.170526Z",
     "iopub.status.idle": "2025-01-23T09:58:58.170689Z",
     "shell.execute_reply": "2025-01-23T09:58:58.170610Z",
     "shell.execute_reply.started": "2025-01-23T09:58:58.170602Z"
    }
   },
   "outputs": [],
   "source": [
    "display.clearViewer()\n",
    "afwDisplay.setDefaultBackend(\"firefly\")"
   ]
  },
  {
   "cell_type": "code",
   "execution_count": null,
   "id": "5e96257c-f2fc-4af4-b94d-74dcb562bf63",
   "metadata": {},
   "outputs": [],
   "source": []
  }
 ],
 "metadata": {
  "kernelspec": {
   "display_name": "LSST",
   "language": "python",
   "name": "lsst"
  },
  "language_info": {
   "codemirror_mode": {
    "name": "ipython",
    "version": 3
   },
   "file_extension": ".py",
   "mimetype": "text/x-python",
   "name": "python",
   "nbconvert_exporter": "python",
   "pygments_lexer": "ipython3",
   "version": "3.11.9"
  }
 },
 "nbformat": 4,
 "nbformat_minor": 5
}
