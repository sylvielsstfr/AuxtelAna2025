{
 "cells": [
  {
   "cell_type": "markdown",
   "id": "30c9f2ef-550a-4b4f-8411-7224adc5b98b",
   "metadata": {},
   "source": [
    "# Very First Look at very first LATISS PostISRCCD in Spectroscopy with firefly\n",
    "\n",
    "- Goal View Auxtel images\n",
    "- Restart the Kernel first"
   ]
  },
  {
   "cell_type": "markdown",
   "id": "f1e111e8-ccbc-4602-b8ab-392fe9f8812a",
   "metadata": {
    "execution": {
     "iopub.execute_input": "2024-10-25T18:35:28.020312Z",
     "iopub.status.busy": "2024-10-25T18:35:28.019985Z",
     "iopub.status.idle": "2024-10-25T18:35:28.023846Z",
     "shell.execute_reply": "2024-10-25T18:35:28.023258Z",
     "shell.execute_reply.started": "2024-10-25T18:35:28.020294Z"
    }
   },
   "source": [
    "- author : Sylvie Dagoret-campagne\n",
    "- affiliation : IJCLab/in2p3/CNRS\n",
    "- creation date : 2025-02-06\n",
    "- update : 2025-02-06"
   ]
  },
  {
   "cell_type": "code",
   "execution_count": null,
   "id": "b04f3879-f5d5-4e7e-8496-21056d10be1d",
   "metadata": {
    "execution": {
     "iopub.execute_input": "2025-02-06T09:45:24.994887Z",
     "iopub.status.busy": "2025-02-06T09:45:24.994559Z",
     "iopub.status.idle": "2025-02-06T09:45:27.338557Z",
     "shell.execute_reply": "2025-02-06T09:45:27.338010Z",
     "shell.execute_reply.started": "2025-02-06T09:45:24.994861Z"
    }
   },
   "outputs": [],
   "source": [
    "import matplotlib.pyplot as plt\n",
    "import matplotlib as mpl\n",
    "import matplotlib.dates as mdates\n",
    "import matplotlib.ticker\n",
    "from mpl_toolkits.axes_grid1 import make_axes_locatable\n",
    "from matplotlib.colors import LogNorm, SymLogNorm\n",
    "from matplotlib.colors import ListedColormap\n",
    "from matplotlib import colors\n",
    "\n",
    "%matplotlib inline\n",
    "import numpy as np\n",
    "import pandas as pd\n",
    "import matplotlib.gridspec as gridspec\n",
    "from spectractor.tools import from_lambda_to_colormap, wavelength_to_rgb\n",
    "\n",
    "# %matplotlib widget\n",
    "import h5py\n",
    "from scipy import interpolate\n",
    "from astropy.time import Time\n",
    "from datetime import datetime, timedelta\n",
    "import seaborn as sns\n",
    "\n",
    "from itertools import cycle, islice\n",
    "import os"
   ]
  },
  {
   "cell_type": "code",
   "execution_count": null,
   "id": "18068db4-c33c-43c5-bd12-58ff250d7a02",
   "metadata": {
    "execution": {
     "iopub.execute_input": "2025-02-06T09:45:27.473634Z",
     "iopub.status.busy": "2025-02-06T09:45:27.339193Z",
     "iopub.status.idle": "2025-02-06T09:45:27.477128Z",
     "shell.execute_reply": "2025-02-06T09:45:27.476657Z",
     "shell.execute_reply.started": "2025-02-06T09:45:27.473587Z"
    }
   },
   "outputs": [],
   "source": [
    "plt.rcParams[\"figure.figsize\"] = (18, 8)\n",
    "plt.rcParams[\"axes.labelsize\"] = \"xx-large\"\n",
    "plt.rcParams[\"axes.titlesize\"] = \"xx-large\"\n",
    "plt.rcParams[\"xtick.labelsize\"] = \"xx-large\"\n",
    "plt.rcParams[\"ytick.labelsize\"] = \"xx-large\"\n",
    "plt.rcParams[\"legend.fontsize\"] = 12\n",
    "plt.rcParams[\"font.size\"] = 12"
   ]
  },
  {
   "cell_type": "code",
   "execution_count": null,
   "id": "611a8607-3ac5-4853-b270-f703f13e518b",
   "metadata": {
    "execution": {
     "iopub.execute_input": "2025-02-06T09:45:27.477859Z",
     "iopub.status.busy": "2025-02-06T09:45:27.477710Z",
     "iopub.status.idle": "2025-02-06T09:45:27.484383Z",
     "shell.execute_reply": "2025-02-06T09:45:27.483935Z",
     "shell.execute_reply.started": "2025-02-06T09:45:27.477842Z"
    }
   },
   "outputs": [],
   "source": [
    "from matplotlib.ticker import MultipleLocator, FormatStrFormatter, AutoMinorLocator\n",
    "\n",
    "from astropy.visualization import (\n",
    "    MinMaxInterval,\n",
    "    SqrtStretch,\n",
    "    ZScaleInterval,\n",
    "    PercentileInterval,\n",
    "    ImageNormalize,\n",
    "    imshow_norm,\n",
    ")\n",
    "from astropy.visualization.stretch import (\n",
    "    SinhStretch,\n",
    "    LinearStretch,\n",
    "    AsinhStretch,\n",
    "    LogStretch,\n",
    ")\n",
    "\n",
    "transform = AsinhStretch() + PercentileInterval(99.0)"
   ]
  },
  {
   "cell_type": "code",
   "execution_count": null,
   "id": "fc0c0153-7a40-4166-bf13-46645d734aef",
   "metadata": {
    "execution": {
     "iopub.execute_input": "2025-02-06T09:45:27.485292Z",
     "iopub.status.busy": "2025-02-06T09:45:27.484964Z",
     "iopub.status.idle": "2025-02-06T09:45:28.278946Z",
     "shell.execute_reply": "2025-02-06T09:45:28.278388Z",
     "shell.execute_reply.started": "2025-02-06T09:45:27.485274Z"
    }
   },
   "outputs": [],
   "source": [
    "from lsst.daf.butler import Butler\n",
    "import astropy.units as u\n",
    "import numpy as np\n",
    "import pandas as pd\n",
    "\n",
    "pd.set_option(\"display.max_columns\", None)\n",
    "from astropy.time import Time\n",
    "\n",
    "import scipy.stats\n",
    "\n",
    "import matplotlib\n",
    "\n",
    "%matplotlib inline\n",
    "from matplotlib import pyplot as plt"
   ]
  },
  {
   "cell_type": "code",
   "execution_count": null,
   "id": "ac174b05-2a02-41dc-a03d-bc613305f874",
   "metadata": {
    "execution": {
     "iopub.execute_input": "2025-02-06T09:45:28.279709Z",
     "iopub.status.busy": "2025-02-06T09:45:28.279548Z",
     "iopub.status.idle": "2025-02-06T09:45:28.701159Z",
     "shell.execute_reply": "2025-02-06T09:45:28.700606Z",
     "shell.execute_reply.started": "2025-02-06T09:45:28.279692Z"
    }
   },
   "outputs": [],
   "source": [
    "# LSST Display\n",
    "# The advantage to use firefly is that the firefly display can handle a lotsof images\n",
    "import lsst.afw.display as afwDisplay\n",
    "\n",
    "afwDisplay.setDefaultBackend(\"firefly\")"
   ]
  },
  {
   "cell_type": "markdown",
   "id": "48ec2e7a-36e5-4b68-8da2-b5da1c3f1fba",
   "metadata": {
    "execution": {
     "iopub.execute_input": "2024-10-25T19:17:41.583673Z",
     "iopub.status.busy": "2024-10-25T19:17:41.583538Z",
     "iopub.status.idle": "2024-10-25T19:17:41.585892Z",
     "shell.execute_reply": "2024-10-25T19:17:41.585507Z",
     "shell.execute_reply.started": "2024-10-25T19:17:41.583660Z"
    }
   },
   "source": [
    "## Configuration\n",
    "\n",
    "- Use the tag report to guess the collections in which we exect data :  https://usdf-rsp-dev.slac.stanford.edu/times-square/github/lsst-dm/vv-team-notebooks/TargetReport\n"
   ]
  },
  {
   "cell_type": "code",
   "execution_count": null,
   "id": "58676053-e676-4d7c-b98f-c30552cb085a",
   "metadata": {},
   "outputs": [],
   "source": []
  },
  {
   "cell_type": "code",
   "execution_count": null,
   "id": "e7aa9495-baa5-4976-aee1-48c9f63b71ba",
   "metadata": {
    "execution": {
     "iopub.execute_input": "2025-02-06T09:45:28.702377Z",
     "iopub.status.busy": "2025-02-06T09:45:28.701806Z",
     "iopub.status.idle": "2025-02-06T09:45:29.210186Z",
     "shell.execute_reply": "2025-02-06T09:45:29.209666Z",
     "shell.execute_reply.started": "2025-02-06T09:45:28.702358Z"
    }
   },
   "outputs": [],
   "source": [
    "repo = \"embargo\"\n",
    "instrument = \"LATISS\"\n",
    "butler = Butler(repo)\n",
    "\n",
    "# define a first collection, but this path will be checked just after\n",
    "collection = \"u/jneveu/holo_202501_BG40_order3_v3.1.0_doGainsPTC_rebin1_sigmaClip5/20250204T104600Z\""
   ]
  },
  {
   "cell_type": "markdown",
   "id": "95b5567c-35af-4de1-87e8-2953e4808d2f",
   "metadata": {
    "execution": {
     "iopub.execute_input": "2024-10-25T19:17:41.935759Z",
     "iopub.status.busy": "2024-10-25T19:17:41.935583Z",
     "iopub.status.idle": "2024-10-25T19:17:41.937673Z",
     "shell.execute_reply": "2024-10-25T19:17:41.937341Z",
     "shell.execute_reply.started": "2024-10-25T19:17:41.935746Z"
    }
   },
   "source": [
    "## Query about the collections available\n",
    "\n",
    "- select collections from Jeremy"
   ]
  },
  {
   "cell_type": "code",
   "execution_count": null,
   "id": "24e7111f-83c2-4244-a869-c5e7f99494c7",
   "metadata": {
    "execution": {
     "iopub.execute_input": "2025-02-06T09:45:29.210998Z",
     "iopub.status.busy": "2025-02-06T09:45:29.210858Z",
     "iopub.status.idle": "2025-02-06T09:45:29.891467Z",
     "shell.execute_reply": "2025-02-06T09:45:29.890789Z",
     "shell.execute_reply.started": "2025-02-06T09:45:29.210983Z"
    }
   },
   "outputs": [],
   "source": [
    "for _ in butler.registry.queryCollections():\n",
    "    if \"u/jneveu\" in _:\n",
    "        print(_)"
   ]
  },
  {
   "cell_type": "markdown",
   "id": "9df18f79-accc-4188-a5f9-0e0934263e91",
   "metadata": {},
   "source": [
    "- From the list available today , we probably have to look inside the colleciton `LSSTComCam/nightlyValidation`"
   ]
  },
  {
   "cell_type": "markdown",
   "id": "372d17e7-0a6e-4389-b4bc-9a8c8ad15237",
   "metadata": {},
   "source": [
    "## Select the collection"
   ]
  },
  {
   "cell_type": "code",
   "execution_count": null,
   "id": "da6408e5-0e9d-455c-8df9-9f1ed59e2cac",
   "metadata": {
    "execution": {
     "iopub.execute_input": "2025-02-06T09:45:29.892190Z",
     "iopub.status.busy": "2025-02-06T09:45:29.892048Z",
     "iopub.status.idle": "2025-02-06T09:45:29.894805Z",
     "shell.execute_reply": "2025-02-06T09:45:29.894349Z",
     "shell.execute_reply.started": "2025-02-06T09:45:29.892175Z"
    }
   },
   "outputs": [],
   "source": [
    "the_collection = collection"
   ]
  },
  {
   "cell_type": "markdown",
   "id": "c0272ab3-785f-4a90-93fb-e970cffe3cc8",
   "metadata": {},
   "source": [
    "## Create the butler on the selected collection"
   ]
  },
  {
   "cell_type": "code",
   "execution_count": null,
   "id": "7bd8df52-dc45-4270-8935-f4acc36046f9",
   "metadata": {
    "execution": {
     "iopub.execute_input": "2025-02-06T09:45:29.895392Z",
     "iopub.status.busy": "2025-02-06T09:45:29.895259Z",
     "iopub.status.idle": "2025-02-06T09:45:30.066252Z",
     "shell.execute_reply": "2025-02-06T09:45:30.065753Z",
     "shell.execute_reply.started": "2025-02-06T09:45:29.895378Z"
    }
   },
   "outputs": [],
   "source": [
    "butler = Butler(repo, collections=the_collection)\n",
    "registry = butler.registry"
   ]
  },
  {
   "cell_type": "markdown",
   "id": "05b7a90f-5675-4b82-ad76-4fb07a69baa6",
   "metadata": {},
   "source": [
    "### Below I check all the data structures that are inside the selected collection\n",
    "\n",
    "- it includes the wanted `postISRCCD`\n",
    "- it includes also all the spectractor data structures"
   ]
  },
  {
   "cell_type": "code",
   "execution_count": null,
   "id": "8cf2d6d3-4288-470c-8e79-2340e793a353",
   "metadata": {
    "execution": {
     "iopub.execute_input": "2025-02-06T09:45:30.067010Z",
     "iopub.status.busy": "2025-02-06T09:45:30.066860Z",
     "iopub.status.idle": "2025-02-06T09:45:59.076563Z",
     "shell.execute_reply": "2025-02-06T09:45:59.076085Z",
     "shell.execute_reply.started": "2025-02-06T09:45:30.066993Z"
    }
   },
   "outputs": [],
   "source": [
    "for datasetType in registry.queryDatasetTypes():\n",
    "    if registry.queryDatasets(datasetType, collections=the_collection).any(\n",
    "        execute=False, exact=False\n",
    "    ):\n",
    "        # Limit search results to the data products\n",
    "        if (\n",
    "            (\"_config\" not in datasetType.name)\n",
    "            and (\"_log\" not in datasetType.name)\n",
    "            and (\"_metadata\" not in datasetType.name)\n",
    "            and (\"_resource_usage\" not in datasetType.name)\n",
    "        ):\n",
    "            print(datasetType)"
   ]
  },
  {
   "cell_type": "markdown",
   "id": "e6499567-c915-4cf0-a281-cecdde970493",
   "metadata": {},
   "source": [
    "- Notice no visit-Table is available. Thus to know which visiId are existing, we will use the registry later"
   ]
  },
  {
   "cell_type": "markdown",
   "id": "c7e04ffa-abbf-4f70-83c4-94fe065280bd",
   "metadata": {},
   "source": [
    "### Here I want a list of postISRCCD exposures inside the collection\n",
    "\n",
    "- can provide the date if wanted\n",
    "- the required data are stored in the records list and refs list "
   ]
  },
  {
   "cell_type": "code",
   "execution_count": null,
   "id": "1485e15c-e863-4152-b4b6-7b8d9e34609b",
   "metadata": {
    "execution": {
     "iopub.execute_input": "2025-02-06T09:45:59.077531Z",
     "iopub.status.busy": "2025-02-06T09:45:59.077148Z",
     "iopub.status.idle": "2025-02-06T09:45:59.130615Z",
     "shell.execute_reply": "2025-02-06T09:45:59.130118Z",
     "shell.execute_reply.started": "2025-02-06T09:45:59.077514Z"
    }
   },
   "outputs": [],
   "source": [
    "where_expr = \"instrument='LATISS'\"\n",
    "DATE = 20250114\n",
    "where_expr = f\"instrument='LATISS' AND exposure.day_obs={DATE}\"\n",
    "records = list(\n",
    "    butler.registry.queryDimensionRecords(\n",
    "        \"visit\", datasets=\"postISRCCD\", where=where_expr, collections=the_collection\n",
    "    )\n",
    ")\n",
    "refs = list(\n",
    "    set(\n",
    "        butler.registry.queryDatasets(\n",
    "            \"postISRCCD\", where=where_expr, collections=the_collection\n",
    "        )\n",
    "    )\n",
    ")"
   ]
  },
  {
   "cell_type": "code",
   "execution_count": null,
   "id": "7ef6a5b6-13d5-40a2-b57e-83dcfb295a7b",
   "metadata": {
    "execution": {
     "iopub.execute_input": "2025-02-06T09:45:59.131373Z",
     "iopub.status.busy": "2025-02-06T09:45:59.131181Z",
     "iopub.status.idle": "2025-02-06T09:45:59.135173Z",
     "shell.execute_reply": "2025-02-06T09:45:59.134754Z",
     "shell.execute_reply.started": "2025-02-06T09:45:59.131351Z"
    }
   },
   "outputs": [],
   "source": [
    "records[0]"
   ]
  },
  {
   "cell_type": "code",
   "execution_count": null,
   "id": "3a8602e9-ec52-44f3-ae1b-af100d5e46a5",
   "metadata": {
    "execution": {
     "iopub.execute_input": "2025-02-06T09:45:59.135826Z",
     "iopub.status.busy": "2025-02-06T09:45:59.135688Z",
     "iopub.status.idle": "2025-02-06T09:45:59.141999Z",
     "shell.execute_reply": "2025-02-06T09:45:59.141573Z",
     "shell.execute_reply.started": "2025-02-06T09:45:59.135812Z"
    }
   },
   "outputs": [],
   "source": [
    "refs[0]"
   ]
  },
  {
   "cell_type": "code",
   "execution_count": null,
   "id": "b3c7557e-4d62-480c-83b7-f54b0ce639ac",
   "metadata": {
    "execution": {
     "iopub.execute_input": "2025-02-06T09:45:59.142581Z",
     "iopub.status.busy": "2025-02-06T09:45:59.142450Z",
     "iopub.status.idle": "2025-02-06T09:45:59.148413Z",
     "shell.execute_reply": "2025-02-06T09:45:59.148026Z",
     "shell.execute_reply.started": "2025-02-06T09:45:59.142568Z"
    }
   },
   "outputs": [],
   "source": [
    "print(f\"Nexposures = {len(refs)}\")"
   ]
  },
  {
   "cell_type": "markdown",
   "id": "d90681b8-bb52-4227-b4db-6bb2c6be0fc7",
   "metadata": {},
   "source": [
    "## Extract the list of visitId from the butler's registry \n",
    "\n",
    "- The goal just below is to have a mini-database where the exposures are\n",
    "  listed with many informations\n",
    "- This mini-database of exposure is buid from registry"
   ]
  },
  {
   "cell_type": "markdown",
   "id": "45ff66dc-6576-4daa-ad20-db353e751e06",
   "metadata": {},
   "source": [
    "### Get the list of information that can be extracted from the registryfor each exposure"
   ]
  },
  {
   "cell_type": "code",
   "execution_count": null,
   "id": "3805631a-a005-45eb-a7ef-bcbd0ddeda94",
   "metadata": {
    "execution": {
     "iopub.execute_input": "2025-02-06T09:45:59.149004Z",
     "iopub.status.busy": "2025-02-06T09:45:59.148874Z",
     "iopub.status.idle": "2025-02-06T09:45:59.155870Z",
     "shell.execute_reply": "2025-02-06T09:45:59.155450Z",
     "shell.execute_reply.started": "2025-02-06T09:45:59.148990Z"
    }
   },
   "outputs": [],
   "source": [
    "print(registry.dimensions[\"exposure\"].RecordClass.fields)"
   ]
  },
  {
   "cell_type": "markdown",
   "id": "417fb6a0-eafe-4b87-b321-819589292cd3",
   "metadata": {},
   "source": [
    "### Create the pandas dataframe from the information inside the butler's registry"
   ]
  },
  {
   "cell_type": "code",
   "execution_count": null,
   "id": "9ab1d265-5fc9-459a-bd6e-7687ac4908bc",
   "metadata": {
    "execution": {
     "iopub.execute_input": "2025-02-06T09:45:59.156600Z",
     "iopub.status.busy": "2025-02-06T09:45:59.156371Z",
     "iopub.status.idle": "2025-02-06T09:45:59.164312Z",
     "shell.execute_reply": "2025-02-06T09:45:59.163922Z",
     "shell.execute_reply.started": "2025-02-06T09:45:59.156585Z"
    }
   },
   "outputs": [],
   "source": [
    "df_exposure = pd.DataFrame(\n",
    "    columns=[\n",
    "        \"id\",\n",
    "        \"obs_id\",\n",
    "        \"day_obs\",\n",
    "        \"seq_num\",\n",
    "        \"time_start\",\n",
    "        \"time_end\",\n",
    "        \"type\",\n",
    "        \"target\",\n",
    "        \"filter\",\n",
    "        \"zenith_angle\",\n",
    "        \"expos\",\n",
    "        \"ra\",\n",
    "        \"dec\",\n",
    "        \"skyangle\",\n",
    "        \"azimuth\",\n",
    "        \"zenith\",\n",
    "        \"science_program\",\n",
    "        \"jd\",\n",
    "        \"mjd\",\n",
    "    ]\n",
    ")"
   ]
  },
  {
   "cell_type": "markdown",
   "id": "6a5b2ba6-c302-4578-9f53-55a021de1028",
   "metadata": {},
   "source": [
    "### Fill the pandas dataframe from the records inside the butler's registry for each exposure"
   ]
  },
  {
   "cell_type": "code",
   "execution_count": null,
   "id": "c217fbbc-e421-471e-a007-76d1e9ea6d1b",
   "metadata": {
    "execution": {
     "iopub.execute_input": "2025-02-06T09:45:59.165001Z",
     "iopub.status.busy": "2025-02-06T09:45:59.164774Z",
     "iopub.status.idle": "2025-02-06T09:45:59.170365Z",
     "shell.execute_reply": "2025-02-06T09:45:59.169988Z",
     "shell.execute_reply.started": "2025-02-06T09:45:59.164987Z"
    }
   },
   "outputs": [],
   "source": [
    "where_expr = \"instrument='LATISS' AND exposure.day_obs>=20250101\""
   ]
  },
  {
   "cell_type": "code",
   "execution_count": null,
   "id": "1605f2e1-9810-4003-a8d8-ed48e3b72620",
   "metadata": {
    "execution": {
     "iopub.execute_input": "2025-02-06T09:45:59.170960Z",
     "iopub.status.busy": "2025-02-06T09:45:59.170820Z",
     "iopub.status.idle": "2025-02-06T09:46:24.773644Z",
     "shell.execute_reply": "2025-02-06T09:46:24.773091Z",
     "shell.execute_reply.started": "2025-02-06T09:45:59.170945Z"
    }
   },
   "outputs": [],
   "source": [
    "for count, info in enumerate(\n",
    "    registry.queryDimensionRecords(\"exposure\", where=where_expr)\n",
    "):\n",
    "    try:\n",
    "        id_ = info.id\n",
    "        obs_id_ = info.obs_id\n",
    "        day_obs_ = info.day_obs\n",
    "        seq_num_ = info.seq_num\n",
    "        timespan_ = info.timespan\n",
    "\n",
    "        timespan_begin_ = pd.to_datetime(info.timespan.begin.to_datetime())\n",
    "        timespan_end_ = pd.to_datetime(info.timespan.end.to_datetime())\n",
    "        timespan_jd_ = timespan_.begin.jd\n",
    "        timespan_mjd_ = timespan_.begin.mjd\n",
    "\n",
    "        df_exposure.loc[count] = [\n",
    "            info.id,\n",
    "            info.obs_id,\n",
    "            info.day_obs,\n",
    "            info.seq_num,\n",
    "            timespan_begin_,\n",
    "            timespan_end_,\n",
    "            info.observation_type,\n",
    "            info.target_name,\n",
    "            info.physical_filter,\n",
    "            info.zenith_angle,\n",
    "            info.exposure_time,\n",
    "            info.tracking_ra,\n",
    "            info.tracking_dec,\n",
    "            info.sky_angle,\n",
    "            info.azimuth,\n",
    "            info.zenith_angle,\n",
    "            info.science_program,\n",
    "            timespan_jd_,\n",
    "            timespan_mjd_,\n",
    "        ]\n",
    "    except:\n",
    "        print(\">>>   Unexpected error:\", sys.exc_info()[0])\n",
    "        info_timespan_begin_to_string = \"2021-01-01 00:00:00.00\"\n",
    "        info_timespan_end_to_string = \"2051-01-01 00:00:00.00\"\n",
    "        info_timespan_begin_jd = 0\n",
    "        info_timespan_begin_mjd = 0\n",
    "        df_exposure.loc[count] = [\n",
    "            info.id,\n",
    "            info.obs_id,\n",
    "            info.day_obs,\n",
    "            info.seq_num,\n",
    "            pd.to_datetime(info_timespan_begin_to_string),\n",
    "            pd.to_datetime(info_timespan_end_to_string),\n",
    "            info.observation_type,\n",
    "            info.target_name,\n",
    "            info.physical_filter,\n",
    "            info.zenith_angle,\n",
    "            info.exposure_time,\n",
    "            info.tracking_ra,\n",
    "            info.tracking_dec,\n",
    "            info.sky_angle,\n",
    "            info.azimuth,\n",
    "            info.zenith_angle,\n",
    "            info.science_program,\n",
    "            info_timespan_begin_jd,\n",
    "            info_timespan_begin_mjd,\n",
    "        ]\n",
    "\n",
    "    if count < 2:\n",
    "        print(\n",
    "            \"-----------------------------------------------------\",\n",
    "            count,\n",
    "            \"---------------------------------------------------------\",\n",
    "        )\n",
    "        print(info)\n",
    "        print(\"\\t id:                  \", info.id)\n",
    "        print(\"\\t day_obs:             \", info.day_obs)\n",
    "        print(\"\\t seq_num:             \", info.seq_num)\n",
    "        print(\"\\t type-of-observation: \", info.observation_type)\n",
    "        print(\"\\t target:              \", info.target_name)\n",
    "\n",
    "        timespan_ = info.timespan\n",
    "        timespan_begin_ = pd.to_datetime(info.timespan.begin.to_datetime())\n",
    "        timespan_end_ = pd.to_datetime(info.timespan.end.to_datetime())\n",
    "        timespan_jd_ = timespan_.begin.jd\n",
    "        timespan_mjd_ = timespan_.begin.mjd\n",
    "\n",
    "        mjd = timespan_mjd_\n",
    "        jd = timespan_jd_\n",
    "        print(\"MJD,JD : \", mjd, jd)"
   ]
  },
  {
   "cell_type": "markdown",
   "id": "4e941a71-f599-4339-b51a-3cd565e9a9b9",
   "metadata": {},
   "source": [
    "#### convert some columns into integer"
   ]
  },
  {
   "cell_type": "code",
   "execution_count": null,
   "id": "dd17b159-8658-4247-8bdf-a2900d5dcbe3",
   "metadata": {
    "execution": {
     "iopub.execute_input": "2025-02-06T09:46:24.774910Z",
     "iopub.status.busy": "2025-02-06T09:46:24.774767Z",
     "iopub.status.idle": "2025-02-06T09:46:24.781143Z",
     "shell.execute_reply": "2025-02-06T09:46:24.780655Z",
     "shell.execute_reply.started": "2025-02-06T09:46:24.774896Z"
    }
   },
   "outputs": [],
   "source": [
    "df_exposure = df_exposure.astype({\"id\": int, \"day_obs\": int, \"seq_num\": int})"
   ]
  },
  {
   "cell_type": "markdown",
   "id": "31bc3a72-c798-450d-b966-9927cf309958",
   "metadata": {},
   "source": [
    "### Find the different type of exposures"
   ]
  },
  {
   "cell_type": "code",
   "execution_count": null,
   "id": "19ec676c-4b91-4d3f-8810-b893567ad2d7",
   "metadata": {
    "execution": {
     "iopub.execute_input": "2025-02-06T09:46:24.781888Z",
     "iopub.status.busy": "2025-02-06T09:46:24.781750Z",
     "iopub.status.idle": "2025-02-06T09:46:24.789573Z",
     "shell.execute_reply": "2025-02-06T09:46:24.789149Z",
     "shell.execute_reply.started": "2025-02-06T09:46:24.781874Z"
    }
   },
   "outputs": [],
   "source": [
    "df_exposure[\"type\"].unique()"
   ]
  },
  {
   "cell_type": "markdown",
   "id": "bdb87a21-ca50-47fd-b593-b88ae5eea1e1",
   "metadata": {},
   "source": [
    "### Select the science exposure"
   ]
  },
  {
   "cell_type": "code",
   "execution_count": null,
   "id": "bd7aeb1d-a231-45b6-bac7-1d2e9ca3486e",
   "metadata": {
    "execution": {
     "iopub.execute_input": "2025-02-06T09:46:24.790186Z",
     "iopub.status.busy": "2025-02-06T09:46:24.790055Z",
     "iopub.status.idle": "2025-02-06T09:46:24.798591Z",
     "shell.execute_reply": "2025-02-06T09:46:24.798108Z",
     "shell.execute_reply.started": "2025-02-06T09:46:24.790173Z"
    }
   },
   "outputs": [],
   "source": [
    "df_science = df_exposure[df_exposure.type == \"science\"]"
   ]
  },
  {
   "cell_type": "code",
   "execution_count": null,
   "id": "ab66d2f4-590c-4d87-a736-1829b5c83e53",
   "metadata": {
    "execution": {
     "iopub.execute_input": "2025-02-06T09:46:24.799497Z",
     "iopub.status.busy": "2025-02-06T09:46:24.799125Z",
     "iopub.status.idle": "2025-02-06T09:46:24.816047Z",
     "shell.execute_reply": "2025-02-06T09:46:24.815622Z",
     "shell.execute_reply.started": "2025-02-06T09:46:24.799480Z"
    }
   },
   "outputs": [],
   "source": [
    "df_science"
   ]
  },
  {
   "cell_type": "markdown",
   "id": "9557b6ab-c154-43aa-9d95-7811d96ac33f",
   "metadata": {},
   "source": []
  },
  {
   "cell_type": "code",
   "execution_count": null,
   "id": "83008a34-c992-45a6-bc6d-fc4b19b300a4",
   "metadata": {
    "execution": {
     "iopub.execute_input": "2025-02-06T09:46:24.819879Z",
     "iopub.status.busy": "2025-02-06T09:46:24.819738Z",
     "iopub.status.idle": "2025-02-06T09:46:24.823276Z",
     "shell.execute_reply": "2025-02-06T09:46:24.822871Z",
     "shell.execute_reply.started": "2025-02-06T09:46:24.819865Z"
    }
   },
   "outputs": [],
   "source": [
    "df_science[\"science_program\"].unique()"
   ]
  },
  {
   "cell_type": "code",
   "execution_count": null,
   "id": "3836b576-bf2e-46f4-99d5-436924f8417a",
   "metadata": {
    "execution": {
     "iopub.execute_input": "2025-02-06T09:46:24.823890Z",
     "iopub.status.busy": "2025-02-06T09:46:24.823762Z",
     "iopub.status.idle": "2025-02-06T09:46:24.829048Z",
     "shell.execute_reply": "2025-02-06T09:46:24.828627Z",
     "shell.execute_reply.started": "2025-02-06T09:46:24.823877Z"
    }
   },
   "outputs": [],
   "source": [
    "df_science = df_science[df_science[\"science_program\"] == \"spec-survey\"]"
   ]
  },
  {
   "cell_type": "code",
   "execution_count": null,
   "id": "c31f01fe-9a97-4c6d-b612-8296f381ec15",
   "metadata": {
    "execution": {
     "iopub.execute_input": "2025-02-06T09:46:24.829647Z",
     "iopub.status.busy": "2025-02-06T09:46:24.829511Z",
     "iopub.status.idle": "2025-02-06T09:46:24.845483Z",
     "shell.execute_reply": "2025-02-06T09:46:24.845079Z",
     "shell.execute_reply.started": "2025-02-06T09:46:24.829625Z"
    }
   },
   "outputs": [],
   "source": [
    "df_science"
   ]
  },
  {
   "cell_type": "markdown",
   "id": "7b4142a7-83d9-4574-a5bb-c55c89fcf92b",
   "metadata": {},
   "source": [
    "### Select the observation corresponding to the date"
   ]
  },
  {
   "cell_type": "code",
   "execution_count": null,
   "id": "f086c68c-da32-4067-9204-b2f8708fcbca",
   "metadata": {
    "execution": {
     "iopub.execute_input": "2025-02-06T09:46:24.846200Z",
     "iopub.status.busy": "2025-02-06T09:46:24.846066Z",
     "iopub.status.idle": "2025-02-06T09:46:24.851867Z",
     "shell.execute_reply": "2025-02-06T09:46:24.851457Z",
     "shell.execute_reply.started": "2025-02-06T09:46:24.846187Z"
    }
   },
   "outputs": [],
   "source": [
    "df_dateobs = df_science[df_science.day_obs == DATE]"
   ]
  },
  {
   "cell_type": "code",
   "execution_count": null,
   "id": "886d02a8-33f0-410a-b766-f46d027f7d41",
   "metadata": {
    "execution": {
     "iopub.execute_input": "2025-02-06T09:46:24.852453Z",
     "iopub.status.busy": "2025-02-06T09:46:24.852327Z",
     "iopub.status.idle": "2025-02-06T09:46:24.868059Z",
     "shell.execute_reply": "2025-02-06T09:46:24.867658Z",
     "shell.execute_reply.started": "2025-02-06T09:46:24.852441Z"
    }
   },
   "outputs": [],
   "source": [
    "df_dateobs"
   ]
  },
  {
   "cell_type": "markdown",
   "id": "bdb340a1-5585-4d6c-812e-2555e7aa0f7d",
   "metadata": {},
   "source": [
    "### Select those observation with holo4"
   ]
  },
  {
   "cell_type": "code",
   "execution_count": null,
   "id": "a4f60855-2d4d-4ca9-98b4-ae00a9a94c7f",
   "metadata": {
    "execution": {
     "iopub.execute_input": "2025-02-06T09:46:24.868692Z",
     "iopub.status.busy": "2025-02-06T09:46:24.868556Z",
     "iopub.status.idle": "2025-02-06T09:46:24.874431Z",
     "shell.execute_reply": "2025-02-06T09:46:24.874025Z",
     "shell.execute_reply.started": "2025-02-06T09:46:24.868679Z"
    }
   },
   "outputs": [],
   "source": [
    "def select_holo(row):\n",
    "    \"\"\" \"\"\"\n",
    "    filter_str = row[\"filter\"]\n",
    "    if \"holo\" in filter_str:\n",
    "        return True\n",
    "    else:\n",
    "        return False"
   ]
  },
  {
   "cell_type": "code",
   "execution_count": null,
   "id": "6e3c9b50-3126-403d-ba10-cfd5ae8c722b",
   "metadata": {
    "execution": {
     "iopub.execute_input": "2025-02-06T09:46:24.875020Z",
     "iopub.status.busy": "2025-02-06T09:46:24.874896Z",
     "iopub.status.idle": "2025-02-06T09:46:24.881869Z",
     "shell.execute_reply": "2025-02-06T09:46:24.881399Z",
     "shell.execute_reply.started": "2025-02-06T09:46:24.875008Z"
    }
   },
   "outputs": [],
   "source": [
    "cut = (\n",
    "    (df_dateobs[\"filter\"] == \"empty~holo4_003\")\n",
    "    | (df_dateobs[\"filter\"] == \"BG40_65mm_1~holo4_003\")\n",
    "    | (df_dateobs[\"filter\"] == \"OG550_65mm_1~holo4_003\")\n",
    ")"
   ]
  },
  {
   "cell_type": "code",
   "execution_count": null,
   "id": "f562ea49-9d19-49ad-bd9a-32649a3e8df2",
   "metadata": {
    "execution": {
     "iopub.execute_input": "2025-02-06T09:46:24.882486Z",
     "iopub.status.busy": "2025-02-06T09:46:24.882355Z",
     "iopub.status.idle": "2025-02-06T09:46:24.888291Z",
     "shell.execute_reply": "2025-02-06T09:46:24.887878Z",
     "shell.execute_reply.started": "2025-02-06T09:46:24.882473Z"
    }
   },
   "outputs": [],
   "source": [
    "# df_dateobs[\"filter\"].apply((lambda x : select_holo(x[\"filter\"])),axis=1,result_type='expand')\n",
    "df_holo = df_dateobs[cut]"
   ]
  },
  {
   "cell_type": "code",
   "execution_count": null,
   "id": "6e9d44f6-e7af-49d1-9c48-ecdf67065b5d",
   "metadata": {
    "execution": {
     "iopub.execute_input": "2025-02-06T09:47:35.146850Z",
     "iopub.status.busy": "2025-02-06T09:47:35.146630Z",
     "iopub.status.idle": "2025-02-06T09:47:35.160927Z",
     "shell.execute_reply": "2025-02-06T09:47:35.160483Z",
     "shell.execute_reply.started": "2025-02-06T09:47:35.146834Z"
    }
   },
   "outputs": [],
   "source": [
    "df_holo"
   ]
  },
  {
   "cell_type": "markdown",
   "id": "17f15b65-1d73-4395-9499-f16813882a36",
   "metadata": {},
   "source": [
    "### Select a date and a visitId"
   ]
  },
  {
   "cell_type": "markdown",
   "id": "74bd6bb8-097c-4800-85b1-596d0b21da26",
   "metadata": {},
   "source": [
    "### Extract the exposures postiSRCCD form the selected visitID"
   ]
  },
  {
   "cell_type": "code",
   "execution_count": null,
   "id": "5a7c090f-dd03-411f-a29c-9488bcb4459d",
   "metadata": {
    "execution": {
     "iopub.execute_input": "2025-02-06T09:49:42.476477Z",
     "iopub.status.busy": "2025-02-06T09:49:42.476099Z",
     "iopub.status.idle": "2025-02-06T09:50:02.822188Z",
     "shell.execute_reply": "2025-02-06T09:50:02.821622Z",
     "shell.execute_reply.started": "2025-02-06T09:49:42.476459Z"
    }
   },
   "outputs": [],
   "source": [
    "# where_clause = f\"instrument=\\'LATISS\\' AND exposure.day_obs={DATE}\"\n",
    "# dataId = {'visit': visitId, 'instrument':instrument}\n",
    "# datasetRefs = registry.queryDatasets('postISRCCD', dataId=dataId, collections  = the_collection)\n",
    "datasetRefs = registry.queryDatasets(\n",
    "    \"postISRCCD\", where=where_expr, collections=the_collection\n",
    ")\n",
    "# one dictionnary for the focal surface\n",
    "title_dict = {}\n",
    "postisr_dict = {}\n",
    "\n",
    "for i, ref in enumerate(datasetRefs):\n",
    "    exposure = ref.dataId[\"exposure\"]\n",
    "    detector = ref.dataId[\"detector\"]\n",
    "    physical_filter = ref.dataId[\"physical_filter\"]\n",
    "    postisrccd = butler.get(ref)\n",
    "    print(ref.dataId, postisrccd)\n",
    "    the_title = f\"id : {exposure}, det = {detector}, b = {physical_filter}\"\n",
    "    title_dict[exposure] = the_title\n",
    "    postisr_dict[exposure] = postisrccd\n",
    "N = len(title_dict)\n",
    "print(f\"Number of images = {N}\")"
   ]
  },
  {
   "cell_type": "code",
   "execution_count": null,
   "id": "237a05b2-c722-4704-96db-12153970e40b",
   "metadata": {
    "execution": {
     "iopub.execute_input": "2025-02-06T09:50:32.111136Z",
     "iopub.status.busy": "2025-02-06T09:50:32.110924Z",
     "iopub.status.idle": "2025-02-06T09:50:32.114372Z",
     "shell.execute_reply": "2025-02-06T09:50:32.113951Z",
     "shell.execute_reply.started": "2025-02-06T09:50:32.111121Z"
    }
   },
   "outputs": [],
   "source": [
    "N"
   ]
  },
  {
   "cell_type": "code",
   "execution_count": null,
   "id": "35ff5b78-2a7e-4780-97cc-3b82030ab314",
   "metadata": {
    "execution": {
     "iopub.execute_input": "2025-02-06T09:50:35.504468Z",
     "iopub.status.busy": "2025-02-06T09:50:35.504251Z",
     "iopub.status.idle": "2025-02-06T09:50:35.507233Z",
     "shell.execute_reply": "2025-02-06T09:50:35.506799Z",
     "shell.execute_reply.started": "2025-02-06T09:50:35.504451Z"
    }
   },
   "outputs": [],
   "source": [
    "list_of_exposures = list(title_dict.keys())"
   ]
  },
  {
   "cell_type": "markdown",
   "id": "690a075e-e4f9-4016-bcf6-dc9d69ac1aeb",
   "metadata": {
    "execution": {
     "iopub.status.busy": "2024-10-25T19:43:36.665728Z",
     "iopub.status.idle": "2024-10-25T19:43:36.665892Z",
     "shell.execute_reply": "2024-10-25T19:43:36.665814Z",
     "shell.execute_reply.started": "2024-10-25T19:43:36.665807Z"
    }
   },
   "source": [
    "## View all the images of the focal surface for that vist\n",
    "\n",
    "- would need the mosaic for the focal surface"
   ]
  },
  {
   "cell_type": "code",
   "execution_count": null,
   "id": "b5cfdd8f-6ca2-4d2d-83c8-5a1426b0d653",
   "metadata": {
    "execution": {
     "iopub.execute_input": "2025-02-06T09:50:37.825610Z",
     "iopub.status.busy": "2025-02-06T09:50:37.825249Z",
     "iopub.status.idle": "2025-02-06T09:50:50.990650Z",
     "shell.execute_reply": "2025-02-06T09:50:50.989939Z",
     "shell.execute_reply.started": "2025-02-06T09:50:37.825579Z"
    }
   },
   "outputs": [],
   "source": [
    "for count, expos in enumerate(list_of_exposures):\n",
    "    display = afwDisplay.Display(frame=count)\n",
    "    display.scale(\"asinh\", \"zscale\")\n",
    "    display.mtv(postisr_dict[expos].image, title=title_dict[expos])"
   ]
  },
  {
   "cell_type": "code",
   "execution_count": null,
   "id": "d887b73a-b144-4d77-9199-175ae22c16a5",
   "metadata": {
    "execution": {
     "iopub.status.busy": "2025-02-06T09:46:25.207256Z",
     "iopub.status.idle": "2025-02-06T09:46:25.207433Z",
     "shell.execute_reply": "2025-02-06T09:46:25.207347Z",
     "shell.execute_reply.started": "2025-02-06T09:46:25.207339Z"
    }
   },
   "outputs": [],
   "source": [
    "assert False"
   ]
  },
  {
   "cell_type": "code",
   "execution_count": null,
   "id": "2a62b411-4f8d-4a3f-87bb-de2209c31f47",
   "metadata": {
    "execution": {
     "iopub.status.busy": "2025-02-06T09:46:25.208097Z",
     "iopub.status.idle": "2025-02-06T09:46:25.208267Z",
     "shell.execute_reply": "2025-02-06T09:46:25.208183Z",
     "shell.execute_reply.started": "2025-02-06T09:46:25.208176Z"
    }
   },
   "outputs": [],
   "source": [
    "display.clearViewer()\n",
    "afwDisplay.setDefaultBackend(\"firefly\")"
   ]
  },
  {
   "cell_type": "code",
   "execution_count": null,
   "id": "5e96257c-f2fc-4af4-b94d-74dcb562bf63",
   "metadata": {},
   "outputs": [],
   "source": []
  }
 ],
 "metadata": {
  "kernelspec": {
   "display_name": "LSST",
   "language": "python",
   "name": "lsst"
  },
  "language_info": {
   "codemirror_mode": {
    "name": "ipython",
    "version": 3
   },
   "file_extension": ".py",
   "mimetype": "text/x-python",
   "name": "python",
   "nbconvert_exporter": "python",
   "pygments_lexer": "ipython3",
   "version": "3.11.9"
  }
 },
 "nbformat": 4,
 "nbformat_minor": 5
}
