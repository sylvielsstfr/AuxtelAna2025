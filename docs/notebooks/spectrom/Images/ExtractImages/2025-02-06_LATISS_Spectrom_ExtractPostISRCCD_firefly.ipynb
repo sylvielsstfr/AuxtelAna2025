{
 "cells": [
  {
   "cell_type": "markdown",
   "id": "30c9f2ef-550a-4b4f-8411-7224adc5b98b",
   "metadata": {},
   "source": [
    "# Extract LATISS PostISRCCD to convert in fits in Spectroscopy mode and view them with firefly\n",
    "\n",
    "- Goal View Auxtel images\n",
    "- Restart the Kernel first"
   ]
  },
  {
   "cell_type": "markdown",
   "id": "f1e111e8-ccbc-4602-b8ab-392fe9f8812a",
   "metadata": {
    "execution": {
     "iopub.execute_input": "2024-10-25T18:35:28.020312Z",
     "iopub.status.busy": "2024-10-25T18:35:28.019985Z",
     "iopub.status.idle": "2024-10-25T18:35:28.023846Z",
     "shell.execute_reply": "2024-10-25T18:35:28.023258Z",
     "shell.execute_reply.started": "2024-10-25T18:35:28.020294Z"
    }
   },
   "source": [
    "- author : Sylvie Dagoret-campagne\n",
    "- affiliation : IJCLab/in2p3/CNRS\n",
    "- creation date : 2025-02-06\n",
    "- update : 2025-02-06"
   ]
  },
  {
   "cell_type": "code",
   "execution_count": null,
   "id": "b04f3879-f5d5-4e7e-8496-21056d10be1d",
   "metadata": {
    "execution": {
     "iopub.execute_input": "2025-02-06T12:44:18.374163Z",
     "iopub.status.busy": "2025-02-06T12:44:18.373454Z",
     "iopub.status.idle": "2025-02-06T12:44:18.379155Z",
     "shell.execute_reply": "2025-02-06T12:44:18.378745Z",
     "shell.execute_reply.started": "2025-02-06T12:44:18.374145Z"
    }
   },
   "outputs": [],
   "source": [
    "import matplotlib.pyplot as plt\n",
    "import matplotlib as mpl\n",
    "import matplotlib.dates as mdates\n",
    "import matplotlib.ticker\n",
    "from mpl_toolkits.axes_grid1 import make_axes_locatable\n",
    "from matplotlib.colors import LogNorm, SymLogNorm\n",
    "from matplotlib.colors import ListedColormap\n",
    "from matplotlib import colors\n",
    "\n",
    "%matplotlib inline\n",
    "import numpy as np\n",
    "import pandas as pd\n",
    "import matplotlib.gridspec as gridspec\n",
    "from spectractor.tools import from_lambda_to_colormap, wavelength_to_rgb\n",
    "\n",
    "# %matplotlib widget\n",
    "import h5py\n",
    "from scipy import interpolate\n",
    "from astropy.time import Time\n",
    "from datetime import datetime, timedelta\n",
    "import seaborn as sns\n",
    "\n",
    "from itertools import cycle, islice\n",
    "import os\n",
    "from astropy.io import fits"
   ]
  },
  {
   "cell_type": "code",
   "execution_count": null,
   "id": "18068db4-c33c-43c5-bd12-58ff250d7a02",
   "metadata": {
    "execution": {
     "iopub.execute_input": "2025-02-06T12:21:42.158037Z",
     "iopub.status.busy": "2025-02-06T12:21:42.157608Z",
     "iopub.status.idle": "2025-02-06T12:21:42.161291Z",
     "shell.execute_reply": "2025-02-06T12:21:42.160855Z",
     "shell.execute_reply.started": "2025-02-06T12:21:42.158018Z"
    }
   },
   "outputs": [],
   "source": [
    "plt.rcParams[\"figure.figsize\"] = (18, 8)\n",
    "plt.rcParams[\"axes.labelsize\"] = \"xx-large\"\n",
    "plt.rcParams[\"axes.titlesize\"] = \"xx-large\"\n",
    "plt.rcParams[\"xtick.labelsize\"] = \"xx-large\"\n",
    "plt.rcParams[\"ytick.labelsize\"] = \"xx-large\"\n",
    "plt.rcParams[\"legend.fontsize\"] = 12\n",
    "plt.rcParams[\"font.size\"] = 12"
   ]
  },
  {
   "cell_type": "code",
   "execution_count": null,
   "id": "611a8607-3ac5-4853-b270-f703f13e518b",
   "metadata": {
    "execution": {
     "iopub.execute_input": "2025-02-06T12:21:42.162126Z",
     "iopub.status.busy": "2025-02-06T12:21:42.161977Z",
     "iopub.status.idle": "2025-02-06T12:21:42.168607Z",
     "shell.execute_reply": "2025-02-06T12:21:42.168199Z",
     "shell.execute_reply.started": "2025-02-06T12:21:42.162111Z"
    }
   },
   "outputs": [],
   "source": [
    "from matplotlib.ticker import MultipleLocator, FormatStrFormatter, AutoMinorLocator\n",
    "\n",
    "from astropy.visualization import (\n",
    "    MinMaxInterval,\n",
    "    SqrtStretch,\n",
    "    ZScaleInterval,\n",
    "    PercentileInterval,\n",
    "    ImageNormalize,\n",
    "    imshow_norm,\n",
    ")\n",
    "from astropy.visualization.stretch import (\n",
    "    SinhStretch,\n",
    "    LinearStretch,\n",
    "    AsinhStretch,\n",
    "    LogStretch,\n",
    ")\n",
    "\n",
    "transform = AsinhStretch() + PercentileInterval(99.0)"
   ]
  },
  {
   "cell_type": "code",
   "execution_count": null,
   "id": "fc0c0153-7a40-4166-bf13-46645d734aef",
   "metadata": {
    "execution": {
     "iopub.execute_input": "2025-02-06T12:21:42.169283Z",
     "iopub.status.busy": "2025-02-06T12:21:42.169143Z",
     "iopub.status.idle": "2025-02-06T12:21:43.123436Z",
     "shell.execute_reply": "2025-02-06T12:21:43.122877Z",
     "shell.execute_reply.started": "2025-02-06T12:21:42.169268Z"
    }
   },
   "outputs": [],
   "source": [
    "from lsst.daf.butler import Butler\n",
    "import astropy.units as u\n",
    "import numpy as np\n",
    "import pandas as pd\n",
    "\n",
    "pd.set_option(\"display.max_columns\", None)\n",
    "from astropy.time import Time\n",
    "\n",
    "import scipy.stats\n",
    "\n",
    "import matplotlib\n",
    "\n",
    "%matplotlib inline\n",
    "from matplotlib import pyplot as plt"
   ]
  },
  {
   "cell_type": "code",
   "execution_count": null,
   "id": "ac174b05-2a02-41dc-a03d-bc613305f874",
   "metadata": {
    "execution": {
     "iopub.execute_input": "2025-02-06T12:21:43.124470Z",
     "iopub.status.busy": "2025-02-06T12:21:43.124207Z",
     "iopub.status.idle": "2025-02-06T12:21:43.571355Z",
     "shell.execute_reply": "2025-02-06T12:21:43.570836Z",
     "shell.execute_reply.started": "2025-02-06T12:21:43.124431Z"
    }
   },
   "outputs": [],
   "source": [
    "# LSST Display\n",
    "# The advantage to use firefly is that the firefly display can handle a lotsof images\n",
    "import lsst.afw.display as afwDisplay\n",
    "\n",
    "afwDisplay.setDefaultBackend(\"firefly\")"
   ]
  },
  {
   "cell_type": "markdown",
   "id": "48ec2e7a-36e5-4b68-8da2-b5da1c3f1fba",
   "metadata": {
    "execution": {
     "iopub.execute_input": "2024-10-25T19:17:41.583673Z",
     "iopub.status.busy": "2024-10-25T19:17:41.583538Z",
     "iopub.status.idle": "2024-10-25T19:17:41.585892Z",
     "shell.execute_reply": "2024-10-25T19:17:41.585507Z",
     "shell.execute_reply.started": "2024-10-25T19:17:41.583660Z"
    }
   },
   "source": [
    "## Configuration\n",
    "\n",
    "- Use the tag report to guess the collections in which we exect data :  https://usdf-rsp-dev.slac.stanford.edu/times-square/github/lsst-dm/vv-team-notebooks/TargetReport\n"
   ]
  },
  {
   "cell_type": "code",
   "execution_count": null,
   "id": "58676053-e676-4d7c-b98f-c30552cb085a",
   "metadata": {},
   "outputs": [],
   "source": []
  },
  {
   "cell_type": "code",
   "execution_count": null,
   "id": "e7aa9495-baa5-4976-aee1-48c9f63b71ba",
   "metadata": {
    "execution": {
     "iopub.execute_input": "2025-02-06T12:21:43.572592Z",
     "iopub.status.busy": "2025-02-06T12:21:43.572019Z",
     "iopub.status.idle": "2025-02-06T12:21:44.079192Z",
     "shell.execute_reply": "2025-02-06T12:21:44.078647Z",
     "shell.execute_reply.started": "2025-02-06T12:21:43.572574Z"
    }
   },
   "outputs": [],
   "source": [
    "repo = \"embargo\"\n",
    "instrument = \"LATISS\"\n",
    "butler = Butler(repo)\n",
    "\n",
    "# define a first collection, but this path will be checked just after\n",
    "collection = \"u/jneveu/holo_202501_BG40_order3_v3.1.0_doGainsPTC_rebin1_sigmaClip5/20250204T104600Z\""
   ]
  },
  {
   "cell_type": "markdown",
   "id": "95b5567c-35af-4de1-87e8-2953e4808d2f",
   "metadata": {
    "execution": {
     "iopub.execute_input": "2024-10-25T19:17:41.935759Z",
     "iopub.status.busy": "2024-10-25T19:17:41.935583Z",
     "iopub.status.idle": "2024-10-25T19:17:41.937673Z",
     "shell.execute_reply": "2024-10-25T19:17:41.937341Z",
     "shell.execute_reply.started": "2024-10-25T19:17:41.935746Z"
    }
   },
   "source": [
    "## Query about the collections available\n",
    "\n",
    "- select collections from Jeremy"
   ]
  },
  {
   "cell_type": "code",
   "execution_count": null,
   "id": "24e7111f-83c2-4244-a869-c5e7f99494c7",
   "metadata": {
    "execution": {
     "iopub.execute_input": "2025-02-06T12:21:44.079995Z",
     "iopub.status.busy": "2025-02-06T12:21:44.079828Z",
     "iopub.status.idle": "2025-02-06T12:21:44.777711Z",
     "shell.execute_reply": "2025-02-06T12:21:44.776996Z",
     "shell.execute_reply.started": "2025-02-06T12:21:44.079978Z"
    }
   },
   "outputs": [],
   "source": [
    "for _ in butler.registry.queryCollections():\n",
    "    if \"u/jneveu\" in _:\n",
    "        print(_)"
   ]
  },
  {
   "cell_type": "markdown",
   "id": "9df18f79-accc-4188-a5f9-0e0934263e91",
   "metadata": {},
   "source": [
    "- From the list available today , we probably have to look inside the colleciton `LSSTComCam/nightlyValidation`"
   ]
  },
  {
   "cell_type": "markdown",
   "id": "372d17e7-0a6e-4389-b4bc-9a8c8ad15237",
   "metadata": {},
   "source": [
    "## Select the collection"
   ]
  },
  {
   "cell_type": "code",
   "execution_count": null,
   "id": "da6408e5-0e9d-455c-8df9-9f1ed59e2cac",
   "metadata": {
    "execution": {
     "iopub.execute_input": "2025-02-06T12:21:44.778425Z",
     "iopub.status.busy": "2025-02-06T12:21:44.778279Z",
     "iopub.status.idle": "2025-02-06T12:21:44.781231Z",
     "shell.execute_reply": "2025-02-06T12:21:44.780786Z",
     "shell.execute_reply.started": "2025-02-06T12:21:44.778409Z"
    }
   },
   "outputs": [],
   "source": [
    "the_collection = collection"
   ]
  },
  {
   "cell_type": "markdown",
   "id": "c0272ab3-785f-4a90-93fb-e970cffe3cc8",
   "metadata": {},
   "source": [
    "## Create the butler on the selected collection"
   ]
  },
  {
   "cell_type": "code",
   "execution_count": null,
   "id": "7bd8df52-dc45-4270-8935-f4acc36046f9",
   "metadata": {
    "execution": {
     "iopub.execute_input": "2025-02-06T12:21:44.781827Z",
     "iopub.status.busy": "2025-02-06T12:21:44.781690Z",
     "iopub.status.idle": "2025-02-06T12:21:44.955803Z",
     "shell.execute_reply": "2025-02-06T12:21:44.955391Z",
     "shell.execute_reply.started": "2025-02-06T12:21:44.781812Z"
    }
   },
   "outputs": [],
   "source": [
    "butler = Butler(repo, collections=the_collection)\n",
    "registry = butler.registry"
   ]
  },
  {
   "cell_type": "markdown",
   "id": "05b7a90f-5675-4b82-ad76-4fb07a69baa6",
   "metadata": {},
   "source": [
    "### Below I check all the data structures that are inside the selected collection\n",
    "\n",
    "- it includes the wanted `postISRCCD`\n",
    "- it includes also all the spectractor data structures"
   ]
  },
  {
   "cell_type": "code",
   "execution_count": null,
   "id": "8cf2d6d3-4288-470c-8e79-2340e793a353",
   "metadata": {
    "execution": {
     "iopub.execute_input": "2025-02-06T12:21:44.956398Z",
     "iopub.status.busy": "2025-02-06T12:21:44.956262Z",
     "iopub.status.idle": "2025-02-06T12:22:14.186047Z",
     "shell.execute_reply": "2025-02-06T12:22:14.185606Z",
     "shell.execute_reply.started": "2025-02-06T12:21:44.956384Z"
    }
   },
   "outputs": [],
   "source": [
    "for datasetType in registry.queryDatasetTypes():\n",
    "    if registry.queryDatasets(datasetType, collections=the_collection).any(\n",
    "        execute=False, exact=False\n",
    "    ):\n",
    "        # Limit search results to the data products\n",
    "        if (\n",
    "            (\"_config\" not in datasetType.name)\n",
    "            and (\"_log\" not in datasetType.name)\n",
    "            and (\"_metadata\" not in datasetType.name)\n",
    "            and (\"_resource_usage\" not in datasetType.name)\n",
    "        ):\n",
    "            print(datasetType)"
   ]
  },
  {
   "cell_type": "markdown",
   "id": "e6499567-c915-4cf0-a281-cecdde970493",
   "metadata": {},
   "source": [
    "- Notice no visit-Table is available. Thus to know which visiId are existing, we will use the registry later"
   ]
  },
  {
   "cell_type": "markdown",
   "id": "c7e04ffa-abbf-4f70-83c4-94fe065280bd",
   "metadata": {},
   "source": [
    "### Here I want a list of postISRCCD exposures inside the collection\n",
    "\n",
    "- can provide the date if wanted\n",
    "- the required data are stored in the records list and refs list "
   ]
  },
  {
   "cell_type": "code",
   "execution_count": null,
   "id": "1485e15c-e863-4152-b4b6-7b8d9e34609b",
   "metadata": {
    "execution": {
     "iopub.execute_input": "2025-02-06T12:22:14.186703Z",
     "iopub.status.busy": "2025-02-06T12:22:14.186548Z",
     "iopub.status.idle": "2025-02-06T12:22:14.539085Z",
     "shell.execute_reply": "2025-02-06T12:22:14.538669Z",
     "shell.execute_reply.started": "2025-02-06T12:22:14.186687Z"
    }
   },
   "outputs": [],
   "source": [
    "where_expr = \"instrument='LATISS'\"\n",
    "DATE = 20250114\n",
    "where_expr = f\"instrument='LATISS' AND exposure.day_obs={DATE}\"\n",
    "records = list(\n",
    "    butler.registry.queryDimensionRecords(\n",
    "        \"visit\", datasets=\"postISRCCD\", where=where_expr, collections=the_collection\n",
    "    )\n",
    ")\n",
    "refs = list(\n",
    "    set(\n",
    "        butler.registry.queryDatasets(\n",
    "            \"postISRCCD\", where=where_expr, collections=the_collection\n",
    "        )\n",
    "    )\n",
    ")"
   ]
  },
  {
   "cell_type": "code",
   "execution_count": null,
   "id": "7ef6a5b6-13d5-40a2-b57e-83dcfb295a7b",
   "metadata": {
    "execution": {
     "iopub.execute_input": "2025-02-06T12:22:14.539819Z",
     "iopub.status.busy": "2025-02-06T12:22:14.539674Z",
     "iopub.status.idle": "2025-02-06T12:22:14.543630Z",
     "shell.execute_reply": "2025-02-06T12:22:14.543293Z",
     "shell.execute_reply.started": "2025-02-06T12:22:14.539804Z"
    }
   },
   "outputs": [],
   "source": [
    "records[0]"
   ]
  },
  {
   "cell_type": "code",
   "execution_count": null,
   "id": "3a8602e9-ec52-44f3-ae1b-af100d5e46a5",
   "metadata": {
    "execution": {
     "iopub.execute_input": "2025-02-06T12:22:14.544173Z",
     "iopub.status.busy": "2025-02-06T12:22:14.544038Z",
     "iopub.status.idle": "2025-02-06T12:22:14.550748Z",
     "shell.execute_reply": "2025-02-06T12:22:14.550409Z",
     "shell.execute_reply.started": "2025-02-06T12:22:14.544159Z"
    }
   },
   "outputs": [],
   "source": [
    "refs[0]"
   ]
  },
  {
   "cell_type": "code",
   "execution_count": null,
   "id": "b3c7557e-4d62-480c-83b7-f54b0ce639ac",
   "metadata": {
    "execution": {
     "iopub.execute_input": "2025-02-06T12:22:14.551215Z",
     "iopub.status.busy": "2025-02-06T12:22:14.551094Z",
     "iopub.status.idle": "2025-02-06T12:22:14.557060Z",
     "shell.execute_reply": "2025-02-06T12:22:14.556717Z",
     "shell.execute_reply.started": "2025-02-06T12:22:14.551202Z"
    }
   },
   "outputs": [],
   "source": [
    "print(f\"Nexposures = {len(refs)}\")"
   ]
  },
  {
   "cell_type": "markdown",
   "id": "d90681b8-bb52-4227-b4db-6bb2c6be0fc7",
   "metadata": {},
   "source": [
    "## Extract the list of visitId from the butler's registry \n",
    "\n",
    "- The goal just below is to have a mini-database where the exposures are\n",
    "  listed with many informations\n",
    "- This mini-database of exposure is buid from registry"
   ]
  },
  {
   "cell_type": "markdown",
   "id": "45ff66dc-6576-4daa-ad20-db353e751e06",
   "metadata": {},
   "source": [
    "### Get the list of information that can be extracted from the registryfor each exposure"
   ]
  },
  {
   "cell_type": "code",
   "execution_count": null,
   "id": "3805631a-a005-45eb-a7ef-bcbd0ddeda94",
   "metadata": {
    "execution": {
     "iopub.execute_input": "2025-02-06T12:22:14.557670Z",
     "iopub.status.busy": "2025-02-06T12:22:14.557533Z",
     "iopub.status.idle": "2025-02-06T12:22:14.564133Z",
     "shell.execute_reply": "2025-02-06T12:22:14.563791Z",
     "shell.execute_reply.started": "2025-02-06T12:22:14.557656Z"
    }
   },
   "outputs": [],
   "source": [
    "print(registry.dimensions[\"exposure\"].RecordClass.fields)"
   ]
  },
  {
   "cell_type": "markdown",
   "id": "417fb6a0-eafe-4b87-b321-819589292cd3",
   "metadata": {},
   "source": [
    "### Create the pandas dataframe from the information inside the butler's registry"
   ]
  },
  {
   "cell_type": "code",
   "execution_count": null,
   "id": "9ab1d265-5fc9-459a-bd6e-7687ac4908bc",
   "metadata": {
    "execution": {
     "iopub.execute_input": "2025-02-06T12:22:14.564660Z",
     "iopub.status.busy": "2025-02-06T12:22:14.564521Z",
     "iopub.status.idle": "2025-02-06T12:22:14.572173Z",
     "shell.execute_reply": "2025-02-06T12:22:14.571841Z",
     "shell.execute_reply.started": "2025-02-06T12:22:14.564634Z"
    }
   },
   "outputs": [],
   "source": [
    "df_exposure = pd.DataFrame(\n",
    "    columns=[\n",
    "        \"id\",\n",
    "        \"obs_id\",\n",
    "        \"day_obs\",\n",
    "        \"seq_num\",\n",
    "        \"time_start\",\n",
    "        \"time_end\",\n",
    "        \"type\",\n",
    "        \"target\",\n",
    "        \"filter\",\n",
    "        \"zenith_angle\",\n",
    "        \"expos\",\n",
    "        \"ra\",\n",
    "        \"dec\",\n",
    "        \"skyangle\",\n",
    "        \"azimuth\",\n",
    "        \"zenith\",\n",
    "        \"science_program\",\n",
    "        \"jd\",\n",
    "        \"mjd\",\n",
    "    ]\n",
    ")"
   ]
  },
  {
   "cell_type": "markdown",
   "id": "6a5b2ba6-c302-4578-9f53-55a021de1028",
   "metadata": {},
   "source": [
    "### Fill the pandas dataframe from the records inside the butler's registry for each exposure"
   ]
  },
  {
   "cell_type": "code",
   "execution_count": null,
   "id": "c217fbbc-e421-471e-a007-76d1e9ea6d1b",
   "metadata": {
    "execution": {
     "iopub.execute_input": "2025-02-06T12:22:14.572694Z",
     "iopub.status.busy": "2025-02-06T12:22:14.572552Z",
     "iopub.status.idle": "2025-02-06T12:22:14.579321Z",
     "shell.execute_reply": "2025-02-06T12:22:14.578581Z",
     "shell.execute_reply.started": "2025-02-06T12:22:14.572680Z"
    }
   },
   "outputs": [],
   "source": [
    "where_expr = \"instrument='LATISS' AND exposure.day_obs>=20250101\""
   ]
  },
  {
   "cell_type": "code",
   "execution_count": null,
   "id": "1605f2e1-9810-4003-a8d8-ed48e3b72620",
   "metadata": {
    "execution": {
     "iopub.execute_input": "2025-02-06T12:22:14.581372Z",
     "iopub.status.busy": "2025-02-06T12:22:14.581145Z",
     "iopub.status.idle": "2025-02-06T12:22:40.736760Z",
     "shell.execute_reply": "2025-02-06T12:22:40.736320Z",
     "shell.execute_reply.started": "2025-02-06T12:22:14.581347Z"
    }
   },
   "outputs": [],
   "source": [
    "for count, info in enumerate(\n",
    "    registry.queryDimensionRecords(\"exposure\", where=where_expr)\n",
    "):\n",
    "    try:\n",
    "        id_ = info.id\n",
    "        obs_id_ = info.obs_id\n",
    "        day_obs_ = info.day_obs\n",
    "        seq_num_ = info.seq_num\n",
    "        timespan_ = info.timespan\n",
    "\n",
    "        timespan_begin_ = pd.to_datetime(info.timespan.begin.to_datetime())\n",
    "        timespan_end_ = pd.to_datetime(info.timespan.end.to_datetime())\n",
    "        timespan_jd_ = timespan_.begin.jd\n",
    "        timespan_mjd_ = timespan_.begin.mjd\n",
    "\n",
    "        df_exposure.loc[count] = [\n",
    "            info.id,\n",
    "            info.obs_id,\n",
    "            info.day_obs,\n",
    "            info.seq_num,\n",
    "            timespan_begin_,\n",
    "            timespan_end_,\n",
    "            info.observation_type,\n",
    "            info.target_name,\n",
    "            info.physical_filter,\n",
    "            info.zenith_angle,\n",
    "            info.exposure_time,\n",
    "            info.tracking_ra,\n",
    "            info.tracking_dec,\n",
    "            info.sky_angle,\n",
    "            info.azimuth,\n",
    "            info.zenith_angle,\n",
    "            info.science_program,\n",
    "            timespan_jd_,\n",
    "            timespan_mjd_,\n",
    "        ]\n",
    "    except:\n",
    "        print(\">>>   Unexpected error:\", sys.exc_info()[0])\n",
    "        info_timespan_begin_to_string = \"2021-01-01 00:00:00.00\"\n",
    "        info_timespan_end_to_string = \"2051-01-01 00:00:00.00\"\n",
    "        info_timespan_begin_jd = 0\n",
    "        info_timespan_begin_mjd = 0\n",
    "        df_exposure.loc[count] = [\n",
    "            info.id,\n",
    "            info.obs_id,\n",
    "            info.day_obs,\n",
    "            info.seq_num,\n",
    "            pd.to_datetime(info_timespan_begin_to_string),\n",
    "            pd.to_datetime(info_timespan_end_to_string),\n",
    "            info.observation_type,\n",
    "            info.target_name,\n",
    "            info.physical_filter,\n",
    "            info.zenith_angle,\n",
    "            info.exposure_time,\n",
    "            info.tracking_ra,\n",
    "            info.tracking_dec,\n",
    "            info.sky_angle,\n",
    "            info.azimuth,\n",
    "            info.zenith_angle,\n",
    "            info.science_program,\n",
    "            info_timespan_begin_jd,\n",
    "            info_timespan_begin_mjd,\n",
    "        ]\n",
    "\n",
    "    if count < 2:\n",
    "        print(\n",
    "            \"-----------------------------------------------------\",\n",
    "            count,\n",
    "            \"---------------------------------------------------------\",\n",
    "        )\n",
    "        print(info)\n",
    "        print(\"\\t id:                  \", info.id)\n",
    "        print(\"\\t day_obs:             \", info.day_obs)\n",
    "        print(\"\\t seq_num:             \", info.seq_num)\n",
    "        print(\"\\t type-of-observation: \", info.observation_type)\n",
    "        print(\"\\t target:              \", info.target_name)\n",
    "\n",
    "        timespan_ = info.timespan\n",
    "        timespan_begin_ = pd.to_datetime(info.timespan.begin.to_datetime())\n",
    "        timespan_end_ = pd.to_datetime(info.timespan.end.to_datetime())\n",
    "        timespan_jd_ = timespan_.begin.jd\n",
    "        timespan_mjd_ = timespan_.begin.mjd\n",
    "\n",
    "        mjd = timespan_mjd_\n",
    "        jd = timespan_jd_\n",
    "        print(\"MJD,JD : \", mjd, jd)"
   ]
  },
  {
   "cell_type": "markdown",
   "id": "4e941a71-f599-4339-b51a-3cd565e9a9b9",
   "metadata": {},
   "source": [
    "#### convert some columns into integer"
   ]
  },
  {
   "cell_type": "code",
   "execution_count": null,
   "id": "dd17b159-8658-4247-8bdf-a2900d5dcbe3",
   "metadata": {
    "execution": {
     "iopub.execute_input": "2025-02-06T12:22:40.737941Z",
     "iopub.status.busy": "2025-02-06T12:22:40.737798Z",
     "iopub.status.idle": "2025-02-06T12:22:40.744489Z",
     "shell.execute_reply": "2025-02-06T12:22:40.744082Z",
     "shell.execute_reply.started": "2025-02-06T12:22:40.737927Z"
    }
   },
   "outputs": [],
   "source": [
    "df_exposure = df_exposure.astype({\"id\": int, \"day_obs\": int, \"seq_num\": int})"
   ]
  },
  {
   "cell_type": "markdown",
   "id": "31bc3a72-c798-450d-b966-9927cf309958",
   "metadata": {},
   "source": [
    "### Find the different type of exposures"
   ]
  },
  {
   "cell_type": "code",
   "execution_count": null,
   "id": "19ec676c-4b91-4d3f-8810-b893567ad2d7",
   "metadata": {
    "execution": {
     "iopub.execute_input": "2025-02-06T12:22:40.745114Z",
     "iopub.status.busy": "2025-02-06T12:22:40.744965Z",
     "iopub.status.idle": "2025-02-06T12:22:40.755482Z",
     "shell.execute_reply": "2025-02-06T12:22:40.755162Z",
     "shell.execute_reply.started": "2025-02-06T12:22:40.745096Z"
    }
   },
   "outputs": [],
   "source": [
    "df_exposure[\"type\"].unique()"
   ]
  },
  {
   "cell_type": "markdown",
   "id": "bdb87a21-ca50-47fd-b593-b88ae5eea1e1",
   "metadata": {},
   "source": [
    "### Select the science exposure"
   ]
  },
  {
   "cell_type": "code",
   "execution_count": null,
   "id": "bd7aeb1d-a231-45b6-bac7-1d2e9ca3486e",
   "metadata": {
    "execution": {
     "iopub.execute_input": "2025-02-06T12:22:40.758827Z",
     "iopub.status.busy": "2025-02-06T12:22:40.758696Z",
     "iopub.status.idle": "2025-02-06T12:22:40.764449Z",
     "shell.execute_reply": "2025-02-06T12:22:40.764088Z",
     "shell.execute_reply.started": "2025-02-06T12:22:40.758814Z"
    }
   },
   "outputs": [],
   "source": [
    "df_science = df_exposure[df_exposure.type == \"science\"]"
   ]
  },
  {
   "cell_type": "code",
   "execution_count": null,
   "id": "ab66d2f4-590c-4d87-a736-1829b5c83e53",
   "metadata": {
    "execution": {
     "iopub.execute_input": "2025-02-06T12:22:40.765117Z",
     "iopub.status.busy": "2025-02-06T12:22:40.764987Z",
     "iopub.status.idle": "2025-02-06T12:22:40.783366Z",
     "shell.execute_reply": "2025-02-06T12:22:40.783033Z",
     "shell.execute_reply.started": "2025-02-06T12:22:40.765103Z"
    }
   },
   "outputs": [],
   "source": [
    "df_science"
   ]
  },
  {
   "cell_type": "markdown",
   "id": "9557b6ab-c154-43aa-9d95-7811d96ac33f",
   "metadata": {},
   "source": []
  },
  {
   "cell_type": "code",
   "execution_count": null,
   "id": "83008a34-c992-45a6-bc6d-fc4b19b300a4",
   "metadata": {
    "execution": {
     "iopub.execute_input": "2025-02-06T12:22:40.783915Z",
     "iopub.status.busy": "2025-02-06T12:22:40.783785Z",
     "iopub.status.idle": "2025-02-06T12:22:40.787035Z",
     "shell.execute_reply": "2025-02-06T12:22:40.786715Z",
     "shell.execute_reply.started": "2025-02-06T12:22:40.783901Z"
    }
   },
   "outputs": [],
   "source": [
    "df_science[\"science_program\"].unique()"
   ]
  },
  {
   "cell_type": "code",
   "execution_count": null,
   "id": "3836b576-bf2e-46f4-99d5-436924f8417a",
   "metadata": {
    "execution": {
     "iopub.execute_input": "2025-02-06T12:22:40.787535Z",
     "iopub.status.busy": "2025-02-06T12:22:40.787409Z",
     "iopub.status.idle": "2025-02-06T12:22:40.793817Z",
     "shell.execute_reply": "2025-02-06T12:22:40.793454Z",
     "shell.execute_reply.started": "2025-02-06T12:22:40.787522Z"
    }
   },
   "outputs": [],
   "source": [
    "df_science = df_science[df_science[\"science_program\"] == \"spec-survey\"]"
   ]
  },
  {
   "cell_type": "code",
   "execution_count": null,
   "id": "c31f01fe-9a97-4c6d-b612-8296f381ec15",
   "metadata": {
    "execution": {
     "iopub.execute_input": "2025-02-06T12:22:40.794320Z",
     "iopub.status.busy": "2025-02-06T12:22:40.794195Z",
     "iopub.status.idle": "2025-02-06T12:22:40.810105Z",
     "shell.execute_reply": "2025-02-06T12:22:40.809801Z",
     "shell.execute_reply.started": "2025-02-06T12:22:40.794307Z"
    }
   },
   "outputs": [],
   "source": [
    "df_science"
   ]
  },
  {
   "cell_type": "markdown",
   "id": "7b4142a7-83d9-4574-a5bb-c55c89fcf92b",
   "metadata": {},
   "source": [
    "### Select the observation corresponding to the date"
   ]
  },
  {
   "cell_type": "code",
   "execution_count": null,
   "id": "f086c68c-da32-4067-9204-b2f8708fcbca",
   "metadata": {
    "execution": {
     "iopub.execute_input": "2025-02-06T12:22:40.810743Z",
     "iopub.status.busy": "2025-02-06T12:22:40.810611Z",
     "iopub.status.idle": "2025-02-06T12:22:40.818020Z",
     "shell.execute_reply": "2025-02-06T12:22:40.817710Z",
     "shell.execute_reply.started": "2025-02-06T12:22:40.810730Z"
    }
   },
   "outputs": [],
   "source": [
    "df_dateobs = df_science[df_science.day_obs == DATE]"
   ]
  },
  {
   "cell_type": "code",
   "execution_count": null,
   "id": "886d02a8-33f0-410a-b766-f46d027f7d41",
   "metadata": {
    "execution": {
     "iopub.execute_input": "2025-02-06T12:22:40.818507Z",
     "iopub.status.busy": "2025-02-06T12:22:40.818385Z",
     "iopub.status.idle": "2025-02-06T12:22:40.833965Z",
     "shell.execute_reply": "2025-02-06T12:22:40.833655Z",
     "shell.execute_reply.started": "2025-02-06T12:22:40.818494Z"
    }
   },
   "outputs": [],
   "source": [
    "df_dateobs"
   ]
  },
  {
   "cell_type": "markdown",
   "id": "bdb340a1-5585-4d6c-812e-2555e7aa0f7d",
   "metadata": {},
   "source": [
    "### Select those observation with holo4"
   ]
  },
  {
   "cell_type": "code",
   "execution_count": null,
   "id": "a4f60855-2d4d-4ca9-98b4-ae00a9a94c7f",
   "metadata": {
    "execution": {
     "iopub.execute_input": "2025-02-06T12:22:40.834457Z",
     "iopub.status.busy": "2025-02-06T12:22:40.834334Z",
     "iopub.status.idle": "2025-02-06T12:22:40.840241Z",
     "shell.execute_reply": "2025-02-06T12:22:40.839873Z",
     "shell.execute_reply.started": "2025-02-06T12:22:40.834444Z"
    }
   },
   "outputs": [],
   "source": [
    "def select_holo(row):\n",
    "    \"\"\" \"\"\"\n",
    "    filter_str = row[\"filter\"]\n",
    "    if \"holo\" in filter_str:\n",
    "        return True\n",
    "    else:\n",
    "        return False"
   ]
  },
  {
   "cell_type": "code",
   "execution_count": null,
   "id": "6e3c9b50-3126-403d-ba10-cfd5ae8c722b",
   "metadata": {
    "execution": {
     "iopub.execute_input": "2025-02-06T12:22:40.840740Z",
     "iopub.status.busy": "2025-02-06T12:22:40.840611Z",
     "iopub.status.idle": "2025-02-06T12:22:40.847234Z",
     "shell.execute_reply": "2025-02-06T12:22:40.846868Z",
     "shell.execute_reply.started": "2025-02-06T12:22:40.840727Z"
    }
   },
   "outputs": [],
   "source": [
    "cut = (\n",
    "    (df_dateobs[\"filter\"] == \"empty~holo4_003\")\n",
    "    | (df_dateobs[\"filter\"] == \"BG40_65mm_1~holo4_003\")\n",
    "    | (df_dateobs[\"filter\"] == \"OG550_65mm_1~holo4_003\")\n",
    ")"
   ]
  },
  {
   "cell_type": "code",
   "execution_count": null,
   "id": "f562ea49-9d19-49ad-bd9a-32649a3e8df2",
   "metadata": {
    "execution": {
     "iopub.execute_input": "2025-02-06T12:22:40.847753Z",
     "iopub.status.busy": "2025-02-06T12:22:40.847624Z",
     "iopub.status.idle": "2025-02-06T12:22:40.854424Z",
     "shell.execute_reply": "2025-02-06T12:22:40.854088Z",
     "shell.execute_reply.started": "2025-02-06T12:22:40.847741Z"
    }
   },
   "outputs": [],
   "source": [
    "# df_dateobs[\"filter\"].apply((lambda x : select_holo(x[\"filter\"])),axis=1,result_type='expand')\n",
    "df_holo = df_dateobs[cut]"
   ]
  },
  {
   "cell_type": "code",
   "execution_count": null,
   "id": "6e9d44f6-e7af-49d1-9c48-ecdf67065b5d",
   "metadata": {
    "execution": {
     "iopub.execute_input": "2025-02-06T12:22:40.854919Z",
     "iopub.status.busy": "2025-02-06T12:22:40.854796Z",
     "iopub.status.idle": "2025-02-06T12:22:40.871365Z",
     "shell.execute_reply": "2025-02-06T12:22:40.871042Z",
     "shell.execute_reply.started": "2025-02-06T12:22:40.854906Z"
    }
   },
   "outputs": [],
   "source": [
    "df_holo"
   ]
  },
  {
   "cell_type": "markdown",
   "id": "17f15b65-1d73-4395-9499-f16813882a36",
   "metadata": {},
   "source": [
    "### Select a date and a visitId"
   ]
  },
  {
   "cell_type": "markdown",
   "id": "74bd6bb8-097c-4800-85b1-596d0b21da26",
   "metadata": {},
   "source": [
    "### Extract the exposures postiSRCCD form the selected visitID"
   ]
  },
  {
   "cell_type": "code",
   "execution_count": null,
   "id": "5a7c090f-dd03-411f-a29c-9488bcb4459d",
   "metadata": {
    "execution": {
     "iopub.execute_input": "2025-02-06T12:39:09.400129Z",
     "iopub.status.busy": "2025-02-06T12:39:09.399803Z",
     "iopub.status.idle": "2025-02-06T12:39:40.418405Z",
     "shell.execute_reply": "2025-02-06T12:39:40.417880Z",
     "shell.execute_reply.started": "2025-02-06T12:39:09.400112Z"
    }
   },
   "outputs": [],
   "source": [
    "# where_clause = f\"instrument=\\'LATISS\\' AND exposure.day_obs={DATE}\"\n",
    "# dataId = {'visit': visitId, 'instrument':instrument}\n",
    "# datasetRefs = registry.queryDatasets('postISRCCD', dataId=dataId, collections  = the_collection)\n",
    "datasetRefs = registry.queryDatasets(\n",
    "    \"postISRCCD\", where=where_expr, collections=the_collection\n",
    ")\n",
    "# one dictionnary for the focal surface\n",
    "title_dict = {}\n",
    "postisr_dict = {}\n",
    "header_dict = {}\n",
    "\n",
    "for i, ref in enumerate(datasetRefs):\n",
    "    exposure = ref.dataId[\"exposure\"]\n",
    "    detector = ref.dataId[\"detector\"]\n",
    "    physical_filter = ref.dataId[\"physical_filter\"]\n",
    "    # retrieve the postISRCCD\n",
    "    postisrccd = butler.get(ref)\n",
    "    # Need raw image to have the header required\n",
    "    raw_img = butler.get(\n",
    "        \"raw\",\n",
    "        dataId={\"exposure\": exposure, \"instrument\": \"LATISS\", \"detector\": 0},\n",
    "        collections=[\n",
    "            \"LATISS/calib\",\n",
    "            \"LATISS/raw/all\",\n",
    "        ],\n",
    "    )\n",
    "    header = raw_img.getMetadata().toDict()\n",
    "    print(ref.dataId, postisrccd)\n",
    "    the_title = f\"id : {exposure}, det = {detector}, b = {physical_filter}\"\n",
    "    title_dict[exposure] = the_title\n",
    "    postisr_dict[exposure] = postisrccd\n",
    "    header_dict[exposure] = header\n",
    "N = len(title_dict)\n",
    "print(f\"Number of images = {N}\")"
   ]
  },
  {
   "cell_type": "markdown",
   "id": "35375c32-1643-465b-b423-353ebf879c64",
   "metadata": {},
   "source": [
    "### Simple summary"
   ]
  },
  {
   "cell_type": "code",
   "execution_count": null,
   "id": "237a05b2-c722-4704-96db-12153970e40b",
   "metadata": {
    "execution": {
     "iopub.execute_input": "2025-02-06T12:39:45.726872Z",
     "iopub.status.busy": "2025-02-06T12:39:45.726521Z",
     "iopub.status.idle": "2025-02-06T12:39:45.730358Z",
     "shell.execute_reply": "2025-02-06T12:39:45.729927Z",
     "shell.execute_reply.started": "2025-02-06T12:39:45.726856Z"
    }
   },
   "outputs": [],
   "source": [
    "N"
   ]
  },
  {
   "cell_type": "code",
   "execution_count": null,
   "id": "35ff5b78-2a7e-4780-97cc-3b82030ab314",
   "metadata": {
    "execution": {
     "iopub.execute_input": "2025-02-06T12:39:48.845612Z",
     "iopub.status.busy": "2025-02-06T12:39:48.845270Z",
     "iopub.status.idle": "2025-02-06T12:39:48.848538Z",
     "shell.execute_reply": "2025-02-06T12:39:48.848034Z",
     "shell.execute_reply.started": "2025-02-06T12:39:48.845595Z"
    }
   },
   "outputs": [],
   "source": [
    "list_of_exposures = list(title_dict.keys())"
   ]
  },
  {
   "cell_type": "markdown",
   "id": "690a075e-e4f9-4016-bcf6-dc9d69ac1aeb",
   "metadata": {
    "execution": {
     "iopub.status.busy": "2024-10-25T19:43:36.665728Z",
     "iopub.status.idle": "2024-10-25T19:43:36.665892Z",
     "shell.execute_reply": "2024-10-25T19:43:36.665814Z",
     "shell.execute_reply.started": "2024-10-25T19:43:36.665807Z"
    }
   },
   "source": [
    "## View all the images in Firefly"
   ]
  },
  {
   "cell_type": "code",
   "execution_count": null,
   "id": "b5cfdd8f-6ca2-4d2d-83c8-5a1426b0d653",
   "metadata": {
    "execution": {
     "iopub.execute_input": "2025-02-06T12:23:01.206237Z",
     "iopub.status.busy": "2025-02-06T12:23:01.206099Z",
     "iopub.status.idle": "2025-02-06T12:23:15.490266Z",
     "shell.execute_reply": "2025-02-06T12:23:15.489725Z",
     "shell.execute_reply.started": "2025-02-06T12:23:01.206223Z"
    }
   },
   "outputs": [],
   "source": [
    "for count, expos in enumerate(list_of_exposures):\n",
    "    display = afwDisplay.Display(frame=count)\n",
    "    display.scale(\"asinh\", \"zscale\")\n",
    "    display.mtv(postisr_dict[expos].image, title=title_dict[expos])"
   ]
  },
  {
   "cell_type": "code",
   "execution_count": null,
   "id": "d887b73a-b144-4d77-9199-175ae22c16a5",
   "metadata": {
    "execution": {
     "iopub.execute_input": "2025-02-06T12:23:15.490994Z",
     "iopub.status.busy": "2025-02-06T12:23:15.490851Z",
     "iopub.status.idle": "2025-02-06T12:23:15.849680Z",
     "shell.execute_reply": "2025-02-06T12:23:15.849023Z",
     "shell.execute_reply.started": "2025-02-06T12:23:15.490979Z"
    }
   },
   "outputs": [],
   "source": [
    "assert False"
   ]
  },
  {
   "cell_type": "markdown",
   "id": "9c7e9f59-32d9-447d-95d5-ef341cebab47",
   "metadata": {},
   "source": [
    "### Clear Firefly here"
   ]
  },
  {
   "cell_type": "code",
   "execution_count": null,
   "id": "2a62b411-4f8d-4a3f-87bb-de2209c31f47",
   "metadata": {
    "execution": {
     "iopub.execute_input": "2025-02-06T12:23:45.689453Z",
     "iopub.status.busy": "2025-02-06T12:23:45.688974Z",
     "iopub.status.idle": "2025-02-06T12:23:45.696264Z",
     "shell.execute_reply": "2025-02-06T12:23:45.695803Z",
     "shell.execute_reply.started": "2025-02-06T12:23:45.689419Z"
    }
   },
   "outputs": [],
   "source": [
    "display.clearViewer()\n",
    "afwDisplay.setDefaultBackend(\"firefly\")"
   ]
  },
  {
   "cell_type": "markdown",
   "id": "c4ea99ba-63c7-47ca-9979-77e7342a27a8",
   "metadata": {},
   "source": [
    "## Convert into fits"
   ]
  },
  {
   "cell_type": "code",
   "execution_count": null,
   "id": "972b7bd4-64d0-4b58-abb8-b5d3fef0fbfc",
   "metadata": {
    "execution": {
     "iopub.execute_input": "2025-02-06T12:54:33.124793Z",
     "iopub.status.busy": "2025-02-06T12:54:33.124443Z",
     "iopub.status.idle": "2025-02-06T12:54:33.128832Z",
     "shell.execute_reply": "2025-02-06T12:54:33.128350Z",
     "shell.execute_reply.started": "2025-02-06T12:54:33.124776Z"
    }
   },
   "outputs": [],
   "source": [
    "top_path_out = f\"./output/{DATE}\"\n",
    "isExist = os.path.exists(top_path_out)\n",
    "if not isExist:\n",
    "    os.mkdir(top_path_out)"
   ]
  },
  {
   "cell_type": "code",
   "execution_count": null,
   "id": "f68a3d8d-9b56-4fc8-98a8-a80016d47f05",
   "metadata": {
    "execution": {
     "iopub.execute_input": "2025-02-06T12:54:50.137271Z",
     "iopub.status.busy": "2025-02-06T12:54:50.136439Z",
     "iopub.status.idle": "2025-02-06T12:54:59.598768Z",
     "shell.execute_reply": "2025-02-06T12:54:59.598262Z",
     "shell.execute_reply.started": "2025-02-06T12:54:50.137252Z"
    }
   },
   "outputs": [],
   "source": [
    "for count, expos in enumerate(list_of_exposures):\n",
    "    the_image = postisr_dict[expos].image\n",
    "    the_md = header_dict[expos]\n",
    "    rotated_array = the_image.array[::-1, ::-1]  # rotate the array 180 degrees\n",
    "\n",
    "    the_object = the_md[\"OBJECT\"]\n",
    "    the_am = the_md[\"AMSTART\"]\n",
    "    the_filter = the_md[\"FILTER\"]\n",
    "\n",
    "    if the_object == \"MU-COL\":\n",
    "        the_md[\"OBJECT\"] = \"HD38666\"\n",
    "        the_object = the_md[\"OBJECT\"]\n",
    "\n",
    "    filename_out = f\"exposure_{expos}_dmpostisrccd.fits\"\n",
    "    fullfilename_out = os.path.join(top_path_out, filename_out)\n",
    "\n",
    "    print(f\">>>>  output filename {filename_out} object {the_object}\")\n",
    "\n",
    "    # Header in output file\n",
    "    hdr = fits.Header()\n",
    "\n",
    "    for key, value in the_md.items():\n",
    "        if key == \"OBJECT\":\n",
    "            print(key, value)\n",
    "\n",
    "        if len(key) <= 8:\n",
    "            hdr[str(key)] = value\n",
    "        else:\n",
    "            print(f\"Skip key {key}\")\n",
    "\n",
    "    # need this\n",
    "    hdr[\"AMEND\"] = hdr[\"AMSTART\"]\n",
    "\n",
    "    # be aware weather data may be missing\n",
    "    if hdr[\"AIRTEMP\"] == None:\n",
    "        hdr[\"AIRTEMP\"] = 10.0\n",
    "        print(\"AIRTEMP key missing\")\n",
    "\n",
    "    if hdr[\"PRESSURE\"] == None:\n",
    "        hdr[\"PRESSURE\"] = 744.0\n",
    "        print(\"PRESSURE key missing\")\n",
    "\n",
    "    if hdr[\"HUMIDITY\"] == None:\n",
    "        hdr[\"HUMIDITY\"] = 50.0\n",
    "        print(\"HUMIDITY key missing\")\n",
    "\n",
    "    if hdr[\"WINDSPD\"] == None:\n",
    "        hdr[\"WINDSPD\"] = 5.0\n",
    "        print(\"WINDSPD key missing\")\n",
    "\n",
    "    if hdr[\"WINDDIR\"] == None:\n",
    "        hdr[\"WINDDIR\"] = 0.0\n",
    "        print(\"WINDDIR key missing\")\n",
    "\n",
    "    if hdr[\"SEEING\"] == None:\n",
    "        hdr[\"SEEING\"] = 0.9\n",
    "        print(\"SEEING key missing\")\n",
    "\n",
    "    # Be carefull for Spectractor Standalone, 2 hdu units are necessary\n",
    "\n",
    "    primary_hdu = fits.PrimaryHDU(header=hdr)\n",
    "    image_hdu = fits.ImageHDU(rotated_array)\n",
    "    hdu_list = fits.HDUList([primary_hdu, image_hdu])\n",
    "    hdu_list.writeto(fullfilename_out, overwrite=True)\n",
    "\n",
    "print(\"finished\")"
   ]
  },
  {
   "cell_type": "code",
   "execution_count": null,
   "id": "2ecbc638-2abd-4950-b2f3-679e19af6019",
   "metadata": {
    "execution": {
     "iopub.execute_input": "2025-02-06T12:37:48.557030Z",
     "iopub.status.busy": "2025-02-06T12:37:48.556816Z",
     "iopub.status.idle": "2025-02-06T12:37:48.574712Z",
     "shell.execute_reply": "2025-02-06T12:37:48.574018Z",
     "shell.execute_reply.started": "2025-02-06T12:37:48.557014Z"
    }
   },
   "outputs": [],
   "source": []
  },
  {
   "cell_type": "code",
   "execution_count": null,
   "id": "d7272c04-22b6-4892-ae63-f77d398b1d07",
   "metadata": {},
   "outputs": [],
   "source": []
  }
 ],
 "metadata": {
  "kernelspec": {
   "display_name": "LSST",
   "language": "python",
   "name": "lsst"
  },
  "language_info": {
   "codemirror_mode": {
    "name": "ipython",
    "version": 3
   },
   "file_extension": ".py",
   "mimetype": "text/x-python",
   "name": "python",
   "nbconvert_exporter": "python",
   "pygments_lexer": "ipython3",
   "version": "3.11.9"
  }
 },
 "nbformat": 4,
 "nbformat_minor": 5
}
