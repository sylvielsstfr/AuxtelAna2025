{
 "cells": [
  {
   "cell_type": "markdown",
   "id": "30c9f2ef-550a-4b4f-8411-7224adc5b98b",
   "metadata": {},
   "source": [
    "# Very First Look of Auxtel PostISRCCD with firefly\n",
    "\n",
    "- Goal verification \n",
    "- Restart the Kernel first"
   ]
  },
  {
   "cell_type": "markdown",
   "id": "f1e111e8-ccbc-4602-b8ab-392fe9f8812a",
   "metadata": {
    "execution": {
     "iopub.execute_input": "2024-10-25T18:35:28.020312Z",
     "iopub.status.busy": "2024-10-25T18:35:28.019985Z",
     "iopub.status.idle": "2024-10-25T18:35:28.023846Z",
     "shell.execute_reply": "2024-10-25T18:35:28.023258Z",
     "shell.execute_reply.started": "2024-10-25T18:35:28.020294Z"
    }
   },
   "source": [
    "- author : Sylvie Dagoret-campagne\n",
    "- affiliation : IJCLab/in2p3/CNRS\n",
    "- creation date : 2025-01-09\n",
    "- update : 2025-01-09\n",
    "- update : 2025-01-09 : fix the date decoding (w_2024_50)\n",
    "- last update : 2026-01-13 :\n",
    "- last update : 2026-01-22 : Include night from 2025-01-20"
   ]
  },
  {
   "cell_type": "code",
   "execution_count": 1,
   "id": "b04f3879-f5d5-4e7e-8496-21056d10be1d",
   "metadata": {
    "execution": {
     "iopub.execute_input": "2025-01-22T13:19:18.764984Z",
     "iopub.status.busy": "2025-01-22T13:19:18.764871Z",
     "iopub.status.idle": "2025-01-22T13:19:20.700363Z",
     "shell.execute_reply": "2025-01-22T13:19:20.699933Z",
     "shell.execute_reply.started": "2025-01-22T13:19:18.764973Z"
    }
   },
   "outputs": [],
   "source": [
    "import matplotlib.pyplot as plt\n",
    "import matplotlib as mpl\n",
    "import matplotlib.dates as mdates\n",
    "import matplotlib.ticker\n",
    "from mpl_toolkits.axes_grid1 import make_axes_locatable\n",
    "from matplotlib.colors import LogNorm,SymLogNorm\n",
    "from matplotlib.colors import ListedColormap\n",
    "import matplotlib.colors as colors\n",
    "import matplotlib.colors as mcolors\n",
    "import matplotlib.cm as cmx\n",
    "import matplotlib.cm as cm\n",
    "\n",
    "\n",
    "%matplotlib inline\n",
    "import numpy as np\n",
    "import pandas as pd\n",
    "import matplotlib.gridspec as gridspec\n",
    "from spectractor.tools import from_lambda_to_colormap, wavelength_to_rgb\n",
    "#%matplotlib widget \n",
    "import h5py\n",
    "from scipy import interpolate\n",
    "from astropy.time import Time\n",
    "from datetime import datetime, timedelta\n",
    "import seaborn as sns\n",
    "\n",
    "from itertools import cycle, islice\n",
    "import os"
   ]
  },
  {
   "cell_type": "code",
   "execution_count": 2,
   "id": "18068db4-c33c-43c5-bd12-58ff250d7a02",
   "metadata": {
    "execution": {
     "iopub.execute_input": "2025-01-22T13:19:20.701516Z",
     "iopub.status.busy": "2025-01-22T13:19:20.700856Z",
     "iopub.status.idle": "2025-01-22T13:19:20.704235Z",
     "shell.execute_reply": "2025-01-22T13:19:20.703872Z",
     "shell.execute_reply.started": "2025-01-22T13:19:20.701501Z"
    }
   },
   "outputs": [],
   "source": [
    "plt.rcParams[\"figure.figsize\"] = (18,8)\n",
    "plt.rcParams[\"axes.labelsize\"] = 'xx-large'\n",
    "plt.rcParams['axes.titlesize'] = 'xx-large'\n",
    "plt.rcParams['xtick.labelsize']= 'xx-large'\n",
    "plt.rcParams['ytick.labelsize']= 'xx-large'\n",
    "plt.rcParams['legend.fontsize']=  12\n",
    "plt.rcParams['font.size'] = 12"
   ]
  },
  {
   "cell_type": "code",
   "execution_count": 3,
   "id": "611a8607-3ac5-4853-b270-f703f13e518b",
   "metadata": {
    "execution": {
     "iopub.execute_input": "2025-01-22T13:19:20.704738Z",
     "iopub.status.busy": "2025-01-22T13:19:20.704620Z",
     "iopub.status.idle": "2025-01-22T13:19:20.711053Z",
     "shell.execute_reply": "2025-01-22T13:19:20.710737Z",
     "shell.execute_reply.started": "2025-01-22T13:19:20.704726Z"
    }
   },
   "outputs": [],
   "source": [
    "from matplotlib.ticker import (MultipleLocator, FormatStrFormatter,\n",
    "                               AutoMinorLocator)\n",
    "\n",
    "from astropy.visualization import (MinMaxInterval, SqrtStretch,ZScaleInterval,PercentileInterval,\n",
    "                                   ImageNormalize,imshow_norm)\n",
    "from astropy.visualization.stretch import SinhStretch, LinearStretch,AsinhStretch,LogStretch\n",
    "\n",
    "transform = AsinhStretch() + PercentileInterval(99.)"
   ]
  },
  {
   "cell_type": "code",
   "execution_count": 4,
   "id": "fc0c0153-7a40-4166-bf13-46645d734aef",
   "metadata": {
    "execution": {
     "iopub.execute_input": "2025-01-22T13:19:20.712342Z",
     "iopub.status.busy": "2025-01-22T13:19:20.712223Z",
     "iopub.status.idle": "2025-01-22T13:19:21.474329Z",
     "shell.execute_reply": "2025-01-22T13:19:21.473900Z",
     "shell.execute_reply.started": "2025-01-22T13:19:20.712330Z"
    }
   },
   "outputs": [],
   "source": [
    "from lsst.daf.butler import Butler \n",
    "import astropy.units as u\n",
    "import numpy as np \n",
    "import pandas as pd\n",
    "pd.set_option(\"display.max_columns\", None)\n",
    "from astropy.time import Time\n",
    "\n",
    "import scipy.stats\n",
    "\n",
    "import matplotlib\n",
    "%matplotlib inline\n",
    "from matplotlib import pyplot as plt"
   ]
  },
  {
   "cell_type": "code",
   "execution_count": 5,
   "id": "ac174b05-2a02-41dc-a03d-bc613305f874",
   "metadata": {
    "execution": {
     "iopub.execute_input": "2025-01-22T13:19:21.474916Z",
     "iopub.status.busy": "2025-01-22T13:19:21.474785Z",
     "iopub.status.idle": "2025-01-22T13:19:21.799166Z",
     "shell.execute_reply": "2025-01-22T13:19:21.798693Z",
     "shell.execute_reply.started": "2025-01-22T13:19:21.474903Z"
    }
   },
   "outputs": [],
   "source": [
    "# LSST Display\n",
    "# The advantage to use firefly is that the firefly display can handle a lotsof images\n",
    "import lsst.afw.display as afwDisplay\n",
    "afwDisplay.setDefaultBackend('firefly')"
   ]
  },
  {
   "cell_type": "code",
   "execution_count": 14,
   "id": "d9011615-d6d6-4580-88cb-f88d285d23d5",
   "metadata": {
    "execution": {
     "iopub.execute_input": "2025-01-22T13:21:58.261977Z",
     "iopub.status.busy": "2025-01-22T13:21:58.261546Z",
     "iopub.status.idle": "2025-01-22T13:21:58.264048Z",
     "shell.execute_reply": "2025-01-22T13:21:58.263706Z",
     "shell.execute_reply.started": "2025-01-22T13:21:58.261961Z"
    }
   },
   "outputs": [],
   "source": [
    "# import my tool library for spectra \n",
    "from auxtelana2025.spectrom import libanaspectra as myspeclib\n",
    "#dir(myspeclib)"
   ]
  },
  {
   "cell_type": "markdown",
   "id": "48ec2e7a-36e5-4b68-8da2-b5da1c3f1fba",
   "metadata": {
    "execution": {
     "iopub.execute_input": "2024-10-25T19:17:41.583673Z",
     "iopub.status.busy": "2024-10-25T19:17:41.583538Z",
     "iopub.status.idle": "2024-10-25T19:17:41.585892Z",
     "shell.execute_reply": "2024-10-25T19:17:41.585507Z",
     "shell.execute_reply.started": "2024-10-25T19:17:41.583660Z"
    }
   },
   "source": [
    "## Configuration\n",
    "\n",
    "- Use the tag report to guess the collections in which we exect data :  https://usdf-rsp-dev.slac.stanford.edu/times-square/github/lsst-dm/vv-team-notebooks/TargetReport\n",
    "\n",
    "In the case of LSSTComCam:\n",
    "\n",
    "- https://usdf-rsp-dev.slac.stanford.edu/times-square/github/lsst-dm/vv-team-notebooks/TargetReport?day_obs=2024-10-24&instrument=LSSTComCam&repo=embargo_new&collection=LSSTComCam%2Fprompt%2Foutput-2024-10-24&collection_sky=LSSTComCamSim%2Fruns%2FDRP%2FOR4%2Fw_2024_25%2FDM-45066&skymap_name=ops_rehersal_prep_2k_v1&col_sciprog=science_program&col_target=target&col_filter=filter&col_id=id&ts_hide_code=1"
   ]
  },
  {
   "cell_type": "code",
   "execution_count": null,
   "id": "e7aa9495-baa5-4976-aee1-48c9f63b71ba",
   "metadata": {
    "execution": {
     "iopub.status.busy": "2025-01-22T13:19:21.987715Z",
     "iopub.status.idle": "2025-01-22T13:19:21.987876Z",
     "shell.execute_reply": "2025-01-22T13:19:21.987801Z",
     "shell.execute_reply.started": "2025-01-22T13:19:21.987793Z"
    }
   },
   "outputs": [],
   "source": [
    "instrument = \"LATISS\"\n",
    "#collection = 'u/dagoret/auxtel_atmosphere_202501_v3.1.0_doSensorFlat_rebin2_lockedOrder2_FixA1_FixA2_FitAngstrom_freePressure_newThroughput6_BG40Scaled1.09_AtmoFitPressureA2_SpecErr_No5SigmaClip_w_2024_50_oldptc-test20250109b'\n",
    "collection = 'u/dagoret/auxtel_atmosphere_202501_v3.1.0_doSensorFlat_rebin2_lockedOrder2_FixA1_FixA2_FitAngstrom_freePressure_newThroughput6_BG40Scaled1.09_AtmoFitPressureA2_SpecErr_No5SigmaClip_w_2024_50_newptc-test20250110a'\n",
    "# 2025-01-21\n",
    "collection = \"u/dagoret/auxtel_atmosphere_202501_v3.1.0_doSensorFlat_rebin2_lockedOrder2_FixA1_FixA2_FitAngstrom_freePressure_newThroughput6_BG40Scaled1.09_AtmoFitPressureA2_SpecErr_No5SigmaClip_w_2024_50_test20250121a\"\n",
    "#20250121T124042Z"
   ]
  },
  {
   "cell_type": "code",
   "execution_count": null,
   "id": "fc3ffb68-90b1-495e-a4c6-59a3ea280273",
   "metadata": {
    "execution": {
     "iopub.status.busy": "2025-01-22T13:19:21.988486Z",
     "iopub.status.idle": "2025-01-22T13:19:21.988634Z",
     "shell.execute_reply": "2025-01-22T13:19:21.988565Z",
     "shell.execute_reply.started": "2025-01-22T13:19:21.988558Z"
    }
   },
   "outputs": [],
   "source": [
    "#import lsst.daf.butler as dafButler\n",
    "import lsst.summit.utils.butlerUtils as butlerUtils\n",
    "butler = butlerUtils.makeDefaultLatissButler(embargo=True)\n",
    "\n",
    "repo = \"/repo/main\"\n",
    "repo = \"/repo/embargo\"\n",
    "# repo = \"LATISS\"\n",
    "#butler = dafButler.Butler(repo)\n",
    "registry = butler.registry"
   ]
  },
  {
   "cell_type": "markdown",
   "id": "95b5567c-35af-4de1-87e8-2953e4808d2f",
   "metadata": {
    "execution": {
     "iopub.execute_input": "2024-10-25T19:17:41.935759Z",
     "iopub.status.busy": "2024-10-25T19:17:41.935583Z",
     "iopub.status.idle": "2024-10-25T19:17:41.937673Z",
     "shell.execute_reply": "2024-10-25T19:17:41.937341Z",
     "shell.execute_reply.started": "2024-10-25T19:17:41.935746Z"
    }
   },
   "source": [
    "## Query about the collections available\n",
    "\n",
    "- select collections LATISS"
   ]
  },
  {
   "cell_type": "code",
   "execution_count": null,
   "id": "4896b65e-20e2-4750-a853-542c50ce4aa0",
   "metadata": {
    "execution": {
     "iopub.status.busy": "2025-01-22T13:19:21.989036Z",
     "iopub.status.idle": "2025-01-22T13:19:21.989182Z",
     "shell.execute_reply": "2025-01-22T13:19:21.989112Z",
     "shell.execute_reply.started": "2025-01-22T13:19:21.989106Z"
    }
   },
   "outputs": [],
   "source": [
    "for c in sorted(registry.queryCollections()):\n",
    "    #if \"u/jneveu\" in c and \"auxtel_atmo\" in c and \"SensorFlat\" in c and \"FixA1\" in c:\n",
    "    #if \"u/dagoret\" in c and \"auxtel_atmo\" in c and \"SensorFlat\" in c and \"FixA1\" in c:\n",
    "    if \"u/dagoret\" in c and \"auxtel_atmo\":\n",
    "        print(c)"
   ]
  },
  {
   "cell_type": "code",
   "execution_count": null,
   "id": "24e7111f-83c2-4244-a869-c5e7f99494c7",
   "metadata": {
    "execution": {
     "iopub.status.busy": "2025-01-22T13:19:21.989644Z",
     "iopub.status.idle": "2025-01-22T13:19:21.989796Z",
     "shell.execute_reply": "2025-01-22T13:19:21.989723Z",
     "shell.execute_reply.started": "2025-01-22T13:19:21.989716Z"
    }
   },
   "outputs": [],
   "source": [
    "for _ in butler.registry.queryCollections():\n",
    "    if 'LATISS/' in _:\n",
    "        print(_)"
   ]
  },
  {
   "cell_type": "markdown",
   "id": "9df18f79-accc-4188-a5f9-0e0934263e91",
   "metadata": {},
   "source": [
    "- From the list available today , we probably have to look inside the colleciton `LSSTComCam/nightlyValidation`"
   ]
  },
  {
   "cell_type": "markdown",
   "id": "c0272ab3-785f-4a90-93fb-e970cffe3cc8",
   "metadata": {},
   "source": [
    "## Create the butler on the selected collection"
   ]
  },
  {
   "cell_type": "code",
   "execution_count": null,
   "id": "8cf2d6d3-4288-470c-8e79-2340e793a353",
   "metadata": {
    "execution": {
     "iopub.status.busy": "2025-01-22T13:19:21.990315Z",
     "iopub.status.idle": "2025-01-22T13:19:21.990466Z",
     "shell.execute_reply": "2025-01-22T13:19:21.990390Z",
     "shell.execute_reply.started": "2025-01-22T13:19:21.990383Z"
    }
   },
   "outputs": [],
   "source": [
    "for datasetType in registry.queryDatasetTypes():\n",
    "    if registry.queryDatasets(datasetType, collections=collection).any(execute=False, exact=False):\n",
    "        # Limit search results to the data products\n",
    "        if ('_config' not in datasetType.name) and ('_log' not in datasetType.name) and ('_metadata' not in datasetType.name) and ('_resource_usage' not in datasetType.name):\n",
    "            print(datasetType)"
   ]
  },
  {
   "cell_type": "markdown",
   "id": "e6499567-c915-4cf0-a281-cecdde970493",
   "metadata": {},
   "source": [
    "- Notice no visit-Table is available. Thus to know which visiId are existing, we will use the registry later"
   ]
  },
  {
   "cell_type": "markdown",
   "id": "d90681b8-bb52-4227-b4db-6bb2c6be0fc7",
   "metadata": {},
   "source": [
    "## Extract the list of visitId from the butler's registry "
   ]
  },
  {
   "cell_type": "markdown",
   "id": "45ff66dc-6576-4daa-ad20-db353e751e06",
   "metadata": {},
   "source": [
    "### Get the list of information that can be extracted from the registryfor each exposure"
   ]
  },
  {
   "cell_type": "code",
   "execution_count": null,
   "id": "3805631a-a005-45eb-a7ef-bcbd0ddeda94",
   "metadata": {
    "execution": {
     "iopub.status.busy": "2025-01-22T13:19:21.991099Z",
     "iopub.status.idle": "2025-01-22T13:19:21.991250Z",
     "shell.execute_reply": "2025-01-22T13:19:21.991178Z",
     "shell.execute_reply.started": "2025-01-22T13:19:21.991171Z"
    }
   },
   "outputs": [],
   "source": [
    "print(registry.dimensions[\"exposure\"].RecordClass.fields)"
   ]
  },
  {
   "cell_type": "markdown",
   "id": "417fb6a0-eafe-4b87-b321-819589292cd3",
   "metadata": {},
   "source": [
    "### Create the pandas dataframe from the information inside the butler's registry"
   ]
  },
  {
   "cell_type": "code",
   "execution_count": null,
   "id": "9ab1d265-5fc9-459a-bd6e-7687ac4908bc",
   "metadata": {
    "execution": {
     "iopub.status.busy": "2025-01-22T13:19:21.991559Z",
     "iopub.status.idle": "2025-01-22T13:19:21.991696Z",
     "shell.execute_reply": "2025-01-22T13:19:21.991632Z",
     "shell.execute_reply.started": "2025-01-22T13:19:21.991625Z"
    }
   },
   "outputs": [],
   "source": [
    "df_exposure = pd.DataFrame(columns=['id', 'obs_id','day_obs', 'seq_num','time_start','time_end' ,'type', 'target','filter','zenith_angle','expos','ra','dec','skyangle','azimuth','zenith','science_program','jd','mjd'])"
   ]
  },
  {
   "cell_type": "markdown",
   "id": "6a5b2ba6-c302-4578-9f53-55a021de1028",
   "metadata": {},
   "source": [
    "### Fill the pandas dataframe from the records inside the butler's registry for each exposure having a datasets='spectractorSpectrum'\n",
    "\n",
    "In that wayn the filling of the pandas dataframe logbook is faster."
   ]
  },
  {
   "cell_type": "code",
   "execution_count": null,
   "id": "c217fbbc-e421-471e-a007-76d1e9ea6d1b",
   "metadata": {
    "execution": {
     "iopub.status.busy": "2025-01-22T13:19:21.992156Z",
     "iopub.status.idle": "2025-01-22T13:19:21.992302Z",
     "shell.execute_reply": "2025-01-22T13:19:21.992233Z",
     "shell.execute_reply.started": "2025-01-22T13:19:21.992226Z"
    }
   },
   "outputs": [],
   "source": [
    "where_expr = \"instrument='LATISS'\"\n",
    "records = list(butler.registry.queryDimensionRecords('visit', datasets='spectractorSpectrum', where=where_expr ,  collections=collection))\n",
    "refs = list(set(butler.registry.queryDatasets('spectractorSpectrum',  where=where_expr,  collections=collection)))"
   ]
  },
  {
   "cell_type": "code",
   "execution_count": null,
   "id": "6063bddb-b38f-4882-be55-577ccf4c1409",
   "metadata": {
    "execution": {
     "iopub.status.busy": "2025-01-22T13:19:21.992854Z",
     "iopub.status.idle": "2025-01-22T13:19:21.992997Z",
     "shell.execute_reply": "2025-01-22T13:19:21.992927Z",
     "shell.execute_reply.started": "2025-01-22T13:19:21.992920Z"
    }
   },
   "outputs": [],
   "source": [
    "print(f\">>> Number of reconstructed spectra : {len(records)} \\n in collection {collection}\")\n",
    "records[0]"
   ]
  },
  {
   "cell_type": "code",
   "execution_count": null,
   "id": "198416ee-5d19-4cf9-80dc-4b4b6386aee5",
   "metadata": {
    "execution": {
     "iopub.status.busy": "2025-01-22T13:19:21.993366Z",
     "iopub.status.idle": "2025-01-22T13:19:21.993511Z",
     "shell.execute_reply": "2025-01-22T13:19:21.993437Z",
     "shell.execute_reply.started": "2025-01-22T13:19:21.993430Z"
    }
   },
   "outputs": [],
   "source": [
    "def get_whereclause(expos_id):\n",
    "    return f\"exposure.id = {expos_id} and instrument = \\'LATISS\\'\""
   ]
  },
  {
   "cell_type": "code",
   "execution_count": null,
   "id": "9409ca56-6b8b-4a8d-866b-7d7043dd108a",
   "metadata": {
    "execution": {
     "iopub.status.busy": "2025-01-22T13:19:21.994013Z",
     "iopub.status.idle": "2025-01-22T13:19:21.994154Z",
     "shell.execute_reply": "2025-01-22T13:19:21.994085Z",
     "shell.execute_reply.started": "2025-01-22T13:19:21.994078Z"
    }
   },
   "outputs": [],
   "source": [
    "#for count, info in enumerate(registry.queryDimensionRecords('exposure',where = where_expr)):  \n",
    "list_of_ids = np.zeros(len(records)).astype(int)\n",
    "# first loop on records 'spectractorSpectrum'\n",
    "for count, r in enumerate(records):\n",
    "    the_whereclause = get_whereclause(r.id)\n",
    "    list_of_ids[count] = r.id\n",
    "    # then select in the registry the entry with the proper id\n",
    "    for count2, info in enumerate(registry.queryDimensionRecords('exposure',where= the_whereclause)):\n",
    "    \n",
    "        try:\n",
    "            # decode entry in the registry\n",
    "            id_ = info.id\n",
    "            obs_id_ = info.obs_id\n",
    "            day_obs_ = info.day_obs\n",
    "            seq_num_ = info.seq_num\n",
    "            timespan_ = info.timespan\n",
    "\n",
    "            timespan_begin_ = pd.to_datetime(info.timespan.begin.to_datetime())\n",
    "            timespan_end_ = pd.to_datetime(info.timespan.end.to_datetime())\n",
    "            timespan_jd_ = timespan_.begin.jd\n",
    "            timespan_mjd_ = timespan_.begin.mjd\n",
    "            \n",
    "            \n",
    "            \n",
    "            df_exposure.loc[count] = [info.id, info.obs_id, info.day_obs, info.seq_num,timespan_begin_,timespan_end_ ,info.observation_type, info.target_name, info.physical_filter, info.zenith_angle, \\\n",
    "                             info.exposure_time,info.tracking_ra, info.tracking_dec, info.sky_angle,info.azimuth ,info.zenith_angle, info.science_program,\n",
    "                             timespan_jd_,timespan_mjd_  ]\n",
    "        \n",
    "        \n",
    "            \n",
    "        except:\n",
    "            #print(\">>>   Unexpected error:\", sys.exc_info()[0])\n",
    "            #info_timespan_begin_to_string = \"2021-01-01 00:00:00.00\"\n",
    "            #info_timespan_end_to_string = \"2051-01-01 00:00:00.00\"\n",
    "\n",
    "            info_timespan_begin_to_string = info.group\n",
    "            info_timespan_end_to_string = info.group\n",
    "\n",
    "            info_timespan_begin_mjd  = Time(info_timespan_begin_to_string).mjd\n",
    "            info_timespan_begin_jd = Time(info_timespan_begin_to_string).jd\n",
    "            \n",
    "            #print(\"\\t >>>> after error try to recover mjd and jd == > mjd, jd = \",info_timespan_begin_mjd ,info_timespan_begin_jd )\n",
    "            \n",
    "            \n",
    "            #info_timespan_begin_jd = 0\n",
    "            #info_timespan_begin_mjd = 0\n",
    "            df_exposure.loc[count] = [info.id, info.obs_id, info.day_obs, info.seq_num,\n",
    "                                  pd.to_datetime(info_timespan_begin_to_string),\n",
    "                                  pd.to_datetime(info_timespan_end_to_string) ,\n",
    "                                  info.observation_type, info.target_name, \n",
    "                                  info.physical_filter, \\\n",
    "                             info.exposure_time,info.tracking_ra, info.tracking_dec, info.sky_angle,info.azimuth ,info.zenith_angle, info.science_program,\n",
    "                             info_timespan_begin_jd, info_timespan_begin_mjd  ]\n",
    "         \n",
    "    \n",
    "        if count < 3:\n",
    "            print(\"-----------------------------------------------------\",count,\"---------------------------------------------------------\")\n",
    "            print(info)\n",
    "            print(\"\\t id:                  \",info.id)\n",
    "            print(\"\\t day_obs:             \",info.day_obs)\n",
    "            print(\"\\t info_group.          \",info.group)\n",
    "            print(\"\\t seq_num:             \",info.seq_num)\n",
    "            print(\"\\t type-of-observation: \",info.observation_type)\n",
    "            print(\"\\t target:              \",info.target_name)\n",
    "\n",
    "            timespan_ = info.timespan\n",
    "            timespan_begin_ = pd.to_datetime(info.timespan.begin.to_datetime())\n",
    "            timespan_end_ = pd.to_datetime(info.timespan.end.to_datetime())\n",
    "            timespan_jd_ = timespan_.begin.jd\n",
    "            timespan_mjd_ = timespan_.begin.mjd\n",
    "        \n",
    "            mjd = timespan_mjd_ \n",
    "            jd = timespan_jd_ \n",
    "            print(\"MJD,JD : \",mjd,jd)\n",
    "        \n",
    "            "
   ]
  },
  {
   "cell_type": "markdown",
   "id": "4e941a71-f599-4339-b51a-3cd565e9a9b9",
   "metadata": {},
   "source": [
    "#### convert some columns into integer"
   ]
  },
  {
   "cell_type": "code",
   "execution_count": null,
   "id": "dd17b159-8658-4247-8bdf-a2900d5dcbe3",
   "metadata": {
    "execution": {
     "iopub.status.busy": "2025-01-22T13:19:21.994654Z",
     "iopub.status.idle": "2025-01-22T13:19:21.994803Z",
     "shell.execute_reply": "2025-01-22T13:19:21.994728Z",
     "shell.execute_reply.started": "2025-01-22T13:19:21.994721Z"
    }
   },
   "outputs": [],
   "source": [
    "df_exposure = df_exposure.astype({\"id\": int,'day_obs': int,'seq_num':int,'jd':int,'mjd':int})"
   ]
  },
  {
   "cell_type": "markdown",
   "id": "31bc3a72-c798-450d-b966-9927cf309958",
   "metadata": {},
   "source": [
    "### Find the different type of exposures\n",
    "\n",
    "- By definition 'spectractorSpectrum' are science type"
   ]
  },
  {
   "cell_type": "code",
   "execution_count": null,
   "id": "19ec676c-4b91-4d3f-8810-b893567ad2d7",
   "metadata": {
    "execution": {
     "iopub.status.busy": "2025-01-22T13:19:21.995099Z",
     "iopub.status.idle": "2025-01-22T13:19:21.995234Z",
     "shell.execute_reply": "2025-01-22T13:19:21.995170Z",
     "shell.execute_reply.started": "2025-01-22T13:19:21.995164Z"
    }
   },
   "outputs": [],
   "source": [
    "df_exposure[\"type\"].unique()"
   ]
  },
  {
   "cell_type": "markdown",
   "id": "bdb87a21-ca50-47fd-b593-b88ae5eea1e1",
   "metadata": {},
   "source": [
    "### Select the science exposure"
   ]
  },
  {
   "cell_type": "code",
   "execution_count": null,
   "id": "bd7aeb1d-a231-45b6-bac7-1d2e9ca3486e",
   "metadata": {
    "execution": {
     "iopub.status.busy": "2025-01-22T13:19:21.995668Z",
     "iopub.status.idle": "2025-01-22T13:19:21.995807Z",
     "shell.execute_reply": "2025-01-22T13:19:21.995740Z",
     "shell.execute_reply.started": "2025-01-22T13:19:21.995734Z"
    }
   },
   "outputs": [],
   "source": [
    "# select just in case there is no pre-selection of 'spectractorSpectrum'\n",
    "selection_criteria = (df_exposure.type == 'science') & (df_exposure.science_program == 'spec-survey')\n",
    "df_science = df_exposure[selection_criteria]"
   ]
  },
  {
   "cell_type": "code",
   "execution_count": null,
   "id": "ab66d2f4-590c-4d87-a736-1829b5c83e53",
   "metadata": {
    "execution": {
     "iopub.status.busy": "2025-01-22T13:19:21.996241Z",
     "iopub.status.idle": "2025-01-22T13:19:21.996380Z",
     "shell.execute_reply": "2025-01-22T13:19:21.996315Z",
     "shell.execute_reply.started": "2025-01-22T13:19:21.996309Z"
    }
   },
   "outputs": [],
   "source": [
    "df_science"
   ]
  },
  {
   "cell_type": "markdown",
   "id": "020eefe5-0612-4f7e-9f8a-f4b164bf6f2f",
   "metadata": {},
   "source": [
    "## Selection"
   ]
  },
  {
   "cell_type": "code",
   "execution_count": null,
   "id": "dae70264-ded7-4cc1-99ce-5514d29110ae",
   "metadata": {
    "execution": {
     "iopub.status.busy": "2025-01-22T13:19:21.996912Z",
     "iopub.status.idle": "2025-01-22T13:19:21.997055Z",
     "shell.execute_reply": "2025-01-22T13:19:21.996985Z",
     "shell.execute_reply.started": "2025-01-22T13:19:21.996979Z"
    }
   },
   "outputs": [],
   "source": [
    "#flag_selection = (df_science.day_obs == 20250108) & (df_science[\"filter\"] == 'OG550_65mm_1~holo4_003')\n",
    "#flag_selection = (df_science.day_obs == 20250108) & (df_science[\"filter\"] == 'BG40_65mm_1~holo4_003')\n",
    "#flag_selection = (df_science.day_obs == 20250109)\n",
    "flag_selection = (df_science.day_obs == 20250120)"
   ]
  },
  {
   "cell_type": "code",
   "execution_count": null,
   "id": "fa3f2249-4e42-41bc-ad9a-92bbeb245a8e",
   "metadata": {
    "execution": {
     "iopub.status.busy": "2025-01-22T13:19:21.997489Z",
     "iopub.status.idle": "2025-01-22T13:19:21.997629Z",
     "shell.execute_reply": "2025-01-22T13:19:21.997560Z",
     "shell.execute_reply.started": "2025-01-22T13:19:21.997554Z"
    }
   },
   "outputs": [],
   "source": [
    "pd.options.display.max_rows = 999\n",
    "df_science_day = df_science[flag_selection]\n",
    "df_science_day = df_science_day.reset_index(drop=True)\n",
    "df_science_day"
   ]
  },
  {
   "cell_type": "code",
   "execution_count": null,
   "id": "e606c229-5d79-4a6d-8d4b-53e389eebbff",
   "metadata": {
    "execution": {
     "iopub.status.busy": "2025-01-22T13:19:21.997912Z",
     "iopub.status.idle": "2025-01-22T13:19:21.998049Z",
     "shell.execute_reply": "2025-01-22T13:19:21.997985Z",
     "shell.execute_reply.started": "2025-01-22T13:19:21.997979Z"
    }
   },
   "outputs": [],
   "source": [
    "def GetListOfSpectra(butler,list_of_visits,the_collection):\n",
    "    \"\"\"\n",
    "    Retrieve a list of Spectra:\n",
    "    Parameters:\n",
    "      butler : the butler\n",
    "      list_of_visits : the list of visit id\n",
    "      collection : the collection\n",
    "\n",
    "    Returns:\n",
    "     all_params_spectrum = []\n",
    "     all_params_spectrogram = []\n",
    "     all_visitid = []\n",
    "     all_headers = []\n",
    "     all_spectra = []\n",
    "    \"\"\"\n",
    "\n",
    "\n",
    "    # container contining the data\n",
    "    all_params_spectrum = []\n",
    "    all_params_spectrogram = []\n",
    "    all_visitid = []\n",
    "    all_headers = []\n",
    "    all_spectra = []\n",
    "\n",
    "    # loop on visits\n",
    "    for idx, visitid in enumerate(list_of_visits):\n",
    "        try:         \n",
    "            spec =  butler.get('spectractorSpectrum', visit=visitid, collections=the_collection, detector=0, instrument='LATISS')\n",
    "            all_headers.append(spec.header)\n",
    "            all_spectra.append(spec)\n",
    "            p = butler.get('spectrumLibradtranFitParameters', visit=visitid, collections=the_collection, detector=0, instrument='LATISS')\n",
    "            all_params_spectrum.append(p)\n",
    "            p = butler.get('spectrogramLibradtranFitParameters', visit=visitid, collections=the_collection, detector=0, instrument='LATISS')\n",
    "            all_params_spectrogram.append(p)\n",
    "            all_visitid.append(visitid)\n",
    "        #except ValueError:\n",
    "        except Exception as inst:\n",
    "            except_type = type(inst)\n",
    "            except_args = inst.args\n",
    "            print(\"catch exception \", inst, \"type =\",except_type, \"args = \",except_args) \n",
    "            print(\"\\t >>>>> Skip visitid \", visitid)\n",
    "            continue\n",
    "    return all_visitid, all_headers, all_params_spectrum , all_params_spectrogram, all_spectra"
   ]
  },
  {
   "cell_type": "markdown",
   "id": "09487497-597a-4660-b000-11a42f3b425f",
   "metadata": {},
   "source": [
    "## Example for viewing one image"
   ]
  },
  {
   "cell_type": "markdown",
   "id": "17f15b65-1d73-4395-9499-f16813882a36",
   "metadata": {},
   "source": [
    "### Select a date and a visitId"
   ]
  },
  {
   "cell_type": "code",
   "execution_count": null,
   "id": "43e20ea0-3072-4171-9b1c-28a6e6142533",
   "metadata": {
    "execution": {
     "iopub.status.busy": "2025-01-22T13:19:21.998424Z",
     "iopub.status.idle": "2025-01-22T13:19:21.998577Z",
     "shell.execute_reply": "2025-01-22T13:19:21.998510Z",
     "shell.execute_reply.started": "2025-01-22T13:19:21.998504Z"
    }
   },
   "outputs": [],
   "source": [
    "index_sel = 0\n",
    "\n",
    "DATEOBS = df_science_day.iloc[index_sel]['day_obs']\n",
    "visitId = df_science_day.iloc[index_sel]['id']"
   ]
  },
  {
   "cell_type": "code",
   "execution_count": null,
   "id": "bffbad77-3ec3-4072-9bba-f86d2018be66",
   "metadata": {
    "execution": {
     "iopub.status.busy": "2025-01-22T13:19:21.999208Z",
     "iopub.status.idle": "2025-01-22T13:19:21.999350Z",
     "shell.execute_reply": "2025-01-22T13:19:21.999281Z",
     "shell.execute_reply.started": "2025-01-22T13:19:21.999275Z"
    }
   },
   "outputs": [],
   "source": [
    "print(f\"Selected observation {visitId} for date {DATEOBS}\")"
   ]
  },
  {
   "cell_type": "markdown",
   "id": "74bd6bb8-097c-4800-85b1-596d0b21da26",
   "metadata": {},
   "source": [
    "### Extract the exposures postISRCCD from the selected visitID"
   ]
  },
  {
   "cell_type": "code",
   "execution_count": null,
   "id": "5a7c090f-dd03-411f-a29c-9488bcb4459d",
   "metadata": {
    "execution": {
     "iopub.status.busy": "2025-01-22T13:19:21.999756Z",
     "iopub.status.idle": "2025-01-22T13:19:21.999924Z",
     "shell.execute_reply": "2025-01-22T13:19:21.999844Z",
     "shell.execute_reply.started": "2025-01-22T13:19:21.999835Z"
    }
   },
   "outputs": [],
   "source": [
    "where_clause = f\"instrument=\\'LATISS\\' AND exposure.day_obs={DATEOBS}\"\n",
    "dataId = {'visit': visitId, 'instrument':instrument}\n",
    "datasetRefs = registry.queryDatasets('postISRCCD', dataId=dataId, collections  = collection)\n",
    "# one dictionnary for the focal surface\n",
    "title_dict = {}\n",
    "postisr_dict = {}\n",
    "\n",
    "for i, ref in enumerate(datasetRefs):\n",
    "    exposure = ref.dataId[\"exposure\"] # for postISRCCD\n",
    "    #exposure = ref.dataId[\"visit\"]  For calexp\n",
    "    detector = ref.dataId[\"detector\"]\n",
    "    physical_filter = ref.dataId[\"physical_filter\"]\n",
    "    postisrccd  = butler.get(ref)\n",
    "    print(ref.dataId,postisrccd)\n",
    "    the_title = f\"id : {exposure}, det = {detector}, b = {physical_filter}\"\n",
    "    title_dict[detector] = the_title\n",
    "    postisr_dict[detector]  =  postisrccd \n",
    "N = len(title_dict)\n",
    "print(f\"Number of images = {N}\")"
   ]
  },
  {
   "cell_type": "markdown",
   "id": "690a075e-e4f9-4016-bcf6-dc9d69ac1aeb",
   "metadata": {
    "execution": {
     "iopub.status.busy": "2024-10-25T19:43:36.665728Z",
     "iopub.status.idle": "2024-10-25T19:43:36.665892Z",
     "shell.execute_reply": "2024-10-25T19:43:36.665814Z",
     "shell.execute_reply.started": "2024-10-25T19:43:36.665807Z"
    }
   },
   "source": [
    "## View all the images of the focal surface for that visit\n",
    "\n",
    "- would need the mosaic for the focal surface"
   ]
  },
  {
   "cell_type": "code",
   "execution_count": null,
   "id": "b5cfdd8f-6ca2-4d2d-83c8-5a1426b0d653",
   "metadata": {
    "execution": {
     "iopub.status.busy": "2025-01-22T13:19:22.000423Z",
     "iopub.status.idle": "2025-01-22T13:19:22.000591Z",
     "shell.execute_reply": "2025-01-22T13:19:22.000517Z",
     "shell.execute_reply.started": "2025-01-22T13:19:22.000510Z"
    }
   },
   "outputs": [],
   "source": [
    "for count in range(N):\n",
    "    display = afwDisplay.Display(frame=count)\n",
    "    display.scale('asinh', 'zscale')\n",
    "    display.mtv(postisr_dict[count].image,title=title_dict[count])"
   ]
  },
  {
   "cell_type": "markdown",
   "id": "4a31d985-5c82-4001-ad62-ab66763a1a79",
   "metadata": {},
   "source": [
    "## Find the spectrum"
   ]
  },
  {
   "cell_type": "code",
   "execution_count": null,
   "id": "1fb7748e-0e86-4d7c-af41-26065f0fc318",
   "metadata": {
    "execution": {
     "iopub.status.busy": "2025-01-22T13:19:22.000955Z",
     "iopub.status.idle": "2025-01-22T13:19:22.001102Z",
     "shell.execute_reply": "2025-01-22T13:19:22.001031Z",
     "shell.execute_reply.started": "2025-01-22T13:19:22.001025Z"
    }
   },
   "outputs": [],
   "source": [
    "import spectractor\n",
    "from spectractor.tools import from_lambda_to_colormap, wavelength_to_rgb\n",
    "from spectractor.simulation.throughput import load_transmission,plot_transmission_simple,TelescopeTransmission\n",
    "from spectractor import parameters\n",
    "from spectractor.extractor import dispersers\n",
    "from spectractor.config import load_config,set_logger\n",
    "import os,sys,re"
   ]
  },
  {
   "cell_type": "markdown",
   "id": "1320572b-56f8-4c94-afb5-98a28a206b9a",
   "metadata": {},
   "source": [
    "### Find the spectrum"
   ]
  },
  {
   "cell_type": "code",
   "execution_count": null,
   "id": "ef9ba76c-a7ca-4489-a150-feb0bbe00763",
   "metadata": {
    "execution": {
     "iopub.status.busy": "2025-01-22T13:19:22.001509Z",
     "iopub.status.idle": "2025-01-22T13:19:22.001654Z",
     "shell.execute_reply": "2025-01-22T13:19:22.001589Z",
     "shell.execute_reply.started": "2025-01-22T13:19:22.001582Z"
    }
   },
   "outputs": [],
   "source": [
    "the_specref_index = np.where(list_of_ids == visitId)[0][0] "
   ]
  },
  {
   "cell_type": "code",
   "execution_count": null,
   "id": "d887b73a-b144-4d77-9199-175ae22c16a5",
   "metadata": {
    "execution": {
     "iopub.status.busy": "2025-01-22T13:19:22.002271Z",
     "iopub.status.idle": "2025-01-22T13:19:22.002491Z",
     "shell.execute_reply": "2025-01-22T13:19:22.002379Z",
     "shell.execute_reply.started": "2025-01-22T13:19:22.002370Z"
    }
   },
   "outputs": [],
   "source": [
    "the_specref_index \n",
    "the_specref = refs[the_specref_index] "
   ]
  },
  {
   "cell_type": "code",
   "execution_count": null,
   "id": "dfd7f862-76df-48bc-81e0-6eba851ea036",
   "metadata": {
    "execution": {
     "iopub.status.busy": "2025-01-22T13:19:22.002873Z",
     "iopub.status.idle": "2025-01-22T13:19:22.003084Z",
     "shell.execute_reply": "2025-01-22T13:19:22.002979Z",
     "shell.execute_reply.started": "2025-01-22T13:19:22.002969Z"
    }
   },
   "outputs": [],
   "source": [
    "def GetListOfSpectra(butler,list_of_visits,the_collection):\n",
    "    \"\"\"\n",
    "    Retrieve a list of Spectra:\n",
    "    Parameters:\n",
    "      butler : the butler\n",
    "      list_of_visits : the list of visit id\n",
    "      collection : the collection\n",
    "\n",
    "    Returns:\n",
    "     all_params_spectrum = []\n",
    "     all_params_spectrogram = []\n",
    "     all_visitid = []\n",
    "     all_headers = []\n",
    "     all_spectra = []\n",
    "    \"\"\"\n",
    "\n",
    "\n",
    "    # container contining the data\n",
    "    all_params_spectrum = []\n",
    "    all_params_spectrogram = []\n",
    "    all_visitid = []\n",
    "    all_headers = []\n",
    "    all_spectra = []\n",
    "\n",
    "    # loop on visits\n",
    "    for idx, visitid in enumerate(list_of_visits):\n",
    "        try:         \n",
    "            spec =  butler.get('spectractorSpectrum', visit=visitid, collections=the_collection, detector=0, instrument='LATISS')\n",
    "            all_headers.append(spec.header)\n",
    "            all_spectra.append(spec)\n",
    "            p = butler.get('spectrumLibradtranFitParameters', visit=visitid, collections=the_collection, detector=0, instrument='LATISS')\n",
    "            all_params_spectrum.append(p)\n",
    "            p = butler.get('spectrogramLibradtranFitParameters', visit=visitid, collections=the_collection, detector=0, instrument='LATISS')\n",
    "            all_params_spectrogram.append(p)\n",
    "            all_visitid.append(visitid)\n",
    "        #except ValueError:\n",
    "        except Exception as inst:\n",
    "            except_type = type(inst)\n",
    "            except_args = inst.args\n",
    "            print(\"catch exception \", inst, \"type =\",except_type, \"args = \",except_args) \n",
    "            print(\"\\t >>>>> Skip visitid \", visitid)\n",
    "            continue\n",
    "    return all_visitid, all_headers, all_params_spectrum , all_params_spectrogram, all_spectra"
   ]
  },
  {
   "cell_type": "code",
   "execution_count": null,
   "id": "7330db76-da4e-4997-aefb-a8c7184f887f",
   "metadata": {
    "execution": {
     "iopub.status.busy": "2025-01-22T13:19:22.003786Z",
     "iopub.status.idle": "2025-01-22T13:19:22.003943Z",
     "shell.execute_reply": "2025-01-22T13:19:22.003867Z",
     "shell.execute_reply.started": "2025-01-22T13:19:22.003860Z"
    }
   },
   "outputs": [],
   "source": [
    "list_visitid = [ visitId ]\n",
    "all_foundvisitid, all_headers, all_params_spectrum , all_params_spectrogram, all_spectra = GetListOfSpectra(butler,list_visitid,collection)"
   ]
  },
  {
   "cell_type": "markdown",
   "id": "bc92bf91-0d07-4444-88a7-cbddae947e93",
   "metadata": {},
   "source": [
    "### Plot the spectrum\n",
    "\n",
    "- see https://github.com/sylvielsstfr/LSST-Rehearsal2024/blob/13-analyse-my-bps-run-with-spectro-sept24/notebooks/SpectroTuto/StudySpectraOneNight-savehdf5.ipynb"
   ]
  },
  {
   "cell_type": "code",
   "execution_count": null,
   "id": "395f927c-779f-426a-819c-e1921bd6f8e5",
   "metadata": {
    "execution": {
     "iopub.status.busy": "2025-01-22T13:19:22.004215Z",
     "iopub.status.idle": "2025-01-22T13:19:22.004348Z",
     "shell.execute_reply": "2025-01-22T13:19:22.004287Z",
     "shell.execute_reply.started": "2025-01-22T13:19:22.004281Z"
    }
   },
   "outputs": [],
   "source": [
    "def plot_spectra(spectra, colorparams,collection,dateobs,figsize=(10,6)):\n",
    "    \"\"\"\n",
    "    plot spectra\n",
    "    \"\"\"\n",
    "    \n",
    "    #colormap = cm.Reds\n",
    "    colormap = cm.jet \n",
    "\n",
    "    normalize = mcolors.Normalize(vmin=np.min(colorparams), vmax=np.max(colorparams))\n",
    "\n",
    "    all_target_names = [] \n",
    "\n",
    "    fig  = plt.figure(figsize=figsize)\n",
    "    count = 0\n",
    "    for spec in spectra:\n",
    "        target_name = spec.target.label\n",
    "        if target_name in all_target_names:\n",
    "            plt.plot(spec.lambdas, spec.data, color = colormap(normalize(spec.airmass)))\n",
    "        else:\n",
    "            plt.plot(spec.lambdas, spec.data, color = colormap(normalize(spec.airmass)),label=target_name)\n",
    "            all_target_names.append(target_name)\n",
    "        count +=1\n",
    "            \n",
    "    plt.grid()\n",
    "    plt.xlabel(\"$\\lambda$ [nm]\")\n",
    "    plt.ylabel(f\"Flux [{spec.units}]\")\n",
    "    plt.legend()\n",
    "\n",
    "    ax = plt.gca()\n",
    "    \n",
    "    # Colorbar setup\n",
    "    s_map = cm.ScalarMappable(norm=normalize, cmap=colormap)\n",
    "    s_map.set_array(colorparams)\n",
    "\n",
    "    # If color parameters is a linspace, we can set boundaries in this way\n",
    "    halfdist = (colorparams[1] - colorparams[0])/2.0\n",
    "    boundaries = np.linspace(colorparams[0] - halfdist, colorparams[-1] + halfdist, len(colorparams) + 1)\n",
    "\n",
    "    # Use this to emphasize the discrete color values\n",
    "    cbar = fig.colorbar(s_map,ax=ax) #, spacing='proportional', ticks=colorparams, boundaries=boundaries, format='%2.2g') # format='%2i' for integer\n",
    "\n",
    "    # Use this to show a continuous colorbar\n",
    "    #cbar = fig.colorbar(s_map, spacing='proportional', ticks=colorparams, format='%2i')\n",
    "    cbar.set_label(\"Airmass $z$\")\n",
    "    title = f\"Observations : {dateobs}, nspec = {count}\"\n",
    "    suptitle = f\"collection = {collection}\"\n",
    "    plt.title(title)\n",
    "    plt.suptitle(suptitle,fontsize=10)\n",
    "    #plt.tight_layout()\n",
    "    plt.show()\n",
    "    return fig\n",
    "\n",
    "def plot_spectra_ax(spectra, ax,colorparams,dateobs):\n",
    "    \"\"\"\n",
    "    plot spectra\n",
    "    \"\"\"\n",
    "    \n",
    "    #colormap = cmx.Reds\n",
    "    colormap = cmx.jet \n",
    "\n",
    "    normalize = mcolors.Normalize(vmin=np.min(colorparams), vmax=np.max(colorparams))\n",
    "\n",
    "    all_target_names = [] \n",
    "\n",
    "    count = 0\n",
    "    for spec in spectra:\n",
    "        target_name = spec.target.label\n",
    "        if target_name in all_target_names:\n",
    "            ax.plot(spec.lambdas, spec.data, color = colormap(normalize(spec.airmass)))\n",
    "        else:\n",
    "            ax.plot(spec.lambdas, spec.data, color = colormap(normalize(spec.airmass)),label=target_name)\n",
    "            all_target_names.append(target_name)\n",
    "        count +=1\n",
    "            \n",
    "    ax.grid()\n",
    "    ax.set_xlabel(\"$\\lambda$ [nm]\")\n",
    "    ax.set_ylabel(f\"Flux [{spec.units}]\")\n",
    "    ax.legend()\n",
    "\n",
    "    #ax = plt.gca()\n",
    "    \n",
    "    # Colorbar setup\n",
    "    s_map = cm.ScalarMappable(norm=normalize, cmap=colormap)\n",
    "    s_map.set_array(colorparams)\n",
    "\n",
    "    # If color parameters is a linspace, we can set boundaries in this way\n",
    "\n",
    "    \n",
    "    halfdist = (colorparams[1] - colorparams[0])/2.0\n",
    "    boundaries = np.linspace(colorparams[0] - halfdist, colorparams[-1] + halfdist, len(colorparams) + 1)\n",
    "\n",
    "    # Use this to emphasize the discrete color values\n",
    "    fig = ax.figure\n",
    "    cbar = fig.colorbar(s_map,ax=ax) #, spacing='proportional', ticks=colorparams, boundaries=boundaries, format='%2.2g') # format='%2i' for integer\n",
    "    #cbar = ax.collections[-1].colorbar \n",
    "\n",
    "    # Use this to show a continuous colorbar\n",
    "    #cbar = fig.colorbar(s_map, spacing='proportional', ticks=colorparams, format='%2i')\n",
    "    cbar.set_label(\"Airmass $z$\")\n",
    "    title = f\"Observations : {dateobs}, nspec = {count}\"\n",
    "    #ax.set_title(title)\n",
    "    #plt.tight_layout()\n"
   ]
  },
  {
   "cell_type": "code",
   "execution_count": null,
   "id": "f4fa6f21-0b3e-49ab-b5a7-0955f2dd9991",
   "metadata": {
    "execution": {
     "iopub.status.busy": "2025-01-22T13:19:22.004800Z",
     "iopub.status.idle": "2025-01-22T13:19:22.004940Z",
     "shell.execute_reply": "2025-01-22T13:19:22.004872Z",
     "shell.execute_reply.started": "2025-01-22T13:19:22.004866Z"
    }
   },
   "outputs": [],
   "source": [
    "fig,(ax1,ax2) = plt.subplots(2,1,figsize=(10,10),layout=\"constrained\")\n",
    "#plot_spectra_ax(all_spectra, ax, [spec.airmass for spec in all_spectra],dateobs=DATEOBS)\n",
    "all_spectra[0].plot_spectrum(ax=ax1)\n",
    "all_spectra[0].plot_spectrogram(ax=ax2)\n",
    "ax1.set_title(f\"Observed spectra {visitId} for night {DATEOBS}\")"
   ]
  },
  {
   "cell_type": "code",
   "execution_count": null,
   "id": "e4171fc8-ab21-45d7-9901-55dffef89096",
   "metadata": {
    "execution": {
     "iopub.status.busy": "2025-01-22T13:19:22.005179Z",
     "iopub.status.idle": "2025-01-22T13:19:22.005308Z",
     "shell.execute_reply": "2025-01-22T13:19:22.005246Z",
     "shell.execute_reply.started": "2025-01-22T13:19:22.005240Z"
    }
   },
   "outputs": [],
   "source": [
    "all_spectra[0].plot_spectrum_summary()"
   ]
  },
  {
   "cell_type": "code",
   "execution_count": null,
   "id": "bf286984-348e-4858-a16e-76553e061288",
   "metadata": {
    "execution": {
     "iopub.status.busy": "2025-01-22T13:19:22.006076Z",
     "iopub.status.idle": "2025-01-22T13:19:22.006219Z",
     "shell.execute_reply": "2025-01-22T13:19:22.006152Z",
     "shell.execute_reply.started": "2025-01-22T13:19:22.006145Z"
    }
   },
   "outputs": [],
   "source": [
    "assert False"
   ]
  },
  {
   "cell_type": "code",
   "execution_count": null,
   "id": "2a62b411-4f8d-4a3f-87bb-de2209c31f47",
   "metadata": {
    "execution": {
     "iopub.status.busy": "2025-01-22T13:19:22.006621Z",
     "iopub.status.idle": "2025-01-22T13:19:22.006767Z",
     "shell.execute_reply": "2025-01-22T13:19:22.006695Z",
     "shell.execute_reply.started": "2025-01-22T13:19:22.006689Z"
    }
   },
   "outputs": [],
   "source": [
    "display.clearViewer() \n",
    "afwDisplay.setDefaultBackend('firefly')"
   ]
  },
  {
   "cell_type": "code",
   "execution_count": null,
   "id": "5555cfa1-a951-4245-abbd-358a95daceeb",
   "metadata": {
    "execution": {
     "iopub.status.busy": "2025-01-22T13:19:22.007210Z",
     "iopub.status.idle": "2025-01-22T13:19:22.007351Z",
     "shell.execute_reply": "2025-01-22T13:19:22.007281Z",
     "shell.execute_reply.started": "2025-01-22T13:19:22.007275Z"
    }
   },
   "outputs": [],
   "source": [
    "assert False"
   ]
  },
  {
   "cell_type": "code",
   "execution_count": null,
   "id": "016df1b9-8107-4bef-b551-4f1e3d1e656b",
   "metadata": {},
   "outputs": [],
   "source": []
  },
  {
   "cell_type": "markdown",
   "id": "3cd259b5-aae5-4307-8f72-350e833e4a04",
   "metadata": {},
   "source": [
    "# Example for all visits"
   ]
  },
  {
   "cell_type": "code",
   "execution_count": null,
   "id": "aca97e6b-071d-415f-b251-0258e30edfa5",
   "metadata": {
    "execution": {
     "iopub.status.busy": "2025-01-22T13:19:22.007781Z",
     "iopub.status.idle": "2025-01-22T13:19:22.007929Z",
     "shell.execute_reply": "2025-01-22T13:19:22.007862Z",
     "shell.execute_reply.started": "2025-01-22T13:19:22.007856Z"
    }
   },
   "outputs": [],
   "source": [
    "list_of_visitId = list(df_science.id)\n",
    "image_count = 0\n",
    "\n",
    "# loop on visit id\n",
    "for idcount, visitId in enumerate(list_of_visitId):\n",
    "    dataId = {'visit': visitId, 'instrument':instrument }\n",
    "    datasetRefs = registry.queryDatasets('postISRCCD', dataId=dataId, collections  = the_collection )\n",
    "    dataId = {'visit': visitId, 'instrument':instrument}\n",
    "\n",
    "    # loop on image on the focal surface\n",
    "    for i, ref in enumerate(datasetRefs):\n",
    "        exposure = ref.dataId[\"exposure\"]\n",
    "        detector = ref.dataId[\"detector\"]\n",
    "        physical_filter = ref.dataId[\"physical_filter\"]\n",
    "        postisrccd  = butler.get(ref)\n",
    "        the_title = f\"id : {exposure}, det = {detector}, b = {physical_filter}\"\n",
    "        display = afwDisplay.Display(frame=count)\n",
    "        display.scale('asinh', 'zscale')\n",
    "        display.mtv(postisrccd.image,title=the_title)\n",
    "        image_count +=1\n",
    "        \n",
    "    N = len(title_dict)\n",
    "\n",
    " "
   ]
  },
  {
   "cell_type": "code",
   "execution_count": null,
   "id": "5e96257c-f2fc-4af4-b94d-74dcb562bf63",
   "metadata": {},
   "outputs": [],
   "source": []
  }
 ],
 "metadata": {
  "kernelspec": {
   "display_name": "LSST",
   "language": "python",
   "name": "lsst"
  },
  "language_info": {
   "codemirror_mode": {
    "name": "ipython",
    "version": 3
   },
   "file_extension": ".py",
   "mimetype": "text/x-python",
   "name": "python",
   "nbconvert_exporter": "python",
   "pygments_lexer": "ipython3",
   "version": "3.11.9"
  }
 },
 "nbformat": 4,
 "nbformat_minor": 5
}
