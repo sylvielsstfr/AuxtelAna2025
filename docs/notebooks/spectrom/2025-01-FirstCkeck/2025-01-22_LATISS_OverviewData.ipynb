{
 "cells": [
  {
   "cell_type": "markdown",
   "id": "30c9f2ef-550a-4b4f-8411-7224adc5b98b",
   "metadata": {},
   "source": [
    "# Overview of all Spectro data including few images\n",
    "\n",
    "- Goal verification \n",
    "- Restart the Kernel first"
   ]
  },
  {
   "cell_type": "markdown",
   "id": "f1e111e8-ccbc-4602-b8ab-392fe9f8812a",
   "metadata": {
    "execution": {
     "iopub.execute_input": "2024-10-25T18:35:28.020312Z",
     "iopub.status.busy": "2024-10-25T18:35:28.019985Z",
     "iopub.status.idle": "2024-10-25T18:35:28.023846Z",
     "shell.execute_reply": "2024-10-25T18:35:28.023258Z",
     "shell.execute_reply.started": "2024-10-25T18:35:28.020294Z"
    }
   },
   "source": [
    "- author : Sylvie Dagoret-campagne\n",
    "- affiliation : IJCLab/in2p3/CNRS\n",
    "- creation date : 2025-01-22 (w_2024_50)\n",
    "- update : 2025-01-22 : Select images at low altitude or high airmass"
   ]
  },
  {
   "cell_type": "code",
   "execution_count": null,
   "id": "b04f3879-f5d5-4e7e-8496-21056d10be1d",
   "metadata": {
    "execution": {
     "iopub.execute_input": "2025-01-23T08:38:24.503289Z",
     "iopub.status.busy": "2025-01-23T08:38:24.503167Z",
     "iopub.status.idle": "2025-01-23T08:38:26.475142Z",
     "shell.execute_reply": "2025-01-23T08:38:26.474697Z",
     "shell.execute_reply.started": "2025-01-23T08:38:24.503276Z"
    }
   },
   "outputs": [],
   "source": [
    "import matplotlib.pyplot as plt\n",
    "import matplotlib as mpl\n",
    "import matplotlib.dates as mdates\n",
    "import matplotlib.ticker\n",
    "from mpl_toolkits.axes_grid1 import make_axes_locatable\n",
    "from matplotlib.colors import LogNorm, SymLogNorm\n",
    "from matplotlib.colors import ListedColormap\n",
    "import matplotlib.colors as colors\n",
    "import matplotlib.colors as mcolors\n",
    "import matplotlib.cm as cmx\n",
    "import matplotlib.cm as cm\n",
    "\n",
    "\n",
    "%matplotlib inline\n",
    "import numpy as np\n",
    "import pandas as pd\n",
    "import matplotlib.gridspec as gridspec\n",
    "from spectractor.tools import from_lambda_to_colormap, wavelength_to_rgb\n",
    "\n",
    "# %matplotlib widget\n",
    "import h5py\n",
    "from scipy import interpolate\n",
    "from astropy.time import Time\n",
    "from datetime import datetime, timedelta\n",
    "import seaborn as sns\n",
    "\n",
    "from itertools import cycle, islice\n",
    "import os"
   ]
  },
  {
   "cell_type": "code",
   "execution_count": null,
   "id": "18068db4-c33c-43c5-bd12-58ff250d7a02",
   "metadata": {
    "execution": {
     "iopub.execute_input": "2025-01-23T08:38:26.574219Z",
     "iopub.status.busy": "2025-01-23T08:38:26.475639Z",
     "iopub.status.idle": "2025-01-23T08:38:26.577075Z",
     "shell.execute_reply": "2025-01-23T08:38:26.576690Z",
     "shell.execute_reply.started": "2025-01-23T08:38:26.574189Z"
    }
   },
   "outputs": [],
   "source": [
    "plt.rcParams[\"figure.figsize\"] = (18, 8)\n",
    "plt.rcParams[\"axes.labelsize\"] = \"xx-large\"\n",
    "plt.rcParams[\"axes.titlesize\"] = \"xx-large\"\n",
    "plt.rcParams[\"xtick.labelsize\"] = \"xx-large\"\n",
    "plt.rcParams[\"ytick.labelsize\"] = \"xx-large\"\n",
    "plt.rcParams[\"legend.fontsize\"] = 12\n",
    "plt.rcParams[\"font.size\"] = 12"
   ]
  },
  {
   "cell_type": "code",
   "execution_count": null,
   "id": "611a8607-3ac5-4853-b270-f703f13e518b",
   "metadata": {
    "execution": {
     "iopub.execute_input": "2025-01-23T08:38:26.577626Z",
     "iopub.status.busy": "2025-01-23T08:38:26.577500Z",
     "iopub.status.idle": "2025-01-23T08:38:26.583752Z",
     "shell.execute_reply": "2025-01-23T08:38:26.583402Z",
     "shell.execute_reply.started": "2025-01-23T08:38:26.577613Z"
    }
   },
   "outputs": [],
   "source": [
    "from matplotlib.ticker import MultipleLocator, FormatStrFormatter, AutoMinorLocator\n",
    "\n",
    "from astropy.visualization import (\n",
    "    MinMaxInterval,\n",
    "    SqrtStretch,\n",
    "    ZScaleInterval,\n",
    "    PercentileInterval,\n",
    "    ImageNormalize,\n",
    "    imshow_norm,\n",
    ")\n",
    "from astropy.visualization.stretch import (\n",
    "    SinhStretch,\n",
    "    LinearStretch,\n",
    "    AsinhStretch,\n",
    "    LogStretch,\n",
    ")\n",
    "\n",
    "transform = AsinhStretch() + PercentileInterval(99.0)\n",
    "\n",
    "from astropy import units as u\n",
    "from astropy.coordinates import Angle"
   ]
  },
  {
   "cell_type": "code",
   "execution_count": null,
   "id": "fc0c0153-7a40-4166-bf13-46645d734aef",
   "metadata": {
    "execution": {
     "iopub.execute_input": "2025-01-23T08:38:26.585123Z",
     "iopub.status.busy": "2025-01-23T08:38:26.584995Z",
     "iopub.status.idle": "2025-01-23T08:38:27.251672Z",
     "shell.execute_reply": "2025-01-23T08:38:27.251219Z",
     "shell.execute_reply.started": "2025-01-23T08:38:26.585109Z"
    }
   },
   "outputs": [],
   "source": [
    "from lsst.daf.butler import Butler\n",
    "import astropy.units as u\n",
    "import numpy as np\n",
    "import pandas as pd\n",
    "\n",
    "pd.set_option(\"display.max_columns\", 99)\n",
    "pd.set_option(\"display.max_row\", 25)\n",
    "from astropy.time import Time\n",
    "\n",
    "import scipy.stats\n",
    "\n",
    "import matplotlib\n",
    "\n",
    "%matplotlib inline\n",
    "from matplotlib import pyplot as plt"
   ]
  },
  {
   "cell_type": "code",
   "execution_count": null,
   "id": "ac174b05-2a02-41dc-a03d-bc613305f874",
   "metadata": {
    "execution": {
     "iopub.execute_input": "2025-01-23T08:38:27.252294Z",
     "iopub.status.busy": "2025-01-23T08:38:27.252158Z",
     "iopub.status.idle": "2025-01-23T08:38:27.581265Z",
     "shell.execute_reply": "2025-01-23T08:38:27.580811Z",
     "shell.execute_reply.started": "2025-01-23T08:38:27.252281Z"
    }
   },
   "outputs": [],
   "source": [
    "# LSST Display\n",
    "# The advantage to use firefly is that the firefly display can handle a lotsof images\n",
    "import lsst.afw.display as afwDisplay\n",
    "\n",
    "afwDisplay.setDefaultBackend(\"firefly\")"
   ]
  },
  {
   "cell_type": "code",
   "execution_count": null,
   "id": "d9011615-d6d6-4580-88cb-f88d285d23d5",
   "metadata": {
    "execution": {
     "iopub.execute_input": "2025-01-23T08:38:27.582218Z",
     "iopub.status.busy": "2025-01-23T08:38:27.581791Z",
     "iopub.status.idle": "2025-01-23T08:38:27.592159Z",
     "shell.execute_reply": "2025-01-23T08:38:27.591786Z",
     "shell.execute_reply.started": "2025-01-23T08:38:27.582203Z"
    }
   },
   "outputs": [],
   "source": [
    "# import my tool library for spectra\n",
    "from auxtelana2025.spectrom import libanaspectra as myspeclib\n",
    "# dir(myspeclib)"
   ]
  },
  {
   "cell_type": "markdown",
   "id": "48ec2e7a-36e5-4b68-8da2-b5da1c3f1fba",
   "metadata": {
    "execution": {
     "iopub.execute_input": "2024-10-25T19:17:41.583673Z",
     "iopub.status.busy": "2024-10-25T19:17:41.583538Z",
     "iopub.status.idle": "2024-10-25T19:17:41.585892Z",
     "shell.execute_reply": "2024-10-25T19:17:41.585507Z",
     "shell.execute_reply.started": "2024-10-25T19:17:41.583660Z"
    }
   },
   "source": [
    "## Configuration\n",
    "\n",
    "- Use the tag report to guess the collections in which we exect data :  https://usdf-rsp-dev.slac.stanford.edu/times-square/github/lsst-dm/vv-team-notebooks/TargetReport\n",
    "\n",
    "In the case of LSSTComCam:\n",
    "\n",
    "- https://usdf-rsp-dev.slac.stanford.edu/times-square/github/lsst-dm/vv-team-notebooks/TargetReport?day_obs=2024-10-24&instrument=LSSTComCam&repo=embargo_new&collection=LSSTComCam%2Fprompt%2Foutput-2024-10-24&collection_sky=LSSTComCamSim%2Fruns%2FDRP%2FOR4%2Fw_2024_25%2FDM-45066&skymap_name=ops_rehersal_prep_2k_v1&col_sciprog=science_program&col_target=target&col_filter=filter&col_id=id&ts_hide_code=1"
   ]
  },
  {
   "cell_type": "code",
   "execution_count": null,
   "id": "e7aa9495-baa5-4976-aee1-48c9f63b71ba",
   "metadata": {
    "execution": {
     "iopub.execute_input": "2025-01-23T08:38:27.592739Z",
     "iopub.status.busy": "2025-01-23T08:38:27.592608Z",
     "iopub.status.idle": "2025-01-23T08:38:27.594779Z",
     "shell.execute_reply": "2025-01-23T08:38:27.594433Z",
     "shell.execute_reply.started": "2025-01-23T08:38:27.592727Z"
    }
   },
   "outputs": [],
   "source": [
    "instrument = \"LATISS\"\n",
    "# collection = 'u/dagoret/auxtel_atmosphere_202501_v3.1.0_doSensorFlat_rebin2_lockedOrder2_FixA1_FixA2_FitAngstrom_freePressure_newThroughput6_BG40Scaled1.09_AtmoFitPressureA2_SpecErr_No5SigmaClip_w_2024_50_oldptc-test20250109b'\n",
    "collection = \"u/dagoret/auxtel_atmosphere_202501_v3.1.0_doSensorFlat_rebin2_lockedOrder2_FixA1_FixA2_FitAngstrom_freePressure_newThroughput6_BG40Scaled1.09_AtmoFitPressureA2_SpecErr_No5SigmaClip_w_2024_50_newptc-test20250110a\"\n",
    "# 2025-01-21\n",
    "collection = \"u/dagoret/auxtel_atmosphere_202501_v3.1.0_doSensorFlat_rebin2_lockedOrder2_FixA1_FixA2_FitAngstrom_freePressure_newThroughput6_BG40Scaled1.09_AtmoFitPressureA2_SpecErr_No5SigmaClip_w_2024_50_test20250121a\"\n",
    "# 20250121T124042Z"
   ]
  },
  {
   "cell_type": "code",
   "execution_count": null,
   "id": "fc3ffb68-90b1-495e-a4c6-59a3ea280273",
   "metadata": {
    "execution": {
     "iopub.execute_input": "2025-01-23T08:38:27.595304Z",
     "iopub.status.busy": "2025-01-23T08:38:27.595185Z",
     "iopub.status.idle": "2025-01-23T08:38:31.119414Z",
     "shell.execute_reply": "2025-01-23T08:38:31.118943Z",
     "shell.execute_reply.started": "2025-01-23T08:38:27.595292Z"
    }
   },
   "outputs": [],
   "source": [
    "# import lsst.daf.butler as dafButler\n",
    "import lsst.summit.utils.butlerUtils as butlerUtils\n",
    "\n",
    "butler = butlerUtils.makeDefaultLatissButler(embargo=True)\n",
    "\n",
    "repo = \"/repo/main\"\n",
    "repo = \"/repo/embargo\"\n",
    "# repo = \"LATISS\"\n",
    "# butler = dafButler.Butler(repo)\n",
    "registry = butler.registry"
   ]
  },
  {
   "cell_type": "markdown",
   "id": "95b5567c-35af-4de1-87e8-2953e4808d2f",
   "metadata": {
    "execution": {
     "iopub.execute_input": "2024-10-25T19:17:41.935759Z",
     "iopub.status.busy": "2024-10-25T19:17:41.935583Z",
     "iopub.status.idle": "2024-10-25T19:17:41.937673Z",
     "shell.execute_reply": "2024-10-25T19:17:41.937341Z",
     "shell.execute_reply.started": "2024-10-25T19:17:41.935746Z"
    }
   },
   "source": [
    "## Query about the collections available\n",
    "\n",
    "- select collections LATISS"
   ]
  },
  {
   "cell_type": "code",
   "execution_count": null,
   "id": "4896b65e-20e2-4750-a853-542c50ce4aa0",
   "metadata": {
    "execution": {
     "iopub.execute_input": "2025-01-23T08:38:31.120097Z",
     "iopub.status.busy": "2025-01-23T08:38:31.119960Z",
     "iopub.status.idle": "2025-01-23T08:38:31.627182Z",
     "shell.execute_reply": "2025-01-23T08:38:31.626707Z",
     "shell.execute_reply.started": "2025-01-23T08:38:31.120085Z"
    }
   },
   "outputs": [],
   "source": [
    "for c in sorted(registry.queryCollections()):\n",
    "    # if \"u/jneveu\" in c and \"auxtel_atmo\" in c and \"SensorFlat\" in c and \"FixA1\" in c:\n",
    "    # if \"u/dagoret\" in c and \"auxtel_atmo\" in c and \"SensorFlat\" in c and \"FixA1\" in c:\n",
    "    if \"u/dagoret\" in c and \"auxtel_atmo\":\n",
    "        print(c)"
   ]
  },
  {
   "cell_type": "code",
   "execution_count": null,
   "id": "24e7111f-83c2-4244-a869-c5e7f99494c7",
   "metadata": {
    "execution": {
     "iopub.execute_input": "2025-01-23T08:38:31.627812Z",
     "iopub.status.busy": "2025-01-23T08:38:31.627675Z",
     "iopub.status.idle": "2025-01-23T08:38:32.088456Z",
     "shell.execute_reply": "2025-01-23T08:38:32.087921Z",
     "shell.execute_reply.started": "2025-01-23T08:38:31.627800Z"
    }
   },
   "outputs": [],
   "source": [
    "for _ in butler.registry.queryCollections():\n",
    "    if \"LATISS/\" in _:\n",
    "        print(_)"
   ]
  },
  {
   "cell_type": "markdown",
   "id": "9df18f79-accc-4188-a5f9-0e0934263e91",
   "metadata": {},
   "source": [
    "- From the list available today , we probably have to look inside the colleciton `LSSTComCam/nightlyValidation`"
   ]
  },
  {
   "cell_type": "markdown",
   "id": "c0272ab3-785f-4a90-93fb-e970cffe3cc8",
   "metadata": {},
   "source": [
    "## Create the butler on the selected collection"
   ]
  },
  {
   "cell_type": "code",
   "execution_count": null,
   "id": "8cf2d6d3-4288-470c-8e79-2340e793a353",
   "metadata": {
    "execution": {
     "iopub.execute_input": "2025-01-23T08:38:32.089381Z",
     "iopub.status.busy": "2025-01-23T08:38:32.089030Z",
     "iopub.status.idle": "2025-01-23T08:39:00.778688Z",
     "shell.execute_reply": "2025-01-23T08:39:00.778235Z",
     "shell.execute_reply.started": "2025-01-23T08:38:32.089368Z"
    }
   },
   "outputs": [],
   "source": [
    "for datasetType in registry.queryDatasetTypes():\n",
    "    if registry.queryDatasets(datasetType, collections=collection).any(\n",
    "        execute=False, exact=False\n",
    "    ):\n",
    "        # Limit search results to the data products\n",
    "        if (\n",
    "            (\"_config\" not in datasetType.name)\n",
    "            and (\"_log\" not in datasetType.name)\n",
    "            and (\"_metadata\" not in datasetType.name)\n",
    "            and (\"_resource_usage\" not in datasetType.name)\n",
    "        ):\n",
    "            print(datasetType)"
   ]
  },
  {
   "cell_type": "markdown",
   "id": "e6499567-c915-4cf0-a281-cecdde970493",
   "metadata": {},
   "source": [
    "- Notice no visit-Table is available. Thus to know which visiId are existing, we will use the registry later"
   ]
  },
  {
   "cell_type": "markdown",
   "id": "d90681b8-bb52-4227-b4db-6bb2c6be0fc7",
   "metadata": {},
   "source": [
    "## Extract the list of visitId from the butler's registry "
   ]
  },
  {
   "cell_type": "markdown",
   "id": "45ff66dc-6576-4daa-ad20-db353e751e06",
   "metadata": {},
   "source": [
    "### Get the list of information that can be extracted from the registryfor each exposure"
   ]
  },
  {
   "cell_type": "code",
   "execution_count": null,
   "id": "3805631a-a005-45eb-a7ef-bcbd0ddeda94",
   "metadata": {
    "execution": {
     "iopub.execute_input": "2025-01-23T08:39:00.779269Z",
     "iopub.status.busy": "2025-01-23T08:39:00.779137Z",
     "iopub.status.idle": "2025-01-23T08:39:00.781809Z",
     "shell.execute_reply": "2025-01-23T08:39:00.781441Z",
     "shell.execute_reply.started": "2025-01-23T08:39:00.779257Z"
    }
   },
   "outputs": [],
   "source": [
    "print(registry.dimensions[\"exposure\"].RecordClass.fields)"
   ]
  },
  {
   "cell_type": "markdown",
   "id": "417fb6a0-eafe-4b87-b321-819589292cd3",
   "metadata": {},
   "source": [
    "### Create the pandas dataframe from the information inside the butler's registry"
   ]
  },
  {
   "cell_type": "code",
   "execution_count": null,
   "id": "9ab1d265-5fc9-459a-bd6e-7687ac4908bc",
   "metadata": {
    "execution": {
     "iopub.execute_input": "2025-01-23T08:39:00.782333Z",
     "iopub.status.busy": "2025-01-23T08:39:00.782195Z",
     "iopub.status.idle": "2025-01-23T08:39:00.790067Z",
     "shell.execute_reply": "2025-01-23T08:39:00.789715Z",
     "shell.execute_reply.started": "2025-01-23T08:39:00.782320Z"
    }
   },
   "outputs": [],
   "source": [
    "df_exposure = pd.DataFrame(\n",
    "    columns=[\n",
    "        \"id\",\n",
    "        \"obs_id\",\n",
    "        \"day_obs\",\n",
    "        \"seq_num\",\n",
    "        \"time_start\",\n",
    "        \"time_end\",\n",
    "        \"type\",\n",
    "        \"target\",\n",
    "        \"filter\",\n",
    "        \"zenith_angle\",\n",
    "        \"expos\",\n",
    "        \"ra\",\n",
    "        \"dec\",\n",
    "        \"skyangle\",\n",
    "        \"azimuth\",\n",
    "        \"zenith\",\n",
    "        \"science_program\",\n",
    "        \"jd\",\n",
    "        \"mjd\",\n",
    "    ]\n",
    ")"
   ]
  },
  {
   "cell_type": "markdown",
   "id": "6a5b2ba6-c302-4578-9f53-55a021de1028",
   "metadata": {},
   "source": [
    "### Fill the pandas dataframe from the records inside the butler's registry for each exposure having a datasets='spectractorSpectrum'\n",
    "\n",
    "In that wayn the filling of the pandas dataframe logbook is faster."
   ]
  },
  {
   "cell_type": "code",
   "execution_count": null,
   "id": "c217fbbc-e421-471e-a007-76d1e9ea6d1b",
   "metadata": {
    "execution": {
     "iopub.execute_input": "2025-01-23T08:39:00.790598Z",
     "iopub.status.busy": "2025-01-23T08:39:00.790473Z",
     "iopub.status.idle": "2025-01-23T08:39:00.893698Z",
     "shell.execute_reply": "2025-01-23T08:39:00.893159Z",
     "shell.execute_reply.started": "2025-01-23T08:39:00.790587Z"
    }
   },
   "outputs": [],
   "source": [
    "where_expr = \"instrument='LATISS'\"\n",
    "records = list(\n",
    "    butler.registry.queryDimensionRecords(\n",
    "        \"visit\",\n",
    "        datasets=\"spectractorSpectrum\",\n",
    "        where=where_expr,\n",
    "        collections=collection,\n",
    "    )\n",
    ")\n",
    "refs = list(\n",
    "    set(\n",
    "        butler.registry.queryDatasets(\n",
    "            \"spectractorSpectrum\", where=where_expr, collections=collection\n",
    "        )\n",
    "    )\n",
    ")"
   ]
  },
  {
   "cell_type": "code",
   "execution_count": null,
   "id": "6063bddb-b38f-4882-be55-577ccf4c1409",
   "metadata": {
    "execution": {
     "iopub.execute_input": "2025-01-23T08:39:00.894341Z",
     "iopub.status.busy": "2025-01-23T08:39:00.894203Z",
     "iopub.status.idle": "2025-01-23T08:39:00.898370Z",
     "shell.execute_reply": "2025-01-23T08:39:00.897871Z",
     "shell.execute_reply.started": "2025-01-23T08:39:00.894329Z"
    }
   },
   "outputs": [],
   "source": [
    "print(\n",
    "    f\">>> Number of reconstructed spectra : {len(records)} \\n in collection {collection}\"\n",
    ")\n",
    "records[0]"
   ]
  },
  {
   "cell_type": "code",
   "execution_count": null,
   "id": "198416ee-5d19-4cf9-80dc-4b4b6386aee5",
   "metadata": {
    "execution": {
     "iopub.execute_input": "2025-01-23T08:39:00.899009Z",
     "iopub.status.busy": "2025-01-23T08:39:00.898879Z",
     "iopub.status.idle": "2025-01-23T08:39:00.904478Z",
     "shell.execute_reply": "2025-01-23T08:39:00.903992Z",
     "shell.execute_reply.started": "2025-01-23T08:39:00.898997Z"
    }
   },
   "outputs": [],
   "source": [
    "def get_whereclause(expos_id):\n",
    "    return f\"exposure.id = {expos_id} and instrument = 'LATISS'\""
   ]
  },
  {
   "cell_type": "code",
   "execution_count": null,
   "id": "9409ca56-6b8b-4a8d-866b-7d7043dd108a",
   "metadata": {
    "execution": {
     "iopub.execute_input": "2025-01-23T08:39:00.905109Z",
     "iopub.status.busy": "2025-01-23T08:39:00.904977Z",
     "iopub.status.idle": "2025-01-23T08:39:04.606644Z",
     "shell.execute_reply": "2025-01-23T08:39:04.606219Z",
     "shell.execute_reply.started": "2025-01-23T08:39:00.905097Z"
    }
   },
   "outputs": [],
   "source": [
    "# for count, info in enumerate(registry.queryDimensionRecords('exposure',where = where_expr)):\n",
    "list_of_ids = np.zeros(len(records)).astype(int)\n",
    "# first loop on records 'spectractorSpectrum'\n",
    "for count, r in enumerate(records):\n",
    "    the_whereclause = get_whereclause(r.id)\n",
    "    list_of_ids[count] = r.id\n",
    "    # then select in the registry the entry with the proper id\n",
    "    for count2, info in enumerate(\n",
    "        registry.queryDimensionRecords(\"exposure\", where=the_whereclause)\n",
    "    ):\n",
    "        try:\n",
    "            # decode entry in the registry\n",
    "            id_ = info.id\n",
    "            obs_id_ = info.obs_id\n",
    "            day_obs_ = info.day_obs\n",
    "            seq_num_ = info.seq_num\n",
    "            timespan_ = info.timespan\n",
    "\n",
    "            timespan_begin_ = pd.to_datetime(info.timespan.begin.to_datetime())\n",
    "            timespan_end_ = pd.to_datetime(info.timespan.end.to_datetime())\n",
    "            timespan_jd_ = timespan_.begin.jd\n",
    "            timespan_mjd_ = timespan_.begin.mjd\n",
    "\n",
    "            df_exposure.loc[count] = [\n",
    "                info.id,\n",
    "                info.obs_id,\n",
    "                info.day_obs,\n",
    "                info.seq_num,\n",
    "                timespan_begin_,\n",
    "                timespan_end_,\n",
    "                info.observation_type,\n",
    "                info.target_name,\n",
    "                info.physical_filter,\n",
    "                info.zenith_angle,\n",
    "                info.exposure_time,\n",
    "                info.tracking_ra,\n",
    "                info.tracking_dec,\n",
    "                info.sky_angle,\n",
    "                info.azimuth,\n",
    "                info.zenith_angle,\n",
    "                info.science_program,\n",
    "                timespan_jd_,\n",
    "                timespan_mjd_,\n",
    "            ]\n",
    "\n",
    "        except:\n",
    "            # print(\">>>   Unexpected error:\", sys.exc_info()[0])\n",
    "            # info_timespan_begin_to_string = \"2021-01-01 00:00:00.00\"\n",
    "            # info_timespan_end_to_string = \"2051-01-01 00:00:00.00\"\n",
    "\n",
    "            info_timespan_begin_to_string = info.group\n",
    "            info_timespan_end_to_string = info.group\n",
    "\n",
    "            info_timespan_begin_mjd = Time(info_timespan_begin_to_string).mjd\n",
    "            info_timespan_begin_jd = Time(info_timespan_begin_to_string).jd\n",
    "\n",
    "            # print(\"\\t >>>> after error try to recover mjd and jd == > mjd, jd = \",info_timespan_begin_mjd ,info_timespan_begin_jd )\n",
    "\n",
    "            # info_timespan_begin_jd = 0\n",
    "            # info_timespan_begin_mjd = 0\n",
    "            df_exposure.loc[count] = [\n",
    "                info.id,\n",
    "                info.obs_id,\n",
    "                info.day_obs,\n",
    "                info.seq_num,\n",
    "                pd.to_datetime(info_timespan_begin_to_string),\n",
    "                pd.to_datetime(info_timespan_end_to_string),\n",
    "                info.observation_type,\n",
    "                info.target_name,\n",
    "                info.physical_filter,\n",
    "                info.exposure_time,\n",
    "                info.tracking_ra,\n",
    "                info.tracking_dec,\n",
    "                info.sky_angle,\n",
    "                info.azimuth,\n",
    "                info.zenith_angle,\n",
    "                info.science_program,\n",
    "                info_timespan_begin_jd,\n",
    "                info_timespan_begin_mjd,\n",
    "            ]\n",
    "\n",
    "        if count < 3:\n",
    "            print(\n",
    "                \"-----------------------------------------------------\",\n",
    "                count,\n",
    "                \"---------------------------------------------------------\",\n",
    "            )\n",
    "            print(info)\n",
    "            print(\"\\t id:                  \", info.id)\n",
    "            print(\"\\t day_obs:             \", info.day_obs)\n",
    "            print(\"\\t info_group.          \", info.group)\n",
    "            print(\"\\t seq_num:             \", info.seq_num)\n",
    "            print(\"\\t type-of-observation: \", info.observation_type)\n",
    "            print(\"\\t target:              \", info.target_name)\n",
    "\n",
    "            timespan_ = info.timespan\n",
    "            timespan_begin_ = pd.to_datetime(info.timespan.begin.to_datetime())\n",
    "            timespan_end_ = pd.to_datetime(info.timespan.end.to_datetime())\n",
    "            timespan_jd_ = timespan_.begin.jd\n",
    "            timespan_mjd_ = timespan_.begin.mjd\n",
    "\n",
    "            mjd = timespan_mjd_\n",
    "            jd = timespan_jd_\n",
    "            print(\"MJD,JD : \", mjd, jd)"
   ]
  },
  {
   "cell_type": "markdown",
   "id": "4e941a71-f599-4339-b51a-3cd565e9a9b9",
   "metadata": {},
   "source": [
    "#### convert some columns into integer"
   ]
  },
  {
   "cell_type": "code",
   "execution_count": null,
   "id": "dd17b159-8658-4247-8bdf-a2900d5dcbe3",
   "metadata": {
    "execution": {
     "iopub.execute_input": "2025-01-23T08:39:04.607271Z",
     "iopub.status.busy": "2025-01-23T08:39:04.607133Z",
     "iopub.status.idle": "2025-01-23T08:39:04.611674Z",
     "shell.execute_reply": "2025-01-23T08:39:04.611304Z",
     "shell.execute_reply.started": "2025-01-23T08:39:04.607258Z"
    }
   },
   "outputs": [],
   "source": [
    "df_exposure = df_exposure.astype(\n",
    "    {\"id\": int, \"day_obs\": int, \"seq_num\": int, \"jd\": int, \"mjd\": int}\n",
    ")"
   ]
  },
  {
   "cell_type": "markdown",
   "id": "31bc3a72-c798-450d-b966-9927cf309958",
   "metadata": {},
   "source": [
    "### Find the different type of exposures\n",
    "\n",
    "- By definition 'spectractorSpectrum' are science type"
   ]
  },
  {
   "cell_type": "code",
   "execution_count": null,
   "id": "19ec676c-4b91-4d3f-8810-b893567ad2d7",
   "metadata": {
    "execution": {
     "iopub.execute_input": "2025-01-23T08:39:04.614086Z",
     "iopub.status.busy": "2025-01-23T08:39:04.613961Z",
     "iopub.status.idle": "2025-01-23T08:39:04.619078Z",
     "shell.execute_reply": "2025-01-23T08:39:04.618742Z",
     "shell.execute_reply.started": "2025-01-23T08:39:04.614075Z"
    }
   },
   "outputs": [],
   "source": [
    "df_exposure[\"type\"].unique()"
   ]
  },
  {
   "cell_type": "markdown",
   "id": "bdb87a21-ca50-47fd-b593-b88ae5eea1e1",
   "metadata": {},
   "source": [
    "### Select the science exposure"
   ]
  },
  {
   "cell_type": "code",
   "execution_count": null,
   "id": "bd7aeb1d-a231-45b6-bac7-1d2e9ca3486e",
   "metadata": {
    "execution": {
     "iopub.execute_input": "2025-01-23T08:39:04.619626Z",
     "iopub.status.busy": "2025-01-23T08:39:04.619510Z",
     "iopub.status.idle": "2025-01-23T08:39:04.625631Z",
     "shell.execute_reply": "2025-01-23T08:39:04.625252Z",
     "shell.execute_reply.started": "2025-01-23T08:39:04.619615Z"
    }
   },
   "outputs": [],
   "source": [
    "# select just in case there is no pre-selection of 'spectractorSpectrum'\n",
    "selection_criteria = (df_exposure.type == \"science\") & (\n",
    "    df_exposure.science_program == \"spec-survey\"\n",
    ")\n",
    "df_science = df_exposure[selection_criteria]"
   ]
  },
  {
   "cell_type": "code",
   "execution_count": null,
   "id": "ab66d2f4-590c-4d87-a736-1829b5c83e53",
   "metadata": {
    "execution": {
     "iopub.execute_input": "2025-01-23T08:39:04.626214Z",
     "iopub.status.busy": "2025-01-23T08:39:04.625996Z",
     "iopub.status.idle": "2025-01-23T08:39:04.631786Z",
     "shell.execute_reply": "2025-01-23T08:39:04.631406Z",
     "shell.execute_reply.started": "2025-01-23T08:39:04.626203Z"
    }
   },
   "outputs": [],
   "source": [
    "# df_science"
   ]
  },
  {
   "cell_type": "code",
   "execution_count": null,
   "id": "a8108683-c399-4bf2-b21c-793911d59968",
   "metadata": {
    "execution": {
     "iopub.execute_input": "2025-01-23T08:39:04.632253Z",
     "iopub.status.busy": "2025-01-23T08:39:04.632142Z",
     "iopub.status.idle": "2025-01-23T08:39:04.639221Z",
     "shell.execute_reply": "2025-01-23T08:39:04.638873Z",
     "shell.execute_reply.started": "2025-01-23T08:39:04.632243Z"
    }
   },
   "outputs": [],
   "source": [
    "df_science.columns"
   ]
  },
  {
   "cell_type": "markdown",
   "id": "0f7315b1-53aa-4d6e-abd3-6f75ee11ee5a",
   "metadata": {},
   "source": [
    "## Add missing info on airmass"
   ]
  },
  {
   "cell_type": "code",
   "execution_count": null,
   "id": "699e211e-23c7-468f-851e-51978bf37969",
   "metadata": {
    "execution": {
     "iopub.execute_input": "2025-01-23T08:39:04.639794Z",
     "iopub.status.busy": "2025-01-23T08:39:04.639680Z",
     "iopub.status.idle": "2025-01-23T08:39:04.644381Z",
     "shell.execute_reply": "2025-01-23T08:39:04.644042Z",
     "shell.execute_reply.started": "2025-01-23T08:39:04.639784Z"
    }
   },
   "outputs": [],
   "source": [
    "# Angle(45*u.deg).to(\"rad\").value"
   ]
  },
  {
   "cell_type": "code",
   "execution_count": null,
   "id": "ed1157a4-df5f-4fd0-95d9-2e3ff0822b4a",
   "metadata": {
    "execution": {
     "iopub.execute_input": "2025-01-23T08:39:04.644903Z",
     "iopub.status.busy": "2025-01-23T08:39:04.644789Z",
     "iopub.status.idle": "2025-01-23T08:39:04.668970Z",
     "shell.execute_reply": "2025-01-23T08:39:04.668611Z",
     "shell.execute_reply.started": "2025-01-23T08:39:04.644892Z"
    }
   },
   "outputs": [],
   "source": [
    "# df_science.assign(lambda df: 1./np.cos(Angle(df['zenith_angle']*u.deg).to(\"rad\").value));\n",
    "pd.options.mode.chained_assignment = None\n",
    "df_science.loc[:, [\"airmass\"]] = df_science[\"zenith_angle\"].apply(\n",
    "    lambda x: 1.0 / np.cos(Angle(x * u.deg).to(\"rad\").value)\n",
    ")"
   ]
  },
  {
   "cell_type": "code",
   "execution_count": null,
   "id": "07755d18-d585-4188-8f96-7fb559654c99",
   "metadata": {
    "execution": {
     "iopub.execute_input": "2025-01-23T08:39:04.669650Z",
     "iopub.status.busy": "2025-01-23T08:39:04.669363Z",
     "iopub.status.idle": "2025-01-23T08:39:04.951640Z",
     "shell.execute_reply": "2025-01-23T08:39:04.951215Z",
     "shell.execute_reply.started": "2025-01-23T08:39:04.669638Z"
    }
   },
   "outputs": [],
   "source": [
    "fig, (ax1, ax2) = plt.subplots(2, 1, figsize=(16, 6), layout=\"constrained\")\n",
    "df_science.plot(x=\"mjd\", y=\"airmass\", ax=ax1, marker=\".\", c=\"r\", lw=0, grid=True)\n",
    "df_science.plot(x=\"day_obs\", y=\"airmass\", ax=ax2, marker=\".\", c=\"b\", lw=0, grid=True)\n",
    "\n",
    "ax1.yaxis.set_inverted(True)\n",
    "ax2.yaxis.set_inverted(True)\n",
    "ax1.set_ylabel(\"airmass\")\n",
    "ax2.set_ylabel(\"airmass\")"
   ]
  },
  {
   "cell_type": "markdown",
   "id": "020eefe5-0612-4f7e-9f8a-f4b164bf6f2f",
   "metadata": {},
   "source": [
    "## Selection"
   ]
  },
  {
   "cell_type": "code",
   "execution_count": null,
   "id": "dae70264-ded7-4cc1-99ce-5514d29110ae",
   "metadata": {
    "execution": {
     "iopub.execute_input": "2025-01-23T08:39:04.952256Z",
     "iopub.status.busy": "2025-01-23T08:39:04.952129Z",
     "iopub.status.idle": "2025-01-23T08:39:04.954653Z",
     "shell.execute_reply": "2025-01-23T08:39:04.954301Z",
     "shell.execute_reply.started": "2025-01-23T08:39:04.952244Z"
    }
   },
   "outputs": [],
   "source": [
    "# flag_selection = (df_science.day_obs == 20250108) & (df_science[\"filter\"] == 'OG550_65mm_1~holo4_003')\n",
    "# flag_selection = (df_science.day_obs == 20250108) & (df_science[\"filter\"] == 'BG40_65mm_1~holo4_003')\n",
    "# flag_selection = (df_science.day_obs == 20250109)\n",
    "flag_selection = (\n",
    "    df_science.day_obs == 20250116\n",
    ")  # Select the night with the highest airmass"
   ]
  },
  {
   "cell_type": "code",
   "execution_count": null,
   "id": "fa3f2249-4e42-41bc-ad9a-92bbeb245a8e",
   "metadata": {
    "execution": {
     "iopub.execute_input": "2025-01-23T08:39:04.955282Z",
     "iopub.status.busy": "2025-01-23T08:39:04.955028Z",
     "iopub.status.idle": "2025-01-23T08:39:04.981088Z",
     "shell.execute_reply": "2025-01-23T08:39:04.980724Z",
     "shell.execute_reply.started": "2025-01-23T08:39:04.955270Z"
    }
   },
   "outputs": [],
   "source": [
    "pd.options.display.max_rows = 999\n",
    "df_science_day = df_science[flag_selection]\n",
    "df_science_day = df_science_day.reset_index(drop=True)\n",
    "df_science_day"
   ]
  },
  {
   "cell_type": "code",
   "execution_count": null,
   "id": "24e0d3f3-6796-49c0-a2d7-53fc81818592",
   "metadata": {
    "execution": {
     "iopub.execute_input": "2025-01-23T08:39:04.981602Z",
     "iopub.status.busy": "2025-01-23T08:39:04.981479Z",
     "iopub.status.idle": "2025-01-23T08:39:04.984044Z",
     "shell.execute_reply": "2025-01-23T08:39:04.983708Z",
     "shell.execute_reply.started": "2025-01-23T08:39:04.981591Z"
    }
   },
   "outputs": [],
   "source": [
    "df_sel = df_science_day[df_science_day[\"airmass\"] > 2.1]\n",
    "\n",
    "list_of_visits = list(df_sel.id.values)"
   ]
  },
  {
   "cell_type": "code",
   "execution_count": null,
   "id": "7bd2d137-e3b6-4314-b49c-8b872b0f15c7",
   "metadata": {
    "execution": {
     "iopub.execute_input": "2025-01-23T08:39:04.984529Z",
     "iopub.status.busy": "2025-01-23T08:39:04.984410Z",
     "iopub.status.idle": "2025-01-23T08:39:04.989868Z",
     "shell.execute_reply": "2025-01-23T08:39:04.989548Z",
     "shell.execute_reply.started": "2025-01-23T08:39:04.984518Z"
    }
   },
   "outputs": [],
   "source": [
    "list_of_visits"
   ]
  },
  {
   "cell_type": "code",
   "execution_count": null,
   "id": "e606c229-5d79-4a6d-8d4b-53e389eebbff",
   "metadata": {
    "execution": {
     "iopub.execute_input": "2025-01-23T08:39:04.990332Z",
     "iopub.status.busy": "2025-01-23T08:39:04.990222Z",
     "iopub.status.idle": "2025-01-23T08:39:04.997305Z",
     "shell.execute_reply": "2025-01-23T08:39:04.996933Z",
     "shell.execute_reply.started": "2025-01-23T08:39:04.990322Z"
    }
   },
   "outputs": [],
   "source": [
    "def GetListOfSpectra(butler, list_of_visits, the_collection):\n",
    "    \"\"\"\n",
    "    Retrieve a list of Spectra:\n",
    "    Parameters:\n",
    "      butler : the butler\n",
    "      list_of_visits : the list of visit id\n",
    "      collection : the collection\n",
    "\n",
    "    Returns:\n",
    "     all_params_spectrum = []\n",
    "     all_params_spectrogram = []\n",
    "     all_visitid = []\n",
    "     all_headers = []\n",
    "     all_spectra = []\n",
    "    \"\"\"\n",
    "\n",
    "    # container contining the data\n",
    "    all_params_spectrum = []\n",
    "    all_params_spectrogram = []\n",
    "    all_visitid = []\n",
    "    all_headers = []\n",
    "    all_spectra = []\n",
    "\n",
    "    # loop on visits\n",
    "    for idx, visitid in enumerate(list_of_visits):\n",
    "        try:\n",
    "            spec = butler.get(\n",
    "                \"spectractorSpectrum\",\n",
    "                visit=visitid,\n",
    "                collections=the_collection,\n",
    "                detector=0,\n",
    "                instrument=\"LATISS\",\n",
    "            )\n",
    "            all_headers.append(spec.header)\n",
    "            all_spectra.append(spec)\n",
    "            p = butler.get(\n",
    "                \"spectrumLibradtranFitParameters\",\n",
    "                visit=visitid,\n",
    "                collections=the_collection,\n",
    "                detector=0,\n",
    "                instrument=\"LATISS\",\n",
    "            )\n",
    "            all_params_spectrum.append(p)\n",
    "            p = butler.get(\n",
    "                \"spectrogramLibradtranFitParameters\",\n",
    "                visit=visitid,\n",
    "                collections=the_collection,\n",
    "                detector=0,\n",
    "                instrument=\"LATISS\",\n",
    "            )\n",
    "            all_params_spectrogram.append(p)\n",
    "            all_visitid.append(visitid)\n",
    "        # except ValueError:\n",
    "        except Exception as inst:\n",
    "            except_type = type(inst)\n",
    "            except_args = inst.args\n",
    "            print(\n",
    "                \"catch exception \", inst, \"type =\", except_type, \"args = \", except_args\n",
    "            )\n",
    "            print(\"\\t >>>>> Skip visitid \", visitid)\n",
    "            continue\n",
    "    return (\n",
    "        all_visitid,\n",
    "        all_headers,\n",
    "        all_params_spectrum,\n",
    "        all_params_spectrogram,\n",
    "        all_spectra,\n",
    "    )"
   ]
  },
  {
   "cell_type": "code",
   "execution_count": null,
   "id": "8bf29708-2c44-4cd0-84e9-745749980b73",
   "metadata": {
    "execution": {
     "iopub.execute_input": "2025-01-23T08:39:04.997819Z",
     "iopub.status.busy": "2025-01-23T08:39:04.997700Z",
     "iopub.status.idle": "2025-01-23T08:39:06.744860Z",
     "shell.execute_reply": "2025-01-23T08:39:06.744442Z",
     "shell.execute_reply.started": "2025-01-23T08:39:04.997808Z"
    }
   },
   "outputs": [],
   "source": [
    "(\n",
    "    all_visitid,\n",
    "    all_headers,\n",
    "    all_params_spectrum,\n",
    "    all_params_spectrogram,\n",
    "    all_spectra,\n",
    ") = GetListOfSpectra(butler, list_of_visits, collection)"
   ]
  },
  {
   "cell_type": "markdown",
   "id": "09487497-597a-4660-b000-11a42f3b425f",
   "metadata": {},
   "source": [
    "## Example for viewing one image"
   ]
  },
  {
   "cell_type": "markdown",
   "id": "17f15b65-1d73-4395-9499-f16813882a36",
   "metadata": {},
   "source": [
    "### Select a date and a visitId"
   ]
  },
  {
   "cell_type": "code",
   "execution_count": null,
   "id": "43e20ea0-3072-4171-9b1c-28a6e6142533",
   "metadata": {
    "execution": {
     "iopub.execute_input": "2025-01-23T08:39:06.745427Z",
     "iopub.status.busy": "2025-01-23T08:39:06.745299Z",
     "iopub.status.idle": "2025-01-23T08:39:06.748249Z",
     "shell.execute_reply": "2025-01-23T08:39:06.747897Z",
     "shell.execute_reply.started": "2025-01-23T08:39:06.745410Z"
    }
   },
   "outputs": [],
   "source": [
    "index_sel = 0\n",
    "\n",
    "DATEOBS = df_science_day.iloc[index_sel][\"day_obs\"]\n",
    "visitId = df_science_day.iloc[index_sel][\"id\"]"
   ]
  },
  {
   "cell_type": "code",
   "execution_count": null,
   "id": "bffbad77-3ec3-4072-9bba-f86d2018be66",
   "metadata": {
    "execution": {
     "iopub.execute_input": "2025-01-23T08:39:06.748793Z",
     "iopub.status.busy": "2025-01-23T08:39:06.748675Z",
     "iopub.status.idle": "2025-01-23T08:39:06.755134Z",
     "shell.execute_reply": "2025-01-23T08:39:06.754774Z",
     "shell.execute_reply.started": "2025-01-23T08:39:06.748782Z"
    }
   },
   "outputs": [],
   "source": [
    "print(f\"Selected observation {visitId} for date {DATEOBS}\")"
   ]
  },
  {
   "cell_type": "markdown",
   "id": "74bd6bb8-097c-4800-85b1-596d0b21da26",
   "metadata": {},
   "source": [
    "### Extract the exposures postISRCCD from the selected visitID"
   ]
  },
  {
   "cell_type": "code",
   "execution_count": null,
   "id": "5a7c090f-dd03-411f-a29c-9488bcb4459d",
   "metadata": {
    "execution": {
     "iopub.execute_input": "2025-01-23T08:39:06.755700Z",
     "iopub.status.busy": "2025-01-23T08:39:06.755579Z",
     "iopub.status.idle": "2025-01-23T08:39:07.572931Z",
     "shell.execute_reply": "2025-01-23T08:39:07.572501Z",
     "shell.execute_reply.started": "2025-01-23T08:39:06.755689Z"
    }
   },
   "outputs": [],
   "source": [
    "where_clause = f\"instrument='LATISS' AND exposure.day_obs={DATEOBS}\"\n",
    "dataId = {\"visit\": visitId, \"instrument\": instrument}\n",
    "datasetRefs = registry.queryDatasets(\n",
    "    \"postISRCCD\", dataId=dataId, collections=collection\n",
    ")\n",
    "# one dictionnary for the focal surface\n",
    "title_dict = {}\n",
    "postisr_dict = {}\n",
    "\n",
    "for i, ref in enumerate(datasetRefs):\n",
    "    exposure = ref.dataId[\"exposure\"]  # for postISRCCD\n",
    "    # exposure = ref.dataId[\"visit\"]  For calexp\n",
    "    detector = ref.dataId[\"detector\"]\n",
    "    physical_filter = ref.dataId[\"physical_filter\"]\n",
    "    postisrccd = butler.get(ref)\n",
    "    print(ref.dataId, postisrccd)\n",
    "    the_title = f\"id : {exposure}, det = {detector}, b = {physical_filter}\"\n",
    "    title_dict[detector] = the_title\n",
    "    postisr_dict[detector] = postisrccd\n",
    "N = len(title_dict)\n",
    "print(f\"Number of images = {N}\")"
   ]
  },
  {
   "cell_type": "markdown",
   "id": "690a075e-e4f9-4016-bcf6-dc9d69ac1aeb",
   "metadata": {
    "execution": {
     "iopub.status.busy": "2024-10-25T19:43:36.665728Z",
     "iopub.status.idle": "2024-10-25T19:43:36.665892Z",
     "shell.execute_reply": "2024-10-25T19:43:36.665814Z",
     "shell.execute_reply.started": "2024-10-25T19:43:36.665807Z"
    }
   },
   "source": [
    "## View all the images of the focal surface for that visit\n",
    "\n",
    "- would need the mosaic for the focal surface"
   ]
  },
  {
   "cell_type": "code",
   "execution_count": null,
   "id": "b5cfdd8f-6ca2-4d2d-83c8-5a1426b0d653",
   "metadata": {
    "execution": {
     "iopub.execute_input": "2025-01-23T08:39:07.573560Z",
     "iopub.status.busy": "2025-01-23T08:39:07.573424Z",
     "iopub.status.idle": "2025-01-23T08:39:08.082390Z",
     "shell.execute_reply": "2025-01-23T08:39:08.081933Z",
     "shell.execute_reply.started": "2025-01-23T08:39:07.573548Z"
    }
   },
   "outputs": [],
   "source": [
    "for count in range(N):\n",
    "    display = afwDisplay.Display(frame=count)\n",
    "    display.scale(\"asinh\", \"zscale\")\n",
    "    display.mtv(postisr_dict[count].image, title=title_dict[count])"
   ]
  },
  {
   "cell_type": "markdown",
   "id": "4a31d985-5c82-4001-ad62-ab66763a1a79",
   "metadata": {},
   "source": [
    "## Find the spectrum"
   ]
  },
  {
   "cell_type": "code",
   "execution_count": null,
   "id": "1fb7748e-0e86-4d7c-af41-26065f0fc318",
   "metadata": {
    "execution": {
     "iopub.execute_input": "2025-01-23T08:39:08.083127Z",
     "iopub.status.busy": "2025-01-23T08:39:08.082986Z",
     "iopub.status.idle": "2025-01-23T08:39:08.085784Z",
     "shell.execute_reply": "2025-01-23T08:39:08.085414Z",
     "shell.execute_reply.started": "2025-01-23T08:39:08.083113Z"
    }
   },
   "outputs": [],
   "source": [
    "import spectractor\n",
    "from spectractor.tools import from_lambda_to_colormap, wavelength_to_rgb\n",
    "from spectractor.simulation.throughput import (\n",
    "    load_transmission,\n",
    "    plot_transmission_simple,\n",
    "    TelescopeTransmission,\n",
    ")\n",
    "from spectractor import parameters\n",
    "from spectractor.extractor import dispersers\n",
    "from spectractor.config import load_config, set_logger\n",
    "import os, sys, re"
   ]
  },
  {
   "cell_type": "markdown",
   "id": "1320572b-56f8-4c94-afb5-98a28a206b9a",
   "metadata": {},
   "source": [
    "### Find the spectrum"
   ]
  },
  {
   "cell_type": "code",
   "execution_count": null,
   "id": "ef9ba76c-a7ca-4489-a150-feb0bbe00763",
   "metadata": {
    "execution": {
     "iopub.execute_input": "2025-01-23T08:39:08.086397Z",
     "iopub.status.busy": "2025-01-23T08:39:08.086265Z",
     "iopub.status.idle": "2025-01-23T08:39:08.092713Z",
     "shell.execute_reply": "2025-01-23T08:39:08.092353Z",
     "shell.execute_reply.started": "2025-01-23T08:39:08.086385Z"
    }
   },
   "outputs": [],
   "source": [
    "the_specref_index = np.where(list_of_ids == visitId)[0][0]"
   ]
  },
  {
   "cell_type": "code",
   "execution_count": null,
   "id": "d887b73a-b144-4d77-9199-175ae22c16a5",
   "metadata": {
    "execution": {
     "iopub.execute_input": "2025-01-23T08:39:08.093244Z",
     "iopub.status.busy": "2025-01-23T08:39:08.093127Z",
     "iopub.status.idle": "2025-01-23T08:39:08.098540Z",
     "shell.execute_reply": "2025-01-23T08:39:08.098191Z",
     "shell.execute_reply.started": "2025-01-23T08:39:08.093234Z"
    }
   },
   "outputs": [],
   "source": [
    "the_specref_index\n",
    "the_specref = refs[the_specref_index]"
   ]
  },
  {
   "cell_type": "code",
   "execution_count": null,
   "id": "dfd7f862-76df-48bc-81e0-6eba851ea036",
   "metadata": {
    "execution": {
     "iopub.execute_input": "2025-01-23T08:39:08.099091Z",
     "iopub.status.busy": "2025-01-23T08:39:08.098973Z",
     "iopub.status.idle": "2025-01-23T08:39:08.105996Z",
     "shell.execute_reply": "2025-01-23T08:39:08.105630Z",
     "shell.execute_reply.started": "2025-01-23T08:39:08.099080Z"
    }
   },
   "outputs": [],
   "source": [
    "def GetListOfSpectra(butler, list_of_visits, the_collection):\n",
    "    \"\"\"\n",
    "    Retrieve a list of Spectra:\n",
    "    Parameters:\n",
    "      butler : the butler\n",
    "      list_of_visits : the list of visit id\n",
    "      collection : the collection\n",
    "\n",
    "    Returns:\n",
    "     all_params_spectrum = []\n",
    "     all_params_spectrogram = []\n",
    "     all_visitid = []\n",
    "     all_headers = []\n",
    "     all_spectra = []\n",
    "    \"\"\"\n",
    "\n",
    "    # container contining the data\n",
    "    all_params_spectrum = []\n",
    "    all_params_spectrogram = []\n",
    "    all_visitid = []\n",
    "    all_headers = []\n",
    "    all_spectra = []\n",
    "\n",
    "    # loop on visits\n",
    "    for idx, visitid in enumerate(list_of_visits):\n",
    "        try:\n",
    "            spec = butler.get(\n",
    "                \"spectractorSpectrum\",\n",
    "                visit=visitid,\n",
    "                collections=the_collection,\n",
    "                detector=0,\n",
    "                instrument=\"LATISS\",\n",
    "            )\n",
    "            all_headers.append(spec.header)\n",
    "            all_spectra.append(spec)\n",
    "            p = butler.get(\n",
    "                \"spectrumLibradtranFitParameters\",\n",
    "                visit=visitid,\n",
    "                collections=the_collection,\n",
    "                detector=0,\n",
    "                instrument=\"LATISS\",\n",
    "            )\n",
    "            all_params_spectrum.append(p)\n",
    "            p = butler.get(\n",
    "                \"spectrogramLibradtranFitParameters\",\n",
    "                visit=visitid,\n",
    "                collections=the_collection,\n",
    "                detector=0,\n",
    "                instrument=\"LATISS\",\n",
    "            )\n",
    "            all_params_spectrogram.append(p)\n",
    "            all_visitid.append(visitid)\n",
    "        # except ValueError:\n",
    "        except Exception as inst:\n",
    "            except_type = type(inst)\n",
    "            except_args = inst.args\n",
    "            print(\n",
    "                \"catch exception \", inst, \"type =\", except_type, \"args = \", except_args\n",
    "            )\n",
    "            print(\"\\t >>>>> Skip visitid \", visitid)\n",
    "            continue\n",
    "    return (\n",
    "        all_visitid,\n",
    "        all_headers,\n",
    "        all_params_spectrum,\n",
    "        all_params_spectrogram,\n",
    "        all_spectra,\n",
    "    )"
   ]
  },
  {
   "cell_type": "code",
   "execution_count": null,
   "id": "7330db76-da4e-4997-aefb-a8c7184f887f",
   "metadata": {
    "execution": {
     "iopub.execute_input": "2025-01-23T08:39:08.106548Z",
     "iopub.status.busy": "2025-01-23T08:39:08.106414Z",
     "iopub.status.idle": "2025-01-23T08:39:08.322406Z",
     "shell.execute_reply": "2025-01-23T08:39:08.321975Z",
     "shell.execute_reply.started": "2025-01-23T08:39:08.106537Z"
    }
   },
   "outputs": [],
   "source": [
    "list_visitid = [visitId]\n",
    "(\n",
    "    all_foundvisitid,\n",
    "    all_headers,\n",
    "    all_params_spectrum,\n",
    "    all_params_spectrogram,\n",
    "    all_spectra,\n",
    ") = GetListOfSpectra(butler, list_visitid, collection)"
   ]
  },
  {
   "cell_type": "markdown",
   "id": "bc92bf91-0d07-4444-88a7-cbddae947e93",
   "metadata": {},
   "source": [
    "### Plot the spectrum\n",
    "\n",
    "- see https://github.com/sylvielsstfr/LSST-Rehearsal2024/blob/13-analyse-my-bps-run-with-spectro-sept24/notebooks/SpectroTuto/StudySpectraOneNight-savehdf5.ipynb"
   ]
  },
  {
   "cell_type": "code",
   "execution_count": null,
   "id": "395f927c-779f-426a-819c-e1921bd6f8e5",
   "metadata": {
    "execution": {
     "iopub.execute_input": "2025-01-23T08:39:08.323092Z",
     "iopub.status.busy": "2025-01-23T08:39:08.322955Z",
     "iopub.status.idle": "2025-01-23T08:39:08.331193Z",
     "shell.execute_reply": "2025-01-23T08:39:08.330820Z",
     "shell.execute_reply.started": "2025-01-23T08:39:08.323079Z"
    }
   },
   "outputs": [],
   "source": [
    "def plot_spectra(spectra, colorparams, collection, dateobs, figsize=(10, 6)):\n",
    "    \"\"\"\n",
    "    plot spectra\n",
    "    \"\"\"\n",
    "\n",
    "    # colormap = cm.Reds\n",
    "    colormap = cm.jet\n",
    "\n",
    "    normalize = mcolors.Normalize(vmin=np.min(colorparams), vmax=np.max(colorparams))\n",
    "\n",
    "    all_target_names = []\n",
    "\n",
    "    fig = plt.figure(figsize=figsize)\n",
    "    count = 0\n",
    "    for spec in spectra:\n",
    "        target_name = spec.target.label\n",
    "        if target_name in all_target_names:\n",
    "            plt.plot(spec.lambdas, spec.data, color=colormap(normalize(spec.airmass)))\n",
    "        else:\n",
    "            plt.plot(\n",
    "                spec.lambdas,\n",
    "                spec.data,\n",
    "                color=colormap(normalize(spec.airmass)),\n",
    "                label=target_name,\n",
    "            )\n",
    "            all_target_names.append(target_name)\n",
    "        count += 1\n",
    "\n",
    "    plt.grid()\n",
    "    plt.xlabel(\"$\\lambda$ [nm]\")\n",
    "    plt.ylabel(f\"Flux [{spec.units}]\")\n",
    "    plt.legend()\n",
    "\n",
    "    ax = plt.gca()\n",
    "\n",
    "    # Colorbar setup\n",
    "    s_map = cm.ScalarMappable(norm=normalize, cmap=colormap)\n",
    "    s_map.set_array(colorparams)\n",
    "\n",
    "    # If color parameters is a linspace, we can set boundaries in this way\n",
    "    halfdist = (colorparams[1] - colorparams[0]) / 2.0\n",
    "    boundaries = np.linspace(\n",
    "        colorparams[0] - halfdist, colorparams[-1] + halfdist, len(colorparams) + 1\n",
    "    )\n",
    "\n",
    "    # Use this to emphasize the discrete color values\n",
    "    cbar = fig.colorbar(\n",
    "        s_map, ax=ax\n",
    "    )  # , spacing='proportional', ticks=colorparams, boundaries=boundaries, format='%2.2g') # format='%2i' for integer\n",
    "\n",
    "    # Use this to show a continuous colorbar\n",
    "    # cbar = fig.colorbar(s_map, spacing='proportional', ticks=colorparams, format='%2i')\n",
    "    cbar.set_label(\"Airmass $z$\")\n",
    "    title = f\"Observations : {dateobs}, nspec = {count}\"\n",
    "    suptitle = f\"collection = {collection}\"\n",
    "    plt.title(title)\n",
    "    plt.suptitle(suptitle, fontsize=10)\n",
    "    # plt.tight_layout()\n",
    "    plt.show()\n",
    "    return fig\n",
    "\n",
    "\n",
    "def plot_spectra_ax(spectra, ax, colorparams, dateobs):\n",
    "    \"\"\"\n",
    "    plot spectra\n",
    "    \"\"\"\n",
    "\n",
    "    # colormap = cmx.Reds\n",
    "    colormap = cmx.jet\n",
    "\n",
    "    normalize = mcolors.Normalize(vmin=np.min(colorparams), vmax=np.max(colorparams))\n",
    "\n",
    "    all_target_names = []\n",
    "\n",
    "    count = 0\n",
    "    for spec in spectra:\n",
    "        target_name = spec.target.label\n",
    "        if target_name in all_target_names:\n",
    "            ax.plot(spec.lambdas, spec.data, color=colormap(normalize(spec.airmass)))\n",
    "        else:\n",
    "            ax.plot(\n",
    "                spec.lambdas,\n",
    "                spec.data,\n",
    "                color=colormap(normalize(spec.airmass)),\n",
    "                label=target_name,\n",
    "            )\n",
    "            all_target_names.append(target_name)\n",
    "        count += 1\n",
    "\n",
    "    ax.grid()\n",
    "    ax.set_xlabel(\"$\\lambda$ [nm]\")\n",
    "    ax.set_ylabel(f\"Flux [{spec.units}]\")\n",
    "    ax.legend()\n",
    "\n",
    "    # ax = plt.gca()\n",
    "\n",
    "    # Colorbar setup\n",
    "    s_map = cm.ScalarMappable(norm=normalize, cmap=colormap)\n",
    "    s_map.set_array(colorparams)\n",
    "\n",
    "    # If color parameters is a linspace, we can set boundaries in this way\n",
    "\n",
    "    halfdist = (colorparams[1] - colorparams[0]) / 2.0\n",
    "    boundaries = np.linspace(\n",
    "        colorparams[0] - halfdist, colorparams[-1] + halfdist, len(colorparams) + 1\n",
    "    )\n",
    "\n",
    "    # Use this to emphasize the discrete color values\n",
    "    fig = ax.figure\n",
    "    cbar = fig.colorbar(\n",
    "        s_map, ax=ax\n",
    "    )  # , spacing='proportional', ticks=colorparams, boundaries=boundaries, format='%2.2g') # format='%2i' for integer\n",
    "    # cbar = ax.collections[-1].colorbar\n",
    "\n",
    "    # Use this to show a continuous colorbar\n",
    "    # cbar = fig.colorbar(s_map, spacing='proportional', ticks=colorparams, format='%2i')\n",
    "    cbar.set_label(\"Airmass $z$\")\n",
    "    title = f\"Observations : {dateobs}, nspec = {count}\"\n",
    "    # ax.set_title(title)\n",
    "    # plt.tight_layout()"
   ]
  },
  {
   "cell_type": "code",
   "execution_count": null,
   "id": "f4fa6f21-0b3e-49ab-b5a7-0955f2dd9991",
   "metadata": {
    "execution": {
     "iopub.execute_input": "2025-01-23T08:39:08.331975Z",
     "iopub.status.busy": "2025-01-23T08:39:08.331713Z",
     "iopub.status.idle": "2025-01-23T08:39:08.688280Z",
     "shell.execute_reply": "2025-01-23T08:39:08.687797Z",
     "shell.execute_reply.started": "2025-01-23T08:39:08.331962Z"
    }
   },
   "outputs": [],
   "source": [
    "fig, (ax1, ax2) = plt.subplots(2, 1, figsize=(10, 10), layout=\"constrained\")\n",
    "# plot_spectra_ax(all_spectra, ax, [spec.airmass for spec in all_spectra],dateobs=DATEOBS)\n",
    "all_spectra[0].plot_spectrum(ax=ax1)\n",
    "all_spectra[0].plot_spectrogram(ax=ax2)\n",
    "ax1.set_title(f\"Observed spectra {visitId} for night {DATEOBS}\")"
   ]
  },
  {
   "cell_type": "code",
   "execution_count": null,
   "id": "e4171fc8-ab21-45d7-9901-55dffef89096",
   "metadata": {
    "execution": {
     "iopub.execute_input": "2025-01-23T08:39:08.688870Z",
     "iopub.status.busy": "2025-01-23T08:39:08.688742Z",
     "iopub.status.idle": "2025-01-23T08:39:09.505852Z",
     "shell.execute_reply": "2025-01-23T08:39:09.505423Z",
     "shell.execute_reply.started": "2025-01-23T08:39:08.688858Z"
    }
   },
   "outputs": [],
   "source": [
    "all_spectra[0].plot_spectrum_summary()"
   ]
  },
  {
   "cell_type": "code",
   "execution_count": null,
   "id": "c01c5f0b-b161-44c2-a24a-6a4a2affb803",
   "metadata": {
    "execution": {
     "iopub.execute_input": "2025-01-23T08:39:09.506448Z",
     "iopub.status.busy": "2025-01-23T08:39:09.506315Z",
     "iopub.status.idle": "2025-01-23T08:39:09.590900Z",
     "shell.execute_reply": "2025-01-23T08:39:09.590377Z",
     "shell.execute_reply.started": "2025-01-23T08:39:09.506435Z"
    }
   },
   "outputs": [],
   "source": [
    "assert False"
   ]
  },
  {
   "cell_type": "code",
   "execution_count": null,
   "id": "2a62b411-4f8d-4a3f-87bb-de2209c31f47",
   "metadata": {
    "execution": {
     "iopub.status.busy": "2025-01-23T08:39:09.591251Z",
     "iopub.status.idle": "2025-01-23T08:39:09.591413Z",
     "shell.execute_reply": "2025-01-23T08:39:09.591337Z",
     "shell.execute_reply.started": "2025-01-23T08:39:09.591329Z"
    }
   },
   "outputs": [],
   "source": [
    "display.clearViewer()\n",
    "afwDisplay.setDefaultBackend(\"firefly\")"
   ]
  },
  {
   "cell_type": "code",
   "execution_count": null,
   "id": "8751de27-4fcd-4024-adb5-130e6e23615b",
   "metadata": {
    "execution": {
     "iopub.execute_input": "2025-01-23T08:45:14.232754Z",
     "iopub.status.busy": "2025-01-23T08:45:14.232427Z",
     "iopub.status.idle": "2025-01-23T08:45:14.235974Z",
     "shell.execute_reply": "2025-01-23T08:45:14.235559Z",
     "shell.execute_reply.started": "2025-01-23T08:45:14.232737Z"
    }
   },
   "outputs": [],
   "source": [
    "list_of_visits"
   ]
  },
  {
   "cell_type": "markdown",
   "id": "3cd259b5-aae5-4307-8f72-350e833e4a04",
   "metadata": {},
   "source": [
    "# Example for all visits"
   ]
  },
  {
   "cell_type": "code",
   "execution_count": null,
   "id": "1ac06641-b5e5-4aea-8349-fc4efb67a126",
   "metadata": {
    "execution": {
     "iopub.execute_input": "2025-01-23T08:45:41.602193Z",
     "iopub.status.busy": "2025-01-23T08:45:41.601897Z",
     "iopub.status.idle": "2025-01-23T08:45:41.604523Z",
     "shell.execute_reply": "2025-01-23T08:45:41.604138Z",
     "shell.execute_reply.started": "2025-01-23T08:45:41.602178Z"
    }
   },
   "outputs": [],
   "source": [
    "FLAG_ONE_VISIT = False"
   ]
  },
  {
   "cell_type": "code",
   "execution_count": null,
   "id": "8d19d961-eca0-4e6f-a5f1-f5ee72564d52",
   "metadata": {
    "execution": {
     "iopub.execute_input": "2025-01-23T08:44:19.289980Z",
     "iopub.status.busy": "2025-01-23T08:44:19.289657Z",
     "iopub.status.idle": "2025-01-23T08:44:20.451853Z",
     "shell.execute_reply": "2025-01-23T08:44:20.451393Z",
     "shell.execute_reply.started": "2025-01-23T08:44:19.289964Z"
    }
   },
   "outputs": [],
   "source": [
    "if FLAG_ONE_VISIT:\n",
    "    index = 0\n",
    "    visitId = list_of_visits[index]\n",
    "    dataId = {\"visit\": visitId, \"instrument\": instrument}\n",
    "    datasetRefs = registry.queryDatasets(\n",
    "        \"postISRCCD\", dataId=dataId, collections=collection\n",
    "    )\n",
    "    exposure = ref.dataId[\"exposure\"]\n",
    "    detector = ref.dataId[\"detector\"]\n",
    "    physical_filter = ref.dataId[\"physical_filter\"]\n",
    "    postisrccd = butler.get(ref)\n",
    "    the_title = f\"id : {exposure}, det = {detector}, b = {physical_filter}\"\n",
    "    display = afwDisplay.Display(frame=count)\n",
    "    display.scale(\"asinh\", \"zscale\")\n",
    "    display.mtv(postisrccd.image, title=the_title)"
   ]
  },
  {
   "cell_type": "code",
   "execution_count": null,
   "id": "aca97e6b-071d-415f-b251-0258e30edfa5",
   "metadata": {
    "execution": {
     "iopub.execute_input": "2025-01-23T08:51:50.251027Z",
     "iopub.status.busy": "2025-01-23T08:51:50.250605Z",
     "iopub.status.idle": "2025-01-23T08:52:00.366259Z",
     "shell.execute_reply": "2025-01-23T08:52:00.365783Z",
     "shell.execute_reply.started": "2025-01-23T08:51:50.251011Z"
    }
   },
   "outputs": [],
   "source": [
    "# list_of_visitId = list(df_science.id)\n",
    "if not FLAG_ONE_VISIT:\n",
    "    list_of_visitId = list_of_visits\n",
    "    image_count = 0\n",
    "    # loop on visit id\n",
    "    for idcount, visitId in enumerate(list_of_visitId):\n",
    "        dataId = {\"visit\": visitId, \"instrument\": instrument}\n",
    "        print(dataId)\n",
    "        datasetRefs = registry.queryDatasets(\n",
    "            \"postISRCCD\", dataId=dataId, collections=collection\n",
    "        )\n",
    "\n",
    "        # loop on image on the focal surface\n",
    "        for i, ref in enumerate(datasetRefs):\n",
    "            exposure = ref.dataId[\"exposure\"]\n",
    "            detector = ref.dataId[\"detector\"]\n",
    "            physical_filter = ref.dataId[\"physical_filter\"]\n",
    "            postisrccd = butler.get(ref)\n",
    "            the_title = f\"id : {exposure}, det = {detector}, b = {physical_filter}\"\n",
    "            display = afwDisplay.Display(frame=idcount)\n",
    "            display.scale(\"asinh\", \"zscale\")\n",
    "            display.mtv(postisrccd.image, title=the_title)\n",
    "            image_count += 1"
   ]
  },
  {
   "cell_type": "code",
   "execution_count": null,
   "id": "5e96257c-f2fc-4af4-b94d-74dcb562bf63",
   "metadata": {
    "execution": {
     "iopub.status.busy": "2025-01-23T08:39:09.594283Z",
     "iopub.status.idle": "2025-01-23T08:39:09.594455Z",
     "shell.execute_reply": "2025-01-23T08:39:09.594367Z",
     "shell.execute_reply.started": "2025-01-23T08:39:09.594359Z"
    }
   },
   "outputs": [],
   "source": [
    "N"
   ]
  },
  {
   "cell_type": "code",
   "execution_count": null,
   "id": "9ea40c39-4b96-4335-b4c2-cb6e452afe00",
   "metadata": {},
   "outputs": [],
   "source": []
  }
 ],
 "metadata": {
  "kernelspec": {
   "display_name": "LSST",
   "language": "python",
   "name": "lsst"
  },
  "language_info": {
   "codemirror_mode": {
    "name": "ipython",
    "version": 3
   },
   "file_extension": ".py",
   "mimetype": "text/x-python",
   "name": "python",
   "nbconvert_exporter": "python",
   "pygments_lexer": "ipython3",
   "version": "3.11.9"
  }
 },
 "nbformat": 4,
 "nbformat_minor": 5
}
